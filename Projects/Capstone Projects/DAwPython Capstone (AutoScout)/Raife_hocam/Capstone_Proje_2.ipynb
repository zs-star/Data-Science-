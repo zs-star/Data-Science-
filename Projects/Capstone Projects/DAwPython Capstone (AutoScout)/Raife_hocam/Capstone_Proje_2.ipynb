{
 "cells": [
  {
   "cell_type": "code",
   "execution_count": 1,
   "metadata": {},
   "outputs": [],
   "source": [
    "import numpy as np\n",
    "import pandas as pd\n",
    "import seaborn as sns\n",
    "import warnings\n",
    "warnings.filterwarnings(\"ignore\")\n",
    "pd.set_option(\"display.max_columns\", None)\n",
    "import matplotlib.pyplot as plt"
   ]
  },
  {
   "cell_type": "code",
   "execution_count": 2,
   "metadata": {},
   "outputs": [
    {
     "data": {
      "text/html": [
       "<div>\n",
       "<style scoped>\n",
       "    .dataframe tbody tr th:only-of-type {\n",
       "        vertical-align: middle;\n",
       "    }\n",
       "\n",
       "    .dataframe tbody tr th {\n",
       "        vertical-align: top;\n",
       "    }\n",
       "\n",
       "    .dataframe thead th {\n",
       "        text-align: right;\n",
       "    }\n",
       "</style>\n",
       "<table border=\"1\" class=\"dataframe\">\n",
       "  <thead>\n",
       "    <tr style=\"text-align: right;\">\n",
       "      <th></th>\n",
       "      <th>make_model</th>\n",
       "      <th>body_type</th>\n",
       "      <th>price</th>\n",
       "      <th>vat</th>\n",
       "      <th>km</th>\n",
       "      <th>hp</th>\n",
       "      <th>Previous Owners</th>\n",
       "      <th>Inspection new</th>\n",
       "      <th>Warranty</th>\n",
       "      <th>Body Color</th>\n",
       "      <th>Paint Type</th>\n",
       "      <th>Nr. of Doors</th>\n",
       "      <th>Nr. of Seats</th>\n",
       "      <th>Gearing Type</th>\n",
       "      <th>Displacement</th>\n",
       "      <th>Cylinders</th>\n",
       "      <th>Drive chain</th>\n",
       "      <th>Fuel</th>\n",
       "      <th>CO2 Emission</th>\n",
       "      <th>Emission Class</th>\n",
       "      <th>Gears</th>\n",
       "      <th>Country version</th>\n",
       "      <th>age</th>\n",
       "      <th>vehicle_condition</th>\n",
       "      <th>Upholstery_type</th>\n",
       "      <th>Consumption(comb)</th>\n",
       "      <th>Consumption(city)</th>\n",
       "      <th>Consumption(country)</th>\n",
       "      <th>Sound system</th>\n",
       "      <th>CD player</th>\n",
       "      <th>Digital radio</th>\n",
       "      <th>Hands-free equipment</th>\n",
       "      <th>On-board computer</th>\n",
       "      <th>USB</th>\n",
       "      <th>MP3</th>\n",
       "      <th>Television</th>\n",
       "      <th>Bluetooth</th>\n",
       "      <th>Radio</th>\n",
       "      <th>Rain sensor</th>\n",
       "      <th>Electrical side mirrors</th>\n",
       "      <th>Air conditioning</th>\n",
       "      <th>Seat heating</th>\n",
       "      <th>Electrically adjustable seats</th>\n",
       "      <th>Split rear seats</th>\n",
       "      <th>Cruise control</th>\n",
       "      <th>Massage seats</th>\n",
       "      <th>Parking assist system self-steering</th>\n",
       "      <th>Leather seats</th>\n",
       "      <th>Keyless central door lock</th>\n",
       "      <th>Electrically heated windshield</th>\n",
       "      <th>Heated steering wheel</th>\n",
       "      <th>Tinted windows</th>\n",
       "      <th>Windshield</th>\n",
       "      <th>Panorama roof</th>\n",
       "      <th>Sunroof</th>\n",
       "      <th>Navigation system</th>\n",
       "      <th>Parking assist system camera</th>\n",
       "      <th>Heads-up display</th>\n",
       "      <th>Multi-function steering wheel</th>\n",
       "      <th>Automatic climate control</th>\n",
       "      <th>Seat ventilation</th>\n",
       "      <th>Electric tailgate</th>\n",
       "      <th>Light sensor</th>\n",
       "      <th>Air suspension</th>\n",
       "      <th>Hill Holder</th>\n",
       "      <th>Electric Starter</th>\n",
       "      <th>Power windows</th>\n",
       "      <th>Start-stop system</th>\n",
       "      <th>Armrest</th>\n",
       "      <th>Leather steering wheel</th>\n",
       "      <th>Parking assist system sensors front</th>\n",
       "      <th>Wind deflector</th>\n",
       "      <th>Auxiliary heating</th>\n",
       "      <th>Lumbar support</th>\n",
       "      <th>Parking assist system sensors rear</th>\n",
       "      <th>Park Distance Control</th>\n",
       "      <th>Shift paddles</th>\n",
       "      <th>Catalytic Converter</th>\n",
       "      <th>Cab or rented Car</th>\n",
       "      <th>Alloy wheels</th>\n",
       "      <th>Right hand drive</th>\n",
       "      <th>Handicapped enabled</th>\n",
       "      <th>Roof rack</th>\n",
       "      <th>Winter tyres</th>\n",
       "      <th>Ski bag</th>\n",
       "      <th>Tuned car</th>\n",
       "      <th>Sliding door</th>\n",
       "      <th>Touch screen</th>\n",
       "      <th>Voice Control</th>\n",
       "      <th>Sport seats</th>\n",
       "      <th>Sport package</th>\n",
       "      <th>Trailer hitch</th>\n",
       "      <th>Sport suspension</th>\n",
       "      <th>Driver drowsiness detection</th>\n",
       "      <th>ABS</th>\n",
       "      <th>Lane departure warning system</th>\n",
       "      <th>Side airbag</th>\n",
       "      <th>Xenon headlights</th>\n",
       "      <th>Emergency brake assistant</th>\n",
       "      <th>Passenger-side airbag</th>\n",
       "      <th>Rear airbag</th>\n",
       "      <th>Central door lock</th>\n",
       "      <th>Traction control</th>\n",
       "      <th>Alarm system</th>\n",
       "      <th>Adaptive headlights</th>\n",
       "      <th>Central door lock with remote control</th>\n",
       "      <th>Driver-side airbag</th>\n",
       "      <th>LED Daytime Running Lights</th>\n",
       "      <th>Power steering</th>\n",
       "      <th>Daytime running lights</th>\n",
       "      <th>Isofix</th>\n",
       "      <th>Immobilizer</th>\n",
       "      <th>Emergency system</th>\n",
       "      <th>Electronic stability control</th>\n",
       "      <th>LED Headlights</th>\n",
       "      <th>Fog lights</th>\n",
       "      <th>Blind spot monitor</th>\n",
       "      <th>Traffic sign recognition</th>\n",
       "      <th>Adaptive Cruise Control</th>\n",
       "      <th>Night view assist</th>\n",
       "      <th>Head airbag</th>\n",
       "      <th>Tire pressure monitoring system</th>\n",
       "    </tr>\n",
       "  </thead>\n",
       "  <tbody>\n",
       "    <tr>\n",
       "      <th>0</th>\n",
       "      <td>Audi A1</td>\n",
       "      <td>Sedans</td>\n",
       "      <td>15770</td>\n",
       "      <td>True</td>\n",
       "      <td>56013.0</td>\n",
       "      <td>66.0</td>\n",
       "      <td>2.0</td>\n",
       "      <td>True</td>\n",
       "      <td>0.0</td>\n",
       "      <td>Black</td>\n",
       "      <td>metallic</td>\n",
       "      <td>5.0</td>\n",
       "      <td>5.0</td>\n",
       "      <td>Automatic</td>\n",
       "      <td>1422.0</td>\n",
       "      <td>3.0</td>\n",
       "      <td>front</td>\n",
       "      <td>Diesel</td>\n",
       "      <td>99.0</td>\n",
       "      <td>6</td>\n",
       "      <td>NaN</td>\n",
       "      <td>NaN</td>\n",
       "      <td>3.0</td>\n",
       "      <td>Used</td>\n",
       "      <td>Cloth</td>\n",
       "      <td>3.8</td>\n",
       "      <td>4.3</td>\n",
       "      <td>3.5</td>\n",
       "      <td>False</td>\n",
       "      <td>False</td>\n",
       "      <td>False</td>\n",
       "      <td>True</td>\n",
       "      <td>True</td>\n",
       "      <td>False</td>\n",
       "      <td>False</td>\n",
       "      <td>False</td>\n",
       "      <td>True</td>\n",
       "      <td>True</td>\n",
       "      <td>True</td>\n",
       "      <td>True</td>\n",
       "      <td>True</td>\n",
       "      <td>True</td>\n",
       "      <td>False</td>\n",
       "      <td>False</td>\n",
       "      <td>True</td>\n",
       "      <td>False</td>\n",
       "      <td>False</td>\n",
       "      <td>False</td>\n",
       "      <td>False</td>\n",
       "      <td>False</td>\n",
       "      <td>False</td>\n",
       "      <td>False</td>\n",
       "      <td>False</td>\n",
       "      <td>False</td>\n",
       "      <td>False</td>\n",
       "      <td>True</td>\n",
       "      <td>False</td>\n",
       "      <td>False</td>\n",
       "      <td>True</td>\n",
       "      <td>True</td>\n",
       "      <td>False</td>\n",
       "      <td>False</td>\n",
       "      <td>True</td>\n",
       "      <td>False</td>\n",
       "      <td>True</td>\n",
       "      <td>False</td>\n",
       "      <td>True</td>\n",
       "      <td>True</td>\n",
       "      <td>True</td>\n",
       "      <td>True</td>\n",
       "      <td>False</td>\n",
       "      <td>False</td>\n",
       "      <td>False</td>\n",
       "      <td>False</td>\n",
       "      <td>True</td>\n",
       "      <td>True</td>\n",
       "      <td>False</td>\n",
       "      <td>True</td>\n",
       "      <td>False</td>\n",
       "      <td>True</td>\n",
       "      <td>False</td>\n",
       "      <td>False</td>\n",
       "      <td>False</td>\n",
       "      <td>False</td>\n",
       "      <td>False</td>\n",
       "      <td>False</td>\n",
       "      <td>False</td>\n",
       "      <td>False</td>\n",
       "      <td>True</td>\n",
       "      <td>False</td>\n",
       "      <td>False</td>\n",
       "      <td>False</td>\n",
       "      <td>False</td>\n",
       "      <td>False</td>\n",
       "      <td>True</td>\n",
       "      <td>False</td>\n",
       "      <td>True</td>\n",
       "      <td>True</td>\n",
       "      <td>False</td>\n",
       "      <td>True</td>\n",
       "      <td>False</td>\n",
       "      <td>True</td>\n",
       "      <td>True</td>\n",
       "      <td>False</td>\n",
       "      <td>False</td>\n",
       "      <td>False</td>\n",
       "      <td>True</td>\n",
       "      <td>False</td>\n",
       "      <td>True</td>\n",
       "      <td>True</td>\n",
       "      <td>True</td>\n",
       "      <td>True</td>\n",
       "      <td>False</td>\n",
       "      <td>True</td>\n",
       "      <td>False</td>\n",
       "      <td>True</td>\n",
       "      <td>False</td>\n",
       "      <td>False</td>\n",
       "      <td>False</td>\n",
       "      <td>False</td>\n",
       "      <td>False</td>\n",
       "      <td>True</td>\n",
       "    </tr>\n",
       "    <tr>\n",
       "      <th>1</th>\n",
       "      <td>Audi A1</td>\n",
       "      <td>Sedans</td>\n",
       "      <td>14500</td>\n",
       "      <td>True</td>\n",
       "      <td>80000.0</td>\n",
       "      <td>141.0</td>\n",
       "      <td>NaN</td>\n",
       "      <td>False</td>\n",
       "      <td>0.0</td>\n",
       "      <td>Red</td>\n",
       "      <td>non_metallic</td>\n",
       "      <td>3.0</td>\n",
       "      <td>4.0</td>\n",
       "      <td>Automatic</td>\n",
       "      <td>1798.0</td>\n",
       "      <td>4.0</td>\n",
       "      <td>front</td>\n",
       "      <td>Gasoline</td>\n",
       "      <td>129.0</td>\n",
       "      <td>6</td>\n",
       "      <td>7.0</td>\n",
       "      <td>NaN</td>\n",
       "      <td>2.0</td>\n",
       "      <td>Used</td>\n",
       "      <td>Cloth</td>\n",
       "      <td>5.6</td>\n",
       "      <td>7.1</td>\n",
       "      <td>4.7</td>\n",
       "      <td>True</td>\n",
       "      <td>False</td>\n",
       "      <td>False</td>\n",
       "      <td>True</td>\n",
       "      <td>True</td>\n",
       "      <td>False</td>\n",
       "      <td>False</td>\n",
       "      <td>False</td>\n",
       "      <td>True</td>\n",
       "      <td>True</td>\n",
       "      <td>False</td>\n",
       "      <td>False</td>\n",
       "      <td>True</td>\n",
       "      <td>False</td>\n",
       "      <td>False</td>\n",
       "      <td>False</td>\n",
       "      <td>False</td>\n",
       "      <td>False</td>\n",
       "      <td>False</td>\n",
       "      <td>False</td>\n",
       "      <td>False</td>\n",
       "      <td>False</td>\n",
       "      <td>False</td>\n",
       "      <td>True</td>\n",
       "      <td>False</td>\n",
       "      <td>False</td>\n",
       "      <td>False</td>\n",
       "      <td>False</td>\n",
       "      <td>False</td>\n",
       "      <td>False</td>\n",
       "      <td>False</td>\n",
       "      <td>True</td>\n",
       "      <td>False</td>\n",
       "      <td>False</td>\n",
       "      <td>False</td>\n",
       "      <td>False</td>\n",
       "      <td>True</td>\n",
       "      <td>False</td>\n",
       "      <td>True</td>\n",
       "      <td>True</td>\n",
       "      <td>False</td>\n",
       "      <td>True</td>\n",
       "      <td>False</td>\n",
       "      <td>False</td>\n",
       "      <td>False</td>\n",
       "      <td>True</td>\n",
       "      <td>True</td>\n",
       "      <td>False</td>\n",
       "      <td>False</td>\n",
       "      <td>False</td>\n",
       "      <td>False</td>\n",
       "      <td>True</td>\n",
       "      <td>False</td>\n",
       "      <td>False</td>\n",
       "      <td>False</td>\n",
       "      <td>False</td>\n",
       "      <td>False</td>\n",
       "      <td>False</td>\n",
       "      <td>False</td>\n",
       "      <td>False</td>\n",
       "      <td>True</td>\n",
       "      <td>True</td>\n",
       "      <td>False</td>\n",
       "      <td>False</td>\n",
       "      <td>True</td>\n",
       "      <td>False</td>\n",
       "      <td>True</td>\n",
       "      <td>False</td>\n",
       "      <td>True</td>\n",
       "      <td>True</td>\n",
       "      <td>False</td>\n",
       "      <td>True</td>\n",
       "      <td>False</td>\n",
       "      <td>True</td>\n",
       "      <td>True</td>\n",
       "      <td>False</td>\n",
       "      <td>False</td>\n",
       "      <td>True</td>\n",
       "      <td>True</td>\n",
       "      <td>False</td>\n",
       "      <td>True</td>\n",
       "      <td>True</td>\n",
       "      <td>True</td>\n",
       "      <td>True</td>\n",
       "      <td>False</td>\n",
       "      <td>True</td>\n",
       "      <td>False</td>\n",
       "      <td>False</td>\n",
       "      <td>False</td>\n",
       "      <td>False</td>\n",
       "      <td>False</td>\n",
       "      <td>False</td>\n",
       "      <td>True</td>\n",
       "      <td>True</td>\n",
       "    </tr>\n",
       "    <tr>\n",
       "      <th>2</th>\n",
       "      <td>Audi A1</td>\n",
       "      <td>Sedans</td>\n",
       "      <td>14640</td>\n",
       "      <td>True</td>\n",
       "      <td>83450.0</td>\n",
       "      <td>85.0</td>\n",
       "      <td>1.0</td>\n",
       "      <td>False</td>\n",
       "      <td>0.0</td>\n",
       "      <td>Black</td>\n",
       "      <td>metallic</td>\n",
       "      <td>4.0</td>\n",
       "      <td>4.0</td>\n",
       "      <td>Automatic</td>\n",
       "      <td>1598.0</td>\n",
       "      <td>NaN</td>\n",
       "      <td>front</td>\n",
       "      <td>Diesel</td>\n",
       "      <td>99.0</td>\n",
       "      <td>6</td>\n",
       "      <td>NaN</td>\n",
       "      <td>NaN</td>\n",
       "      <td>3.0</td>\n",
       "      <td>Used</td>\n",
       "      <td>Cloth</td>\n",
       "      <td>3.8</td>\n",
       "      <td>4.4</td>\n",
       "      <td>3.4</td>\n",
       "      <td>False</td>\n",
       "      <td>False</td>\n",
       "      <td>False</td>\n",
       "      <td>False</td>\n",
       "      <td>True</td>\n",
       "      <td>False</td>\n",
       "      <td>True</td>\n",
       "      <td>False</td>\n",
       "      <td>False</td>\n",
       "      <td>False</td>\n",
       "      <td>False</td>\n",
       "      <td>True</td>\n",
       "      <td>True</td>\n",
       "      <td>True</td>\n",
       "      <td>False</td>\n",
       "      <td>False</td>\n",
       "      <td>True</td>\n",
       "      <td>False</td>\n",
       "      <td>False</td>\n",
       "      <td>False</td>\n",
       "      <td>False</td>\n",
       "      <td>False</td>\n",
       "      <td>False</td>\n",
       "      <td>False</td>\n",
       "      <td>False</td>\n",
       "      <td>False</td>\n",
       "      <td>False</td>\n",
       "      <td>True</td>\n",
       "      <td>False</td>\n",
       "      <td>False</td>\n",
       "      <td>True</td>\n",
       "      <td>False</td>\n",
       "      <td>False</td>\n",
       "      <td>False</td>\n",
       "      <td>False</td>\n",
       "      <td>False</td>\n",
       "      <td>True</td>\n",
       "      <td>False</td>\n",
       "      <td>True</td>\n",
       "      <td>True</td>\n",
       "      <td>False</td>\n",
       "      <td>True</td>\n",
       "      <td>True</td>\n",
       "      <td>False</td>\n",
       "      <td>False</td>\n",
       "      <td>False</td>\n",
       "      <td>True</td>\n",
       "      <td>True</td>\n",
       "      <td>False</td>\n",
       "      <td>False</td>\n",
       "      <td>False</td>\n",
       "      <td>True</td>\n",
       "      <td>False</td>\n",
       "      <td>False</td>\n",
       "      <td>False</td>\n",
       "      <td>False</td>\n",
       "      <td>False</td>\n",
       "      <td>False</td>\n",
       "      <td>False</td>\n",
       "      <td>False</td>\n",
       "      <td>True</td>\n",
       "      <td>False</td>\n",
       "      <td>False</td>\n",
       "      <td>False</td>\n",
       "      <td>False</td>\n",
       "      <td>False</td>\n",
       "      <td>True</td>\n",
       "      <td>False</td>\n",
       "      <td>True</td>\n",
       "      <td>False</td>\n",
       "      <td>False</td>\n",
       "      <td>True</td>\n",
       "      <td>False</td>\n",
       "      <td>True</td>\n",
       "      <td>True</td>\n",
       "      <td>False</td>\n",
       "      <td>False</td>\n",
       "      <td>False</td>\n",
       "      <td>True</td>\n",
       "      <td>False</td>\n",
       "      <td>True</td>\n",
       "      <td>True</td>\n",
       "      <td>True</td>\n",
       "      <td>True</td>\n",
       "      <td>False</td>\n",
       "      <td>True</td>\n",
       "      <td>False</td>\n",
       "      <td>False</td>\n",
       "      <td>False</td>\n",
       "      <td>False</td>\n",
       "      <td>False</td>\n",
       "      <td>False</td>\n",
       "      <td>False</td>\n",
       "      <td>True</td>\n",
       "    </tr>\n",
       "  </tbody>\n",
       "</table>\n",
       "</div>"
      ],
      "text/plain": [
       "  make_model body_type  price   vat       km     hp  Previous Owners  \\\n",
       "0    Audi A1    Sedans  15770  True  56013.0   66.0              2.0   \n",
       "1    Audi A1    Sedans  14500  True  80000.0  141.0              NaN   \n",
       "2    Audi A1    Sedans  14640  True  83450.0   85.0              1.0   \n",
       "\n",
       "   Inspection new  Warranty Body Color    Paint Type  Nr. of Doors  \\\n",
       "0            True       0.0      Black      metallic           5.0   \n",
       "1           False       0.0        Red  non_metallic           3.0   \n",
       "2           False       0.0      Black      metallic           4.0   \n",
       "\n",
       "   Nr. of Seats Gearing Type  Displacement  Cylinders Drive chain      Fuel  \\\n",
       "0           5.0    Automatic        1422.0        3.0       front    Diesel   \n",
       "1           4.0    Automatic        1798.0        4.0       front  Gasoline   \n",
       "2           4.0    Automatic        1598.0        NaN       front    Diesel   \n",
       "\n",
       "   CO2 Emission Emission Class  Gears Country version  age vehicle_condition  \\\n",
       "0          99.0              6    NaN             NaN  3.0              Used   \n",
       "1         129.0              6    7.0             NaN  2.0              Used   \n",
       "2          99.0              6    NaN             NaN  3.0              Used   \n",
       "\n",
       "  Upholstery_type  Consumption(comb)  Consumption(city)  Consumption(country)  \\\n",
       "0           Cloth                3.8                4.3                   3.5   \n",
       "1           Cloth                5.6                7.1                   4.7   \n",
       "2           Cloth                3.8                4.4                   3.4   \n",
       "\n",
       "  Sound system CD player Digital radio Hands-free equipment On-board computer  \\\n",
       "0        False     False         False                 True              True   \n",
       "1         True     False         False                 True              True   \n",
       "2        False     False         False                False              True   \n",
       "\n",
       "     USB    MP3 Television Bluetooth  Radio Rain sensor  \\\n",
       "0  False  False      False      True   True        True   \n",
       "1  False  False      False      True   True       False   \n",
       "2  False   True      False     False  False       False   \n",
       "\n",
       "  Electrical side mirrors Air conditioning Seat heating  \\\n",
       "0                    True             True         True   \n",
       "1                   False             True        False   \n",
       "2                    True             True         True   \n",
       "\n",
       "  Electrically adjustable seats Split rear seats Cruise control Massage seats  \\\n",
       "0                         False            False           True         False   \n",
       "1                         False            False          False         False   \n",
       "2                         False            False           True         False   \n",
       "\n",
       "  Parking assist system self-steering Leather seats Keyless central door lock  \\\n",
       "0                               False         False                     False   \n",
       "1                               False         False                     False   \n",
       "2                               False         False                     False   \n",
       "\n",
       "  Electrically heated windshield Heated steering wheel Tinted windows  \\\n",
       "0                          False                 False          False   \n",
       "1                          False                 False           True   \n",
       "2                          False                 False          False   \n",
       "\n",
       "  Windshield Panorama roof Sunroof Navigation system  \\\n",
       "0      False         False   False              True   \n",
       "1      False         False   False             False   \n",
       "2      False         False   False              True   \n",
       "\n",
       "  Parking assist system camera Heads-up display Multi-function steering wheel  \\\n",
       "0                        False            False                          True   \n",
       "1                        False            False                         False   \n",
       "2                        False            False                          True   \n",
       "\n",
       "  Automatic climate control Seat ventilation Electric tailgate Light sensor  \\\n",
       "0                      True            False             False         True   \n",
       "1                      True            False             False        False   \n",
       "2                     False            False             False        False   \n",
       "\n",
       "  Air suspension Hill Holder Electric Starter Power windows Start-stop system  \\\n",
       "0          False        True            False          True              True   \n",
       "1          False        True            False          True              True   \n",
       "2          False        True            False          True              True   \n",
       "\n",
       "  Armrest Leather steering wheel Parking assist system sensors front  \\\n",
       "0    True                   True                               False   \n",
       "1   False                   True                               False   \n",
       "2   False                   True                                True   \n",
       "\n",
       "  Wind deflector Auxiliary heating Lumbar support  \\\n",
       "0          False             False          False   \n",
       "1          False             False           True   \n",
       "2          False             False          False   \n",
       "\n",
       "  Parking assist system sensors rear Park Distance Control Shift paddles  \\\n",
       "0                               True                  True         False   \n",
       "1                               True                 False         False   \n",
       "2                               True                  True         False   \n",
       "\n",
       "  Catalytic Converter Cab or rented Car Alloy wheels Right hand drive  \\\n",
       "0                True             False         True            False   \n",
       "1               False             False         True            False   \n",
       "2               False             False         True            False   \n",
       "\n",
       "  Handicapped enabled Roof rack Winter tyres Ski bag Tuned car Sliding door  \\\n",
       "0               False     False        False   False     False        False   \n",
       "1               False     False        False   False     False        False   \n",
       "2               False     False        False   False     False        False   \n",
       "\n",
       "  Touch screen Voice Control Sport seats Sport package Trailer hitch  \\\n",
       "0        False          True       False         False         False   \n",
       "1        False          True        True         False         False   \n",
       "2        False          True       False         False         False   \n",
       "\n",
       "  Sport suspension Driver drowsiness detection   ABS  \\\n",
       "0            False                       False  True   \n",
       "1             True                       False  True   \n",
       "2            False                       False  True   \n",
       "\n",
       "  Lane departure warning system Side airbag Xenon headlights  \\\n",
       "0                         False        True             True   \n",
       "1                         False        True             True   \n",
       "2                         False        True            False   \n",
       "\n",
       "  Emergency brake assistant Passenger-side airbag Rear airbag  \\\n",
       "0                     False                  True       False   \n",
       "1                     False                  True       False   \n",
       "2                     False                  True       False   \n",
       "\n",
       "  Central door lock Traction control Alarm system Adaptive headlights  \\\n",
       "0              True             True        False               False   \n",
       "1              True             True        False               False   \n",
       "2              True             True        False               False   \n",
       "\n",
       "  Central door lock with remote control Driver-side airbag  \\\n",
       "0                                 False               True   \n",
       "1                                  True               True   \n",
       "2                                 False               True   \n",
       "\n",
       "  LED Daytime Running Lights Power steering Daytime running lights Isofix  \\\n",
       "0                      False           True                   True   True   \n",
       "1                      False           True                   True   True   \n",
       "2                      False           True                   True   True   \n",
       "\n",
       "  Immobilizer Emergency system Electronic stability control LED Headlights  \\\n",
       "0        True            False                         True          False   \n",
       "1        True            False                         True          False   \n",
       "2        True            False                         True          False   \n",
       "\n",
       "  Fog lights Blind spot monitor Traffic sign recognition  \\\n",
       "0       True              False                    False   \n",
       "1      False              False                    False   \n",
       "2      False              False                    False   \n",
       "\n",
       "  Adaptive Cruise Control Night view assist Head airbag  \\\n",
       "0                   False             False       False   \n",
       "1                   False             False        True   \n",
       "2                   False             False       False   \n",
       "\n",
       "  Tire pressure monitoring system  \n",
       "0                            True  \n",
       "1                            True  \n",
       "2                            True  "
      ]
     },
     "execution_count": 2,
     "metadata": {},
     "output_type": "execute_result"
    }
   ],
   "source": [
    "df = pd.read_csv('designed.csv')\n",
    "df.head(3)"
   ]
  },
  {
   "cell_type": "code",
   "execution_count": 3,
   "metadata": {},
   "outputs": [
    {
     "data": {
      "text/plain": [
       "['make_model',\n",
       " 'body_type',\n",
       " 'price',\n",
       " 'vat',\n",
       " 'km',\n",
       " 'hp',\n",
       " 'Previous Owners',\n",
       " 'Inspection new',\n",
       " 'Warranty',\n",
       " 'Body Color',\n",
       " 'Paint Type',\n",
       " 'Nr. of Doors',\n",
       " 'Nr. of Seats',\n",
       " 'Gearing Type',\n",
       " 'Displacement',\n",
       " 'Cylinders',\n",
       " 'Drive chain',\n",
       " 'Fuel',\n",
       " 'CO2 Emission',\n",
       " 'Emission Class',\n",
       " 'Gears',\n",
       " 'Country version',\n",
       " 'age',\n",
       " 'vehicle_condition',\n",
       " 'Upholstery_type',\n",
       " 'Consumption(comb)',\n",
       " 'Consumption(city)',\n",
       " 'Consumption(country)',\n",
       " 'Sound system',\n",
       " 'CD player',\n",
       " 'Digital radio',\n",
       " 'Hands-free equipment',\n",
       " 'On-board computer',\n",
       " 'USB',\n",
       " 'MP3',\n",
       " 'Television',\n",
       " 'Bluetooth',\n",
       " 'Radio',\n",
       " 'Rain sensor',\n",
       " 'Electrical side mirrors',\n",
       " 'Air conditioning',\n",
       " 'Seat heating',\n",
       " 'Electrically adjustable seats',\n",
       " 'Split rear seats',\n",
       " 'Cruise control',\n",
       " 'Massage seats',\n",
       " 'Parking assist system self-steering',\n",
       " 'Leather seats',\n",
       " 'Keyless central door lock',\n",
       " 'Electrically heated windshield',\n",
       " 'Heated steering wheel',\n",
       " 'Tinted windows',\n",
       " 'Windshield',\n",
       " 'Panorama roof',\n",
       " 'Sunroof',\n",
       " 'Navigation system',\n",
       " 'Parking assist system camera',\n",
       " 'Heads-up display',\n",
       " 'Multi-function steering wheel',\n",
       " 'Automatic climate control',\n",
       " 'Seat ventilation',\n",
       " 'Electric tailgate',\n",
       " 'Light sensor',\n",
       " 'Air suspension',\n",
       " 'Hill Holder',\n",
       " 'Electric Starter',\n",
       " 'Power windows',\n",
       " 'Start-stop system',\n",
       " 'Armrest',\n",
       " 'Leather steering wheel',\n",
       " 'Parking assist system sensors front',\n",
       " 'Wind deflector',\n",
       " 'Auxiliary heating',\n",
       " 'Lumbar support',\n",
       " 'Parking assist system sensors rear',\n",
       " 'Park Distance Control',\n",
       " 'Shift paddles',\n",
       " 'Catalytic Converter',\n",
       " 'Cab or rented Car',\n",
       " 'Alloy wheels',\n",
       " 'Right hand drive',\n",
       " 'Handicapped enabled',\n",
       " 'Roof rack',\n",
       " 'Winter tyres',\n",
       " 'Ski bag',\n",
       " 'Tuned car',\n",
       " 'Sliding door',\n",
       " 'Touch screen',\n",
       " 'Voice Control',\n",
       " 'Sport seats',\n",
       " 'Sport package',\n",
       " 'Trailer hitch',\n",
       " 'Sport suspension',\n",
       " 'Driver drowsiness detection',\n",
       " 'ABS',\n",
       " 'Lane departure warning system',\n",
       " 'Side airbag',\n",
       " 'Xenon headlights',\n",
       " 'Emergency brake assistant',\n",
       " 'Passenger-side airbag',\n",
       " 'Rear airbag',\n",
       " 'Central door lock',\n",
       " 'Traction control',\n",
       " 'Alarm system',\n",
       " 'Adaptive headlights',\n",
       " 'Central door lock with remote control',\n",
       " 'Driver-side airbag',\n",
       " 'LED Daytime Running Lights',\n",
       " 'Power steering',\n",
       " 'Daytime running lights',\n",
       " 'Isofix',\n",
       " 'Immobilizer',\n",
       " 'Emergency system',\n",
       " 'Electronic stability control',\n",
       " 'LED Headlights',\n",
       " 'Fog lights',\n",
       " 'Blind spot monitor',\n",
       " 'Traffic sign recognition',\n",
       " 'Adaptive Cruise Control',\n",
       " 'Night view assist',\n",
       " 'Head airbag',\n",
       " 'Tire pressure monitoring system']"
      ]
     },
     "execution_count": 3,
     "metadata": {},
     "output_type": "execute_result"
    }
   ],
   "source": [
    "df.columns.to_list()"
   ]
  },
  {
   "cell_type": "markdown",
   "metadata": {},
   "source": [
    "# Duplicate eden satırlardan kurtulalım"
   ]
  },
  {
   "cell_type": "code",
   "execution_count": 4,
   "metadata": {},
   "outputs": [],
   "source": [
    "df.drop_duplicates(inplace = True)"
   ]
  },
  {
   "cell_type": "markdown",
   "metadata": {},
   "source": [
    "# make_model"
   ]
  },
  {
   "cell_type": "code",
   "execution_count": 5,
   "metadata": {},
   "outputs": [],
   "source": [
    "model_liste = df.make_model.value_counts().index.to_list()"
   ]
  },
  {
   "cell_type": "code",
   "execution_count": 6,
   "metadata": {},
   "outputs": [],
   "source": [
    "models = df.make_model.value_counts()"
   ]
  },
  {
   "cell_type": "code",
   "execution_count": 7,
   "metadata": {},
   "outputs": [
    {
     "data": {
      "text/plain": [
       "Audi A3           2809\n",
       "Opel Insignia     2413\n",
       "Audi A1           2396\n",
       "Opel Astra        2325\n",
       "Opel Corsa        2048\n",
       "Renault Clio      1496\n",
       "Renault Espace     885\n",
       "Renault Duster      34\n",
       "Audi A2              1\n",
       "Name: make_model, dtype: int64"
      ]
     },
     "execution_count": 7,
     "metadata": {},
     "output_type": "execute_result"
    }
   ],
   "source": [
    "models  #Null değer yok"
   ]
  },
  {
   "cell_type": "code",
   "execution_count": 8,
   "metadata": {},
   "outputs": [
    {
     "data": {
      "image/png": "[encoded data removed]",
      "text/plain": [
       "<Figure size 1008x576 with 1 Axes>"
      ]
     },
     "metadata": {
      "needs_background": "light"
     },
     "output_type": "display_data"
    }
   ],
   "source": [
    "plt.figure(figsize=[14,8])\n",
    "sns.barplot(models.index, models.values);\n",
    "plt.xticks(rotation =90);\n",
    "for i,v in enumerate(models.values):\n",
    "    plt.text(i,v+10, str(v),va='bottom', ha = 'center')\n",
    "plt.show()"
   ]
  },
  {
   "cell_type": "markdown",
   "metadata": {},
   "source": [
    "# body_type"
   ]
  },
  {
   "cell_type": "code",
   "execution_count": 9,
   "metadata": {},
   "outputs": [],
   "source": [
    "body = df.body_type.value_counts()"
   ]
  },
  {
   "cell_type": "code",
   "execution_count": 10,
   "metadata": {},
   "outputs": [
    {
     "data": {
      "text/plain": [
       "Sedans           7204\n",
       "Station wagon    3304\n",
       "Compact          2686\n",
       "Van               708\n",
       "Other             283\n",
       "Transporter        87\n",
       "Off-Road           56\n",
       "Coupe              25\n",
       "Convertible         8\n",
       "Name: body_type, dtype: int64"
      ]
     },
     "execution_count": 10,
     "metadata": {},
     "output_type": "execute_result"
    }
   ],
   "source": [
    "body"
   ]
  },
  {
   "cell_type": "code",
   "execution_count": 11,
   "metadata": {},
   "outputs": [
    {
     "data": {
      "image/png": "[encoded data removed]",
      "text/plain": [
       "<Figure size 1008x576 with 1 Axes>"
      ]
     },
     "metadata": {
      "needs_background": "light"
     },
     "output_type": "display_data"
    }
   ],
   "source": [
    "plt.figure(figsize=[14,8])\n",
    "sns.barplot(body.index, body.values);\n",
    "plt.xticks(rotation =90);\n",
    "for i,v in enumerate(body.values):\n",
    "    plt.text(i,v+10, str(v),va='bottom', ha = 'center')\n",
    "plt.show()"
   ]
  },
  {
   "cell_type": "code",
   "execution_count": 12,
   "metadata": {},
   "outputs": [
    {
     "data": {
      "text/plain": [
       "46"
      ]
     },
     "execution_count": 12,
     "metadata": {},
     "output_type": "execute_result"
    }
   ],
   "source": [
    "df.body_type.isnull().sum()  #46 null değerim var en fazla olan ile dolduruyoruz."
   ]
  },
  {
   "cell_type": "code",
   "execution_count": 13,
   "metadata": {},
   "outputs": [],
   "source": [
    "for i in model_liste:\n",
    "    df.loc[(df.make_model == i) & (df.body_type.isnull()), 'body_type'] = df[df.make_model == i].body_type.mode()[0]"
   ]
  },
  {
   "cell_type": "code",
   "execution_count": 14,
   "metadata": {},
   "outputs": [
    {
     "data": {
      "text/plain": [
       "0"
      ]
     },
     "execution_count": 14,
     "metadata": {},
     "output_type": "execute_result"
    }
   ],
   "source": [
    "df.body_type.isnull().sum()"
   ]
  },
  {
   "cell_type": "markdown",
   "metadata": {},
   "source": [
    "# Price"
   ]
  },
  {
   "cell_type": "code",
   "execution_count": 15,
   "metadata": {},
   "outputs": [
    {
     "data": {
      "text/plain": [
       "0"
      ]
     },
     "execution_count": 15,
     "metadata": {},
     "output_type": "execute_result"
    }
   ],
   "source": [
    "df.price.isnull().sum()"
   ]
  },
  {
   "cell_type": "code",
   "execution_count": 16,
   "metadata": {},
   "outputs": [
    {
     "data": {
      "image/png": "[encoded data removed]",
      "text/plain": [
       "<Figure size 1008x576 with 1 Axes>"
      ]
     },
     "metadata": {
      "needs_background": "light"
     },
     "output_type": "display_data"
    }
   ],
   "source": [
    "plt.figure(figsize=[14,8])\n",
    "sns.histplot(df.price, kde = True);"
   ]
  },
  {
   "cell_type": "markdown",
   "metadata": {},
   "source": [
    "# vat"
   ]
  },
  {
   "cell_type": "code",
   "execution_count": 17,
   "metadata": {
    "scrolled": true
   },
   "outputs": [
    {
     "data": {
      "text/plain": [
       "0"
      ]
     },
     "execution_count": 17,
     "metadata": {},
     "output_type": "execute_result"
    }
   ],
   "source": [
    "df.vat.isnull().sum()\n",
    "#Sütunlar düzenlenirken vat deductible olan yerler True, Nan olanlar False ile doldurulmuştu."
   ]
  },
  {
   "cell_type": "code",
   "execution_count": 18,
   "metadata": {},
   "outputs": [],
   "source": [
    "vat = df.vat.value_counts()"
   ]
  },
  {
   "cell_type": "code",
   "execution_count": 19,
   "metadata": {},
   "outputs": [
    {
     "data": {
      "text/plain": [
       "True     10401\n",
       "False     4006\n",
       "Name: vat, dtype: int64"
      ]
     },
     "execution_count": 19,
     "metadata": {},
     "output_type": "execute_result"
    }
   ],
   "source": [
    "vat"
   ]
  },
  {
   "cell_type": "code",
   "execution_count": 20,
   "metadata": {},
   "outputs": [
    {
     "data": {
      "image/png": "[encoded data removed]",
      "text/plain": [
       "<Figure size 576x432 with 1 Axes>"
      ]
     },
     "metadata": {
      "needs_background": "light"
     },
     "output_type": "display_data"
    }
   ],
   "source": [
    "plt.figure(figsize=[8,6])\n",
    "sns.barplot(vat.index, vat.values);\n",
    "plt.xticks(rotation =90);\n",
    "plt.show()"
   ]
  },
  {
   "cell_type": "markdown",
   "metadata": {},
   "source": [
    "# 'vehicle_condition'"
   ]
  },
  {
   "cell_type": "code",
   "execution_count": 21,
   "metadata": {
    "scrolled": true
   },
   "outputs": [
    {
     "data": {
      "text/plain": [
       "Used              11874\n",
       "New                1426\n",
       "Pre-registered     1105\n",
       "NaN                   2\n",
       "Name: vehicle_condition, dtype: int64"
      ]
     },
     "execution_count": 21,
     "metadata": {},
     "output_type": "execute_result"
    }
   ],
   "source": [
    "df['vehicle_condition'].value_counts(dropna = False)\n",
    "# Temiz bir sütun. 2 nan var"
   ]
  },
  {
   "cell_type": "code",
   "execution_count": 22,
   "metadata": {
    "scrolled": true
   },
   "outputs": [
    {
     "data": {
      "text/plain": [
       "2765    115137.0\n",
       "5237         NaN\n",
       "Name: km, dtype: float64"
      ]
     },
     "execution_count": 22,
     "metadata": {},
     "output_type": "execute_result"
    }
   ],
   "source": [
    "df[df['vehicle_condition'].isnull()].km"
   ]
  },
  {
   "cell_type": "code",
   "execution_count": 23,
   "metadata": {},
   "outputs": [],
   "source": [
    "df['vehicle_condition'].fillna('Used', inplace =True)"
   ]
  },
  {
   "cell_type": "markdown",
   "metadata": {},
   "source": [
    "# km"
   ]
  },
  {
   "cell_type": "code",
   "execution_count": 24,
   "metadata": {},
   "outputs": [
    {
     "data": {
      "text/plain": [
       "898"
      ]
     },
     "execution_count": 24,
     "metadata": {},
     "output_type": "execute_result"
    }
   ],
   "source": [
    "df.km.isnull().sum()"
   ]
  },
  {
   "cell_type": "code",
   "execution_count": 25,
   "metadata": {},
   "outputs": [
    {
     "data": {
      "text/plain": [
       "736"
      ]
     },
     "execution_count": 25,
     "metadata": {},
     "output_type": "execute_result"
    }
   ],
   "source": [
    "df.km[(df.vehicle_condition == 'New')].isnull().sum() # Neredeyse tamamı new olduğu için kmdeki bu nanlara 0 gireceğiz."
   ]
  },
  {
   "cell_type": "code",
   "execution_count": 26,
   "metadata": {},
   "outputs": [
    {
     "data": {
      "text/plain": [
       "Used              11876\n",
       "New                1426\n",
       "Pre-registered     1105\n",
       "Name: vehicle_condition, dtype: int64"
      ]
     },
     "execution_count": 26,
     "metadata": {},
     "output_type": "execute_result"
    }
   ],
   "source": [
    "df.vehicle_condition.value_counts(dropna =False)"
   ]
  },
  {
   "cell_type": "code",
   "execution_count": 27,
   "metadata": {},
   "outputs": [
    {
     "data": {
      "text/plain": [
       "180.23269809428285"
      ]
     },
     "execution_count": 27,
     "metadata": {},
     "output_type": "execute_result"
    }
   ],
   "source": [
    "df[df.vehicle_condition == 'Pre-registered'].km.mean()"
   ]
  },
  {
   "cell_type": "code",
   "execution_count": 28,
   "metadata": {},
   "outputs": [],
   "source": [
    "df.loc[(df.vehicle_condition == 'New') & (df.km.isnull()),'km'] = 0"
   ]
  },
  {
   "cell_type": "code",
   "execution_count": 29,
   "metadata": {},
   "outputs": [],
   "source": [
    "df.loc[(df.vehicle_condition == 'Used') & (df.km.isnull()),'km'] = df[df.vehicle_condition == 'Used'].km.median()"
   ]
  },
  {
   "cell_type": "code",
   "execution_count": 30,
   "metadata": {},
   "outputs": [],
   "source": [
    "df.loc[(df.vehicle_condition == 'Pre-registered') & (df.km.isnull()),'km'] = df[df.vehicle_condition == 'Pre-registered'].km.median()"
   ]
  },
  {
   "cell_type": "code",
   "execution_count": 31,
   "metadata": {},
   "outputs": [
    {
     "data": {
      "text/plain": [
       "0"
      ]
     },
     "execution_count": 31,
     "metadata": {},
     "output_type": "execute_result"
    }
   ],
   "source": [
    "df.km.isnull().sum()"
   ]
  },
  {
   "cell_type": "code",
   "execution_count": 32,
   "metadata": {
    "scrolled": true
   },
   "outputs": [
    {
     "data": {
      "text/plain": [
       "<AxesSubplot:xlabel='km', ylabel='Count'>"
      ]
     },
     "execution_count": 32,
     "metadata": {},
     "output_type": "execute_result"
    },
    {
     "data": {
      "image/png": "[encoded data removed]",
      "text/plain": [
       "<Figure size 864x432 with 1 Axes>"
      ]
     },
     "metadata": {
      "needs_background": "light"
     },
     "output_type": "display_data"
    }
   ],
   "source": [
    "plt.figure(figsize =[12,6])\n",
    "sns.histplot(df.km)"
   ]
  },
  {
   "cell_type": "markdown",
   "metadata": {},
   "source": [
    "# hp"
   ]
  },
  {
   "cell_type": "code",
   "execution_count": 33,
   "metadata": {},
   "outputs": [
    {
     "data": {
      "text/plain": [
       "85"
      ]
     },
     "execution_count": 33,
     "metadata": {},
     "output_type": "execute_result"
    }
   ],
   "source": [
    "df.hp.isnull().sum()"
   ]
  },
  {
   "cell_type": "code",
   "execution_count": 34,
   "metadata": {},
   "outputs": [
    {
     "data": {
      "text/plain": [
       "<AxesSubplot:xlabel='hp', ylabel='Count'>"
      ]
     },
     "execution_count": 34,
     "metadata": {},
     "output_type": "execute_result"
    },
    {
     "data": {
      "image/png": "[encoded data removed]",
      "text/plain": [
       "<Figure size 864x432 with 1 Axes>"
      ]
     },
     "metadata": {
      "needs_background": "light"
     },
     "output_type": "display_data"
    }
   ],
   "source": [
    "plt.figure(figsize =[12,6])\n",
    "sns.histplot(df.hp, kde =True)"
   ]
  },
  {
   "cell_type": "code",
   "execution_count": 35,
   "metadata": {},
   "outputs": [],
   "source": [
    "for i in model_liste:\n",
    "    df.loc[(df.make_model == i) & (df.hp.isnull()), 'hp'] = df[df.make_model == i].hp.median()"
   ]
  },
  {
   "cell_type": "code",
   "execution_count": 36,
   "metadata": {},
   "outputs": [
    {
     "data": {
      "text/plain": [
       "0"
      ]
     },
     "execution_count": 36,
     "metadata": {},
     "output_type": "execute_result"
    }
   ],
   "source": [
    "df.hp.isnull().sum()"
   ]
  },
  {
   "cell_type": "markdown",
   "metadata": {},
   "source": [
    "# Previous Owners"
   ]
  },
  {
   "cell_type": "code",
   "execution_count": 37,
   "metadata": {
    "scrolled": true
   },
   "outputs": [
    {
     "data": {
      "text/plain": [
       "<AxesSubplot:xlabel='Previous Owners', ylabel='count'>"
      ]
     },
     "execution_count": 37,
     "metadata": {},
     "output_type": "execute_result"
    },
    {
     "data": {
      "image/png": "[encoded data removed]",
      "text/plain": [
       "<Figure size 864x432 with 1 Axes>"
      ]
     },
     "metadata": {
      "needs_background": "light"
     },
     "output_type": "display_data"
    }
   ],
   "source": [
    "plt.figure(figsize =[12,6])\n",
    "sns.countplot(df[\"Previous Owners\"])"
   ]
  },
  {
   "cell_type": "code",
   "execution_count": 38,
   "metadata": {},
   "outputs": [
    {
     "data": {
      "text/plain": [
       "6071"
      ]
     },
     "execution_count": 38,
     "metadata": {},
     "output_type": "execute_result"
    }
   ],
   "source": [
    "df[\"Previous Owners\"].isnull().sum()"
   ]
  },
  {
   "cell_type": "code",
   "execution_count": 39,
   "metadata": {},
   "outputs": [
    {
     "data": {
      "text/plain": [
       "Used              4317\n",
       "New               1280\n",
       "Pre-registered     474\n",
       "Name: vehicle_condition, dtype: int64"
      ]
     },
     "execution_count": 39,
     "metadata": {},
     "output_type": "execute_result"
    }
   ],
   "source": [
    "df.vehicle_condition[(df[\"Previous Owners\"].isnull())].value_counts()"
   ]
  },
  {
   "cell_type": "code",
   "execution_count": 40,
   "metadata": {},
   "outputs": [],
   "source": [
    "df.loc[(df[\"Previous Owners\"].isnull()) & (df.vehicle_condition == 'New'), \"Previous Owners\"] = 0 \n",
    "#vehicle_conditionı New olan Previous Owners null satırlarını 0 ile doldurduk"
   ]
  },
  {
   "cell_type": "code",
   "execution_count": 41,
   "metadata": {},
   "outputs": [
    {
     "data": {
      "text/plain": [
       "Used              4317\n",
       "Pre-registered     474\n",
       "Name: vehicle_condition, dtype: int64"
      ]
     },
     "execution_count": 41,
     "metadata": {},
     "output_type": "execute_result"
    }
   ],
   "source": [
    "df.vehicle_condition[(df[\"Previous Owners\"].isnull())].value_counts()\n",
    "#New ler dolsu şimdi Used olanları doldurmak gerek."
   ]
  },
  {
   "cell_type": "code",
   "execution_count": 42,
   "metadata": {},
   "outputs": [],
   "source": [
    "df.loc[(df[\"Previous Owners\"].isnull()) & (df.vehicle_condition == 'Used'), \"Previous Owners\"] = 1\n",
    "#vehicle_conditionı Used olan Previous Owners null satırlarını 1 ile doldurduk.\n",
    "# En fazla 1 used olduğu için 1 ile dolduruldu."
   ]
  },
  {
   "cell_type": "code",
   "execution_count": 1,
   "metadata": {},
   "outputs": [
    {
     "ename": "NameError",
     "evalue": "name 'df' is not defined",
     "output_type": "error",
     "traceback": [
      "\u001b[1;31m---------------------------------------------------------------------------\u001b[0m",
      "\u001b[1;31mNameError\u001b[0m                                 Traceback (most recent call last)",
      "\u001b[1;32m<ipython-input-1-36b32efce3b2>\u001b[0m in \u001b[0;36m<module>\u001b[1;34m\u001b[0m\n\u001b[1;32m----> 1\u001b[1;33m \u001b[0mdf\u001b[0m\u001b[1;33m.\u001b[0m\u001b[0mloc\u001b[0m\u001b[1;33m[\u001b[0m\u001b[1;33m(\u001b[0m\u001b[0mdf\u001b[0m\u001b[1;33m[\u001b[0m\u001b[1;34m\"Previous Owners\"\u001b[0m\u001b[1;33m]\u001b[0m\u001b[1;33m.\u001b[0m\u001b[0misnull\u001b[0m\u001b[1;33m(\u001b[0m\u001b[1;33m)\u001b[0m\u001b[1;33m)\u001b[0m \u001b[1;33m&\u001b[0m \u001b[1;33m(\u001b[0m\u001b[0mdf\u001b[0m\u001b[1;33m.\u001b[0m\u001b[0mvehicle_condition\u001b[0m \u001b[1;33m==\u001b[0m \u001b[1;34m'Pre-registered'\u001b[0m\u001b[1;33m)\u001b[0m\u001b[1;33m,\u001b[0m \u001b[1;34m\"Previous Owners\"\u001b[0m\u001b[1;33m]\u001b[0m \u001b[1;33m=\u001b[0m \u001b[1;36m0\u001b[0m\u001b[1;33m\u001b[0m\u001b[1;33m\u001b[0m\u001b[0m\n\u001b[0m",
      "\u001b[1;31mNameError\u001b[0m: name 'df' is not defined"
     ]
    }
   ],
   "source": [
    "df.loc[(df[\"Previous Owners\"].isnull()) & (df.vehicle_condition == 'Pre-registered'), \"Previous Owners\"] = 0 \n"
   ]
  },
  {
   "cell_type": "code",
   "execution_count": 43,
   "metadata": {},
   "outputs": [
    {
     "data": {
      "text/plain": [
       "474"
      ]
     },
     "execution_count": 43,
     "metadata": {},
     "output_type": "execute_result"
    }
   ],
   "source": [
    "df[\"Previous Owners\"].isnull().sum()"
   ]
  },
  {
   "cell_type": "markdown",
   "metadata": {},
   "source": [
    "# Inspection New"
   ]
  },
  {
   "cell_type": "code",
   "execution_count": 44,
   "metadata": {},
   "outputs": [
    {
     "data": {
      "text/plain": [
       "False    9659\n",
       "True     4748\n",
       "Name: Inspection new, dtype: int64"
      ]
     },
     "execution_count": 44,
     "metadata": {},
     "output_type": "execute_result"
    }
   ],
   "source": [
    "df['Inspection new'].value_counts(dropna = False)\n",
    "# Null değeri yok. Grafiğini çizip durumuna bakalım"
   ]
  },
  {
   "cell_type": "code",
   "execution_count": 45,
   "metadata": {},
   "outputs": [
    {
     "data": {
      "text/plain": [
       "<AxesSubplot:xlabel='Inspection new', ylabel='count'>"
      ]
     },
     "execution_count": 45,
     "metadata": {},
     "output_type": "execute_result"
    },
    {
     "data": {
      "image/png": "[encoded data removed]",
      "text/plain": [
       "<Figure size 432x288 with 1 Axes>"
      ]
     },
     "metadata": {
      "needs_background": "light"
     },
     "output_type": "display_data"
    }
   ],
   "source": [
    "sns.countplot(df['Inspection new'])\n",
    "#Muayenesi yeni olanların sayısı daha az."
   ]
  },
  {
   "cell_type": "markdown",
   "metadata": {},
   "source": [
    "# Warranty"
   ]
  },
  {
   "cell_type": "code",
   "execution_count": 46,
   "metadata": {},
   "outputs": [
    {
     "data": {
      "text/plain": [
       "0"
      ]
     },
     "execution_count": 46,
     "metadata": {},
     "output_type": "execute_result"
    }
   ],
   "source": [
    "df.Warranty.isnull().sum()\n",
    "#Sütunları düzenlerken Nan olan değerlerin garantisinin olmadığı düşünülüp 0 atanmıştı."
   ]
  },
  {
   "cell_type": "code",
   "execution_count": 47,
   "metadata": {
    "scrolled": true
   },
   "outputs": [
    {
     "data": {
      "text/plain": [
       "0.0     10552\n",
       "24.0     1799\n",
       "12.0     1329\n",
       "60.0      373\n",
       "36.0      134\n",
       "6.0        49\n",
       "72.0       44\n",
       "48.0       38\n",
       "3.0        14\n",
       "23.0       10\n",
       "18.0        7\n",
       "20.0        7\n",
       "25.0        5\n",
       "2.0         4\n",
       "16.0        4\n",
       "50.0        4\n",
       "34.0        3\n",
       "17.0        2\n",
       "46.0        2\n",
       "45.0        2\n",
       "22.0        2\n",
       "14.0        2\n",
       "26.0        2\n",
       "21.0        2\n",
       "11.0        2\n",
       "1.0         2\n",
       "13.0        2\n",
       "15.0        1\n",
       "56.0        1\n",
       "10.0        1\n",
       "28.0        1\n",
       "19.0        1\n",
       "65.0        1\n",
       "7.0         1\n",
       "40.0        1\n",
       "49.0        1\n",
       "33.0        1\n",
       "47.0        1\n",
       "Name: Warranty, dtype: int64"
      ]
     },
     "execution_count": 47,
     "metadata": {},
     "output_type": "execute_result"
    }
   ],
   "source": [
    "df.Warranty.value_counts()"
   ]
  },
  {
   "cell_type": "code",
   "execution_count": 48,
   "metadata": {},
   "outputs": [
    {
     "data": {
      "text/plain": [
       "<AxesSubplot:xlabel='Warranty', ylabel='Count'>"
      ]
     },
     "execution_count": 48,
     "metadata": {},
     "output_type": "execute_result"
    },
    {
     "data": {
      "image/png": "[encoded data removed]",
      "text/plain": [
       "<Figure size 1008x576 with 1 Axes>"
      ]
     },
     "metadata": {
      "needs_background": "light"
     },
     "output_type": "display_data"
    }
   ],
   "source": [
    "plt.figure(figsize = [14,8])\n",
    "sns.histplot(df.Warranty)"
   ]
  },
  {
   "cell_type": "markdown",
   "metadata": {},
   "source": [
    "# Body Color"
   ]
  },
  {
   "cell_type": "code",
   "execution_count": 49,
   "metadata": {},
   "outputs": [
    {
     "data": {
      "text/plain": [
       "528"
      ]
     },
     "execution_count": 49,
     "metadata": {},
     "output_type": "execute_result"
    }
   ],
   "source": [
    "df['Body Color'].isnull().sum()"
   ]
  },
  {
   "cell_type": "code",
   "execution_count": 50,
   "metadata": {},
   "outputs": [],
   "source": [
    "color = df['Body Color'].value_counts()"
   ]
  },
  {
   "cell_type": "code",
   "execution_count": 51,
   "metadata": {},
   "outputs": [
    {
     "data": {
      "text/plain": [
       "Black     3454\n",
       "Grey      3159\n",
       "White     2984\n",
       "Silver    1533\n",
       "Blue      1325\n",
       "Red        840\n",
       "Brown      265\n",
       "Green      145\n",
       "Beige       97\n",
       "Yellow      48\n",
       "Violet      18\n",
       "Bronze       6\n",
       "Orange       3\n",
       "Gold         2\n",
       "Name: Body Color, dtype: int64"
      ]
     },
     "execution_count": 51,
     "metadata": {},
     "output_type": "execute_result"
    }
   ],
   "source": [
    "color"
   ]
  },
  {
   "cell_type": "code",
   "execution_count": 52,
   "metadata": {
    "scrolled": true
   },
   "outputs": [
    {
     "data": {
      "image/png": "[encoded data removed]",
      "text/plain": [
       "<Figure size 1008x576 with 1 Axes>"
      ]
     },
     "metadata": {
      "needs_background": "light"
     },
     "output_type": "display_data"
    }
   ],
   "source": [
    "plt.figure(figsize = [14,8])\n",
    "sns.barplot(x = color.index, y= color.values);\n",
    "plt.xticks(rotation =90);\n",
    "for i,v in enumerate(color.values):\n",
    "    plt.text(i-0.1,v+40,str(v))"
   ]
  },
  {
   "cell_type": "code",
   "execution_count": 53,
   "metadata": {},
   "outputs": [],
   "source": [
    "df['Body Color'].fillna(df['Body Color'].mode()[0], inplace = True) #ffill ile doldur"
   ]
  },
  {
   "cell_type": "code",
   "execution_count": 54,
   "metadata": {},
   "outputs": [
    {
     "data": {
      "text/plain": [
       "Black     3982\n",
       "Grey      3159\n",
       "White     2984\n",
       "Silver    1533\n",
       "Blue      1325\n",
       "Red        840\n",
       "Brown      265\n",
       "Green      145\n",
       "Beige       97\n",
       "Yellow      48\n",
       "Violet      18\n",
       "Bronze       6\n",
       "Orange       3\n",
       "Gold         2\n",
       "Name: Body Color, dtype: int64"
      ]
     },
     "execution_count": 54,
     "metadata": {},
     "output_type": "execute_result"
    }
   ],
   "source": [
    "df['Body Color'].value_counts(dropna = False)"
   ]
  },
  {
   "cell_type": "markdown",
   "metadata": {},
   "source": [
    "# Paint Type"
   ]
  },
  {
   "cell_type": "code",
   "execution_count": 55,
   "metadata": {
    "scrolled": true
   },
   "outputs": [
    {
     "data": {
      "text/plain": [
       "metallic        8994\n",
       "non_metallic    5413\n",
       "Name: Paint Type, dtype: int64"
      ]
     },
     "execution_count": 55,
     "metadata": {},
     "output_type": "execute_result"
    }
   ],
   "source": [
    "df['Paint Type'].value_counts(dropna = False)"
   ]
  },
  {
   "cell_type": "code",
   "execution_count": 56,
   "metadata": {},
   "outputs": [
    {
     "data": {
      "text/plain": [
       "<AxesSubplot:xlabel='Paint Type', ylabel='count'>"
      ]
     },
     "execution_count": 56,
     "metadata": {},
     "output_type": "execute_result"
    },
    {
     "data": {
      "image/png": "[encoded data removed]",
      "text/plain": [
       "<Figure size 432x288 with 1 Axes>"
      ]
     },
     "metadata": {
      "needs_background": "light"
     },
     "output_type": "display_data"
    }
   ],
   "source": [
    "sns.countplot(df['Paint Type'])"
   ]
  },
  {
   "cell_type": "markdown",
   "metadata": {},
   "source": [
    "# Nr. of Doors"
   ]
  },
  {
   "cell_type": "code",
   "execution_count": 57,
   "metadata": {},
   "outputs": [
    {
     "data": {
      "text/plain": [
       "5.0    10503\n",
       "4.0     2813\n",
       "3.0      754\n",
       "2.0      194\n",
       "NaN      141\n",
       "7.0        1\n",
       "1.0        1\n",
       "Name: Nr. of Doors, dtype: int64"
      ]
     },
     "execution_count": 57,
     "metadata": {},
     "output_type": "execute_result"
    }
   ],
   "source": [
    "df['Nr. of Doors'].value_counts(dropna = False)"
   ]
  },
  {
   "cell_type": "code",
   "execution_count": 58,
   "metadata": {
    "scrolled": true
   },
   "outputs": [],
   "source": [
    "null_doors = df[df['Nr. of Doors'].isnull()]['make_model'].value_counts().index.to_list()\n",
    "#Kapı sayısı boş olanların modelleri. Bu modellerin kapı sayılarına bakıp en fazla olanı şle doldurabiliriz"
   ]
  },
  {
   "cell_type": "code",
   "execution_count": 59,
   "metadata": {},
   "outputs": [
    {
     "data": {
      "text/plain": [
       "['Opel Corsa',\n",
       " 'Renault Clio',\n",
       " 'Audi A1',\n",
       " 'Opel Insignia',\n",
       " 'Opel Astra',\n",
       " 'Audi A3',\n",
       " 'Renault Espace']"
      ]
     },
     "execution_count": 59,
     "metadata": {},
     "output_type": "execute_result"
    }
   ],
   "source": [
    "null_doors"
   ]
  },
  {
   "cell_type": "code",
   "execution_count": 60,
   "metadata": {
    "scrolled": true
   },
   "outputs": [
    {
     "name": "stdout",
     "output_type": "stream",
     "text": [
      "5.0    1205\n",
      "3.0     436\n",
      "4.0     285\n",
      "2.0      93\n",
      "Name: Nr. of Doors, dtype: int64\n",
      "5.0    1305\n",
      "4.0     163\n",
      "1.0       1\n",
      "Name: Nr. of Doors, dtype: int64\n",
      "5.0    1612\n",
      "4.0     477\n",
      "3.0     210\n",
      "2.0      74\n",
      "Name: Nr. of Doors, dtype: int64\n",
      "5.0    1690\n",
      "4.0     704\n",
      "Name: Nr. of Doors, dtype: int64\n",
      "5.0    1828\n",
      "4.0     476\n",
      "3.0       4\n",
      "Name: Nr. of Doors, dtype: int64\n",
      "5.0    2034\n",
      "4.0     630\n",
      "3.0     104\n",
      "2.0      27\n",
      "Name: Nr. of Doors, dtype: int64\n",
      "5.0    794\n",
      "4.0     78\n",
      "7.0      1\n",
      "Name: Nr. of Doors, dtype: int64\n"
     ]
    }
   ],
   "source": [
    "for i in null_doors:\n",
    "    print(df[df['make_model'] == i]['Nr. of Doors'].value_counts())\n",
    "# Tüm modellerin en fazla sayıda olan arabalar 5 kapılı olduğu için tüm null değerleri 5 ile doldururuz.\n",
    "#Zaten genelde de 5 kapılı araba sayısı diğerlerine oranla oldukça fazlaydı."
   ]
  },
  {
   "cell_type": "code",
   "execution_count": 61,
   "metadata": {},
   "outputs": [],
   "source": [
    "df['Nr. of Doors'].fillna(5, inplace = True)"
   ]
  },
  {
   "cell_type": "code",
   "execution_count": 62,
   "metadata": {},
   "outputs": [
    {
     "data": {
      "text/plain": [
       "5.0    10644\n",
       "4.0     2813\n",
       "3.0      754\n",
       "2.0      194\n",
       "7.0        1\n",
       "1.0        1\n",
       "Name: Nr. of Doors, dtype: int64"
      ]
     },
     "execution_count": 62,
     "metadata": {},
     "output_type": "execute_result"
    }
   ],
   "source": [
    "df['Nr. of Doors'].value_counts(dropna = False)"
   ]
  },
  {
   "cell_type": "code",
   "execution_count": 63,
   "metadata": {
    "scrolled": true
   },
   "outputs": [
    {
     "data": {
      "text/plain": [
       "<AxesSubplot:xlabel='Nr. of Doors', ylabel='count'>"
      ]
     },
     "execution_count": 63,
     "metadata": {},
     "output_type": "execute_result"
    },
    {
     "data": {
      "image/png": "[encoded data removed]",
      "text/plain": [
       "<Figure size 864x432 with 1 Axes>"
      ]
     },
     "metadata": {
      "needs_background": "light"
     },
     "output_type": "display_data"
    }
   ],
   "source": [
    "plt.figure(figsize = [12,6])\n",
    "sns.countplot(df['Nr. of Doors'])"
   ]
  },
  {
   "cell_type": "markdown",
   "metadata": {},
   "source": [
    "# Nr. of Seats"
   ]
  },
  {
   "cell_type": "code",
   "execution_count": 64,
   "metadata": {},
   "outputs": [
    {
     "data": {
      "text/plain": [
       "5.0    12078\n",
       "4.0     1074\n",
       "NaN      856\n",
       "7.0      310\n",
       "2.0       86\n",
       "6.0        2\n",
       "3.0        1\n",
       "Name: Nr. of Seats, dtype: int64"
      ]
     },
     "execution_count": 64,
     "metadata": {},
     "output_type": "execute_result"
    }
   ],
   "source": [
    "df['Nr. of Seats'].value_counts(dropna =False)\n",
    "#En fazla 5 koltuklu olan dan var ama modellere göre de bir inceleyelim."
   ]
  },
  {
   "cell_type": "code",
   "execution_count": 65,
   "metadata": {},
   "outputs": [],
   "source": [
    "null_seats = df[df['Nr. of Seats'].isnull()]['make_model'].value_counts().index.to_list()"
   ]
  },
  {
   "cell_type": "code",
   "execution_count": 66,
   "metadata": {},
   "outputs": [
    {
     "data": {
      "text/plain": [
       "['Renault Clio',\n",
       " 'Opel Astra',\n",
       " 'Audi A1',\n",
       " 'Renault Espace',\n",
       " 'Audi A3',\n",
       " 'Opel Insignia',\n",
       " 'Opel Corsa']"
      ]
     },
     "execution_count": 66,
     "metadata": {},
     "output_type": "execute_result"
    }
   ],
   "source": [
    "null_seats"
   ]
  },
  {
   "cell_type": "code",
   "execution_count": 67,
   "metadata": {
    "scrolled": true
   },
   "outputs": [
    {
     "name": "stdout",
     "output_type": "stream",
     "text": [
      "5.0    1243\n",
      "2.0      80\n",
      "4.0       5\n",
      "Name: Nr. of Seats, dtype: int64\n",
      "5.0    2176\n",
      "4.0       5\n",
      "Name: Nr. of Seats, dtype: int64\n",
      "5.0    1231\n",
      "4.0    1029\n",
      "3.0       1\n",
      "6.0       1\n",
      "Name: Nr. of Seats, dtype: int64\n",
      "5.0    460\n",
      "7.0    310\n",
      "6.0      1\n",
      "4.0      1\n",
      "Name: Nr. of Seats, dtype: int64\n",
      "5.0    2676\n",
      "4.0      25\n",
      "Name: Nr. of Seats, dtype: int64\n",
      "5.0    2314\n",
      "4.0       2\n",
      "2.0       1\n",
      "Name: Nr. of Seats, dtype: int64\n",
      "5.0    1943\n",
      "4.0       7\n",
      "2.0       5\n",
      "Name: Nr. of Seats, dtype: int64\n"
     ]
    }
   ],
   "source": [
    "for i in null_seats:\n",
    "    print(df[df['make_model'] == i]['Nr. of Seats'].value_counts())\n",
    "# Modellere göre de incelediğimizde tüm modellerde en fazla 5 koltuklu olduğu için tüm null değerleri 5 ile doldururuz."
   ]
  },
  {
   "cell_type": "code",
   "execution_count": 68,
   "metadata": {},
   "outputs": [],
   "source": [
    "df['Nr. of Seats'].fillna(5, inplace = True)"
   ]
  },
  {
   "cell_type": "code",
   "execution_count": 69,
   "metadata": {},
   "outputs": [
    {
     "data": {
      "text/plain": [
       "<AxesSubplot:xlabel='Nr. of Seats', ylabel='count'>"
      ]
     },
     "execution_count": 69,
     "metadata": {},
     "output_type": "execute_result"
    },
    {
     "data": {
      "image/png": "[encoded data removed]",
      "text/plain": [
       "<Figure size 864x432 with 1 Axes>"
      ]
     },
     "metadata": {
      "needs_background": "light"
     },
     "output_type": "display_data"
    }
   ],
   "source": [
    "plt.figure(figsize = [12,6])\n",
    "sns.countplot(df['Nr. of Seats'])"
   ]
  },
  {
   "cell_type": "markdown",
   "metadata": {},
   "source": [
    "# Gearing Type"
   ]
  },
  {
   "cell_type": "code",
   "execution_count": 70,
   "metadata": {
    "scrolled": true
   },
   "outputs": [
    {
     "data": {
      "text/plain": [
       "Manual            7317\n",
       "Automatic         6625\n",
       "Semi-automatic     465\n",
       "Name: Gearing Type, dtype: int64"
      ]
     },
     "execution_count": 70,
     "metadata": {},
     "output_type": "execute_result"
    }
   ],
   "source": [
    "df['Gearing Type'].value_counts(dropna = False)\n",
    "#Temiz bir sütun. Null değeri yok."
   ]
  },
  {
   "cell_type": "code",
   "execution_count": 71,
   "metadata": {},
   "outputs": [
    {
     "data": {
      "text/plain": [
       "<AxesSubplot:xlabel='Gearing Type', ylabel='count'>"
      ]
     },
     "execution_count": 71,
     "metadata": {},
     "output_type": "execute_result"
    },
    {
     "data": {
      "image/png": "[encoded data removed]",
      "text/plain": [
       "<Figure size 864x432 with 1 Axes>"
      ]
     },
     "metadata": {
      "needs_background": "light"
     },
     "output_type": "display_data"
    }
   ],
   "source": [
    "plt.figure(figsize = [12,6])\n",
    "sns.countplot(df['Gearing Type'])"
   ]
  },
  {
   "cell_type": "markdown",
   "metadata": {},
   "source": [
    "# Displacement"
   ]
  },
  {
   "cell_type": "code",
   "execution_count": 72,
   "metadata": {},
   "outputs": [
    {
     "data": {
      "text/plain": [
       "1598.0    4386\n",
       "999.0     2262\n",
       "1398.0    1255\n",
       "1399.0     672\n",
       "1956.0     635\n",
       "          ... \n",
       "1390.0       1\n",
       "1856.0       1\n",
       "140.0        1\n",
       "1995.0       1\n",
       "1696.0       1\n",
       "Name: Displacement, Length: 78, dtype: int64"
      ]
     },
     "execution_count": 72,
     "metadata": {},
     "output_type": "execute_result"
    }
   ],
   "source": [
    "df.Displacement.value_counts(dropna = False)"
   ]
  },
  {
   "cell_type": "code",
   "execution_count": 73,
   "metadata": {},
   "outputs": [
    {
     "data": {
      "text/plain": [
       "364"
      ]
     },
     "execution_count": 73,
     "metadata": {},
     "output_type": "execute_result"
    }
   ],
   "source": [
    "df.Displacement.isnull().sum()"
   ]
  },
  {
   "cell_type": "code",
   "execution_count": 74,
   "metadata": {},
   "outputs": [
    {
     "data": {
      "text/plain": [
       "16000.0"
      ]
     },
     "execution_count": 74,
     "metadata": {},
     "output_type": "execute_result"
    }
   ],
   "source": [
    "df.Displacement.max()"
   ]
  },
  {
   "cell_type": "code",
   "execution_count": 75,
   "metadata": {},
   "outputs": [
    {
     "data": {
      "text/plain": [
       "1.0"
      ]
     },
     "execution_count": 75,
     "metadata": {},
     "output_type": "execute_result"
    }
   ],
   "source": [
    "df.Displacement.min()"
   ]
  },
  {
   "cell_type": "code",
   "execution_count": 76,
   "metadata": {},
   "outputs": [
    {
     "data": {
      "text/plain": [
       "1426.626148258919"
      ]
     },
     "execution_count": 76,
     "metadata": {},
     "output_type": "execute_result"
    }
   ],
   "source": [
    "df.Displacement.mean()"
   ]
  },
  {
   "cell_type": "code",
   "execution_count": 77,
   "metadata": {},
   "outputs": [
    {
     "data": {
      "text/plain": [
       "1461.0"
      ]
     },
     "execution_count": 77,
     "metadata": {},
     "output_type": "execute_result"
    }
   ],
   "source": [
    "df.Displacement.median()"
   ]
  },
  {
   "cell_type": "code",
   "execution_count": 78,
   "metadata": {
    "scrolled": true
   },
   "outputs": [
    {
     "data": {
      "text/plain": [
       "<AxesSubplot:xlabel='Displacement', ylabel='Count'>"
      ]
     },
     "execution_count": 78,
     "metadata": {},
     "output_type": "execute_result"
    },
    {
     "data": {
      "image/png": "[encoded data removed]",
      "text/plain": [
       "<Figure size 432x288 with 1 Axes>"
      ]
     },
     "metadata": {
      "needs_background": "light"
     },
     "output_type": "display_data"
    }
   ],
   "source": [
    "sns.histplot(df.Displacement, bins = 40, kde = True)"
   ]
  },
  {
   "cell_type": "code",
   "execution_count": 79,
   "metadata": {},
   "outputs": [],
   "source": [
    "df.Displacement.fillna(df.Displacement.mean(), inplace = True)"
   ]
  },
  {
   "cell_type": "markdown",
   "metadata": {},
   "source": [
    "# Cylinders(drop)"
   ]
  },
  {
   "cell_type": "code",
   "execution_count": 80,
   "metadata": {},
   "outputs": [
    {
     "data": {
      "text/plain": [
       "4.0    7402\n",
       "NaN    5013\n",
       "3.0    1962\n",
       "5.0      22\n",
       "6.0       3\n",
       "2.0       2\n",
       "8.0       2\n",
       "1.0       1\n",
       "Name: Cylinders, dtype: int64"
      ]
     },
     "execution_count": 80,
     "metadata": {},
     "output_type": "execute_result"
    }
   ],
   "source": [
    "df.Cylinders.value_counts(dropna = False)"
   ]
  },
  {
   "cell_type": "code",
   "execution_count": 81,
   "metadata": {},
   "outputs": [
    {
     "data": {
      "text/plain": [
       "Opel Astra        998\n",
       "Opel Insignia     942\n",
       "Audi A1           745\n",
       "Opel Corsa        743\n",
       "Audi A3           724\n",
       "Renault Clio      556\n",
       "Renault Espace    303\n",
       "Audi A2             1\n",
       "Renault Duster      1\n",
       "Name: make_model, dtype: int64"
      ]
     },
     "execution_count": 81,
     "metadata": {},
     "output_type": "execute_result"
    }
   ],
   "source": [
    "df[df.Cylinders.isnull()]['make_model'].value_counts()"
   ]
  },
  {
   "cell_type": "code",
   "execution_count": 82,
   "metadata": {},
   "outputs": [],
   "source": [
    "null_cylinders =df[df.Cylinders.isnull()]['make_model'].value_counts().index.to_list()"
   ]
  },
  {
   "cell_type": "code",
   "execution_count": 83,
   "metadata": {},
   "outputs": [
    {
     "data": {
      "text/plain": [
       "['Opel Astra',\n",
       " 'Opel Insignia',\n",
       " 'Audi A1',\n",
       " 'Opel Corsa',\n",
       " 'Audi A3',\n",
       " 'Renault Clio',\n",
       " 'Renault Espace',\n",
       " 'Audi A2',\n",
       " 'Renault Duster']"
      ]
     },
     "execution_count": 83,
     "metadata": {},
     "output_type": "execute_result"
    }
   ],
   "source": [
    "null_cylinders"
   ]
  },
  {
   "cell_type": "code",
   "execution_count": null,
   "metadata": {},
   "outputs": [],
   "source": []
  },
  {
   "cell_type": "code",
   "execution_count": 84,
   "metadata": {
    "scrolled": true
   },
   "outputs": [
    {
     "name": "stdout",
     "output_type": "stream",
     "text": [
      "Opel Astra\n",
      "4.0    1157\n",
      "3.0     170\n",
      "Name: Cylinders, dtype: int64\n",
      "Opel Insignia\n",
      "4.0    1467\n",
      "6.0       3\n",
      "2.0       1\n",
      "Name: Cylinders, dtype: int64\n",
      "Audi A1\n",
      "3.0    1270\n",
      "4.0     380\n",
      "8.0       1\n",
      "Name: Cylinders, dtype: int64\n",
      "Opel Corsa\n",
      "4.0    1295\n",
      "3.0       9\n",
      "1.0       1\n",
      "Name: Cylinders, dtype: int64\n",
      "Audi A3\n",
      "4.0    1715\n",
      "3.0     349\n",
      "5.0      21\n",
      "Name: Cylinders, dtype: int64\n",
      "Renault Clio\n",
      "4.0    775\n",
      "3.0    164\n",
      "5.0      1\n",
      "Name: Cylinders, dtype: int64\n",
      "Renault Espace\n",
      "4.0    580\n",
      "2.0      1\n",
      "8.0      1\n",
      "Name: Cylinders, dtype: int64\n",
      "Audi A2\n",
      "Series([], Name: Cylinders, dtype: int64)\n",
      "Renault Duster\n",
      "4.0    33\n",
      "Name: Cylinders, dtype: int64\n"
     ]
    }
   ],
   "source": [
    "for i in null_cylinders:\n",
    "    print(i, df[df['make_model'] == i]['Cylinders'].value_counts(), sep = '\\n')\n",
    "# Audi A1'in null değerlerini 3 diğerlerini 4 ile doldurmak gerekir."
   ]
  },
  {
   "cell_type": "code",
   "execution_count": 85,
   "metadata": {},
   "outputs": [],
   "source": [
    "for i in null_cylinders:\n",
    "    if i == 'Audi A1':\n",
    "        df.loc[(df[\"Cylinders\"].isnull()) & (df.make_model == i), \"Cylinders\"] = 3\n",
    "    else:\n",
    "        df.loc[(df[\"Cylinders\"].isnull()) & (df.make_model == i), \"Cylinders\"] = 4\n"
   ]
  },
  {
   "cell_type": "code",
   "execution_count": 86,
   "metadata": {},
   "outputs": [
    {
     "data": {
      "text/plain": [
       "0"
      ]
     },
     "execution_count": 86,
     "metadata": {},
     "output_type": "execute_result"
    }
   ],
   "source": [
    "df.Cylinders.isnull().sum()"
   ]
  },
  {
   "cell_type": "markdown",
   "metadata": {},
   "source": [
    "# Drive chain"
   ]
  },
  {
   "cell_type": "code",
   "execution_count": 87,
   "metadata": {},
   "outputs": [
    {
     "data": {
      "text/plain": [
       "front    7958\n",
       "NaN      6294\n",
       "4WD       151\n",
       "rear        4\n",
       "Name: Drive chain, dtype: int64"
      ]
     },
     "execution_count": 87,
     "metadata": {},
     "output_type": "execute_result"
    }
   ],
   "source": [
    "df['Drive chain'].value_counts(dropna = False)\n",
    "#Temiz bir sütun"
   ]
  },
  {
   "cell_type": "code",
   "execution_count": 88,
   "metadata": {},
   "outputs": [
    {
     "data": {
      "text/plain": [
       "Opel Astra        1081\n",
       "Opel Insignia     1064\n",
       "Audi A3           1031\n",
       "Opel Corsa         984\n",
       "Renault Clio       844\n",
       "Audi A1            812\n",
       "Renault Espace     446\n",
       "Renault Duster      32\n",
       "Name: make_model, dtype: int64"
      ]
     },
     "execution_count": 88,
     "metadata": {},
     "output_type": "execute_result"
    }
   ],
   "source": [
    "df[df['Drive chain'].isnull()]['make_model'].value_counts()"
   ]
  },
  {
   "cell_type": "code",
   "execution_count": 89,
   "metadata": {},
   "outputs": [],
   "source": [
    "null_chain =df[df['Drive chain'].isnull()]['make_model'].value_counts().index.to_list()"
   ]
  },
  {
   "cell_type": "code",
   "execution_count": 90,
   "metadata": {},
   "outputs": [
    {
     "data": {
      "text/plain": [
       "['Opel Astra',\n",
       " 'Opel Insignia',\n",
       " 'Audi A3',\n",
       " 'Opel Corsa',\n",
       " 'Renault Clio',\n",
       " 'Audi A1',\n",
       " 'Renault Espace',\n",
       " 'Renault Duster']"
      ]
     },
     "execution_count": 90,
     "metadata": {},
     "output_type": "execute_result"
    }
   ],
   "source": [
    "null_chain"
   ]
  },
  {
   "cell_type": "code",
   "execution_count": 91,
   "metadata": {
    "scrolled": true
   },
   "outputs": [
    {
     "name": "stdout",
     "output_type": "stream",
     "text": [
      "Opel Astra\n",
      "front    1242\n",
      "4WD         2\n",
      "Name: Drive chain, dtype: int64\n",
      "Opel Insignia\n",
      "front    1256\n",
      "4WD        90\n",
      "rear        3\n",
      "Name: Drive chain, dtype: int64\n",
      "Audi A3\n",
      "front    1759\n",
      "4WD        19\n",
      "Name: Drive chain, dtype: int64\n",
      "Opel Corsa\n",
      "front    1064\n",
      "Name: Drive chain, dtype: int64\n",
      "Renault Clio\n",
      "front    641\n",
      "4WD       10\n",
      "rear       1\n",
      "Name: Drive chain, dtype: int64\n",
      "Audi A1\n",
      "front    1581\n",
      "4WD         3\n",
      "Name: Drive chain, dtype: int64\n",
      "Renault Espace\n",
      "front    414\n",
      "4WD       25\n",
      "Name: Drive chain, dtype: int64\n",
      "Renault Duster\n",
      "4WD    2\n",
      "Name: Drive chain, dtype: int64\n"
     ]
    }
   ],
   "source": [
    "for i in null_chain:\n",
    "    print(i, df[df['make_model'] == i]['Drive chain'].value_counts(), sep = '\\n')\n",
    "# Renault Duster 4WD, diğerlerini front ile doldurmak gerekir"
   ]
  },
  {
   "cell_type": "code",
   "execution_count": 92,
   "metadata": {},
   "outputs": [],
   "source": [
    "for i in null_chain:\n",
    "    if i == 'Renault Duster':\n",
    "        df.loc[(df[\"Drive chain\"].isnull()) & (df.make_model == i), \"Drive chain\"] = '4WD'\n",
    "    else:\n",
    "        df.loc[(df[\"Drive chain\"].isnull()) & (df.make_model == i), \"Drive chain\"] = 'front'"
   ]
  },
  {
   "cell_type": "code",
   "execution_count": 93,
   "metadata": {},
   "outputs": [
    {
     "data": {
      "text/plain": [
       "front    14220\n",
       "4WD        183\n",
       "rear         4\n",
       "Name: Drive chain, dtype: int64"
      ]
     },
     "execution_count": 93,
     "metadata": {},
     "output_type": "execute_result"
    }
   ],
   "source": [
    "df[\"Drive chain\"].value_counts(dropna = False)"
   ]
  },
  {
   "cell_type": "code",
   "execution_count": 94,
   "metadata": {},
   "outputs": [
    {
     "data": {
      "text/plain": [
       "<AxesSubplot:xlabel='Drive chain', ylabel='count'>"
      ]
     },
     "execution_count": 94,
     "metadata": {},
     "output_type": "execute_result"
    },
    {
     "data": {
      "image/png": "[encoded data removed]",
      "text/plain": [
       "<Figure size 432x288 with 1 Axes>"
      ]
     },
     "metadata": {
      "needs_background": "light"
     },
     "output_type": "display_data"
    }
   ],
   "source": [
    "sns.countplot(df['Drive chain'])\n",
    "#Neredeyse tüm arabaların drive chain i front"
   ]
  },
  {
   "cell_type": "markdown",
   "metadata": {},
   "source": [
    "# CO2 Emission"
   ]
  },
  {
   "cell_type": "code",
   "execution_count": 95,
   "metadata": {},
   "outputs": [
    {
     "data": {
      "text/plain": [
       "NaN        2249\n",
       "120.000     651\n",
       "97.000      504\n",
       "99.000      479\n",
       "102.000     468\n",
       "           ... \n",
       "12.324        1\n",
       "181.000       1\n",
       "51.000        1\n",
       "45.000        1\n",
       "253.000       1\n",
       "Name: CO2 Emission, Length: 123, dtype: int64"
      ]
     },
     "execution_count": 95,
     "metadata": {},
     "output_type": "execute_result"
    }
   ],
   "source": [
    "df['CO2 Emission'].value_counts(dropna = False)"
   ]
  },
  {
   "cell_type": "code",
   "execution_count": 96,
   "metadata": {},
   "outputs": [
    {
     "data": {
      "text/plain": [
       "<AxesSubplot:xlabel='CO2 Emission', ylabel='Count'>"
      ]
     },
     "execution_count": 96,
     "metadata": {},
     "output_type": "execute_result"
    },
    {
     "data": {
      "image/png": "[encoded data removed]",
      "text/plain": [
       "<Figure size 864x432 with 1 Axes>"
      ]
     },
     "metadata": {
      "needs_background": "light"
     },
     "output_type": "display_data"
    }
   ],
   "source": [
    "plt.figure(figsize = [12,6])\n",
    "sns.histplot(df['CO2 Emission'])"
   ]
  },
  {
   "cell_type": "code",
   "execution_count": 97,
   "metadata": {},
   "outputs": [],
   "source": [
    "for i in model_liste:\n",
    "    df.loc[(df.make_model == i) & (df['CO2 Emission'].isnull()), 'CO2 Emission'] = df[df.make_model == i][\"CO2 Emission\"].median()"
   ]
  },
  {
   "cell_type": "markdown",
   "metadata": {},
   "source": [
    "# 'Emission Class'"
   ]
  },
  {
   "cell_type": "code",
   "execution_count": 98,
   "metadata": {},
   "outputs": [],
   "source": [
    "liste = df[df['Emission Class'].isnull()][\"make_model\"].value_counts().index.to_list()\n"
   ]
  },
  {
   "cell_type": "code",
   "execution_count": 99,
   "metadata": {},
   "outputs": [],
   "source": [
    "for i in liste:\n",
    "    df.loc[(df.make_model == i) & (df['Emission Class'].isnull()), 'Emission Class'] = df[df.make_model == i][\"Emission Class\"].mode()[0]"
   ]
  },
  {
   "cell_type": "code",
   "execution_count": null,
   "metadata": {},
   "outputs": [],
   "source": []
  },
  {
   "cell_type": "code",
   "execution_count": 100,
   "metadata": {},
   "outputs": [
    {
     "data": {
      "text/plain": [
       "<AxesSubplot:xlabel='Emission Class', ylabel='count'>"
      ]
     },
     "execution_count": 100,
     "metadata": {},
     "output_type": "execute_result"
    },
    {
     "data": {
      "image/png": "[encoded data removed]",
      "text/plain": [
       "<Figure size 432x288 with 1 Axes>"
      ]
     },
     "metadata": {
      "needs_background": "light"
     },
     "output_type": "display_data"
    }
   ],
   "source": [
    "sns.countplot(df['Emission Class'])"
   ]
  },
  {
   "cell_type": "markdown",
   "metadata": {},
   "source": [
    "# Gears"
   ]
  },
  {
   "cell_type": "code",
   "execution_count": 101,
   "metadata": {},
   "outputs": [
    {
     "data": {
      "text/plain": [
       "6.0     5309\n",
       "NaN     4192\n",
       "5.0     2952\n",
       "7.0     1744\n",
       "8.0      199\n",
       "9.0        4\n",
       "3.0        2\n",
       "1.0        2\n",
       "50.0       1\n",
       "4.0        1\n",
       "2.0        1\n",
       "Name: Gears, dtype: int64"
      ]
     },
     "execution_count": 101,
     "metadata": {},
     "output_type": "execute_result"
    }
   ],
   "source": [
    "df.Gears.value_counts(dropna = False)"
   ]
  },
  {
   "cell_type": "code",
   "execution_count": 102,
   "metadata": {},
   "outputs": [],
   "source": [
    "null_gears = df[df['Gears'].isnull()]['make_model'].value_counts().index.to_list()"
   ]
  },
  {
   "cell_type": "code",
   "execution_count": 103,
   "metadata": {},
   "outputs": [
    {
     "data": {
      "text/plain": [
       "['Audi A1',\n",
       " 'Opel Astra',\n",
       " 'Audi A3',\n",
       " 'Opel Insignia',\n",
       " 'Opel Corsa',\n",
       " 'Renault Clio',\n",
       " 'Renault Espace',\n",
       " 'Renault Duster',\n",
       " 'Audi A2']"
      ]
     },
     "execution_count": 103,
     "metadata": {},
     "output_type": "execute_result"
    }
   ],
   "source": [
    "null_gears"
   ]
  },
  {
   "cell_type": "code",
   "execution_count": 104,
   "metadata": {
    "scrolled": true
   },
   "outputs": [
    {
     "name": "stdout",
     "output_type": "stream",
     "text": [
      "Audi A1\n",
      "5.0    786\n",
      "7.0    605\n",
      "6.0    162\n",
      "8.0      2\n",
      "Name: Gears, dtype: int64\n",
      "Opel Astra\n",
      "6.0    1262\n",
      "5.0     367\n",
      "7.0       1\n",
      "Name: Gears, dtype: int64\n",
      "Audi A3\n",
      "6.0    1121\n",
      "7.0    1004\n",
      "5.0       2\n",
      "Name: Gears, dtype: int64\n",
      "Opel Insignia\n",
      "6.0    1527\n",
      "8.0     196\n",
      "5.0       7\n",
      "7.0       2\n",
      "Name: Gears, dtype: int64\n",
      "Opel Corsa\n",
      "5.0    1047\n",
      "6.0     440\n",
      "8.0       1\n",
      "2.0       1\n",
      "1.0       1\n",
      "Name: Gears, dtype: int64\n",
      "Renault Clio\n",
      "5.0     741\n",
      "6.0     344\n",
      "7.0       3\n",
      "50.0      1\n",
      "1.0       1\n",
      "Name: Gears, dtype: int64\n",
      "Renault Espace\n",
      "6.0    428\n",
      "7.0    129\n",
      "9.0      4\n",
      "3.0      2\n",
      "5.0      2\n",
      "4.0      1\n",
      "Name: Gears, dtype: int64\n",
      "Renault Duster\n",
      "6.0    25\n",
      "Name: Gears, dtype: int64\n",
      "Audi A2\n",
      "Series([], Name: Gears, dtype: int64)\n"
     ]
    }
   ],
   "source": [
    "for i in null_gears:\n",
    "    print(i, df[df['make_model'] == i]['Gears'].value_counts(), sep = '\\n')"
   ]
  },
  {
   "cell_type": "code",
   "execution_count": 105,
   "metadata": {},
   "outputs": [],
   "source": [
    "for i in null_chain:\n",
    "    df.loc[(df[\"Gears\"].isnull()) & (df.make_model == i), \"Gears\"] = df[df.make_model == i][\"Gears\"].mode()[0]\n"
   ]
  },
  {
   "cell_type": "code",
   "execution_count": 106,
   "metadata": {},
   "outputs": [
    {
     "data": {
      "text/plain": [
       "1"
      ]
     },
     "execution_count": 106,
     "metadata": {},
     "output_type": "execute_result"
    }
   ],
   "source": [
    "df[\"Gears\"].isnull().sum()\n",
    "# Audi A2 yi doldurmadı. Datamızda 1 tane Audi A2 var ve çok boş değeri var. Audi A2 satırı düşürülmeli diye düşünüyorum"
   ]
  },
  {
   "cell_type": "code",
   "execution_count": 107,
   "metadata": {},
   "outputs": [
    {
     "data": {
      "text/plain": [
       "Int64Index([2614], dtype='int64')"
      ]
     },
     "execution_count": 107,
     "metadata": {},
     "output_type": "execute_result"
    }
   ],
   "source": [
    "df[(df.make_model=='Audi A2')].index"
   ]
  },
  {
   "cell_type": "code",
   "execution_count": 108,
   "metadata": {},
   "outputs": [],
   "source": [
    "for i in df[(df.make_model=='Audi A2')].index:\n",
    "    df.drop(i, inplace = True)"
   ]
  },
  {
   "cell_type": "code",
   "execution_count": 109,
   "metadata": {},
   "outputs": [
    {
     "data": {
      "text/plain": [
       "0"
      ]
     },
     "execution_count": 109,
     "metadata": {},
     "output_type": "execute_result"
    }
   ],
   "source": [
    "df[\"Gears\"].isnull().sum()"
   ]
  },
  {
   "cell_type": "markdown",
   "metadata": {},
   "source": [
    "# Country version(drop)"
   ]
  },
  {
   "cell_type": "code",
   "execution_count": 110,
   "metadata": {},
   "outputs": [
    {
     "data": {
      "text/plain": [
       "NaN               7447\n",
       "Germany           4017\n",
       "Italy             1028\n",
       "Netherlands        461\n",
       "European Union     406\n",
       "Spain              318\n",
       "Belgium            314\n",
       "Austria            203\n",
       "Czech Republic      50\n",
       "France              38\n",
       "Poland              36\n",
       "Denmark             33\n",
       "Hungary             28\n",
       "Japan                8\n",
       "Croatia              4\n",
       "Sweden               3\n",
       "Slovakia             3\n",
       "Bulgaria             2\n",
       "Romania              2\n",
       "Luxembourg           1\n",
       "Slovenia             1\n",
       "Egypt                1\n",
       "Switzerland          1\n",
       "Serbia               1\n",
       "Name: Country version, dtype: int64"
      ]
     },
     "execution_count": 110,
     "metadata": {},
     "output_type": "execute_result"
    }
   ],
   "source": [
    "df['Country version'].value_counts(dropna = False)"
   ]
  },
  {
   "cell_type": "code",
   "execution_count": 111,
   "metadata": {},
   "outputs": [],
   "source": [
    "null_country = df[df['Country version'].isnull()]['make_model'].value_counts().index.to_list()"
   ]
  },
  {
   "cell_type": "code",
   "execution_count": 112,
   "metadata": {},
   "outputs": [
    {
     "data": {
      "text/plain": [
       "['Audi A3',\n",
       " 'Audi A1',\n",
       " 'Opel Astra',\n",
       " 'Opel Insignia',\n",
       " 'Opel Corsa',\n",
       " 'Renault Clio',\n",
       " 'Renault Espace',\n",
       " 'Renault Duster']"
      ]
     },
     "execution_count": 112,
     "metadata": {},
     "output_type": "execute_result"
    }
   ],
   "source": [
    "null_country"
   ]
  },
  {
   "cell_type": "code",
   "execution_count": 113,
   "metadata": {
    "scrolled": true
   },
   "outputs": [
    {
     "name": "stdout",
     "output_type": "stream",
     "text": [
      "Audi A3\n",
      "Germany           374\n",
      "Italy             351\n",
      "European Union    165\n",
      "Belgium            86\n",
      "Spain              59\n",
      "Netherlands        38\n",
      "Austria            18\n",
      "Czech Republic     16\n",
      "Denmark            15\n",
      "France              6\n",
      "Hungary             6\n",
      "Poland              4\n",
      "Sweden              2\n",
      "Slovenia            1\n",
      "Name: Country version, dtype: int64\n",
      "Audi A1\n",
      "Germany           651\n",
      "Italy             155\n",
      "Netherlands        68\n",
      "Spain              57\n",
      "Belgium            48\n",
      "European Union     47\n",
      "Austria            19\n",
      "Denmark            15\n",
      "France              5\n",
      "Poland              2\n",
      "Romania             1\n",
      "Slovakia            1\n",
      "Luxembourg          1\n",
      "Switzerland         1\n",
      "Name: Country version, dtype: int64\n",
      "Opel Astra\n",
      "Germany           790\n",
      "Italy              96\n",
      "Netherlands        77\n",
      "European Union     61\n",
      "Spain              47\n",
      "Belgium            35\n",
      "Czech Republic     31\n",
      "Austria            15\n",
      "Poland             10\n",
      "Hungary             7\n",
      "Croatia             2\n",
      "Romania             1\n",
      "France              1\n",
      "Egypt               1\n",
      "Name: Country version, dtype: int64\n",
      "Opel Insignia\n",
      "Germany           949\n",
      "Netherlands       141\n",
      "Italy              76\n",
      "Spain              61\n",
      "Belgium            41\n",
      "European Union     36\n",
      "Austria            29\n",
      "Hungary            14\n",
      "Poland              8\n",
      "France              4\n",
      "Slovakia            2\n",
      "Czech Republic      2\n",
      "Denmark             2\n",
      "Sweden              1\n",
      "Name: Country version, dtype: int64\n",
      "Opel Corsa\n",
      "Germany           758\n",
      "Italy             173\n",
      "European Union     42\n",
      "Netherlands        42\n",
      "Spain              36\n",
      "Belgium            27\n",
      "Austria            10\n",
      "Poland              9\n",
      "Croatia             2\n",
      "Name: Country version, dtype: int64\n",
      "Renault Clio\n",
      "Germany           300\n",
      "Italy             122\n",
      "Austria            57\n",
      "European Union     53\n",
      "Netherlands        41\n",
      "Belgium            39\n",
      "Spain              39\n",
      "France             21\n",
      "Poland              3\n",
      "Bulgaria            2\n",
      "Hungary             1\n",
      "Serbia              1\n",
      "Denmark             1\n",
      "Name: Country version, dtype: int64\n",
      "Renault Espace\n",
      "Germany           195\n",
      "Austria            55\n",
      "Italy              55\n",
      "Netherlands        54\n",
      "Belgium            37\n",
      "Spain              19\n",
      "European Union      2\n",
      "Czech Republic      1\n",
      "France              1\n",
      "Name: Country version, dtype: int64\n",
      "Renault Duster\n",
      "Japan      8\n",
      "Belgium    1\n",
      "Name: Country version, dtype: int64\n"
     ]
    }
   ],
   "source": [
    "for i in null_country:\n",
    "    print(i, df[df['make_model'] == i]['Country version'].value_counts(), sep = '\\n')\n",
    "# Genele de baktığımızda modellere göre ülkeleri de incelediğimizde Germany ilk sırada. \n",
    "# O sebeple nulları Germany ile doldurulur."
   ]
  },
  {
   "cell_type": "code",
   "execution_count": 114,
   "metadata": {},
   "outputs": [],
   "source": [
    "df['Country version'].fillna('Germany', inplace = True)"
   ]
  },
  {
   "cell_type": "markdown",
   "metadata": {},
   "source": [
    "# age"
   ]
  },
  {
   "cell_type": "code",
   "execution_count": 115,
   "metadata": {
    "scrolled": true
   },
   "outputs": [
    {
     "data": {
      "text/plain": [
       "1.0    4290\n",
       "3.0    3319\n",
       "2.0    2902\n",
       "0.0    2518\n",
       "NaN    1377\n",
       "Name: age, dtype: int64"
      ]
     },
     "execution_count": 115,
     "metadata": {},
     "output_type": "execute_result"
    }
   ],
   "source": [
    "df.age.value_counts(dropna = False)"
   ]
  },
  {
   "cell_type": "code",
   "execution_count": 116,
   "metadata": {},
   "outputs": [
    {
     "data": {
      "text/plain": [
       "1328"
      ]
     },
     "execution_count": 116,
     "metadata": {},
     "output_type": "execute_result"
    }
   ],
   "source": [
    "df.age[(df.vehicle_condition == 'New')].isnull().sum()\n",
    "# Nerdeyse tamamı new ."
   ]
  },
  {
   "cell_type": "code",
   "execution_count": 117,
   "metadata": {},
   "outputs": [],
   "source": [
    "df.loc[(df.vehicle_condition == 'New') & (df.age.isnull()),'age'] = 0"
   ]
  },
  {
   "cell_type": "code",
   "execution_count": 118,
   "metadata": {},
   "outputs": [],
   "source": [
    "df.loc[(df.vehicle_condition == 'Used') & (df.age.isnull()), 'age'] = 1\n",
    "#Usedlarda en çok 1 olduğu için 1 atadım"
   ]
  },
  {
   "cell_type": "code",
   "execution_count": 2,
   "metadata": {},
   "outputs": [
    {
     "ename": "NameError",
     "evalue": "name 'df' is not defined",
     "output_type": "error",
     "traceback": [
      "\u001b[1;31m---------------------------------------------------------------------------\u001b[0m",
      "\u001b[1;31mNameError\u001b[0m                                 Traceback (most recent call last)",
      "\u001b[1;32m<ipython-input-2-86f7fa03c3dc>\u001b[0m in \u001b[0;36m<module>\u001b[1;34m\u001b[0m\n\u001b[1;32m----> 1\u001b[1;33m \u001b[0mdf\u001b[0m\u001b[1;33m.\u001b[0m\u001b[0mloc\u001b[0m\u001b[1;33m[\u001b[0m\u001b[1;33m(\u001b[0m\u001b[0mdf\u001b[0m\u001b[1;33m.\u001b[0m\u001b[0mvehicle_condition\u001b[0m \u001b[1;33m==\u001b[0m \u001b[1;34m'Pre_registered'\u001b[0m\u001b[1;33m)\u001b[0m \u001b[1;33m&\u001b[0m \u001b[1;33m(\u001b[0m\u001b[0mdf\u001b[0m\u001b[1;33m.\u001b[0m\u001b[0mage\u001b[0m\u001b[1;33m.\u001b[0m\u001b[0misnull\u001b[0m\u001b[1;33m(\u001b[0m\u001b[1;33m)\u001b[0m\u001b[1;33m)\u001b[0m\u001b[1;33m,\u001b[0m\u001b[1;34m'age'\u001b[0m\u001b[1;33m]\u001b[0m \u001b[1;33m=\u001b[0m \u001b[1;36m0\u001b[0m\u001b[1;33m\u001b[0m\u001b[1;33m\u001b[0m\u001b[0m\n\u001b[0m",
      "\u001b[1;31mNameError\u001b[0m: name 'df' is not defined"
     ]
    }
   ],
   "source": [
    "df.loc[(df.vehicle_condition == 'Pre_registered') & (df.age.isnull()),'age'] = 0"
   ]
  },
  {
   "cell_type": "code",
   "execution_count": 119,
   "metadata": {},
   "outputs": [
    {
     "data": {
      "text/plain": [
       "1.0    4333\n",
       "0.0    3846\n",
       "3.0    3319\n",
       "2.0    2902\n",
       "NaN       6\n",
       "Name: age, dtype: int64"
      ]
     },
     "execution_count": 119,
     "metadata": {},
     "output_type": "execute_result"
    }
   ],
   "source": [
    "df.age.value_counts(dropna = False)"
   ]
  },
  {
   "cell_type": "markdown",
   "metadata": {},
   "source": [
    "# 'Fuel'"
   ]
  },
  {
   "cell_type": "code",
   "execution_count": 120,
   "metadata": {},
   "outputs": [
    {
     "data": {
      "text/plain": [
       "Gasoline            7721\n",
       "Diesel              6612\n",
       "CNG                   33\n",
       "LPG                   27\n",
       "Others                 6\n",
       "ElectricGasoline       4\n",
       "Biodiesel              1\n",
       "Electric               1\n",
       "Biogas                 1\n",
       "Name: Fuel, dtype: int64"
      ]
     },
     "execution_count": 120,
     "metadata": {},
     "output_type": "execute_result"
    }
   ],
   "source": [
    "df['Fuel'].value_counts(dropna = False)\n"
   ]
  },
  {
   "cell_type": "markdown",
   "metadata": {},
   "source": [
    "# Upholstery_type"
   ]
  },
  {
   "cell_type": "code",
   "execution_count": 121,
   "metadata": {},
   "outputs": [
    {
     "data": {
      "text/plain": [
       "Cloth           7744\n",
       "NaN             4354\n",
       "Part leather    1358\n",
       "Full leather     950\n",
       "Name: Upholstery_type, dtype: int64"
      ]
     },
     "execution_count": 121,
     "metadata": {},
     "output_type": "execute_result"
    }
   ],
   "source": [
    "df.Upholstery_type.value_counts(dropna = False)"
   ]
  },
  {
   "cell_type": "code",
   "execution_count": 122,
   "metadata": {},
   "outputs": [],
   "source": [
    "df.Upholstery_type.fillna('Cloth', inplace = True)\n",
    "#Açık ara farkla Ckoth daha fazla olduğu için cloth ile dolduruldu."
   ]
  },
  {
   "cell_type": "markdown",
   "metadata": {},
   "source": [
    "# Consumption(comb)"
   ]
  },
  {
   "cell_type": "code",
   "execution_count": 123,
   "metadata": {},
   "outputs": [
    {
     "data": {
      "text/plain": [
       "NaN     1815\n",
       "3.9      683\n",
       "4.0      639\n",
       "5.4      630\n",
       "4.4      605\n",
       "        ... \n",
       "55.0       1\n",
       "1.2        1\n",
       "9.1        1\n",
       "46.0       1\n",
       "43.0       1\n",
       "Name: Consumption(comb), Length: 73, dtype: int64"
      ]
     },
     "execution_count": 123,
     "metadata": {},
     "output_type": "execute_result"
    }
   ],
   "source": [
    "df['Consumption(comb)'].value_counts(dropna = False)"
   ]
  },
  {
   "cell_type": "code",
   "execution_count": 124,
   "metadata": {},
   "outputs": [
    {
     "data": {
      "text/plain": [
       "<AxesSubplot:xlabel='Consumption(comb)', ylabel='Count'>"
      ]
     },
     "execution_count": 124,
     "metadata": {},
     "output_type": "execute_result"
    },
    {
     "data": {
      "image/png": "[encoded data removed]",
      "text/plain": [
       "<Figure size 432x288 with 1 Axes>"
      ]
     },
     "metadata": {
      "needs_background": "light"
     },
     "output_type": "display_data"
    }
   ],
   "source": [
    "sns.histplot(df['Consumption(comb)'])"
   ]
  },
  {
   "cell_type": "code",
   "execution_count": 125,
   "metadata": {},
   "outputs": [],
   "source": [
    "consumption_model = df[df['Consumption(comb)'].isnull()].make_model.value_counts().index.to_list()"
   ]
  },
  {
   "cell_type": "code",
   "execution_count": 126,
   "metadata": {},
   "outputs": [
    {
     "data": {
      "text/plain": [
       "['Opel Insignia',\n",
       " 'Opel Astra',\n",
       " 'Audi A3',\n",
       " 'Renault Clio',\n",
       " 'Opel Corsa',\n",
       " 'Audi A1',\n",
       " 'Renault Espace',\n",
       " 'Renault Duster']"
      ]
     },
     "execution_count": 126,
     "metadata": {},
     "output_type": "execute_result"
    }
   ],
   "source": [
    "consumption_model"
   ]
  },
  {
   "cell_type": "code",
   "execution_count": 127,
   "metadata": {},
   "outputs": [],
   "source": [
    "for i in consumption_model:\n",
    "    df.loc[(df.make_model == i) & (df['Consumption(comb)'].isnull()), 'Consumption(comb)'] = df[(df.make_model == i)]['Consumption(comb)'].median()\n",
    "    "
   ]
  },
  {
   "cell_type": "markdown",
   "metadata": {},
   "source": [
    "# Consumption(city)"
   ]
  },
  {
   "cell_type": "code",
   "execution_count": 128,
   "metadata": {},
   "outputs": [
    {
     "data": {
      "text/plain": [
       "NaN     2282\n",
       "5.0      613\n",
       "5.8      577\n",
       "4.5      548\n",
       "4.3      493\n",
       "        ... \n",
       "16.1       1\n",
       "19.9       1\n",
       "10.4       1\n",
       "9.7        1\n",
       "64.0       1\n",
       "Name: Consumption(city), Length: 87, dtype: int64"
      ]
     },
     "execution_count": 128,
     "metadata": {},
     "output_type": "execute_result"
    }
   ],
   "source": [
    "df['Consumption(city)'].value_counts(dropna = False)"
   ]
  },
  {
   "cell_type": "code",
   "execution_count": 129,
   "metadata": {},
   "outputs": [
    {
     "data": {
      "text/plain": [
       "<AxesSubplot:xlabel='Consumption(city)', ylabel='Count'>"
      ]
     },
     "execution_count": 129,
     "metadata": {},
     "output_type": "execute_result"
    },
    {
     "data": {
      "image/png": "[encoded data removed]",
      "text/plain": [
       "<Figure size 432x288 with 1 Axes>"
      ]
     },
     "metadata": {
      "needs_background": "light"
     },
     "output_type": "display_data"
    }
   ],
   "source": [
    "sns.histplot(df['Consumption(city)'])"
   ]
  },
  {
   "cell_type": "code",
   "execution_count": 130,
   "metadata": {},
   "outputs": [],
   "source": [
    "city_model = df[df['Consumption(city)'].isnull()].make_model.value_counts().index.to_list()"
   ]
  },
  {
   "cell_type": "code",
   "execution_count": 131,
   "metadata": {},
   "outputs": [],
   "source": [
    "for i in city_model:\n",
    "    df.loc[(df.make_model == i) & (df['Consumption(city)'].isnull()), 'Consumption(city)'] = df[(df.make_model == i)]['Consumption(city)'].median()\n",
    "    "
   ]
  },
  {
   "cell_type": "markdown",
   "metadata": {},
   "source": [
    "# Consumption(country)"
   ]
  },
  {
   "cell_type": "code",
   "execution_count": 132,
   "metadata": {
    "scrolled": true
   },
   "outputs": [
    {
     "data": {
      "text/plain": [
       "NaN     2222\n",
       "4.2     1042\n",
       "3.7     1000\n",
       "4.4      798\n",
       "4.5      725\n",
       "3.8      724\n",
       "3.9      719\n",
       "4.7      578\n",
       "4.1      541\n",
       "4.0      540\n",
       "3.5      491\n",
       "3.6      476\n",
       "4.6      473\n",
       "4.9      448\n",
       "3.3      423\n",
       "4.3      418\n",
       "3.1      364\n",
       "3.4      328\n",
       "4.8      326\n",
       "5.3      268\n",
       "5.4      214\n",
       "5.1      185\n",
       "3.2      158\n",
       "5.7      152\n",
       "5.6      149\n",
       "3.0      122\n",
       "5.0      117\n",
       "5.2      112\n",
       "6.3       47\n",
       "6.0       37\n",
       "5.5       36\n",
       "10.0      32\n",
       "5.8       30\n",
       "6.6       19\n",
       "2.9       16\n",
       "6.4       13\n",
       "2.8        9\n",
       "0.0        9\n",
       "7.7        6\n",
       "7.3        4\n",
       "44.0       4\n",
       "6.5        4\n",
       "7.0        3\n",
       "7.1        3\n",
       "6.1        2\n",
       "5.9        2\n",
       "37.0       2\n",
       "6.9        2\n",
       "7.8        2\n",
       "35.0       2\n",
       "6.7        2\n",
       "1.0        1\n",
       "8.0        1\n",
       "2.0        1\n",
       "7.6        1\n",
       "10.3       1\n",
       "42.0       1\n",
       "8.6        1\n",
       "Name: Consumption(country), dtype: int64"
      ]
     },
     "execution_count": 132,
     "metadata": {},
     "output_type": "execute_result"
    }
   ],
   "source": [
    "df['Consumption(country)'].value_counts(dropna = False)"
   ]
  },
  {
   "cell_type": "code",
   "execution_count": 133,
   "metadata": {},
   "outputs": [],
   "source": [
    "country_model = df[df['Consumption(country)'].isnull()].make_model.value_counts().index.to_list()"
   ]
  },
  {
   "cell_type": "code",
   "execution_count": 134,
   "metadata": {},
   "outputs": [],
   "source": [
    "for i in country_model:\n",
    "    df.loc[(df.make_model == i) & (df['Consumption(country)'].isnull()), 'Consumption(country)'] = df[(df.make_model == i)]['Consumption(country)'].median()\n",
    "    "
   ]
  },
  {
   "cell_type": "code",
   "execution_count": null,
   "metadata": {},
   "outputs": [],
   "source": []
  },
  {
   "cell_type": "code",
   "execution_count": 142,
   "metadata": {},
   "outputs": [],
   "source": [
    "df.to_csv('full.csv', index= False)"
   ]
  }
 ],
 "metadata": {
  "kernelspec": {
   "display_name": "Python 3",
   "language": "python",
   "name": "python3"
  },
  "language_info": {
   "codemirror_mode": {
    "name": "ipython",
    "version": 3
   },
   "file_extension": ".py",
   "mimetype": "text/x-python",
   "name": "python",
   "nbconvert_exporter": "python",
   "pygments_lexer": "ipython3",
   "version": "3.8.5"
  }
 },
 "nbformat": 4,
 "nbformat_minor": 4
}
