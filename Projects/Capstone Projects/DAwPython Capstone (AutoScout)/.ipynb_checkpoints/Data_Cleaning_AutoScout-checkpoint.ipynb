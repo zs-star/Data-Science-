{
 "cells": [
  {
   "cell_type": "code",
   "execution_count": 17,
   "id": "b8f7b4b5",
   "metadata": {},
   "outputs": [],
   "source": [
    "import pandas as pd\n",
    "import numpy as np\n",
    "import matplotlib.pyplot as plt\n",
    "%matplotlib inline\n",
    "import scipy\n",
    "import seaborn as sns\n",
    "import warnings\n",
    "warnings.filterwarnings('ignore')\n",
    "warnings.warn(\"this will not show\")\n",
    "\n",
    "plt.rcParams[\"figure.figsize\"]=(10,6)\n",
    "sns.set_style(\"whitegrid\")\n",
    "pd.set_option(\"display.float_format\",lambda x:'%.3f'% x)\n",
    "pd.options.display.max_rows=100\n",
    "pd.options.display.max_columns=100"
   ]
  },
  {
   "cell_type": "code",
   "execution_count": 18,
   "id": "510da854",
   "metadata": {},
   "outputs": [],
   "source": [
    "Df=pd.read_json(\"scout_car.json\",lines=True)"
   ]
  },
  {
   "cell_type": "code",
   "execution_count": 19,
   "id": "ca356436",
   "metadata": {},
   "outputs": [],
   "source": [
    "df=Df.copy()"
   ]
  },
  {
   "cell_type": "code",
   "execution_count": 4,
   "id": "aea67714",
   "metadata": {},
   "outputs": [
    {
     "data": {
      "text/html": [
       "<div>\n",
       "<style scoped>\n",
       "    .dataframe tbody tr th:only-of-type {\n",
       "        vertical-align: middle;\n",
       "    }\n",
       "\n",
       "    .dataframe tbody tr th {\n",
       "        vertical-align: top;\n",
       "    }\n",
       "\n",
       "    .dataframe thead th {\n",
       "        text-align: right;\n",
       "    }\n",
       "</style>\n",
       "<table border=\"1\" class=\"dataframe\">\n",
       "  <thead>\n",
       "    <tr style=\"text-align: right;\">\n",
       "      <th></th>\n",
       "      <th>0</th>\n",
       "      <th>1</th>\n",
       "      <th>2</th>\n",
       "      <th>3</th>\n",
       "      <th>4</th>\n",
       "    </tr>\n",
       "  </thead>\n",
       "  <tbody>\n",
       "    <tr>\n",
       "      <th>url</th>\n",
       "      <td>https://www.autoscout24.com//offers/audi-a1-sp...</td>\n",
       "      <td>https://www.autoscout24.com//offers/audi-a1-1-...</td>\n",
       "      <td>https://www.autoscout24.com//offers/audi-a1-sp...</td>\n",
       "      <td>https://www.autoscout24.com//offers/audi-a1-1-...</td>\n",
       "      <td>https://www.autoscout24.com//offers/audi-a1-sp...</td>\n",
       "    </tr>\n",
       "    <tr>\n",
       "      <th>make_model</th>\n",
       "      <td>Audi A1</td>\n",
       "      <td>Audi A1</td>\n",
       "      <td>Audi A1</td>\n",
       "      <td>Audi A1</td>\n",
       "      <td>Audi A1</td>\n",
       "    </tr>\n",
       "    <tr>\n",
       "      <th>short_description</th>\n",
       "      <td>Sportback 1.4 TDI S-tronic Xenon Navi Klima</td>\n",
       "      <td>1.8 TFSI sport</td>\n",
       "      <td>Sportback 1.6 TDI S tronic Einparkhilfe plus+m...</td>\n",
       "      <td>1.4 TDi Design S tronic</td>\n",
       "      <td>Sportback 1.4 TDI S-Tronic S-Line Ext. admired...</td>\n",
       "    </tr>\n",
       "    <tr>\n",
       "      <th>body_type</th>\n",
       "      <td>Sedans</td>\n",
       "      <td>Sedans</td>\n",
       "      <td>Sedans</td>\n",
       "      <td>Sedans</td>\n",
       "      <td>Sedans</td>\n",
       "    </tr>\n",
       "    <tr>\n",
       "      <th>price</th>\n",
       "      <td>15770</td>\n",
       "      <td>14500</td>\n",
       "      <td>14640</td>\n",
       "      <td>14500</td>\n",
       "      <td>16790</td>\n",
       "    </tr>\n",
       "    <tr>\n",
       "      <th>vat</th>\n",
       "      <td>VAT deductible</td>\n",
       "      <td>Price negotiable</td>\n",
       "      <td>VAT deductible</td>\n",
       "      <td>None</td>\n",
       "      <td>None</td>\n",
       "    </tr>\n",
       "    <tr>\n",
       "      <th>km</th>\n",
       "      <td>56,013 km</td>\n",
       "      <td>80,000 km</td>\n",
       "      <td>83,450 km</td>\n",
       "      <td>73,000 km</td>\n",
       "      <td>16,200 km</td>\n",
       "    </tr>\n",
       "    <tr>\n",
       "      <th>registration</th>\n",
       "      <td>01/2016</td>\n",
       "      <td>03/2017</td>\n",
       "      <td>02/2016</td>\n",
       "      <td>08/2016</td>\n",
       "      <td>05/2016</td>\n",
       "    </tr>\n",
       "    <tr>\n",
       "      <th>prev_owner</th>\n",
       "      <td>2 previous owners</td>\n",
       "      <td>None</td>\n",
       "      <td>1 previous owner</td>\n",
       "      <td>1 previous owner</td>\n",
       "      <td>1 previous owner</td>\n",
       "    </tr>\n",
       "    <tr>\n",
       "      <th>kW</th>\n",
       "      <td>NaN</td>\n",
       "      <td>NaN</td>\n",
       "      <td>NaN</td>\n",
       "      <td>NaN</td>\n",
       "      <td>NaN</td>\n",
       "    </tr>\n",
       "    <tr>\n",
       "      <th>hp</th>\n",
       "      <td>66 kW</td>\n",
       "      <td>141 kW</td>\n",
       "      <td>85 kW</td>\n",
       "      <td>66 kW</td>\n",
       "      <td>66 kW</td>\n",
       "    </tr>\n",
       "    <tr>\n",
       "      <th>Type</th>\n",
       "      <td>[, Used, , Diesel (Particulate Filter)]</td>\n",
       "      <td>[, Used, , Gasoline]</td>\n",
       "      <td>[, Used, , Diesel (Particulate Filter)]</td>\n",
       "      <td>[, Used, , Diesel (Particulate Filter)]</td>\n",
       "      <td>[, Used, , Diesel (Particulate Filter)]</td>\n",
       "    </tr>\n",
       "    <tr>\n",
       "      <th>Previous Owners</th>\n",
       "      <td>\\n2\\n</td>\n",
       "      <td>NaN</td>\n",
       "      <td>\\n1\\n</td>\n",
       "      <td>\\n1\\n</td>\n",
       "      <td>\\n1\\n</td>\n",
       "    </tr>\n",
       "    <tr>\n",
       "      <th>Next Inspection</th>\n",
       "      <td>[\\n06/2021\\n, \\n99 g CO2/km (comb)\\n]</td>\n",
       "      <td>NaN</td>\n",
       "      <td>NaN</td>\n",
       "      <td>NaN</td>\n",
       "      <td>NaN</td>\n",
       "    </tr>\n",
       "    <tr>\n",
       "      <th>Inspection new</th>\n",
       "      <td>[\\nYes\\n, \\nEuro 6\\n]</td>\n",
       "      <td>NaN</td>\n",
       "      <td>NaN</td>\n",
       "      <td>NaN</td>\n",
       "      <td>[\\nYes\\n, \\n109 g CO2/km (comb)\\n]</td>\n",
       "    </tr>\n",
       "    <tr>\n",
       "      <th>Warranty</th>\n",
       "      <td>[\\n, \\n, \\n4 (Green)\\n]</td>\n",
       "      <td>NaN</td>\n",
       "      <td>[\\n, \\n, \\n99 g CO2/km (comb)\\n]</td>\n",
       "      <td>NaN</td>\n",
       "      <td>[\\n, \\n, \\nEuro 6\\n]</td>\n",
       "    </tr>\n",
       "    <tr>\n",
       "      <th>Full Service</th>\n",
       "      <td>[\\n, \\n]</td>\n",
       "      <td>NaN</td>\n",
       "      <td>NaN</td>\n",
       "      <td>[\\n, \\n, \\n99 g CO2/km (comb)\\n]</td>\n",
       "      <td>[\\n, \\n, \\n4 (Green)\\n]</td>\n",
       "    </tr>\n",
       "    <tr>\n",
       "      <th>Non-smoking Vehicle</th>\n",
       "      <td>[\\n, \\n]</td>\n",
       "      <td>NaN</td>\n",
       "      <td>NaN</td>\n",
       "      <td>[\\n, \\n, \\nEuro 6\\n]</td>\n",
       "      <td>[\\n, \\n]</td>\n",
       "    </tr>\n",
       "    <tr>\n",
       "      <th>null</th>\n",
       "      <td>[]</td>\n",
       "      <td>[]</td>\n",
       "      <td>[]</td>\n",
       "      <td>[]</td>\n",
       "      <td>[]</td>\n",
       "    </tr>\n",
       "    <tr>\n",
       "      <th>Make</th>\n",
       "      <td>\\nAudi\\n</td>\n",
       "      <td>\\nAudi\\n</td>\n",
       "      <td>\\nAudi\\n</td>\n",
       "      <td>\\nAudi\\n</td>\n",
       "      <td>\\nAudi\\n</td>\n",
       "    </tr>\n",
       "    <tr>\n",
       "      <th>Model</th>\n",
       "      <td>[\\n, A1, \\n]</td>\n",
       "      <td>[\\n, A1, \\n]</td>\n",
       "      <td>[\\n, A1, \\n]</td>\n",
       "      <td>[\\n, A1, \\n]</td>\n",
       "      <td>[\\n, A1, \\n]</td>\n",
       "    </tr>\n",
       "    <tr>\n",
       "      <th>Offer Number</th>\n",
       "      <td>[\\nLR-062483\\n]</td>\n",
       "      <td>NaN</td>\n",
       "      <td>[\\nAM-95365\\n]</td>\n",
       "      <td>NaN</td>\n",
       "      <td>[\\nC1626\\n]</td>\n",
       "    </tr>\n",
       "    <tr>\n",
       "      <th>First Registration</th>\n",
       "      <td>[\\n, 2016, \\n]</td>\n",
       "      <td>[\\n, 2017, \\n]</td>\n",
       "      <td>[\\n, 2016, \\n]</td>\n",
       "      <td>[\\n, 2016, \\n]</td>\n",
       "      <td>[\\n, 2016, \\n]</td>\n",
       "    </tr>\n",
       "    <tr>\n",
       "      <th>Body Color</th>\n",
       "      <td>[\\n, Black, \\n]</td>\n",
       "      <td>[\\n, Red, \\n]</td>\n",
       "      <td>[\\n, Black, \\n]</td>\n",
       "      <td>[\\n, Brown, \\n]</td>\n",
       "      <td>[\\n, Black, \\n]</td>\n",
       "    </tr>\n",
       "    <tr>\n",
       "      <th>Paint Type</th>\n",
       "      <td>[\\nMetallic\\n]</td>\n",
       "      <td>NaN</td>\n",
       "      <td>[\\nMetallic\\n]</td>\n",
       "      <td>[\\nMetallic\\n]</td>\n",
       "      <td>[\\nMetallic\\n]</td>\n",
       "    </tr>\n",
       "    <tr>\n",
       "      <th>Body Color Original</th>\n",
       "      <td>[\\nMythosschwarz\\n]</td>\n",
       "      <td>NaN</td>\n",
       "      <td>[\\nmythosschwarz metallic\\n]</td>\n",
       "      <td>NaN</td>\n",
       "      <td>[\\nMythosschwarz Metallic\\n]</td>\n",
       "    </tr>\n",
       "    <tr>\n",
       "      <th>Upholstery</th>\n",
       "      <td>[\\nCloth, Black\\n]</td>\n",
       "      <td>[\\nCloth, Grey\\n]</td>\n",
       "      <td>[\\nCloth, Black\\n]</td>\n",
       "      <td>NaN</td>\n",
       "      <td>[\\nCloth, Black\\n]</td>\n",
       "    </tr>\n",
       "    <tr>\n",
       "      <th>Body</th>\n",
       "      <td>[\\n, Sedans, \\n]</td>\n",
       "      <td>[\\n, Sedans, \\n]</td>\n",
       "      <td>[\\n, Sedans, \\n]</td>\n",
       "      <td>[\\n, Sedans, \\n]</td>\n",
       "      <td>[\\n, Sedans, \\n]</td>\n",
       "    </tr>\n",
       "    <tr>\n",
       "      <th>Nr. of Doors</th>\n",
       "      <td>[\\n5\\n]</td>\n",
       "      <td>[\\n3\\n]</td>\n",
       "      <td>[\\n4\\n]</td>\n",
       "      <td>[\\n3\\n]</td>\n",
       "      <td>[\\n5\\n]</td>\n",
       "    </tr>\n",
       "    <tr>\n",
       "      <th>Nr. of Seats</th>\n",
       "      <td>[\\n5\\n]</td>\n",
       "      <td>[\\n4\\n]</td>\n",
       "      <td>[\\n4\\n]</td>\n",
       "      <td>[\\n4\\n]</td>\n",
       "      <td>[\\n5\\n]</td>\n",
       "    </tr>\n",
       "    <tr>\n",
       "      <th>Model Code</th>\n",
       "      <td>[\\n0588/BDF\\n]</td>\n",
       "      <td>[\\n0588/BCY\\n]</td>\n",
       "      <td>NaN</td>\n",
       "      <td>NaN</td>\n",
       "      <td>[\\n0588/BDF\\n]</td>\n",
       "    </tr>\n",
       "    <tr>\n",
       "      <th>Gearing Type</th>\n",
       "      <td>[\\n, Automatic, \\n]</td>\n",
       "      <td>[\\n, Automatic, \\n]</td>\n",
       "      <td>[\\n, Automatic, \\n]</td>\n",
       "      <td>[\\n, Automatic, \\n]</td>\n",
       "      <td>[\\n, Automatic, \\n]</td>\n",
       "    </tr>\n",
       "    <tr>\n",
       "      <th>Displacement</th>\n",
       "      <td>[\\n1,422 cc\\n]</td>\n",
       "      <td>[\\n1,798 cc\\n]</td>\n",
       "      <td>[\\n1,598 cc\\n]</td>\n",
       "      <td>[\\n1,422 cc\\n]</td>\n",
       "      <td>[\\n1,422 cc\\n]</td>\n",
       "    </tr>\n",
       "    <tr>\n",
       "      <th>Cylinders</th>\n",
       "      <td>[\\n3\\n]</td>\n",
       "      <td>[\\n4\\n]</td>\n",
       "      <td>NaN</td>\n",
       "      <td>[\\n3\\n]</td>\n",
       "      <td>[\\n3\\n]</td>\n",
       "    </tr>\n",
       "    <tr>\n",
       "      <th>Weight</th>\n",
       "      <td>[\\n1,220 kg\\n]</td>\n",
       "      <td>[\\n1,255 kg\\n]</td>\n",
       "      <td>NaN</td>\n",
       "      <td>[\\n1,195 kg\\n]</td>\n",
       "      <td>NaN</td>\n",
       "    </tr>\n",
       "    <tr>\n",
       "      <th>Drive chain</th>\n",
       "      <td>[\\nfront\\n]</td>\n",
       "      <td>[\\nfront\\n]</td>\n",
       "      <td>[\\nfront\\n]</td>\n",
       "      <td>NaN</td>\n",
       "      <td>[\\nfront\\n]</td>\n",
       "    </tr>\n",
       "    <tr>\n",
       "      <th>Fuel</th>\n",
       "      <td>[\\n, Diesel (Particulate Filter), \\n]</td>\n",
       "      <td>[\\n, Gasoline, \\n]</td>\n",
       "      <td>[\\n, Diesel (Particulate Filter), \\n]</td>\n",
       "      <td>[\\n, Diesel (Particulate Filter), \\n]</td>\n",
       "      <td>[\\n, Diesel (Particulate Filter), \\n]</td>\n",
       "    </tr>\n",
       "    <tr>\n",
       "      <th>Consumption</th>\n",
       "      <td>[[3.8 l/100 km (comb)], [4.3 l/100 km (city)],...</td>\n",
       "      <td>[[5.6 l/100 km (comb)], [7.1 l/100 km (city)],...</td>\n",
       "      <td>[[3.8 l/100 km (comb)], [4.4 l/100 km (city)],...</td>\n",
       "      <td>[[3.8 l/100 km (comb)], [4.3 l/100 km (city)],...</td>\n",
       "      <td>[[4.1 l/100 km (comb)], [4.6 l/100 km (city)],...</td>\n",
       "    </tr>\n",
       "    <tr>\n",
       "      <th>CO2 Emission</th>\n",
       "      <td>[\\n99 g CO2/km (comb)\\n]</td>\n",
       "      <td>[\\n129 g CO2/km (comb)\\n]</td>\n",
       "      <td>[\\n99 g CO2/km (comb)\\n]</td>\n",
       "      <td>[\\n99 g CO2/km (comb)\\n]</td>\n",
       "      <td>[\\n109 g CO2/km (comb)\\n]</td>\n",
       "    </tr>\n",
       "    <tr>\n",
       "      <th>Emission Class</th>\n",
       "      <td>[\\nEuro 6\\n]</td>\n",
       "      <td>[\\nEuro 6\\n]</td>\n",
       "      <td>[\\nEuro 6\\n]</td>\n",
       "      <td>[\\nEuro 6\\n]</td>\n",
       "      <td>[\\nEuro 6\\n]</td>\n",
       "    </tr>\n",
       "    <tr>\n",
       "      <th>\\nComfort &amp; Convenience\\n</th>\n",
       "      <td>[Air conditioning, Armrest, Automatic climate ...</td>\n",
       "      <td>[Air conditioning, Automatic climate control, ...</td>\n",
       "      <td>[Air conditioning, Cruise control, Electrical ...</td>\n",
       "      <td>[Air suspension, Armrest, Auxiliary heating, E...</td>\n",
       "      <td>[Air conditioning, Armrest, Automatic climate ...</td>\n",
       "    </tr>\n",
       "    <tr>\n",
       "      <th>\\nEntertainment &amp; Media\\n</th>\n",
       "      <td>[Bluetooth, Hands-free equipment, On-board com...</td>\n",
       "      <td>[Bluetooth, Hands-free equipment, On-board com...</td>\n",
       "      <td>[MP3, On-board computer]</td>\n",
       "      <td>[Bluetooth, CD player, Hands-free equipment, M...</td>\n",
       "      <td>[Bluetooth, CD player, Hands-free equipment, M...</td>\n",
       "    </tr>\n",
       "    <tr>\n",
       "      <th>\\nExtras\\n</th>\n",
       "      <td>[Alloy wheels, Catalytic Converter, Voice Cont...</td>\n",
       "      <td>[Alloy wheels, Sport seats, Sport suspension, ...</td>\n",
       "      <td>[Alloy wheels, Voice Control]</td>\n",
       "      <td>[Alloy wheels, Sport seats, Voice Control]</td>\n",
       "      <td>[Alloy wheels, Sport package, Sport suspension...</td>\n",
       "    </tr>\n",
       "    <tr>\n",
       "      <th>\\nSafety &amp; Security\\n</th>\n",
       "      <td>[ABS, Central door lock, Daytime running light...</td>\n",
       "      <td>[ABS, Central door lock, Central door lock wit...</td>\n",
       "      <td>[ABS, Central door lock, Daytime running light...</td>\n",
       "      <td>[ABS, Alarm system, Central door lock with rem...</td>\n",
       "      <td>[ABS, Central door lock, Driver-side airbag, E...</td>\n",
       "    </tr>\n",
       "    <tr>\n",
       "      <th>description</th>\n",
       "      <td>[\\n, Sicherheit:,  , Deaktivierung für Beifahr...</td>\n",
       "      <td>[\\nLangstreckenfahrzeug daher die hohe Kilomet...</td>\n",
       "      <td>[\\n, Fahrzeug-Nummer: AM-95365,  , Ehem. UPE 2...</td>\n",
       "      <td>[\\nAudi A1: , - 1e eigenaar , - Perfecte staat...</td>\n",
       "      <td>[\\n, Technik &amp; Sicherheit:, Xenon plus, Klimaa...</td>\n",
       "    </tr>\n",
       "    <tr>\n",
       "      <th>Emission Label</th>\n",
       "      <td>NaN</td>\n",
       "      <td>[\\n4 (Green)\\n]</td>\n",
       "      <td>[\\n4 (Green)\\n]</td>\n",
       "      <td>NaN</td>\n",
       "      <td>NaN</td>\n",
       "    </tr>\n",
       "    <tr>\n",
       "      <th>Gears</th>\n",
       "      <td>NaN</td>\n",
       "      <td>[\\n7\\n]</td>\n",
       "      <td>NaN</td>\n",
       "      <td>[\\n6\\n]</td>\n",
       "      <td>NaN</td>\n",
       "    </tr>\n",
       "    <tr>\n",
       "      <th>Country version</th>\n",
       "      <td>NaN</td>\n",
       "      <td>NaN</td>\n",
       "      <td>NaN</td>\n",
       "      <td>NaN</td>\n",
       "      <td>[\\nGermany\\n]</td>\n",
       "    </tr>\n",
       "    <tr>\n",
       "      <th>Electricity consumption</th>\n",
       "      <td>NaN</td>\n",
       "      <td>NaN</td>\n",
       "      <td>NaN</td>\n",
       "      <td>NaN</td>\n",
       "      <td>NaN</td>\n",
       "    </tr>\n",
       "    <tr>\n",
       "      <th>Last Service Date</th>\n",
       "      <td>NaN</td>\n",
       "      <td>NaN</td>\n",
       "      <td>NaN</td>\n",
       "      <td>NaN</td>\n",
       "      <td>NaN</td>\n",
       "    </tr>\n",
       "    <tr>\n",
       "      <th>Other Fuel Types</th>\n",
       "      <td>NaN</td>\n",
       "      <td>NaN</td>\n",
       "      <td>NaN</td>\n",
       "      <td>NaN</td>\n",
       "      <td>NaN</td>\n",
       "    </tr>\n",
       "    <tr>\n",
       "      <th>Availability</th>\n",
       "      <td>NaN</td>\n",
       "      <td>NaN</td>\n",
       "      <td>NaN</td>\n",
       "      <td>NaN</td>\n",
       "      <td>NaN</td>\n",
       "    </tr>\n",
       "    <tr>\n",
       "      <th>Last Timing Belt Service Date</th>\n",
       "      <td>NaN</td>\n",
       "      <td>NaN</td>\n",
       "      <td>NaN</td>\n",
       "      <td>NaN</td>\n",
       "      <td>NaN</td>\n",
       "    </tr>\n",
       "    <tr>\n",
       "      <th>Available from</th>\n",
       "      <td>NaN</td>\n",
       "      <td>NaN</td>\n",
       "      <td>NaN</td>\n",
       "      <td>NaN</td>\n",
       "      <td>NaN</td>\n",
       "    </tr>\n",
       "  </tbody>\n",
       "</table>\n",
       "</div>"
      ],
      "text/plain": [
       "                                                                               0  \\\n",
       "url                            https://www.autoscout24.com//offers/audi-a1-sp...   \n",
       "make_model                                                               Audi A1   \n",
       "short_description                    Sportback 1.4 TDI S-tronic Xenon Navi Klima   \n",
       "body_type                                                                 Sedans   \n",
       "price                                                                      15770   \n",
       "vat                                                               VAT deductible   \n",
       "km                                                                     56,013 km   \n",
       "registration                                                             01/2016   \n",
       "prev_owner                                                     2 previous owners   \n",
       "kW                                                                           NaN   \n",
       "hp                                                                         66 kW   \n",
       "Type                                     [, Used, , Diesel (Particulate Filter)]   \n",
       "Previous Owners                                                            \\n2\\n   \n",
       "Next Inspection                            [\\n06/2021\\n, \\n99 g CO2/km (comb)\\n]   \n",
       "Inspection new                                             [\\nYes\\n, \\nEuro 6\\n]   \n",
       "Warranty                                                 [\\n, \\n, \\n4 (Green)\\n]   \n",
       "Full Service                                                            [\\n, \\n]   \n",
       "Non-smoking Vehicle                                                     [\\n, \\n]   \n",
       "null                                                                          []   \n",
       "Make                                                                    \\nAudi\\n   \n",
       "Model                                                               [\\n, A1, \\n]   \n",
       "Offer Number                                                     [\\nLR-062483\\n]   \n",
       "First Registration                                                [\\n, 2016, \\n]   \n",
       "Body Color                                                       [\\n, Black, \\n]   \n",
       "Paint Type                                                        [\\nMetallic\\n]   \n",
       "Body Color Original                                          [\\nMythosschwarz\\n]   \n",
       "Upholstery                                                    [\\nCloth, Black\\n]   \n",
       "Body                                                            [\\n, Sedans, \\n]   \n",
       "Nr. of Doors                                                             [\\n5\\n]   \n",
       "Nr. of Seats                                                             [\\n5\\n]   \n",
       "Model Code                                                        [\\n0588/BDF\\n]   \n",
       "Gearing Type                                                 [\\n, Automatic, \\n]   \n",
       "Displacement                                                      [\\n1,422 cc\\n]   \n",
       "Cylinders                                                                [\\n3\\n]   \n",
       "Weight                                                            [\\n1,220 kg\\n]   \n",
       "Drive chain                                                          [\\nfront\\n]   \n",
       "Fuel                                       [\\n, Diesel (Particulate Filter), \\n]   \n",
       "Consumption                    [[3.8 l/100 km (comb)], [4.3 l/100 km (city)],...   \n",
       "CO2 Emission                                            [\\n99 g CO2/km (comb)\\n]   \n",
       "Emission Class                                                      [\\nEuro 6\\n]   \n",
       "\\nComfort & Convenience\\n      [Air conditioning, Armrest, Automatic climate ...   \n",
       "\\nEntertainment & Media\\n      [Bluetooth, Hands-free equipment, On-board com...   \n",
       "\\nExtras\\n                     [Alloy wheels, Catalytic Converter, Voice Cont...   \n",
       "\\nSafety & Security\\n          [ABS, Central door lock, Daytime running light...   \n",
       "description                    [\\n, Sicherheit:,  , Deaktivierung für Beifahr...   \n",
       "Emission Label                                                               NaN   \n",
       "Gears                                                                        NaN   \n",
       "Country version                                                              NaN   \n",
       "Electricity consumption                                                      NaN   \n",
       "Last Service Date                                                            NaN   \n",
       "Other Fuel Types                                                             NaN   \n",
       "Availability                                                                 NaN   \n",
       "Last Timing Belt Service Date                                                NaN   \n",
       "Available from                                                               NaN   \n",
       "\n",
       "                                                                               1  \\\n",
       "url                            https://www.autoscout24.com//offers/audi-a1-1-...   \n",
       "make_model                                                               Audi A1   \n",
       "short_description                                                 1.8 TFSI sport   \n",
       "body_type                                                                 Sedans   \n",
       "price                                                                      14500   \n",
       "vat                                                             Price negotiable   \n",
       "km                                                                     80,000 km   \n",
       "registration                                                             03/2017   \n",
       "prev_owner                                                                  None   \n",
       "kW                                                                           NaN   \n",
       "hp                                                                        141 kW   \n",
       "Type                                                        [, Used, , Gasoline]   \n",
       "Previous Owners                                                              NaN   \n",
       "Next Inspection                                                              NaN   \n",
       "Inspection new                                                               NaN   \n",
       "Warranty                                                                     NaN   \n",
       "Full Service                                                                 NaN   \n",
       "Non-smoking Vehicle                                                          NaN   \n",
       "null                                                                          []   \n",
       "Make                                                                    \\nAudi\\n   \n",
       "Model                                                               [\\n, A1, \\n]   \n",
       "Offer Number                                                                 NaN   \n",
       "First Registration                                                [\\n, 2017, \\n]   \n",
       "Body Color                                                         [\\n, Red, \\n]   \n",
       "Paint Type                                                                   NaN   \n",
       "Body Color Original                                                          NaN   \n",
       "Upholstery                                                     [\\nCloth, Grey\\n]   \n",
       "Body                                                            [\\n, Sedans, \\n]   \n",
       "Nr. of Doors                                                             [\\n3\\n]   \n",
       "Nr. of Seats                                                             [\\n4\\n]   \n",
       "Model Code                                                        [\\n0588/BCY\\n]   \n",
       "Gearing Type                                                 [\\n, Automatic, \\n]   \n",
       "Displacement                                                      [\\n1,798 cc\\n]   \n",
       "Cylinders                                                                [\\n4\\n]   \n",
       "Weight                                                            [\\n1,255 kg\\n]   \n",
       "Drive chain                                                          [\\nfront\\n]   \n",
       "Fuel                                                          [\\n, Gasoline, \\n]   \n",
       "Consumption                    [[5.6 l/100 km (comb)], [7.1 l/100 km (city)],...   \n",
       "CO2 Emission                                           [\\n129 g CO2/km (comb)\\n]   \n",
       "Emission Class                                                      [\\nEuro 6\\n]   \n",
       "\\nComfort & Convenience\\n      [Air conditioning, Automatic climate control, ...   \n",
       "\\nEntertainment & Media\\n      [Bluetooth, Hands-free equipment, On-board com...   \n",
       "\\nExtras\\n                     [Alloy wheels, Sport seats, Sport suspension, ...   \n",
       "\\nSafety & Security\\n          [ABS, Central door lock, Central door lock wit...   \n",
       "description                    [\\nLangstreckenfahrzeug daher die hohe Kilomet...   \n",
       "Emission Label                                                   [\\n4 (Green)\\n]   \n",
       "Gears                                                                    [\\n7\\n]   \n",
       "Country version                                                              NaN   \n",
       "Electricity consumption                                                      NaN   \n",
       "Last Service Date                                                            NaN   \n",
       "Other Fuel Types                                                             NaN   \n",
       "Availability                                                                 NaN   \n",
       "Last Timing Belt Service Date                                                NaN   \n",
       "Available from                                                               NaN   \n",
       "\n",
       "                                                                               2  \\\n",
       "url                            https://www.autoscout24.com//offers/audi-a1-sp...   \n",
       "make_model                                                               Audi A1   \n",
       "short_description              Sportback 1.6 TDI S tronic Einparkhilfe plus+m...   \n",
       "body_type                                                                 Sedans   \n",
       "price                                                                      14640   \n",
       "vat                                                               VAT deductible   \n",
       "km                                                                     83,450 km   \n",
       "registration                                                             02/2016   \n",
       "prev_owner                                                      1 previous owner   \n",
       "kW                                                                           NaN   \n",
       "hp                                                                         85 kW   \n",
       "Type                                     [, Used, , Diesel (Particulate Filter)]   \n",
       "Previous Owners                                                            \\n1\\n   \n",
       "Next Inspection                                                              NaN   \n",
       "Inspection new                                                               NaN   \n",
       "Warranty                                        [\\n, \\n, \\n99 g CO2/km (comb)\\n]   \n",
       "Full Service                                                                 NaN   \n",
       "Non-smoking Vehicle                                                          NaN   \n",
       "null                                                                          []   \n",
       "Make                                                                    \\nAudi\\n   \n",
       "Model                                                               [\\n, A1, \\n]   \n",
       "Offer Number                                                      [\\nAM-95365\\n]   \n",
       "First Registration                                                [\\n, 2016, \\n]   \n",
       "Body Color                                                       [\\n, Black, \\n]   \n",
       "Paint Type                                                        [\\nMetallic\\n]   \n",
       "Body Color Original                                 [\\nmythosschwarz metallic\\n]   \n",
       "Upholstery                                                    [\\nCloth, Black\\n]   \n",
       "Body                                                            [\\n, Sedans, \\n]   \n",
       "Nr. of Doors                                                             [\\n4\\n]   \n",
       "Nr. of Seats                                                             [\\n4\\n]   \n",
       "Model Code                                                                   NaN   \n",
       "Gearing Type                                                 [\\n, Automatic, \\n]   \n",
       "Displacement                                                      [\\n1,598 cc\\n]   \n",
       "Cylinders                                                                    NaN   \n",
       "Weight                                                                       NaN   \n",
       "Drive chain                                                          [\\nfront\\n]   \n",
       "Fuel                                       [\\n, Diesel (Particulate Filter), \\n]   \n",
       "Consumption                    [[3.8 l/100 km (comb)], [4.4 l/100 km (city)],...   \n",
       "CO2 Emission                                            [\\n99 g CO2/km (comb)\\n]   \n",
       "Emission Class                                                      [\\nEuro 6\\n]   \n",
       "\\nComfort & Convenience\\n      [Air conditioning, Cruise control, Electrical ...   \n",
       "\\nEntertainment & Media\\n                               [MP3, On-board computer]   \n",
       "\\nExtras\\n                                         [Alloy wheels, Voice Control]   \n",
       "\\nSafety & Security\\n          [ABS, Central door lock, Daytime running light...   \n",
       "description                    [\\n, Fahrzeug-Nummer: AM-95365,  , Ehem. UPE 2...   \n",
       "Emission Label                                                   [\\n4 (Green)\\n]   \n",
       "Gears                                                                        NaN   \n",
       "Country version                                                              NaN   \n",
       "Electricity consumption                                                      NaN   \n",
       "Last Service Date                                                            NaN   \n",
       "Other Fuel Types                                                             NaN   \n",
       "Availability                                                                 NaN   \n",
       "Last Timing Belt Service Date                                                NaN   \n",
       "Available from                                                               NaN   \n",
       "\n",
       "                                                                               3  \\\n",
       "url                            https://www.autoscout24.com//offers/audi-a1-1-...   \n",
       "make_model                                                               Audi A1   \n",
       "short_description                                        1.4 TDi Design S tronic   \n",
       "body_type                                                                 Sedans   \n",
       "price                                                                      14500   \n",
       "vat                                                                         None   \n",
       "km                                                                     73,000 km   \n",
       "registration                                                             08/2016   \n",
       "prev_owner                                                      1 previous owner   \n",
       "kW                                                                           NaN   \n",
       "hp                                                                         66 kW   \n",
       "Type                                     [, Used, , Diesel (Particulate Filter)]   \n",
       "Previous Owners                                                            \\n1\\n   \n",
       "Next Inspection                                                              NaN   \n",
       "Inspection new                                                               NaN   \n",
       "Warranty                                                                     NaN   \n",
       "Full Service                                    [\\n, \\n, \\n99 g CO2/km (comb)\\n]   \n",
       "Non-smoking Vehicle                                         [\\n, \\n, \\nEuro 6\\n]   \n",
       "null                                                                          []   \n",
       "Make                                                                    \\nAudi\\n   \n",
       "Model                                                               [\\n, A1, \\n]   \n",
       "Offer Number                                                                 NaN   \n",
       "First Registration                                                [\\n, 2016, \\n]   \n",
       "Body Color                                                       [\\n, Brown, \\n]   \n",
       "Paint Type                                                        [\\nMetallic\\n]   \n",
       "Body Color Original                                                          NaN   \n",
       "Upholstery                                                                   NaN   \n",
       "Body                                                            [\\n, Sedans, \\n]   \n",
       "Nr. of Doors                                                             [\\n3\\n]   \n",
       "Nr. of Seats                                                             [\\n4\\n]   \n",
       "Model Code                                                                   NaN   \n",
       "Gearing Type                                                 [\\n, Automatic, \\n]   \n",
       "Displacement                                                      [\\n1,422 cc\\n]   \n",
       "Cylinders                                                                [\\n3\\n]   \n",
       "Weight                                                            [\\n1,195 kg\\n]   \n",
       "Drive chain                                                                  NaN   \n",
       "Fuel                                       [\\n, Diesel (Particulate Filter), \\n]   \n",
       "Consumption                    [[3.8 l/100 km (comb)], [4.3 l/100 km (city)],...   \n",
       "CO2 Emission                                            [\\n99 g CO2/km (comb)\\n]   \n",
       "Emission Class                                                      [\\nEuro 6\\n]   \n",
       "\\nComfort & Convenience\\n      [Air suspension, Armrest, Auxiliary heating, E...   \n",
       "\\nEntertainment & Media\\n      [Bluetooth, CD player, Hands-free equipment, M...   \n",
       "\\nExtras\\n                            [Alloy wheels, Sport seats, Voice Control]   \n",
       "\\nSafety & Security\\n          [ABS, Alarm system, Central door lock with rem...   \n",
       "description                    [\\nAudi A1: , - 1e eigenaar , - Perfecte staat...   \n",
       "Emission Label                                                               NaN   \n",
       "Gears                                                                    [\\n6\\n]   \n",
       "Country version                                                              NaN   \n",
       "Electricity consumption                                                      NaN   \n",
       "Last Service Date                                                            NaN   \n",
       "Other Fuel Types                                                             NaN   \n",
       "Availability                                                                 NaN   \n",
       "Last Timing Belt Service Date                                                NaN   \n",
       "Available from                                                               NaN   \n",
       "\n",
       "                                                                               4  \n",
       "url                            https://www.autoscout24.com//offers/audi-a1-sp...  \n",
       "make_model                                                               Audi A1  \n",
       "short_description              Sportback 1.4 TDI S-Tronic S-Line Ext. admired...  \n",
       "body_type                                                                 Sedans  \n",
       "price                                                                      16790  \n",
       "vat                                                                         None  \n",
       "km                                                                     16,200 km  \n",
       "registration                                                             05/2016  \n",
       "prev_owner                                                      1 previous owner  \n",
       "kW                                                                           NaN  \n",
       "hp                                                                         66 kW  \n",
       "Type                                     [, Used, , Diesel (Particulate Filter)]  \n",
       "Previous Owners                                                            \\n1\\n  \n",
       "Next Inspection                                                              NaN  \n",
       "Inspection new                                [\\nYes\\n, \\n109 g CO2/km (comb)\\n]  \n",
       "Warranty                                                    [\\n, \\n, \\nEuro 6\\n]  \n",
       "Full Service                                             [\\n, \\n, \\n4 (Green)\\n]  \n",
       "Non-smoking Vehicle                                                     [\\n, \\n]  \n",
       "null                                                                          []  \n",
       "Make                                                                    \\nAudi\\n  \n",
       "Model                                                               [\\n, A1, \\n]  \n",
       "Offer Number                                                         [\\nC1626\\n]  \n",
       "First Registration                                                [\\n, 2016, \\n]  \n",
       "Body Color                                                       [\\n, Black, \\n]  \n",
       "Paint Type                                                        [\\nMetallic\\n]  \n",
       "Body Color Original                                 [\\nMythosschwarz Metallic\\n]  \n",
       "Upholstery                                                    [\\nCloth, Black\\n]  \n",
       "Body                                                            [\\n, Sedans, \\n]  \n",
       "Nr. of Doors                                                             [\\n5\\n]  \n",
       "Nr. of Seats                                                             [\\n5\\n]  \n",
       "Model Code                                                        [\\n0588/BDF\\n]  \n",
       "Gearing Type                                                 [\\n, Automatic, \\n]  \n",
       "Displacement                                                      [\\n1,422 cc\\n]  \n",
       "Cylinders                                                                [\\n3\\n]  \n",
       "Weight                                                                       NaN  \n",
       "Drive chain                                                          [\\nfront\\n]  \n",
       "Fuel                                       [\\n, Diesel (Particulate Filter), \\n]  \n",
       "Consumption                    [[4.1 l/100 km (comb)], [4.6 l/100 km (city)],...  \n",
       "CO2 Emission                                           [\\n109 g CO2/km (comb)\\n]  \n",
       "Emission Class                                                      [\\nEuro 6\\n]  \n",
       "\\nComfort & Convenience\\n      [Air conditioning, Armrest, Automatic climate ...  \n",
       "\\nEntertainment & Media\\n      [Bluetooth, CD player, Hands-free equipment, M...  \n",
       "\\nExtras\\n                     [Alloy wheels, Sport package, Sport suspension...  \n",
       "\\nSafety & Security\\n          [ABS, Central door lock, Driver-side airbag, E...  \n",
       "description                    [\\n, Technik & Sicherheit:, Xenon plus, Klimaa...  \n",
       "Emission Label                                                               NaN  \n",
       "Gears                                                                        NaN  \n",
       "Country version                                                    [\\nGermany\\n]  \n",
       "Electricity consumption                                                      NaN  \n",
       "Last Service Date                                                            NaN  \n",
       "Other Fuel Types                                                             NaN  \n",
       "Availability                                                                 NaN  \n",
       "Last Timing Belt Service Date                                                NaN  \n",
       "Available from                                                               NaN  "
      ]
     },
     "execution_count": 4,
     "metadata": {},
     "output_type": "execute_result"
    }
   ],
   "source": [
    "df.head(5).T"
   ]
  },
  {
   "cell_type": "code",
   "execution_count": 5,
   "id": "94d2ae63",
   "metadata": {},
   "outputs": [
    {
     "data": {
      "text/plain": [
       "(15919, 54)"
      ]
     },
     "execution_count": 5,
     "metadata": {},
     "output_type": "execute_result"
    }
   ],
   "source": [
    "df.shape"
   ]
  },
  {
   "cell_type": "code",
   "execution_count": 6,
   "id": "cfc0db6c",
   "metadata": {},
   "outputs": [
    {
     "data": {
      "text/html": [
       "<div>\n",
       "<style scoped>\n",
       "    .dataframe tbody tr th:only-of-type {\n",
       "        vertical-align: middle;\n",
       "    }\n",
       "\n",
       "    .dataframe tbody tr th {\n",
       "        vertical-align: top;\n",
       "    }\n",
       "\n",
       "    .dataframe thead th {\n",
       "        text-align: right;\n",
       "    }\n",
       "</style>\n",
       "<table border=\"1\" class=\"dataframe\">\n",
       "  <thead>\n",
       "    <tr style=\"text-align: right;\">\n",
       "      <th></th>\n",
       "      <th>Missing_Number</th>\n",
       "      <th>Missing_Percent</th>\n",
       "    </tr>\n",
       "  </thead>\n",
       "  <tbody>\n",
       "    <tr>\n",
       "      <th>kW</th>\n",
       "      <td>15919</td>\n",
       "      <td>1.000</td>\n",
       "    </tr>\n",
       "    <tr>\n",
       "      <th>Last Timing Belt Service Date</th>\n",
       "      <td>15903</td>\n",
       "      <td>0.999</td>\n",
       "    </tr>\n",
       "    <tr>\n",
       "      <th>Electricity consumption</th>\n",
       "      <td>15782</td>\n",
       "      <td>0.991</td>\n",
       "    </tr>\n",
       "    <tr>\n",
       "      <th>Available from</th>\n",
       "      <td>15647</td>\n",
       "      <td>0.983</td>\n",
       "    </tr>\n",
       "    <tr>\n",
       "      <th>Last Service Date</th>\n",
       "      <td>15353</td>\n",
       "      <td>0.964</td>\n",
       "    </tr>\n",
       "    <tr>\n",
       "      <th>Availability</th>\n",
       "      <td>15284</td>\n",
       "      <td>0.960</td>\n",
       "    </tr>\n",
       "    <tr>\n",
       "      <th>Other Fuel Types</th>\n",
       "      <td>15039</td>\n",
       "      <td>0.945</td>\n",
       "    </tr>\n",
       "    <tr>\n",
       "      <th>Next Inspection</th>\n",
       "      <td>12384</td>\n",
       "      <td>0.778</td>\n",
       "    </tr>\n",
       "    <tr>\n",
       "      <th>Inspection new</th>\n",
       "      <td>11987</td>\n",
       "      <td>0.753</td>\n",
       "    </tr>\n",
       "    <tr>\n",
       "      <th>Emission Label</th>\n",
       "      <td>11934</td>\n",
       "      <td>0.750</td>\n",
       "    </tr>\n",
       "    <tr>\n",
       "      <th>Model Code</th>\n",
       "      <td>10941</td>\n",
       "      <td>0.687</td>\n",
       "    </tr>\n",
       "    <tr>\n",
       "      <th>Non-smoking Vehicle</th>\n",
       "      <td>8742</td>\n",
       "      <td>0.549</td>\n",
       "    </tr>\n",
       "    <tr>\n",
       "      <th>Country version</th>\n",
       "      <td>8333</td>\n",
       "      <td>0.523</td>\n",
       "    </tr>\n",
       "    <tr>\n",
       "      <th>Full Service</th>\n",
       "      <td>7704</td>\n",
       "      <td>0.484</td>\n",
       "    </tr>\n",
       "    <tr>\n",
       "      <th>Weight</th>\n",
       "      <td>6974</td>\n",
       "      <td>0.438</td>\n",
       "    </tr>\n",
       "    <tr>\n",
       "      <th>Drive chain</th>\n",
       "      <td>6858</td>\n",
       "      <td>0.431</td>\n",
       "    </tr>\n",
       "    <tr>\n",
       "      <th>prev_owner</th>\n",
       "      <td>6828</td>\n",
       "      <td>0.429</td>\n",
       "    </tr>\n",
       "    <tr>\n",
       "      <th>Previous Owners</th>\n",
       "      <td>6640</td>\n",
       "      <td>0.417</td>\n",
       "    </tr>\n",
       "    <tr>\n",
       "      <th>Paint Type</th>\n",
       "      <td>5772</td>\n",
       "      <td>0.363</td>\n",
       "    </tr>\n",
       "    <tr>\n",
       "      <th>Cylinders</th>\n",
       "      <td>5680</td>\n",
       "      <td>0.357</td>\n",
       "    </tr>\n",
       "    <tr>\n",
       "      <th>Warranty</th>\n",
       "      <td>5420</td>\n",
       "      <td>0.340</td>\n",
       "    </tr>\n",
       "    <tr>\n",
       "      <th>Gears</th>\n",
       "      <td>4712</td>\n",
       "      <td>0.296</td>\n",
       "    </tr>\n",
       "    <tr>\n",
       "      <th>vat</th>\n",
       "      <td>4513</td>\n",
       "      <td>0.283</td>\n",
       "    </tr>\n",
       "    <tr>\n",
       "      <th>Body Color Original</th>\n",
       "      <td>3759</td>\n",
       "      <td>0.236</td>\n",
       "    </tr>\n",
       "    <tr>\n",
       "      <th>Upholstery</th>\n",
       "      <td>3720</td>\n",
       "      <td>0.234</td>\n",
       "    </tr>\n",
       "    <tr>\n",
       "      <th>Offer Number</th>\n",
       "      <td>3175</td>\n",
       "      <td>0.199</td>\n",
       "    </tr>\n",
       "    <tr>\n",
       "      <th>Emission Class</th>\n",
       "      <td>3021</td>\n",
       "      <td>0.190</td>\n",
       "    </tr>\n",
       "    <tr>\n",
       "      <th>\\nExtras\\n</th>\n",
       "      <td>2962</td>\n",
       "      <td>0.186</td>\n",
       "    </tr>\n",
       "    <tr>\n",
       "      <th>Consumption</th>\n",
       "      <td>1906</td>\n",
       "      <td>0.120</td>\n",
       "    </tr>\n",
       "    <tr>\n",
       "      <th>CO2 Emission</th>\n",
       "      <td>1808</td>\n",
       "      <td>0.114</td>\n",
       "    </tr>\n",
       "    <tr>\n",
       "      <th>First Registration</th>\n",
       "      <td>1597</td>\n",
       "      <td>0.100</td>\n",
       "    </tr>\n",
       "    <tr>\n",
       "      <th>\\nEntertainment &amp; Media\\n</th>\n",
       "      <td>1374</td>\n",
       "      <td>0.086</td>\n",
       "    </tr>\n",
       "    <tr>\n",
       "      <th>\\nSafety &amp; Security\\n</th>\n",
       "      <td>982</td>\n",
       "      <td>0.062</td>\n",
       "    </tr>\n",
       "    <tr>\n",
       "      <th>Nr. of Seats</th>\n",
       "      <td>977</td>\n",
       "      <td>0.061</td>\n",
       "    </tr>\n",
       "    <tr>\n",
       "      <th>\\nComfort &amp; Convenience\\n</th>\n",
       "      <td>920</td>\n",
       "      <td>0.058</td>\n",
       "    </tr>\n",
       "    <tr>\n",
       "      <th>Body Color</th>\n",
       "      <td>597</td>\n",
       "      <td>0.038</td>\n",
       "    </tr>\n",
       "    <tr>\n",
       "      <th>Displacement</th>\n",
       "      <td>496</td>\n",
       "      <td>0.031</td>\n",
       "    </tr>\n",
       "    <tr>\n",
       "      <th>Nr. of Doors</th>\n",
       "      <td>212</td>\n",
       "      <td>0.013</td>\n",
       "    </tr>\n",
       "    <tr>\n",
       "      <th>Body</th>\n",
       "      <td>60</td>\n",
       "      <td>0.004</td>\n",
       "    </tr>\n",
       "    <tr>\n",
       "      <th>body_type</th>\n",
       "      <td>60</td>\n",
       "      <td>0.004</td>\n",
       "    </tr>\n",
       "    <tr>\n",
       "      <th>short_description</th>\n",
       "      <td>46</td>\n",
       "      <td>0.003</td>\n",
       "    </tr>\n",
       "    <tr>\n",
       "      <th>Type</th>\n",
       "      <td>2</td>\n",
       "      <td>0.000</td>\n",
       "    </tr>\n",
       "    <tr>\n",
       "      <th>Fuel</th>\n",
       "      <td>0</td>\n",
       "      <td>0.000</td>\n",
       "    </tr>\n",
       "    <tr>\n",
       "      <th>Gearing Type</th>\n",
       "      <td>0</td>\n",
       "      <td>0.000</td>\n",
       "    </tr>\n",
       "    <tr>\n",
       "      <th>make_model</th>\n",
       "      <td>0</td>\n",
       "      <td>0.000</td>\n",
       "    </tr>\n",
       "    <tr>\n",
       "      <th>Model</th>\n",
       "      <td>0</td>\n",
       "      <td>0.000</td>\n",
       "    </tr>\n",
       "    <tr>\n",
       "      <th>Make</th>\n",
       "      <td>0</td>\n",
       "      <td>0.000</td>\n",
       "    </tr>\n",
       "    <tr>\n",
       "      <th>description</th>\n",
       "      <td>0</td>\n",
       "      <td>0.000</td>\n",
       "    </tr>\n",
       "    <tr>\n",
       "      <th>null</th>\n",
       "      <td>0</td>\n",
       "      <td>0.000</td>\n",
       "    </tr>\n",
       "    <tr>\n",
       "      <th>hp</th>\n",
       "      <td>0</td>\n",
       "      <td>0.000</td>\n",
       "    </tr>\n",
       "    <tr>\n",
       "      <th>registration</th>\n",
       "      <td>0</td>\n",
       "      <td>0.000</td>\n",
       "    </tr>\n",
       "    <tr>\n",
       "      <th>km</th>\n",
       "      <td>0</td>\n",
       "      <td>0.000</td>\n",
       "    </tr>\n",
       "    <tr>\n",
       "      <th>price</th>\n",
       "      <td>0</td>\n",
       "      <td>0.000</td>\n",
       "    </tr>\n",
       "    <tr>\n",
       "      <th>url</th>\n",
       "      <td>0</td>\n",
       "      <td>0.000</td>\n",
       "    </tr>\n",
       "  </tbody>\n",
       "</table>\n",
       "</div>"
      ],
      "text/plain": [
       "                               Missing_Number  Missing_Percent\n",
       "kW                                      15919            1.000\n",
       "Last Timing Belt Service Date           15903            0.999\n",
       "Electricity consumption                 15782            0.991\n",
       "Available from                          15647            0.983\n",
       "Last Service Date                       15353            0.964\n",
       "Availability                            15284            0.960\n",
       "Other Fuel Types                        15039            0.945\n",
       "Next Inspection                         12384            0.778\n",
       "Inspection new                          11987            0.753\n",
       "Emission Label                          11934            0.750\n",
       "Model Code                              10941            0.687\n",
       "Non-smoking Vehicle                      8742            0.549\n",
       "Country version                          8333            0.523\n",
       "Full Service                             7704            0.484\n",
       "Weight                                   6974            0.438\n",
       "Drive chain                              6858            0.431\n",
       "prev_owner                               6828            0.429\n",
       "Previous Owners                          6640            0.417\n",
       "Paint Type                               5772            0.363\n",
       "Cylinders                                5680            0.357\n",
       "Warranty                                 5420            0.340\n",
       "Gears                                    4712            0.296\n",
       "vat                                      4513            0.283\n",
       "Body Color Original                      3759            0.236\n",
       "Upholstery                               3720            0.234\n",
       "Offer Number                             3175            0.199\n",
       "Emission Class                           3021            0.190\n",
       "\\nExtras\\n                               2962            0.186\n",
       "Consumption                              1906            0.120\n",
       "CO2 Emission                             1808            0.114\n",
       "First Registration                       1597            0.100\n",
       "\\nEntertainment & Media\\n                1374            0.086\n",
       "\\nSafety & Security\\n                     982            0.062\n",
       "Nr. of Seats                              977            0.061\n",
       "\\nComfort & Convenience\\n                 920            0.058\n",
       "Body Color                                597            0.038\n",
       "Displacement                              496            0.031\n",
       "Nr. of Doors                              212            0.013\n",
       "Body                                       60            0.004\n",
       "body_type                                  60            0.004\n",
       "short_description                          46            0.003\n",
       "Type                                        2            0.000\n",
       "Fuel                                        0            0.000\n",
       "Gearing Type                                0            0.000\n",
       "make_model                                  0            0.000\n",
       "Model                                       0            0.000\n",
       "Make                                        0            0.000\n",
       "description                                 0            0.000\n",
       "null                                        0            0.000\n",
       "hp                                          0            0.000\n",
       "registration                                0            0.000\n",
       "km                                          0            0.000\n",
       "price                                       0            0.000\n",
       "url                                         0            0.000"
      ]
     },
     "execution_count": 6,
     "metadata": {},
     "output_type": "execute_result"
    }
   ],
   "source": [
    "def missing (df):\n",
    "    missing_number = df.isnull().sum().sort_values(ascending=False)\n",
    "    missing_percent = (df.isnull().sum()/df.isnull().count()).sort_values(ascending=False)\n",
    "    missing_values = pd.concat([missing_number, missing_percent], axis=1, keys=['Missing_Number', 'Missing_Percent'])\n",
    "    return missing_values\n",
    "\n",
    "missing(df)"
   ]
  },
  {
   "cell_type": "code",
   "execution_count": 7,
   "id": "02f46a19",
   "metadata": {},
   "outputs": [
    {
     "name": "stdout",
     "output_type": "stream",
     "text": [
      "<class 'pandas.core.frame.DataFrame'>\n",
      "RangeIndex: 15919 entries, 0 to 15918\n",
      "Data columns (total 54 columns):\n",
      " #   Column                         Non-Null Count  Dtype  \n",
      "---  ------                         --------------  -----  \n",
      " 0   url                            15919 non-null  object \n",
      " 1   make_model                     15919 non-null  object \n",
      " 2   short_description              15873 non-null  object \n",
      " 3   body_type                      15859 non-null  object \n",
      " 4   price                          15919 non-null  int64  \n",
      " 5   vat                            11406 non-null  object \n",
      " 6   km                             15919 non-null  object \n",
      " 7   registration                   15919 non-null  object \n",
      " 8   prev_owner                     9091 non-null   object \n",
      " 9   kW                             0 non-null      float64\n",
      " 10  hp                             15919 non-null  object \n",
      " 11  Type                           15917 non-null  object \n",
      " 12  Previous Owners                9279 non-null   object \n",
      " 13  Next Inspection                3535 non-null   object \n",
      " 14  Inspection new                 3932 non-null   object \n",
      " 15  Warranty                       10499 non-null  object \n",
      " 16  Full Service                   8215 non-null   object \n",
      " 17  Non-smoking Vehicle            7177 non-null   object \n",
      " 18  null                           15919 non-null  object \n",
      " 19  Make                           15919 non-null  object \n",
      " 20  Model                          15919 non-null  object \n",
      " 21  Offer Number                   12744 non-null  object \n",
      " 22  First Registration             14322 non-null  object \n",
      " 23  Body Color                     15322 non-null  object \n",
      " 24  Paint Type                     10147 non-null  object \n",
      " 25  Body Color Original            12160 non-null  object \n",
      " 26  Upholstery                     12199 non-null  object \n",
      " 27  Body                           15859 non-null  object \n",
      " 28  Nr. of Doors                   15707 non-null  object \n",
      " 29  Nr. of Seats                   14942 non-null  object \n",
      " 30  Model Code                     4978 non-null   object \n",
      " 31  Gearing Type                   15919 non-null  object \n",
      " 32  Displacement                   15423 non-null  object \n",
      " 33  Cylinders                      10239 non-null  object \n",
      " 34  Weight                         8945 non-null   object \n",
      " 35  Drive chain                    9061 non-null   object \n",
      " 36  Fuel                           15919 non-null  object \n",
      " 37  Consumption                    14013 non-null  object \n",
      " 38  CO2 Emission                   14111 non-null  object \n",
      " 39  Emission Class                 12898 non-null  object \n",
      " 40  \n",
      "Comfort & Convenience\n",
      "        14999 non-null  object \n",
      " 41  \n",
      "Entertainment & Media\n",
      "        14545 non-null  object \n",
      " 42  \n",
      "Extras\n",
      "                       12957 non-null  object \n",
      " 43  \n",
      "Safety & Security\n",
      "            14937 non-null  object \n",
      " 44  description                    15919 non-null  object \n",
      " 45  Emission Label                 3985 non-null   object \n",
      " 46  Gears                          11207 non-null  object \n",
      " 47  Country version                7586 non-null   object \n",
      " 48  Electricity consumption        137 non-null    object \n",
      " 49  Last Service Date              566 non-null    object \n",
      " 50  Other Fuel Types               880 non-null    object \n",
      " 51  Availability                   635 non-null    object \n",
      " 52  Last Timing Belt Service Date  16 non-null     object \n",
      " 53  Available from                 272 non-null    object \n",
      "dtypes: float64(1), int64(1), object(52)\n",
      "memory usage: 6.6+ MB\n"
     ]
    }
   ],
   "source": [
    "df.info()"
   ]
  },
  {
   "cell_type": "markdown",
   "id": "c433f4f8",
   "metadata": {},
   "source": [
    "\n",
    "### drop column whose Nan value is too much AND THERE İS NO USEFUL DATA  "
   ]
  },
  {
   "cell_type": "code",
   "execution_count": 8,
   "id": "2090ca83",
   "metadata": {},
   "outputs": [],
   "source": [
    "null_columns=df.notnull().sum()*100/df.shape[0]"
   ]
  },
  {
   "cell_type": "code",
   "execution_count": 9,
   "id": "4301a5f7",
   "metadata": {},
   "outputs": [
    {
     "name": "stdout",
     "output_type": "stream",
     "text": [
      "kW\n",
      "Electricity consumption\n",
      "Last Service Date\n",
      "Other Fuel Types\n",
      "Availability\n",
      "Last Timing Belt Service Date\n",
      "Available from\n"
     ]
    }
   ],
   "source": [
    "for i,j in zip(null_columns.values,null_columns.index):\n",
    "    if i<10:\n",
    "        print(j)"
   ]
  },
  {
   "cell_type": "code",
   "execution_count": 10,
   "id": "f890e656",
   "metadata": {},
   "outputs": [],
   "source": [
    "drop_nan_list=[j for i,j in zip(null_columns.values,null_columns.index) if i<10]"
   ]
  },
  {
   "cell_type": "code",
   "execution_count": 11,
   "id": "ddfed1aa",
   "metadata": {},
   "outputs": [],
   "source": [
    "df.drop(axis=1,columns=drop_nan_list,inplace=True)"
   ]
  },
  {
   "cell_type": "code",
   "execution_count": 12,
   "id": "c73382c5",
   "metadata": {},
   "outputs": [
    {
     "data": {
      "text/plain": [
       "(15919, 47)"
      ]
     },
     "execution_count": 12,
     "metadata": {},
     "output_type": "execute_result"
    }
   ],
   "source": [
    "df.shape"
   ]
  },
  {
   "cell_type": "markdown",
   "id": "5c8f12a0",
   "metadata": {},
   "source": [
    "## Examine all columns step by step"
   ]
  },
  {
   "cell_type": "markdown",
   "id": "a8fec84b",
   "metadata": {},
   "source": [
    "## URL"
   ]
  },
  {
   "cell_type": "code",
   "execution_count": 13,
   "id": "a3e9d40a",
   "metadata": {},
   "outputs": [
    {
     "data": {
      "text/plain": [
       "https://www.autoscout24.com//offers/renault-clio-1-5-dci-75cv-life-italiana-kmcertificati-diesel-white-f4485656-448c-4415-b853-7d4411b656dd              1\n",
       "https://www.autoscout24.com//offers/opel-insignia-sports-tourer-1-6-cdti-136pk-euro6-ecoflex-innovat-diesel-grey-23020918-cd1a-4991-a69d-ea5f7a5c4ff1    1\n",
       "https://www.autoscout24.com//offers/audi-a3-spb-1-6-tdi-clean-diesel-s-tronic-bus-diesel-black-9901480c-29fe-4460-8ed2-c70e51568041                      1\n",
       "https://www.autoscout24.com//offers/audi-a1-sportback-1-4-tdi-s-tronic-sport-18-zoll-navi-xeno-diesel-red-5d661945-5070-4469-8384-492df957f89f           1\n",
       "https://www.autoscout24.com//offers/renault-clio-grandtour-authentique-gasoline-brown-ad39aceb-f1ff-4988-b899-01d8f4eaeca7                               1\n",
       "                                                                                                                                                        ..\n",
       "https://www.autoscout24.com//offers/audi-a1-1-0-tfsi-ultra-gasoline-black-1ebce6c9-02e1-4aa9-a7e6-3c89c03abbc4                                           1\n",
       "https://www.autoscout24.com//offers/audi-a3-sportback-30-tfsi-116-nav-pdc-shz-temp-16z-gasoline-grey-ca027c91-e6a8-445a-a13c-663f0e8a44e2                1\n",
       "https://www.autoscout24.com//offers/renault-clio-1-5-dci-75ch-energy-air-diesel-09926b8a-7030-49b5-89e4-1dfc41b3b6d0                                     1\n",
       "https://www.autoscout24.com//offers/opel-astra-sports-tourer-navi-shz-ahk-diesel-white-59894eb1-f37a-4350-a832-aa0421511b85                              1\n",
       "https://www.autoscout24.com//offers/audi-a1-sportback-25-tfsi-black-line-gasoline-620b4bfa-b25c-4528-8b85-f306768285a5                                   1\n",
       "Name: url, Length: 15919, dtype: int64"
      ]
     },
     "execution_count": 13,
     "metadata": {},
     "output_type": "execute_result"
    }
   ],
   "source": [
    "df.url.value_counts(dropna=False)"
   ]
  },
  {
   "cell_type": "code",
   "execution_count": 14,
   "id": "541b9131",
   "metadata": {},
   "outputs": [],
   "source": [
    "df.drop('url',axis=1,inplace=True)"
   ]
  },
  {
   "cell_type": "markdown",
   "id": "c1801a14",
   "metadata": {},
   "source": [
    "## MAKE_MODEL"
   ]
  },
  {
   "cell_type": "code",
   "execution_count": 15,
   "id": "41eb1351",
   "metadata": {},
   "outputs": [
    {
     "data": {
      "text/plain": [
       "Audi A3           3097\n",
       "Audi A1           2614\n",
       "Opel Insignia     2598\n",
       "Opel Astra        2526\n",
       "Opel Corsa        2219\n",
       "Renault Clio      1839\n",
       "Renault Espace     991\n",
       "Renault Duster      34\n",
       "Audi A2              1\n",
       "Name: make_model, dtype: int64"
      ]
     },
     "execution_count": 15,
     "metadata": {},
     "output_type": "execute_result"
    }
   ],
   "source": [
    "df.make_model.value_counts(dropna=False)##CATEGORIC"
   ]
  },
  {
   "cell_type": "code",
   "execution_count": 16,
   "id": "eca564fc",
   "metadata": {},
   "outputs": [
    {
     "data": {
      "text/plain": [
       "0"
      ]
     },
     "execution_count": 16,
     "metadata": {},
     "output_type": "execute_result"
    }
   ],
   "source": [
    "df.make_model.isnull().sum()"
   ]
  },
  {
   "cell_type": "markdown",
   "id": "02f16abb",
   "metadata": {},
   "source": [
    "### Examine make and model column which are related to make_model column to determine duplicate row"
   ]
  },
  {
   "cell_type": "code",
   "execution_count": 17,
   "id": "7fe001e1",
   "metadata": {},
   "outputs": [],
   "source": [
    "#df.Make.value_counts(dropna=False)"
   ]
  },
  {
   "cell_type": "code",
   "execution_count": 18,
   "id": "3b2c74ea",
   "metadata": {},
   "outputs": [
    {
     "ename": "TypeError",
     "evalue": "unhashable type: 'list'",
     "output_type": "error",
     "traceback": [
      "\u001b[1;31m---------------------------------------------------------------------------\u001b[0m",
      "\u001b[1;31mTypeError\u001b[0m                                 Traceback (most recent call last)",
      "\u001b[1;32mpandas\\_libs\\hashtable_class_helper.pxi\u001b[0m in \u001b[0;36mpandas._libs.hashtable.PyObjectHashTable.map_locations\u001b[1;34m()\u001b[0m\n",
      "\u001b[1;31mTypeError\u001b[0m: unhashable type: 'list'"
     ]
    },
    {
     "name": "stderr",
     "output_type": "stream",
     "text": [
      "Exception ignored in: 'pandas._libs.index.IndexEngine._call_map_locations'\n",
      "Traceback (most recent call last):\n",
      "  File \"pandas\\_libs\\hashtable_class_helper.pxi\", line 4588, in pandas._libs.hashtable.PyObjectHashTable.map_locations\n",
      "TypeError: unhashable type: 'list'\n"
     ]
    },
    {
     "data": {
      "text/plain": [
       "[\\n, A3, \\n]          3097\n",
       "[\\n, A1, \\n]          2614\n",
       "[\\n, Insignia, \\n]    2598\n",
       "[\\n, Astra, \\n]       2526\n",
       "[\\n, Corsa, \\n]       2219\n",
       "[\\n, Clio, \\n]        1839\n",
       "[\\n, Espace, \\n]       991\n",
       "[\\n, Duster, \\n]        34\n",
       "[\\n, A2, \\n]             1\n",
       "Name: Model, dtype: int64"
      ]
     },
     "execution_count": 18,
     "metadata": {},
     "output_type": "execute_result"
    }
   ],
   "source": [
    "df.Model.value_counts(dropna=False)"
   ]
  },
  {
   "cell_type": "code",
   "execution_count": 19,
   "id": "6aef1de8",
   "metadata": {},
   "outputs": [],
   "source": [
    "check_model=df.Make.map(lambda x : x.strip('\\n'))+' '+df.Model.map(lambda x: x[1])==df['make_model']##Check make+model same as make_model"
   ]
  },
  {
   "cell_type": "code",
   "execution_count": 20,
   "id": "b869ad75",
   "metadata": {},
   "outputs": [
    {
     "data": {
      "text/plain": [
       "True    15919\n",
       "dtype: int64"
      ]
     },
     "execution_count": 20,
     "metadata": {},
     "output_type": "execute_result"
    }
   ],
   "source": [
    "check_model.value_counts()"
   ]
  },
  {
   "cell_type": "markdown",
   "id": "b7157668",
   "metadata": {},
   "source": [
    "### When we examine these three columns we can see that make_model column is same with make+model so we drop make and model column"
   ]
  },
  {
   "cell_type": "code",
   "execution_count": 21,
   "id": "33deb029",
   "metadata": {},
   "outputs": [],
   "source": [
    "df.drop([\"Make\",\"Model\"],axis=1,inplace=True)"
   ]
  },
  {
   "cell_type": "markdown",
   "id": "97309fb4",
   "metadata": {},
   "source": [
    "## SHORT DESCRIPTION"
   ]
  },
  {
   "cell_type": "code",
   "execution_count": 22,
   "id": "355e1540",
   "metadata": {},
   "outputs": [
    {
     "data": {
      "text/plain": [
       "SPB 1.6 TDI 116 CV S tronic Sport                     64\n",
       "1.4 66kW (90CV) Selective                             40\n",
       "MOVE KLIMA CD USB ALLWETTER BLUETOOTH                 38\n",
       "SPB 30 TFSI S tronic Admired                          35\n",
       "SPB 30 TDI S tronic Business                          35\n",
       "                                                      ..\n",
       "SB 1,6 TDI                                             1\n",
       "IV ESTATE dCi 90 E6C EDC Intens                        1\n",
       "IV 0.9 TCE 75CH ENERGY TREND 5P EURO6C+ROUE DE SE      1\n",
       "Sportback Sport 1.0TFSI Stronic Klimaautomatik Sit     1\n",
       "dCi EDC Start&Stop 5p Energy Zen - X NEOPATENTATI      1\n",
       "Name: short_description, Length: 10001, dtype: int64"
      ]
     },
     "execution_count": 22,
     "metadata": {},
     "output_type": "execute_result"
    }
   ],
   "source": [
    "df.short_description.value_counts()"
   ]
  },
  {
   "cell_type": "markdown",
   "id": "eb0cfc94",
   "metadata": {},
   "source": [
    "### The information in the short description column is useless ,this can not be categorized so we can  drop"
   ]
  },
  {
   "cell_type": "code",
   "execution_count": 23,
   "id": "79705d42",
   "metadata": {},
   "outputs": [],
   "source": [
    "df.drop([\"short_description\"],axis=1,inplace=True)"
   ]
  },
  {
   "cell_type": "markdown",
   "id": "b685a281",
   "metadata": {},
   "source": [
    "## BODY TYPE"
   ]
  },
  {
   "cell_type": "code",
   "execution_count": 24,
   "id": "a2944905",
   "metadata": {},
   "outputs": [
    {
     "data": {
      "text/plain": [
       "Sedans           7903\n",
       "Station wagon    3553\n",
       "Compact          3153\n",
       "Van               783\n",
       "Other             290\n",
       "Transporter        88\n",
       "Off-Road           56\n",
       "Coupe              25\n",
       "Convertible         8\n",
       "Name: body_type, dtype: int64"
      ]
     },
     "execution_count": 24,
     "metadata": {},
     "output_type": "execute_result"
    }
   ],
   "source": [
    "df.body_type.value_counts()##CATEGORIC"
   ]
  },
  {
   "cell_type": "code",
   "execution_count": 25,
   "id": "895b88f7",
   "metadata": {},
   "outputs": [
    {
     "data": {
      "text/plain": [
       "60"
      ]
     },
     "execution_count": 25,
     "metadata": {},
     "output_type": "execute_result"
    }
   ],
   "source": [
    "df.body_type.isnull().sum()"
   ]
  },
  {
   "cell_type": "markdown",
   "id": "7a63cd88",
   "metadata": {},
   "source": [
    "## PRICE"
   ]
  },
  {
   "cell_type": "code",
   "execution_count": 26,
   "id": "45116b77",
   "metadata": {},
   "outputs": [
    {
     "data": {
      "text/plain": [
       "14990    154\n",
       "15990    151\n",
       "10990    139\n",
       "15900    106\n",
       "17990    102\n",
       "        ... \n",
       "31940      1\n",
       "15540      1\n",
       "21649      1\n",
       "27790      1\n",
       "34815      1\n",
       "Name: price, Length: 2956, dtype: int64"
      ]
     },
     "execution_count": 26,
     "metadata": {},
     "output_type": "execute_result"
    }
   ],
   "source": [
    "df.price.value_counts()##NUMERIC VALUE,INT CAN BE convert float"
   ]
  },
  {
   "cell_type": "code",
   "execution_count": 27,
   "id": "d8f04858",
   "metadata": {},
   "outputs": [
    {
     "data": {
      "text/plain": [
       "2276     20990\n",
       "7959     16990\n",
       "9605      9500\n",
       "12356    19990\n",
       "13835    13300\n",
       "Name: price, dtype: int64"
      ]
     },
     "execution_count": 27,
     "metadata": {},
     "output_type": "execute_result"
    }
   ],
   "source": [
    "df.price.sample(5)"
   ]
  },
  {
   "cell_type": "code",
   "execution_count": 28,
   "id": "bef4305e",
   "metadata": {},
   "outputs": [
    {
     "data": {
      "text/plain": [
       "0"
      ]
     },
     "execution_count": 28,
     "metadata": {},
     "output_type": "execute_result"
    }
   ],
   "source": [
    "df.price.isnull().sum()"
   ]
  },
  {
   "cell_type": "markdown",
   "id": "67599d1b",
   "metadata": {},
   "source": [
    "## VAT"
   ]
  },
  {
   "cell_type": "code",
   "execution_count": 29,
   "id": "34a19f75",
   "metadata": {},
   "outputs": [
    {
     "data": {
      "text/plain": [
       "VAT deductible      10980\n",
       "Price negotiable      426\n",
       "Name: vat, dtype: int64"
      ]
     },
     "execution_count": 29,
     "metadata": {},
     "output_type": "execute_result"
    }
   ],
   "source": [
    "df.vat.value_counts()##CATEGORİC,NEED DUMMIES"
   ]
  },
  {
   "cell_type": "code",
   "execution_count": 30,
   "id": "b56ba5b5",
   "metadata": {},
   "outputs": [
    {
     "data": {
      "text/plain": [
       "4513"
      ]
     },
     "execution_count": 30,
     "metadata": {},
     "output_type": "execute_result"
    }
   ],
   "source": [
    "df.vat.isnull().sum()"
   ]
  },
  {
   "cell_type": "code",
   "execution_count": 31,
   "id": "a91b7e0e",
   "metadata": {},
   "outputs": [
    {
     "data": {
      "text/plain": [
       "15669    VAT deductible\n",
       "2224     VAT deductible\n",
       "10357    VAT deductible\n",
       "13995    VAT deductible\n",
       "12044    VAT deductible\n",
       "Name: vat, dtype: object"
      ]
     },
     "execution_count": 31,
     "metadata": {},
     "output_type": "execute_result"
    }
   ],
   "source": [
    "df.vat.sample(5)"
   ]
  },
  {
   "cell_type": "markdown",
   "id": "b52efd12",
   "metadata": {},
   "source": [
    "## KM"
   ]
  },
  {
   "cell_type": "code",
   "execution_count": 32,
   "id": "0ee47948",
   "metadata": {},
   "outputs": [
    {
     "data": {
      "text/plain": [
       "0"
      ]
     },
     "execution_count": 32,
     "metadata": {},
     "output_type": "execute_result"
    }
   ],
   "source": [
    "df.km.isnull().sum()"
   ]
  },
  {
   "cell_type": "code",
   "execution_count": 33,
   "id": "dbdccac9",
   "metadata": {},
   "outputs": [
    {
     "data": {
      "text/plain": [
       "- km    1024\n",
       "Name: km, dtype: int64"
      ]
     },
     "execution_count": 33,
     "metadata": {},
     "output_type": "execute_result"
    }
   ],
   "source": [
    "df.km[df.km=='- km'].value_counts()##these data must be solve in the missing part "
   ]
  },
  {
   "cell_type": "code",
   "execution_count": 34,
   "id": "1e0985ba",
   "metadata": {},
   "outputs": [
    {
     "data": {
      "text/plain": [
       "0       56013.000\n",
       "1       80000.000\n",
       "2       83450.000\n",
       "3       73000.000\n",
       "4       16200.000\n",
       "           ...   \n",
       "15914         NaN\n",
       "15915    9900.000\n",
       "15916      15.000\n",
       "15917      10.000\n",
       "15918         NaN\n",
       "Name: km, Length: 15919, dtype: float64"
      ]
     },
     "execution_count": 34,
     "metadata": {},
     "output_type": "execute_result"
    }
   ],
   "source": [
    "df.km.apply(lambda x:x.split(\" \")[0].replace(',', '')).apply(lambda x: None if x=='-' else x).astype(float)\n",
    "##when we use apply we don't need to inplace True, but with map function we need to redefine column"
   ]
  },
  {
   "cell_type": "code",
   "execution_count": 35,
   "id": "64c23f25",
   "metadata": {},
   "outputs": [
    {
     "data": {
      "text/plain": [
       "2245    - km\n",
       "Name: km, dtype: object"
      ]
     },
     "execution_count": 35,
     "metadata": {},
     "output_type": "execute_result"
    }
   ],
   "source": [
    "df.km.sample()##data is object convert to float USE AS NUMERIC "
   ]
  },
  {
   "cell_type": "code",
   "execution_count": 283,
   "id": "770f7e37",
   "metadata": {},
   "outputs": [],
   "source": [
    "df.km=df.km.apply(lambda x:x.split(\" \")[0].replace(',', '')).apply(lambda x: None if x=='-' else x).astype(float)"
   ]
  },
  {
   "cell_type": "markdown",
   "id": "554e2da6",
   "metadata": {},
   "source": [
    "## REGISTRATION AND FIRST REGISTRATION"
   ]
  },
  {
   "cell_type": "code",
   "execution_count": 36,
   "id": "2ba8b238",
   "metadata": {},
   "outputs": [
    {
     "data": {
      "text/plain": [
       "3350    05/2017\n",
       "Name: registration, dtype: object"
      ]
     },
     "execution_count": 36,
     "metadata": {},
     "output_type": "execute_result"
    }
   ],
   "source": [
    "df.registration.sample()"
   ]
  },
  {
   "cell_type": "code",
   "execution_count": 37,
   "id": "347f8b3f",
   "metadata": {},
   "outputs": [
    {
     "data": {
      "text/plain": [
       "2018    4522\n",
       "2016    3674\n",
       "2017    3273\n",
       "2019    2853\n",
       "-       1597\n",
       "Name: registration, dtype: int64"
      ]
     },
     "execution_count": 37,
     "metadata": {},
     "output_type": "execute_result"
    }
   ],
   "source": [
    "df.registration.apply(lambda x: x.split('/')[1]).value_counts()"
   ]
  },
  {
   "cell_type": "code",
   "execution_count": 38,
   "id": "acc187d4",
   "metadata": {},
   "outputs": [
    {
     "data": {
      "text/plain": [
       "2018.000    4522\n",
       "2016.000    3674\n",
       "2017.000    3273\n",
       "2019.000    2853\n",
       "Name: First Registration, dtype: int64"
      ]
     },
     "execution_count": 38,
     "metadata": {},
     "output_type": "execute_result"
    }
   ],
   "source": [
    "df['First Registration'].map(lambda x: float(list(x)[1]),na_action='ignore').value_counts()"
   ]
  },
  {
   "cell_type": "code",
   "execution_count": 39,
   "id": "31dcd2bf",
   "metadata": {},
   "outputs": [
    {
     "data": {
      "text/plain": [
       "4737   2018.000\n",
       "Name: First Registration, dtype: float64"
      ]
     },
     "execution_count": 39,
     "metadata": {},
     "output_type": "execute_result"
    }
   ],
   "source": [
    "df['First Registration'].map(lambda x: float(list(x)[1]),na_action='ignore').sample()"
   ]
  },
  {
   "cell_type": "code",
   "execution_count": null,
   "id": "789d1943",
   "metadata": {},
   "outputs": [],
   "source": []
  },
  {
   "cell_type": "code",
   "execution_count": 40,
   "id": "bdb15e10",
   "metadata": {},
   "outputs": [
    {
     "data": {
      "text/plain": [
       "1597"
      ]
     },
     "execution_count": 40,
     "metadata": {},
     "output_type": "execute_result"
    }
   ],
   "source": [
    "df['First Registration'].isnull().sum()"
   ]
  },
  {
   "cell_type": "markdown",
   "id": "d78ce022",
   "metadata": {},
   "source": [
    "### After examining these two columns, we can determine that we need year so we can drop registration column and convert data to float at the first registration"
   ]
  },
  {
   "cell_type": "code",
   "execution_count": 41,
   "id": "54916960",
   "metadata": {},
   "outputs": [],
   "source": [
    "df.drop('registration',axis=1,inplace=True)"
   ]
  },
  {
   "cell_type": "code",
   "execution_count": 42,
   "id": "da725ee1",
   "metadata": {},
   "outputs": [],
   "source": [
    "df['First Registration']=df['First Registration'].map(lambda x: float(list(x)[1]),na_action='ignore')"
   ]
  },
  {
   "cell_type": "code",
   "execution_count": 43,
   "id": "d9cbc37f",
   "metadata": {},
   "outputs": [
    {
     "data": {
      "text/plain": [
       "1597"
      ]
     },
     "execution_count": 43,
     "metadata": {},
     "output_type": "execute_result"
    }
   ],
   "source": [
    "df['First Registration'].isnull().sum()"
   ]
  },
  {
   "cell_type": "markdown",
   "id": "71318699",
   "metadata": {},
   "source": [
    "## AGE COLUMN CAN BE OBTAINED THEN FIRST REGISTRATION DROP "
   ]
  },
  {
   "cell_type": "code",
   "execution_count": 44,
   "id": "66741933",
   "metadata": {},
   "outputs": [],
   "source": [
    "df['Age']=2019-df['First Registration']"
   ]
  },
  {
   "cell_type": "code",
   "execution_count": 45,
   "id": "988161f6",
   "metadata": {},
   "outputs": [
    {
     "data": {
      "text/plain": [
       "1.000    4522\n",
       "3.000    3674\n",
       "2.000    3273\n",
       "0.000    2853\n",
       "Name: Age, dtype: int64"
      ]
     },
     "execution_count": 45,
     "metadata": {},
     "output_type": "execute_result"
    }
   ],
   "source": [
    "df['Age'].value_counts()"
   ]
  },
  {
   "cell_type": "code",
   "execution_count": 46,
   "id": "a7d5b47e",
   "metadata": {},
   "outputs": [
    {
     "data": {
      "text/plain": [
       "1597"
      ]
     },
     "execution_count": 46,
     "metadata": {},
     "output_type": "execute_result"
    }
   ],
   "source": [
    "df['Age'].isnull().sum()"
   ]
  },
  {
   "cell_type": "code",
   "execution_count": 47,
   "id": "10d838d8",
   "metadata": {},
   "outputs": [],
   "source": [
    "df.drop('First Registration',axis=1,inplace=True)"
   ]
  },
  {
   "cell_type": "markdown",
   "id": "5dc0c1bb",
   "metadata": {},
   "source": [
    "## PREV_OWNER AND PREVIOUS OWNERS"
   ]
  },
  {
   "cell_type": "code",
   "execution_count": 48,
   "id": "e8d5945e",
   "metadata": {},
   "outputs": [
    {
     "data": {
      "text/plain": [
       "1 previous owner     8294\n",
       "2 previous owners     778\n",
       "3 previous owners      17\n",
       "4 previous owners       2\n",
       "Name: prev_owner, dtype: int64"
      ]
     },
     "execution_count": 48,
     "metadata": {},
     "output_type": "execute_result"
    }
   ],
   "source": [
    "df.prev_owner.value_counts()"
   ]
  },
  {
   "cell_type": "code",
   "execution_count": 49,
   "id": "bfb26113",
   "metadata": {},
   "outputs": [
    {
     "data": {
      "text/plain": [
       "984        NaN\n",
       "8398     \\n1\\n\n",
       "4577       NaN\n",
       "1380       NaN\n",
       "10126    \\n1\\n\n",
       "Name: Previous Owners, dtype: object"
      ]
     },
     "execution_count": 49,
     "metadata": {},
     "output_type": "execute_result"
    }
   ],
   "source": [
    "df['Previous Owners'].sample(5)"
   ]
  },
  {
   "cell_type": "code",
   "execution_count": 50,
   "id": "b640a5dd",
   "metadata": {},
   "outputs": [
    {
     "ename": "TypeError",
     "evalue": "unhashable type: 'list'",
     "output_type": "error",
     "traceback": [
      "\u001b[1;31m---------------------------------------------------------------------------\u001b[0m",
      "\u001b[1;31mTypeError\u001b[0m                                 Traceback (most recent call last)",
      "\u001b[1;32mpandas\\_libs\\hashtable_class_helper.pxi\u001b[0m in \u001b[0;36mpandas._libs.hashtable.PyObjectHashTable.map_locations\u001b[1;34m()\u001b[0m\n",
      "\u001b[1;31mTypeError\u001b[0m: unhashable type: 'list'"
     ]
    },
    {
     "name": "stderr",
     "output_type": "stream",
     "text": [
      "Exception ignored in: 'pandas._libs.index.IndexEngine._call_map_locations'\n",
      "Traceback (most recent call last):\n",
      "  File \"pandas\\_libs\\hashtable_class_helper.pxi\", line 4588, in pandas._libs.hashtable.PyObjectHashTable.map_locations\n",
      "TypeError: unhashable type: 'list'\n"
     ]
    },
    {
     "data": {
      "text/plain": [
       "\\n1\\n                               8101\n",
       "\\n2\\n                                766\n",
       "\\n0\\n                                163\n",
       "\\n3\\n                                 17\n",
       "[\\n1\\n, \\n168 g CO2/km (comb)\\n]      13\n",
       "                                    ... \n",
       "[\\n1\\n, \\n137 g CO2/km (comb)\\n]       1\n",
       "[\\n2\\n, \\n127 g CO2/km (comb)\\n]       1\n",
       "[\\n1\\n, \\n159 g CO2/km (comb)\\n]       1\n",
       "[\\n0\\n, \\n117 g CO2/km (comb)\\n]       1\n",
       "[\\n1\\n, \\n102 g CO2/km (comb)\\n]       1\n",
       "Name: Previous Owners, Length: 102, dtype: int64"
      ]
     },
     "execution_count": 50,
     "metadata": {},
     "output_type": "execute_result"
    }
   ],
   "source": [
    "df['Previous Owners'].value_counts()"
   ]
  },
  {
   "cell_type": "code",
   "execution_count": 51,
   "id": "f503faa2",
   "metadata": {},
   "outputs": [
    {
     "data": {
      "text/plain": [
       "1.000    8294\n",
       "2.000     778\n",
       "0.000     188\n",
       "3.000      17\n",
       "4.000       2\n",
       "Name: Previous Owners, dtype: int64"
      ]
     },
     "execution_count": 51,
     "metadata": {},
     "output_type": "execute_result"
    }
   ],
   "source": [
    "df['Previous Owners'].map(lambda x: str(x)[4] if str(x)[0]=='[' else str(x).strip('\\n'),na_action='ignore' ).astype(float).value_counts()"
   ]
  },
  {
   "cell_type": "code",
   "execution_count": 52,
   "id": "f58ec051",
   "metadata": {},
   "outputs": [],
   "source": [
    "df['Previous Owners']=df['Previous Owners'].map(lambda x: str(x)[4] if str(x)[0]=='[' else str(x).strip('\\n'),na_action='ignore' ).astype(float)"
   ]
  },
  {
   "cell_type": "code",
   "execution_count": 53,
   "id": "d2bf746d",
   "metadata": {},
   "outputs": [],
   "source": [
    "##\"prev_owner\",\"Previous Owners\" are duplicate column Previous Owners\" is more accurate so we drop prev_owner column\n",
    "\n",
    "df.drop(\"prev_owner\",axis =1,inplace=True)"
   ]
  },
  {
   "cell_type": "markdown",
   "id": "95c56877",
   "metadata": {},
   "source": [
    "## HP"
   ]
  },
  {
   "cell_type": "code",
   "execution_count": 54,
   "id": "f479e045",
   "metadata": {},
   "outputs": [
    {
     "data": {
      "text/plain": [
       "2174     147 kW\n",
       "15797    147 kW\n",
       "12560    154 kW\n",
       "2303      70 kW\n",
       "10789    191 kW\n",
       "Name: hp, dtype: object"
      ]
     },
     "execution_count": 54,
     "metadata": {},
     "output_type": "execute_result"
    }
   ],
   "source": [
    "df.hp.sample(5)##type must be convert to float"
   ]
  },
  {
   "cell_type": "code",
   "execution_count": 55,
   "id": "9febb8b7",
   "metadata": {},
   "outputs": [
    {
     "data": {
      "text/plain": [
       "0"
      ]
     },
     "execution_count": 55,
     "metadata": {},
     "output_type": "execute_result"
    }
   ],
   "source": [
    "df.hp.isnull().sum()"
   ]
  },
  {
   "cell_type": "code",
   "execution_count": 56,
   "id": "b835eb27",
   "metadata": {},
   "outputs": [],
   "source": [
    "df.hp=df.hp.apply(lambda x: float(x.split(\" \")[0]) if x!='- kW' else np.nan)"
   ]
  },
  {
   "cell_type": "code",
   "execution_count": 57,
   "id": "5a4897fe",
   "metadata": {},
   "outputs": [
    {
     "data": {
      "text/plain": [
       "12691   125.000\n",
       "Name: hp, dtype: float64"
      ]
     },
     "execution_count": 57,
     "metadata": {},
     "output_type": "execute_result"
    }
   ],
   "source": [
    "df.hp.sample()"
   ]
  },
  {
   "cell_type": "code",
   "execution_count": 58,
   "id": "8ed7b8c5",
   "metadata": {},
   "outputs": [
    {
     "data": {
      "text/plain": [
       "88"
      ]
     },
     "execution_count": 58,
     "metadata": {},
     "output_type": "execute_result"
    }
   ],
   "source": [
    "df.hp.isnull().sum()## '- kW' convert to nan we deal with later with nan"
   ]
  },
  {
   "cell_type": "markdown",
   "id": "d6c4ea11",
   "metadata": {},
   "source": [
    "## TYPE"
   ]
  },
  {
   "cell_type": "code",
   "execution_count": 59,
   "id": "7bdb6689",
   "metadata": {},
   "outputs": [
    {
     "data": {
      "text/plain": [
       "9191                                  [, Used, , Gasoline]\n",
       "7372                                  [, Used, , Super 95]\n",
       "1778               [, Used, , Diesel (Particulate Filter)]\n",
       "11998    [, Employee's car, , Diesel (Particulate Filter)]\n",
       "5477                                   [, New, , Super 95]\n",
       "Name: Type, dtype: object"
      ]
     },
     "execution_count": 59,
     "metadata": {},
     "output_type": "execute_result"
    }
   ],
   "source": [
    "df.Type.sample(5)"
   ]
  },
  {
   "cell_type": "code",
   "execution_count": 60,
   "id": "e6dd444b",
   "metadata": {},
   "outputs": [],
   "source": [
    "df_new_fuel=df.Type.map(lambda x: x[3],na_action='ignore')"
   ]
  },
  {
   "cell_type": "code",
   "execution_count": 61,
   "id": "e8b4d88e",
   "metadata": {},
   "outputs": [
    {
     "data": {
      "text/plain": [
       "Diesel               7297\n",
       "Super                4790\n",
       "Gasoline             3252\n",
       "Regular/Benzine       503\n",
       "CNG                    36\n",
       "LPG                    16\n",
       "Liquid                 10\n",
       "Others                  6\n",
       "Electric/Gasoline       4\n",
       "nan                     2\n",
       "Electric                1\n",
       "Biogas                  1\n",
       "Domestic                1\n",
       "Name: Type, dtype: int64"
      ]
     },
     "execution_count": 61,
     "metadata": {},
     "output_type": "execute_result"
    }
   ],
   "source": [
    "df_new_fuel.map(lambda x: str(x).split(' ')[0]).value_counts()##we can continue with Fuel column we do not need this column"
   ]
  },
  {
   "cell_type": "code",
   "execution_count": 62,
   "id": "f66e90e7",
   "metadata": {},
   "outputs": [
    {
     "data": {
      "text/plain": [
       "2"
      ]
     },
     "execution_count": 62,
     "metadata": {},
     "output_type": "execute_result"
    }
   ],
   "source": [
    "df.Type.map(lambda x: x[3],na_action='ignore').isnull().sum()##Check  if same as Fuel column or not"
   ]
  },
  {
   "cell_type": "code",
   "execution_count": 63,
   "id": "0dac07d8",
   "metadata": {
    "scrolled": true
   },
   "outputs": [],
   "source": [
    "df.Type=df.Type.map(lambda x: x[1],na_action='ignore')## we change type column"
   ]
  },
  {
   "cell_type": "code",
   "execution_count": 64,
   "id": "e7d40c2f",
   "metadata": {},
   "outputs": [
    {
     "data": {
      "text/plain": [
       "Used              11096\n",
       "New                1650\n",
       "Pre-registered     1364\n",
       "Employee's car     1011\n",
       "Demonstration       796\n",
       "Name: Type, dtype: int64"
      ]
     },
     "execution_count": 64,
     "metadata": {},
     "output_type": "execute_result"
    }
   ],
   "source": [
    "df.Type.value_counts()"
   ]
  },
  {
   "cell_type": "code",
   "execution_count": 65,
   "id": "1d69d064",
   "metadata": {},
   "outputs": [
    {
     "data": {
      "text/plain": [
       "2"
      ]
     },
     "execution_count": 65,
     "metadata": {},
     "output_type": "execute_result"
    }
   ],
   "source": [
    "df.Type.isnull().sum()"
   ]
  },
  {
   "cell_type": "code",
   "execution_count": 66,
   "id": "f1485c8b",
   "metadata": {},
   "outputs": [
    {
     "data": {
      "text/plain": [
       "5515     Demonstration\n",
       "7974    Pre-registered\n",
       "Name: Type, dtype: object"
      ]
     },
     "execution_count": 66,
     "metadata": {},
     "output_type": "execute_result"
    }
   ],
   "source": [
    "df.Type.sample(2)## Categoric "
   ]
  },
  {
   "cell_type": "markdown",
   "id": "d28be367",
   "metadata": {},
   "source": [
    "### EXAMPLE LIST COMPREHESION"
   ]
  },
  {
   "cell_type": "code",
   "execution_count": 67,
   "id": "85148f83",
   "metadata": {},
   "outputs": [],
   "source": [
    "#[1 if type(x)==list and 'Used' in x \n",
    "# else(1 if type(x)==list and \"Employee's car\" in x else 0) for x in df1['Type']]\n",
    "#[1 if type(x)==list and 'Used' in x else(1 if type(x)==list and \"Employee's car\" in x else(1 if type(x)==list and \"Demonstration\" in row else(1 if type(x)==list and \"Pre-registered\" in row else 0)) for x in df1['Type']]\n",
    "\n"
   ]
  },
  {
   "cell_type": "markdown",
   "id": "0092a8be",
   "metadata": {},
   "source": [
    "## FUEL"
   ]
  },
  {
   "cell_type": "code",
   "execution_count": 68,
   "id": "10e5288f",
   "metadata": {},
   "outputs": [
    {
     "data": {
      "text/plain": [
       "0"
      ]
     },
     "execution_count": 68,
     "metadata": {},
     "output_type": "execute_result"
    }
   ],
   "source": [
    "df.Fuel.isnull().sum()"
   ]
  },
  {
   "cell_type": "code",
   "execution_count": 69,
   "id": "43b42287",
   "metadata": {},
   "outputs": [],
   "source": [
    "df.Fuel=df.Fuel.map(lambda x: x[1].split(' ')[0] if type(x)==list else x.split(' ')[0])"
   ]
  },
  {
   "cell_type": "code",
   "execution_count": 70,
   "id": "21ea8df0",
   "metadata": {},
   "outputs": [],
   "source": [
    "df.Fuel=df.Fuel.map(lambda x: 'Gasoline' if x=='Regular/Benzine' or x=='Super' else x )"
   ]
  },
  {
   "cell_type": "code",
   "execution_count": 71,
   "id": "a768fa5d",
   "metadata": {},
   "outputs": [],
   "source": [
    "df.Fuel=df.Fuel.map(lambda x: 'LPG' if x=='Liquid' or x=='Biogas'or x=='Domestic' else x )\n",
    "\n"
   ]
  },
  {
   "cell_type": "code",
   "execution_count": 72,
   "id": "adfb6cea",
   "metadata": {},
   "outputs": [
    {
     "data": {
      "text/plain": [
       "Gasoline             8545\n",
       "Diesel               7299\n",
       "CNG                    36\n",
       "LPG                    28\n",
       "Others                  6\n",
       "Electric/Gasoline       4\n",
       "Electric                1\n",
       "Name: Fuel, dtype: int64"
      ]
     },
     "execution_count": 72,
     "metadata": {},
     "output_type": "execute_result"
    }
   ],
   "source": [
    "df.Fuel.value_counts()"
   ]
  },
  {
   "cell_type": "code",
   "execution_count": 73,
   "id": "09e87a71",
   "metadata": {},
   "outputs": [
    {
     "data": {
      "text/plain": [
       "0"
      ]
     },
     "execution_count": 73,
     "metadata": {},
     "output_type": "execute_result"
    }
   ],
   "source": [
    "df.Fuel.isnull().sum()"
   ]
  },
  {
   "cell_type": "markdown",
   "id": "6722bc20",
   "metadata": {},
   "source": [
    "## NEXT INSPECTION AND INSPECTION NEW"
   ]
  },
  {
   "cell_type": "code",
   "execution_count": 74,
   "id": "48d74d7d",
   "metadata": {},
   "outputs": [
    {
     "ename": "TypeError",
     "evalue": "unhashable type: 'list'",
     "output_type": "error",
     "traceback": [
      "\u001b[1;31m---------------------------------------------------------------------------\u001b[0m",
      "\u001b[1;31mTypeError\u001b[0m                                 Traceback (most recent call last)",
      "\u001b[1;32mpandas\\_libs\\hashtable_class_helper.pxi\u001b[0m in \u001b[0;36mpandas._libs.hashtable.PyObjectHashTable.map_locations\u001b[1;34m()\u001b[0m\n",
      "\u001b[1;31mTypeError\u001b[0m: unhashable type: 'list'"
     ]
    },
    {
     "name": "stderr",
     "output_type": "stream",
     "text": [
      "Exception ignored in: 'pandas._libs.index.IndexEngine._call_map_locations'\n",
      "Traceback (most recent call last):\n",
      "  File \"pandas\\_libs\\hashtable_class_helper.pxi\", line 4588, in pandas._libs.hashtable.PyObjectHashTable.map_locations\n",
      "TypeError: unhashable type: 'list'\n"
     ]
    },
    {
     "data": {
      "text/plain": [
       "\\n04/2022\\n                                                                                      62\n",
       "\\n03/2021\\n                                                                                      38\n",
       "\\n03/2022\\n                                                                                      36\n",
       "\\n06/2021\\n                                                                                      34\n",
       "\\n01/2022\\n                                                                                      32\n",
       "                                                                                                 ..\n",
       "[\\n03/2020\\n, \\n112 g CO2/km (comb)\\n]                                                            1\n",
       "[\\n02/2020\\n, \\n, 6 l/100 km (comb), \\n, 7.8 l/100 km (city), \\n, 4.9 l/100 km (country), \\n]     1\n",
       "[\\n03/2022\\n, \\n107 g CO2/km (comb)\\n]                                                            1\n",
       "[\\n12/2019\\n, \\n110 g CO2/km (comb)\\n]                                                            1\n",
       "[\\n01/2020\\n, \\n125 g CO2/km (comb)\\n]                                                            1\n",
       "Name: Next Inspection, Length: 1399, dtype: int64"
      ]
     },
     "execution_count": 74,
     "metadata": {},
     "output_type": "execute_result"
    }
   ],
   "source": [
    "df['Next Inspection'].value_counts()"
   ]
  },
  {
   "cell_type": "code",
   "execution_count": 75,
   "id": "a1a9c8d3",
   "metadata": {},
   "outputs": [],
   "source": [
    "df['Next Inspection']=df['Next Inspection'].map(lambda x: str(x[0]).strip('\\n')[3:] if type(x)==list else str(x).strip('\\n')[3:],na_action='ignore')"
   ]
  },
  {
   "cell_type": "code",
   "execution_count": 76,
   "id": "b448a1b6",
   "metadata": {},
   "outputs": [],
   "source": [
    "df['Inspection new']=df['Inspection new'].map(lambda x: str(x[0]).strip('\\n') if type(x)==list else str(x).strip('\\n')  ,na_action='ignore')"
   ]
  },
  {
   "cell_type": "code",
   "execution_count": 77,
   "id": "c7346d22",
   "metadata": {},
   "outputs": [
    {
     "data": {
      "text/html": [
       "<div>\n",
       "<style scoped>\n",
       "    .dataframe tbody tr th:only-of-type {\n",
       "        vertical-align: middle;\n",
       "    }\n",
       "\n",
       "    .dataframe tbody tr th {\n",
       "        vertical-align: top;\n",
       "    }\n",
       "\n",
       "    .dataframe thead th {\n",
       "        text-align: right;\n",
       "    }\n",
       "</style>\n",
       "<table border=\"1\" class=\"dataframe\">\n",
       "  <thead>\n",
       "    <tr style=\"text-align: right;\">\n",
       "      <th></th>\n",
       "      <th>Next Inspection</th>\n",
       "      <th>Inspection new</th>\n",
       "    </tr>\n",
       "  </thead>\n",
       "  <tbody>\n",
       "    <tr>\n",
       "      <th>13827</th>\n",
       "      <td>NaN</td>\n",
       "      <td>NaN</td>\n",
       "    </tr>\n",
       "    <tr>\n",
       "      <th>9349</th>\n",
       "      <td>2021</td>\n",
       "      <td>NaN</td>\n",
       "    </tr>\n",
       "    <tr>\n",
       "      <th>15491</th>\n",
       "      <td>NaN</td>\n",
       "      <td>NaN</td>\n",
       "    </tr>\n",
       "    <tr>\n",
       "      <th>4530</th>\n",
       "      <td>2021</td>\n",
       "      <td>NaN</td>\n",
       "    </tr>\n",
       "    <tr>\n",
       "      <th>14684</th>\n",
       "      <td>NaN</td>\n",
       "      <td>NaN</td>\n",
       "    </tr>\n",
       "  </tbody>\n",
       "</table>\n",
       "</div>"
      ],
      "text/plain": [
       "      Next Inspection Inspection new\n",
       "13827             NaN            NaN\n",
       "9349             2021            NaN\n",
       "15491             NaN            NaN\n",
       "4530             2021            NaN\n",
       "14684             NaN            NaN"
      ]
     },
     "execution_count": 77,
     "metadata": {},
     "output_type": "execute_result"
    }
   ],
   "source": [
    "df[['Next Inspection','Inspection new']].sample(5)"
   ]
  },
  {
   "cell_type": "code",
   "execution_count": 78,
   "id": "bd53bbab",
   "metadata": {},
   "outputs": [
    {
     "data": {
      "text/plain": [
       "12384"
      ]
     },
     "execution_count": 78,
     "metadata": {},
     "output_type": "execute_result"
    }
   ],
   "source": [
    "df['Next Inspection'].isnull().sum()"
   ]
  },
  {
   "cell_type": "code",
   "execution_count": 79,
   "id": "64da7dc3",
   "metadata": {},
   "outputs": [
    {
     "data": {
      "text/plain": [
       "11987"
      ]
     },
     "execution_count": 79,
     "metadata": {},
     "output_type": "execute_result"
    }
   ],
   "source": [
    "df['Inspection new'].isnull().sum()"
   ]
  },
  {
   "cell_type": "code",
   "execution_count": 80,
   "id": "d559b965",
   "metadata": {},
   "outputs": [
    {
     "data": {
      "text/plain": [
       "2021    1601\n",
       "2020     694\n",
       "2022     688\n",
       "2019     438\n",
       "2023      47\n",
       "2018      38\n",
       "2017      13\n",
       "2016       6\n",
       "2001       5\n",
       "1921       1\n",
       "2024       1\n",
       "1955       1\n",
       "2014       1\n",
       "1999       1\n",
       "Name: Next Inspection, dtype: int64"
      ]
     },
     "execution_count": 80,
     "metadata": {},
     "output_type": "execute_result"
    }
   ],
   "source": [
    "df['Next Inspection'].value_counts()"
   ]
  },
  {
   "cell_type": "code",
   "execution_count": 81,
   "id": "240f8cc6",
   "metadata": {},
   "outputs": [
    {
     "data": {
      "text/plain": [
       "2021    515\n",
       "2022    158\n",
       "2020     95\n",
       "2019     92\n",
       "2018      9\n",
       "2001      5\n",
       "1921      1\n",
       "Name: Next Inspection, dtype: int64"
      ]
     },
     "execution_count": 81,
     "metadata": {},
     "output_type": "execute_result"
    }
   ],
   "source": [
    "df[df['Inspection new']=='Yes']['Next Inspection'].value_counts()"
   ]
  },
  {
   "cell_type": "markdown",
   "id": "73de3908",
   "metadata": {},
   "source": [
    "### We can see that 2001,1921 is given wrongly , we consider 2019 is the current year so that 2020 and after years we can determine yes in the Inspection new column"
   ]
  },
  {
   "cell_type": "code",
   "execution_count": 82,
   "id": "a09c53a5",
   "metadata": {},
   "outputs": [],
   "source": [
    "df['Next Inspection']=df['Next Inspection'].map(lambda x: float(x))"
   ]
  },
  {
   "cell_type": "code",
   "execution_count": 83,
   "id": "ad8dba56",
   "metadata": {},
   "outputs": [],
   "source": [
    "df['Next Inspection']=df['Next Inspection'].map(lambda x: 2021 if x==1921 or x==2001 else x)"
   ]
  },
  {
   "cell_type": "code",
   "execution_count": 84,
   "id": "08c5e348",
   "metadata": {},
   "outputs": [],
   "source": [
    "df[(df['Next Inspection']>2019) & (df['Inspection new']!='Yes')]['Inspection new']='Yes'"
   ]
  },
  {
   "cell_type": "code",
   "execution_count": 85,
   "id": "29b75903",
   "metadata": {},
   "outputs": [],
   "source": [
    "row=df[(df['Next Inspection']>2019) & (df['Inspection new']!='Yes')]['Inspection new'].index"
   ]
  },
  {
   "cell_type": "code",
   "execution_count": 86,
   "id": "e0a1d7b3",
   "metadata": {},
   "outputs": [],
   "source": [
    "for i in row:\n",
    "    df['Inspection new'].iloc[i]='Yes'"
   ]
  },
  {
   "cell_type": "code",
   "execution_count": 87,
   "id": "295eb517",
   "metadata": {},
   "outputs": [
    {
     "data": {
      "text/plain": [
       "9724"
      ]
     },
     "execution_count": 87,
     "metadata": {},
     "output_type": "execute_result"
    }
   ],
   "source": [
    "df['Inspection new'].isnull().sum()"
   ]
  },
  {
   "cell_type": "markdown",
   "id": "6e1c0e24",
   "metadata": {},
   "source": [
    "## After we take around 2200 data,  we can drop Next Inspection column "
   ]
  },
  {
   "cell_type": "code",
   "execution_count": 88,
   "id": "7017209f",
   "metadata": {},
   "outputs": [],
   "source": [
    "df.drop('Next Inspection',axis=1,inplace=True)"
   ]
  },
  {
   "cell_type": "markdown",
   "id": "88f2b35e",
   "metadata": {},
   "source": [
    "## WARRANTY"
   ]
  },
  {
   "cell_type": "code",
   "execution_count": 89,
   "id": "2f57edc4",
   "metadata": {},
   "outputs": [
    {
     "ename": "TypeError",
     "evalue": "unhashable type: 'list'",
     "output_type": "error",
     "traceback": [
      "\u001b[1;31m---------------------------------------------------------------------------\u001b[0m",
      "\u001b[1;31mTypeError\u001b[0m                                 Traceback (most recent call last)",
      "\u001b[1;32mpandas\\_libs\\hashtable_class_helper.pxi\u001b[0m in \u001b[0;36mpandas._libs.hashtable.PyObjectHashTable.map_locations\u001b[1;34m()\u001b[0m\n",
      "\u001b[1;31mTypeError\u001b[0m: unhashable type: 'list'"
     ]
    },
    {
     "name": "stderr",
     "output_type": "stream",
     "text": [
      "Exception ignored in: 'pandas._libs.index.IndexEngine._call_map_locations'\n",
      "Traceback (most recent call last):\n",
      "  File \"pandas\\_libs\\hashtable_class_helper.pxi\", line 4588, in pandas._libs.hashtable.PyObjectHashTable.map_locations\n",
      "TypeError: unhashable type: 'list'\n"
     ]
    },
    {
     "data": {
      "text/plain": [
       "[\\n, \\n, \\nEuro 6\\n]                                                                               1868\n",
       "\\n12 months\\n                                                                                      1177\n",
       "\\n                                                                                                  979\n",
       "\\n24 months\\n                                                                                       566\n",
       "[\\n, \\n, \\n4 (Green)\\n]                                                                             517\n",
       "                                                                                                   ... \n",
       "[\\n12 months\\n, \\n51 g CO2/km (comb)\\n]                                                               1\n",
       "[\\n36 months\\n, \\n136 g CO2/km (comb)\\n]                                                              1\n",
       "[\\n72 months\\n, \\n, 6 l/100 km (comb), \\n, 7.3 l/100 km (city), \\n, 5.2 l/100 km (country), \\n]       1\n",
       "[\\n36 months\\n, \\n85 g CO2/km (comb)\\n]                                                               1\n",
       "[\\n, \\n, \\n, 4.9 l/100 km (comb), \\n, 6.2 l/100 km (city), \\n, 4.2 l/100 km (country), \\n]            1\n",
       "Name: Warranty, Length: 515, dtype: int64"
      ]
     },
     "execution_count": 89,
     "metadata": {},
     "output_type": "execute_result"
    }
   ],
   "source": [
    "df.Warranty.value_counts()"
   ]
  },
  {
   "cell_type": "code",
   "execution_count": 90,
   "id": "1f5997dc",
   "metadata": {},
   "outputs": [],
   "source": [
    "df['Warranty']=df['Warranty'].map(lambda x: str(x[0]).strip('\\n').split(' ')[0] if type(x)==list else str(x).strip('\\n').split(' ')[0]  ,na_action='ignore')"
   ]
  },
  {
   "cell_type": "code",
   "execution_count": 91,
   "id": "d14948f9",
   "metadata": {},
   "outputs": [],
   "source": [
    "df['Warranty']=df['Warranty'].replace('',np.nan).astype(float)##CHECK LATER ON IF DATA IS MEANİNGFUL"
   ]
  },
  {
   "cell_type": "markdown",
   "id": "241dd05a",
   "metadata": {},
   "source": [
    "## FULL SERVICE"
   ]
  },
  {
   "cell_type": "code",
   "execution_count": 92,
   "id": "8cdd392f",
   "metadata": {},
   "outputs": [
    {
     "data": {
      "text/plain": [
       "0                                [\\n, \\n]\n",
       "1                                     NaN\n",
       "2                                     NaN\n",
       "3        [\\n, \\n, \\n99 g CO2/km (comb)\\n]\n",
       "4                 [\\n, \\n, \\n4 (Green)\\n]\n",
       "                       ...               \n",
       "15914                                 NaN\n",
       "15915                                 NaN\n",
       "15916                            [\\n, \\n]\n",
       "15917                                 NaN\n",
       "15918                                 NaN\n",
       "Name: Full Service, Length: 15919, dtype: object"
      ]
     },
     "execution_count": 92,
     "metadata": {},
     "output_type": "execute_result"
    }
   ],
   "source": [
    "df['Full Service']##There is nothing meaningful DROP"
   ]
  },
  {
   "cell_type": "code",
   "execution_count": 93,
   "id": "ef675f2a",
   "metadata": {},
   "outputs": [],
   "source": [
    "df.drop('Full Service',axis=1,inplace=True)"
   ]
  },
  {
   "cell_type": "markdown",
   "id": "79e8afe5",
   "metadata": {},
   "source": [
    "## NONSMOKING VEHICLE,NULL,OFFER NUMBER"
   ]
  },
  {
   "cell_type": "code",
   "execution_count": 94,
   "id": "af1e5812",
   "metadata": {},
   "outputs": [
    {
     "ename": "TypeError",
     "evalue": "unhashable type: 'list'",
     "output_type": "error",
     "traceback": [
      "\u001b[1;31m---------------------------------------------------------------------------\u001b[0m",
      "\u001b[1;31mTypeError\u001b[0m                                 Traceback (most recent call last)",
      "\u001b[1;32mpandas\\_libs\\hashtable_class_helper.pxi\u001b[0m in \u001b[0;36mpandas._libs.hashtable.PyObjectHashTable.map_locations\u001b[1;34m()\u001b[0m\n",
      "\u001b[1;31mTypeError\u001b[0m: unhashable type: 'list'"
     ]
    },
    {
     "name": "stderr",
     "output_type": "stream",
     "text": [
      "Exception ignored in: 'pandas._libs.index.IndexEngine._call_map_locations'\n",
      "Traceback (most recent call last):\n",
      "  File \"pandas\\_libs\\hashtable_class_helper.pxi\", line 4588, in pandas._libs.hashtable.PyObjectHashTable.map_locations\n",
      "TypeError: unhashable type: 'list'\n"
     ]
    },
    {
     "data": {
      "text/plain": [
       "[\\n, \\n]                                                                                      3647\n",
       "[\\n, \\n, \\n4 (Green)\\n]                                                                       1240\n",
       "[\\n, \\n, \\nEuro 6\\n]                                                                          1127\n",
       "[\\n, \\n, \\nEuro 6d-TEMP\\n]                                                                     345\n",
       "\\n                                                                                              70\n",
       "[\\n, \\n, \\n120 g CO2/km (comb)\\n]                                                               63\n",
       "[\\n, \\n, \\n85 g CO2/km (comb)\\n]                                                                46\n",
       "[\\n, \\n, \\n107 g CO2/km (comb)\\n]                                                               36\n",
       "[\\n, \\n, \\n104 g CO2/km (comb)\\n]                                                               36\n",
       "[\\n, \\n, \\n153 g CO2/km (comb)\\n]                                                               31\n",
       "[\\n, \\n, \\n124 g CO2/km (comb)\\n]                                                               29\n",
       "[\\n, \\n, \\n1 (No sticker)\\n]                                                                    24\n",
       "[\\n, \\n, \\n99 g CO2/km (comb)\\n]                                                                23\n",
       "[\\n, \\n, \\n106 g CO2/km (comb)\\n]                                                               20\n",
       "[\\n, \\n, \\n97 g CO2/km (comb)\\n]                                                                20\n",
       "[\\n, \\n, \\n108 g CO2/km (comb)\\n]                                                               19\n",
       "[\\n, \\n, \\n100 g CO2/km (comb)\\n]                                                               18\n",
       "[\\n, \\n, \\n113 g CO2/km (comb)\\n]                                                               18\n",
       "[\\n, \\n, \\n105 g CO2/km (comb)\\n]                                                               18\n",
       "[\\n, \\n, \\n109 g CO2/km (comb)\\n]                                                               18\n",
       "[\\n, \\n, \\nEuro 6c\\n]                                                                           17\n",
       "[\\n, \\n, \\n98 g CO2/km (comb)\\n]                                                                15\n",
       "[\\n, \\n, \\n129 g CO2/km (comb)\\n]                                                               14\n",
       "[\\n, \\n, \\n131 g CO2/km (comb)\\n]                                                               13\n",
       "[\\n, \\n, \\n133 g CO2/km (comb)\\n]                                                               12\n",
       "[\\n, \\n, \\n103 g CO2/km (comb)\\n]                                                               12\n",
       "[\\n, \\n, \\n114 g CO2/km (comb)\\n]                                                               12\n",
       "[\\n, \\n, \\n116 g CO2/km (comb)\\n]                                                               11\n",
       "[\\n, \\n, \\n135 g CO2/km (comb)\\n]                                                               11\n",
       "[\\n, \\n, \\n102 g CO2/km (comb)\\n]                                                               11\n",
       "[\\n, \\n, \\n127 g CO2/km (comb)\\n]                                                               10\n",
       "[\\n, \\n, \\n143 g CO2/km (comb)\\n]                                                               10\n",
       "[\\n, \\n, \\n92 g CO2/km (comb)\\n]                                                                 9\n",
       "[\\n, \\n, \\n112 g CO2/km (comb)\\n]                                                                9\n",
       "[\\n, \\n, \\nEuro 6d\\n]                                                                            9\n",
       "[\\n, \\n, \\n118 g CO2/km (comb)\\n]                                                                8\n",
       "[\\n, \\n, \\n5 (Blue)\\n]                                                                           8\n",
       "[\\n, \\n, \\n128 g CO2/km (comb)\\n]                                                                7\n",
       "[\\n, \\n, \\n139 g CO2/km (comb)\\n]                                                                7\n",
       "[\\n, \\n, \\n147 g CO2/km (comb)\\n]                                                                7\n",
       "[\\n, \\n, \\n126 g CO2/km (comb)\\n]                                                                6\n",
       "[\\n, \\n, \\n140 g CO2/km (comb)\\n]                                                                6\n",
       "[\\n, \\n, \\n137 g CO2/km (comb)\\n]                                                                6\n",
       "[\\n, \\n, \\n117 g CO2/km (comb)\\n]                                                                6\n",
       "[\\n, \\n, \\n130 g CO2/km (comb)\\n]                                                                5\n",
       "[\\n, \\n, \\n115 g CO2/km (comb)\\n]                                                                5\n",
       "[\\n, \\n, \\n, 5.2 l/100 km (comb), \\n, 5.8 l/100 km (city), \\n, 4.8 l/100 km (country), \\n]       4\n",
       "[\\n, \\n, \\nEuro 5\\n]                                                                             4\n",
       "[\\n, \\n, \\n151 g CO2/km (comb)\\n]                                                                4\n",
       "[\\n, \\n, \\n123 g CO2/km (comb)\\n]                                                                4\n",
       "[\\n, \\n, \\n149 g CO2/km (comb)\\n]                                                                3\n",
       "[\\n, \\n, \\n157 g CO2/km (comb)\\n]                                                                3\n",
       "[\\n, \\n, \\n95 g CO2/km (comb)\\n]                                                                 3\n",
       "[\\n, \\n, \\n148 g CO2/km (comb)\\n]                                                                3\n",
       "[\\n, \\n, \\n136 g CO2/km (comb)\\n]                                                                3\n",
       "[\\n, \\n, \\n119 g CO2/km (comb)\\n]                                                                3\n",
       "[\\n, \\n, \\n110 g CO2/km (comb)\\n]                                                                3\n",
       "[\\n, \\n, \\n, 5.2 l/100 km (comb), \\n, 6.4 l/100 km (city), \\n, 4.4 l/100 km (country), \\n]       2\n",
       "[\\n, \\n, \\n134 g CO2/km (comb)\\n]                                                                2\n",
       "[\\n, \\n, \\n121 g CO2/km (comb)\\n]                                                                2\n",
       "[\\n, \\n, \\n138 g CO2/km (comb)\\n]                                                                2\n",
       "[\\n, \\n, \\n125 g CO2/km (comb)\\n]                                                                2\n",
       "[\\n, \\n, \\n142 g CO2/km (comb)\\n]                                                                2\n",
       "[\\n, \\n, \\n166 g CO2/km (comb)\\n]                                                                2\n",
       "[\\n, \\n, \\n111 g CO2/km (comb)\\n]                                                                2\n",
       "[\\n, \\n, \\n90 g CO2/km (comb)\\n]                                                                 2\n",
       "[\\n, \\n, \\n, 6.1 l/100 km (comb), \\n, 7.8 l/100 km (city), \\n, 5.1 l/100 km (country), \\n]       1\n",
       "[\\n, \\n, \\n82 g CO2/km (comb)\\n]                                                                 1\n",
       "[\\n, \\n, \\n, 6.2 l/100 km (comb), \\n, 7.9 l/100 km (city), \\n, 5.3 l/100 km (country), \\n]       1\n",
       "[\\n, \\n, \\n, 1.6 l/100 km (comb), \\n, \\n, \\n]                                                    1\n",
       "[\\n, \\n, \\n, 6.1 l/100 km (comb), \\n, 7.7 l/100 km (city), \\n, 5.2 l/100 km (country), \\n]       1\n",
       "[\\n, \\n, \\n, 6.5 l/100 km (comb), \\n, 7.9 l/100 km (city), \\n, 5.6 l/100 km (country), \\n]       1\n",
       "[\\n, \\n, \\n175 g CO2/km (comb)\\n]                                                                1\n",
       "[\\n, \\n, \\n159 g CO2/km (comb)\\n]                                                                1\n",
       "[\\n, \\n, \\n122 g CO2/km (comb)\\n]                                                                1\n",
       "[\\n, \\n, \\n, 6.4 l/100 km (comb), \\n, 8.1 l/100 km (city), \\n, 5.4 l/100 km (country), \\n]       1\n",
       "[\\n, \\n, \\n132 g CO2/km (comb)\\n]                                                                1\n",
       "[\\n, \\n, \\n, 5.7 l/100 km (comb), \\n, 7.3 l/100 km (city), \\n, 4.7 l/100 km (country), \\n]       1\n",
       "[\\n, \\n, \\n158 g CO2/km (comb)\\n]                                                                1\n",
       "[\\n, \\n, \\n169 g CO2/km (comb)\\n]                                                                1\n",
       "[\\n, \\n, \\n156 g CO2/km (comb)\\n]                                                                1\n",
       "[\\n, \\n, \\n161 g CO2/km (comb)\\n]                                                                1\n",
       "[\\n, \\n, \\n, 6.3 l/100 km (comb), \\n, 8 l/100 km (city), \\n, 5.3 l/100 km (country), \\n]         1\n",
       "[\\n, \\n, \\n189 g CO2/km (comb)\\n]                                                                1\n",
       "[\\n, \\n, \\n, 5.6 l/100 km (comb), \\n, 7.3 l/100 km (city), \\n, 4.7 l/100 km (country), \\n]       1\n",
       "[\\n, \\n, \\n152 g CO2/km (comb)\\n]                                                                1\n",
       "[\\n, \\n, \\n146 g CO2/km (comb)\\n]                                                                1\n",
       "[\\n, \\n, \\n172 g CO2/km (comb)\\n]                                                                1\n",
       "[\\n, \\n, \\n150 g CO2/km (comb)\\n]                                                                1\n",
       "[\\n, \\n, \\n91 g CO2/km (comb)\\n]                                                                 1\n",
       "[\\n, \\n, \\n101 g CO2/km (comb)\\n]                                                                1\n",
       "[\\n, \\n, \\n, 6.5 l/100 km (comb), \\n, 8.5 l/100 km (city), \\n, 5.4 l/100 km (country), \\n]       1\n",
       "[\\n, \\n, \\n154 g CO2/km (comb)\\n]                                                                1\n",
       "[\\n, \\n, \\n144 g CO2/km (comb)\\n]                                                                1\n",
       "Name: Non-smoking Vehicle, dtype: int64"
      ]
     },
     "execution_count": 94,
     "metadata": {},
     "output_type": "execute_result"
    }
   ],
   "source": [
    "df['Non-smoking Vehicle'].value_counts()##There is nothing meaningful DROP"
   ]
  },
  {
   "cell_type": "markdown",
   "id": "d2a585a1",
   "metadata": {},
   "source": [
    "### null column is empty and Offer Number is not meaningful so we drop all three columns"
   ]
  },
  {
   "cell_type": "code",
   "execution_count": 95,
   "id": "45407019",
   "metadata": {},
   "outputs": [],
   "source": [
    "df.drop(['Non-smoking Vehicle','null','Offer Number'],axis=1,inplace=True)"
   ]
  },
  {
   "cell_type": "markdown",
   "id": "84aae679",
   "metadata": {},
   "source": [
    "## BODY COLOR"
   ]
  },
  {
   "cell_type": "code",
   "execution_count": 285,
   "id": "c4fedcce",
   "metadata": {},
   "outputs": [],
   "source": [
    "df['Body Color']=df['Body Color'].map(lambda x: x[1] ,na_action='ignore')##CATEGORIC"
   ]
  },
  {
   "cell_type": "code",
   "execution_count": 97,
   "id": "8b922866",
   "metadata": {},
   "outputs": [
    {
     "data": {
      "text/plain": [
       "597"
      ]
     },
     "execution_count": 97,
     "metadata": {},
     "output_type": "execute_result"
    }
   ],
   "source": [
    "df['Body Color'].isnull().sum()"
   ]
  },
  {
   "cell_type": "markdown",
   "id": "6c3e4a8b",
   "metadata": {},
   "source": [
    "## PAINT TYPE"
   ]
  },
  {
   "cell_type": "code",
   "execution_count": 98,
   "id": "ec6bcdd9",
   "metadata": {},
   "outputs": [
    {
     "ename": "TypeError",
     "evalue": "unhashable type: 'list'",
     "output_type": "error",
     "traceback": [
      "\u001b[1;31m---------------------------------------------------------------------------\u001b[0m",
      "\u001b[1;31mTypeError\u001b[0m                                 Traceback (most recent call last)",
      "\u001b[1;32mpandas\\_libs\\hashtable_class_helper.pxi\u001b[0m in \u001b[0;36mpandas._libs.hashtable.PyObjectHashTable.map_locations\u001b[1;34m()\u001b[0m\n",
      "\u001b[1;31mTypeError\u001b[0m: unhashable type: 'list'"
     ]
    },
    {
     "name": "stderr",
     "output_type": "stream",
     "text": [
      "Exception ignored in: 'pandas._libs.index.IndexEngine._call_map_locations'\n",
      "Traceback (most recent call last):\n",
      "  File \"pandas\\_libs\\hashtable_class_helper.pxi\", line 4588, in pandas._libs.hashtable.PyObjectHashTable.map_locations\n",
      "TypeError: unhashable type: 'list'\n"
     ]
    },
    {
     "data": {
      "text/plain": [
       "[\\nMetallic\\n]       9794\n",
       "[\\nUni/basic\\n]       347\n",
       "[\\nPerl effect\\n]       6\n",
       "Name: Paint Type, dtype: int64"
      ]
     },
     "execution_count": 98,
     "metadata": {},
     "output_type": "execute_result"
    }
   ],
   "source": [
    "df['Paint Type'].value_counts()"
   ]
  },
  {
   "cell_type": "code",
   "execution_count": 286,
   "id": "5967b90d",
   "metadata": {},
   "outputs": [],
   "source": [
    "df['Paint Type']=df['Paint Type'].map(lambda x: x[0].strip('\\n'),na_action='ignore')##CATEGORIC"
   ]
  },
  {
   "cell_type": "code",
   "execution_count": 100,
   "id": "81ab5c89",
   "metadata": {},
   "outputs": [
    {
     "data": {
      "text/plain": [
       "5772"
      ]
     },
     "execution_count": 100,
     "metadata": {},
     "output_type": "execute_result"
    }
   ],
   "source": [
    "df['Paint Type'].isnull().sum()"
   ]
  },
  {
   "cell_type": "markdown",
   "id": "d451a83b",
   "metadata": {},
   "source": [
    "## BODY COLOR ORIGINAL"
   ]
  },
  {
   "cell_type": "code",
   "execution_count": 101,
   "id": "b415d61f",
   "metadata": {},
   "outputs": [
    {
     "ename": "TypeError",
     "evalue": "unhashable type: 'list'",
     "output_type": "error",
     "traceback": [
      "\u001b[1;31m---------------------------------------------------------------------------\u001b[0m",
      "\u001b[1;31mTypeError\u001b[0m                                 Traceback (most recent call last)",
      "\u001b[1;32mpandas\\_libs\\hashtable_class_helper.pxi\u001b[0m in \u001b[0;36mpandas._libs.hashtable.PyObjectHashTable.map_locations\u001b[1;34m()\u001b[0m\n",
      "\u001b[1;31mTypeError\u001b[0m: unhashable type: 'list'"
     ]
    },
    {
     "name": "stderr",
     "output_type": "stream",
     "text": [
      "Exception ignored in: 'pandas._libs.index.IndexEngine._call_map_locations'\n",
      "Traceback (most recent call last):\n",
      "  File \"pandas\\_libs\\hashtable_class_helper.pxi\", line 4588, in pandas._libs.hashtable.PyObjectHashTable.map_locations\n",
      "TypeError: unhashable type: 'list'\n"
     ]
    },
    {
     "data": {
      "text/plain": [
       "[\\nOnyx Schwarz\\n]              338\n",
       "[\\nBianco\\n]                    282\n",
       "[\\nMythosschwarz Metallic\\n]    238\n",
       "[\\nBrillantschwarz\\n]           216\n",
       "[\\nGris\\n]                      204\n",
       "                               ... \n",
       "[\\nBleu Celeste\\n]                1\n",
       "[\\nBlu cosmo metallizzato\\n]      1\n",
       "[\\nBlac Ivoire D16\\n]             1\n",
       "[\\nkarbonschwarz met\\n]           1\n",
       "[\\nSATIN STEEL\\n]                 1\n",
       "Name: Body Color Original, Length: 1927, dtype: int64"
      ]
     },
     "execution_count": 101,
     "metadata": {},
     "output_type": "execute_result"
    }
   ],
   "source": [
    "df['Body Color Original'].value_counts()"
   ]
  },
  {
   "cell_type": "code",
   "execution_count": 102,
   "id": "fafc3606",
   "metadata": {},
   "outputs": [],
   "source": [
    "df.drop('Body Color Original',axis=1,inplace=True)##DROP THIS COLUMN THERE ARE NOT CATEGORIZED"
   ]
  },
  {
   "cell_type": "markdown",
   "id": "62ff7f9c",
   "metadata": {},
   "source": [
    "## UPHOLSTERY"
   ]
  },
  {
   "cell_type": "code",
   "execution_count": 103,
   "id": "7331a47b",
   "metadata": {},
   "outputs": [
    {
     "data": {
      "text/plain": [
       "15543    [\\nFull leather, Black\\n]\n",
       "276                    [\\nCloth\\n]\n",
       "4218            [\\nCloth, Black\\n]\n",
       "6061             [\\nCloth, Grey\\n]\n",
       "6912            [\\nCloth, Black\\n]\n",
       "Name: Upholstery, dtype: object"
      ]
     },
     "execution_count": 103,
     "metadata": {},
     "output_type": "execute_result"
    }
   ],
   "source": [
    "df.Upholstery.sample(5)"
   ]
  },
  {
   "cell_type": "code",
   "execution_count": 262,
   "id": "8dcef3af",
   "metadata": {},
   "outputs": [],
   "source": [
    "up_type=[\"Cloth\",\"Part leather\", \"Full leather\",\"Velour\",\"alcantara\",\"Other\"]"
   ]
  },
  {
   "cell_type": "code",
   "execution_count": 265,
   "id": "e8bbb131",
   "metadata": {},
   "outputs": [],
   "source": [
    "df['Upholstery_type']=[i[0].strip('\\n').split(',')[0] if type(i)==list and i[0].strip('\\n').split(',')[0] in up_type  else np.nan  for i in df.Upholstery]"
   ]
  },
  {
   "cell_type": "code",
   "execution_count": 266,
   "id": "84d2e498",
   "metadata": {},
   "outputs": [
    {
     "data": {
      "text/plain": [
       "Cloth           8423\n",
       "Part leather    1499\n",
       "Full leather    1009\n",
       "Other            368\n",
       "Velour            60\n",
       "alcantara         57\n",
       "Name: Upholstery_type, dtype: int64"
      ]
     },
     "execution_count": 266,
     "metadata": {},
     "output_type": "execute_result"
    }
   ],
   "source": [
    "df['Upholstery_type'].value_counts()"
   ]
  },
  {
   "cell_type": "code",
   "execution_count": 267,
   "id": "4b29a493",
   "metadata": {},
   "outputs": [
    {
     "data": {
      "text/plain": [
       "4503"
      ]
     },
     "execution_count": 267,
     "metadata": {},
     "output_type": "execute_result"
    }
   ],
   "source": [
    "df['Upholstery_type'].isnull().sum()"
   ]
  },
  {
   "cell_type": "code",
   "execution_count": 272,
   "id": "68797d35",
   "metadata": {},
   "outputs": [],
   "source": [
    "df['Upholstery_color']=[i[0].strip('\\n').split(',')[1] if type(i)==list and  len(i[0].strip('\\n').split(','))==2 else (i[0].strip('\\n').split(',')[0] if type(i)==list and i[0].strip('\\n').split(',')[0] not in up_type  else np.nan)  for i in df.Upholstery]"
   ]
  },
  {
   "cell_type": "code",
   "execution_count": 276,
   "id": "39f578e3",
   "metadata": {},
   "outputs": [],
   "source": [
    "df['Upholstery_color']=df['Upholstery_color'].map(lambda x: x.strip(),na_action='ignore')"
   ]
  },
  {
   "cell_type": "code",
   "execution_count": 278,
   "id": "3dfdce82",
   "metadata": {},
   "outputs": [
    {
     "data": {
      "text/plain": [
       "Black     8201\n",
       "Grey      1376\n",
       "Other      960\n",
       "Brown      207\n",
       "Beige       54\n",
       "Blue        16\n",
       "White       13\n",
       "Red          9\n",
       "Yellow       4\n",
       "Orange       1\n",
       "Name: Upholstery_color, dtype: int64"
      ]
     },
     "execution_count": 278,
     "metadata": {},
     "output_type": "execute_result"
    }
   ],
   "source": [
    "df['Upholstery_color'].value_counts()"
   ]
  },
  {
   "cell_type": "code",
   "execution_count": 279,
   "id": "fb14e3fa",
   "metadata": {},
   "outputs": [
    {
     "data": {
      "text/plain": [
       "5078"
      ]
     },
     "execution_count": 279,
     "metadata": {},
     "output_type": "execute_result"
    }
   ],
   "source": [
    "df['Upholstery_color'].isnull().sum()"
   ]
  },
  {
   "cell_type": "code",
   "execution_count": 280,
   "id": "60aa6d4d",
   "metadata": {},
   "outputs": [],
   "source": [
    "df.drop('Upholstery',axis=1,inplace=True)"
   ]
  },
  {
   "cell_type": "markdown",
   "id": "b3ab18be",
   "metadata": {},
   "source": [
    "## BODY"
   ]
  },
  {
   "cell_type": "code",
   "execution_count": 105,
   "id": "f39cca1e",
   "metadata": {},
   "outputs": [
    {
     "ename": "TypeError",
     "evalue": "unhashable type: 'list'",
     "output_type": "error",
     "traceback": [
      "\u001b[1;31m---------------------------------------------------------------------------\u001b[0m",
      "\u001b[1;31mTypeError\u001b[0m                                 Traceback (most recent call last)",
      "\u001b[1;32mpandas\\_libs\\hashtable_class_helper.pxi\u001b[0m in \u001b[0;36mpandas._libs.hashtable.PyObjectHashTable.map_locations\u001b[1;34m()\u001b[0m\n",
      "\u001b[1;31mTypeError\u001b[0m: unhashable type: 'list'"
     ]
    },
    {
     "name": "stderr",
     "output_type": "stream",
     "text": [
      "Exception ignored in: 'pandas._libs.index.IndexEngine._call_map_locations'\n",
      "Traceback (most recent call last):\n",
      "  File \"pandas\\_libs\\hashtable_class_helper.pxi\", line 4588, in pandas._libs.hashtable.PyObjectHashTable.map_locations\n",
      "TypeError: unhashable type: 'list'\n"
     ]
    },
    {
     "data": {
      "text/plain": [
       "[\\n, Sedans, \\n]           7903\n",
       "[\\n, Station wagon, \\n]    3553\n",
       "[\\n, Compact, \\n]          3153\n",
       "[\\n, Van, \\n]               783\n",
       "[\\n, Other, \\n]             290\n",
       "[\\n, Transporter, \\n]        88\n",
       "[\\n, Off-Road, \\n]           56\n",
       "[\\n, Coupe, \\n]              25\n",
       "[\\n, Convertible, \\n]         8\n",
       "Name: Body, dtype: int64"
      ]
     },
     "execution_count": 105,
     "metadata": {},
     "output_type": "execute_result"
    }
   ],
   "source": [
    "df.Body.value_counts()"
   ]
  },
  {
   "cell_type": "code",
   "execution_count": 106,
   "id": "0b196115",
   "metadata": {},
   "outputs": [],
   "source": [
    "df.Body=df.Body.map(lambda x: x[1],na_action='ignore' )"
   ]
  },
  {
   "cell_type": "code",
   "execution_count": 107,
   "id": "e5a44a91",
   "metadata": {},
   "outputs": [
    {
     "data": {
      "text/plain": [
       "Sedans           7903\n",
       "Station wagon    3553\n",
       "Compact          3153\n",
       "Van               783\n",
       "Other             290\n",
       "Transporter        88\n",
       "Off-Road           56\n",
       "Coupe              25\n",
       "Convertible         8\n",
       "Name: Body, dtype: int64"
      ]
     },
     "execution_count": 107,
     "metadata": {},
     "output_type": "execute_result"
    }
   ],
   "source": [
    "df.Body.value_counts()"
   ]
  },
  {
   "cell_type": "code",
   "execution_count": 108,
   "id": "3d3ed668",
   "metadata": {},
   "outputs": [
    {
     "data": {
      "text/plain": [
       "60"
      ]
     },
     "execution_count": 108,
     "metadata": {},
     "output_type": "execute_result"
    }
   ],
   "source": [
    "df.Body.isnull().sum()"
   ]
  },
  {
   "cell_type": "markdown",
   "id": "dd82c8e3",
   "metadata": {},
   "source": [
    "### DUPLICATE WITH BODY TYPE COLUMN DROP THIS COLUMN"
   ]
  },
  {
   "cell_type": "code",
   "execution_count": 109,
   "id": "10f18bf7",
   "metadata": {},
   "outputs": [],
   "source": [
    "df.drop('Body',axis=1,inplace=True)"
   ]
  },
  {
   "cell_type": "markdown",
   "id": "7d504420",
   "metadata": {},
   "source": [
    "# Nr. of Doors"
   ]
  },
  {
   "cell_type": "code",
   "execution_count": 110,
   "id": "1b660e70",
   "metadata": {},
   "outputs": [
    {
     "ename": "TypeError",
     "evalue": "unhashable type: 'list'",
     "output_type": "error",
     "traceback": [
      "\u001b[1;31m---------------------------------------------------------------------------\u001b[0m",
      "\u001b[1;31mTypeError\u001b[0m                                 Traceback (most recent call last)",
      "\u001b[1;32mpandas\\_libs\\hashtable_class_helper.pxi\u001b[0m in \u001b[0;36mpandas._libs.hashtable.PyObjectHashTable.map_locations\u001b[1;34m()\u001b[0m\n",
      "\u001b[1;31mTypeError\u001b[0m: unhashable type: 'list'"
     ]
    },
    {
     "name": "stderr",
     "output_type": "stream",
     "text": [
      "Exception ignored in: 'pandas._libs.index.IndexEngine._call_map_locations'\n",
      "Traceback (most recent call last):\n",
      "  File \"pandas\\_libs\\hashtable_class_helper.pxi\", line 4588, in pandas._libs.hashtable.PyObjectHashTable.map_locations\n",
      "TypeError: unhashable type: 'list'\n"
     ]
    },
    {
     "data": {
      "text/plain": [
       "[\\n5\\n]    11575\n",
       "[\\n4\\n]     3079\n",
       "[\\n3\\n]      832\n",
       "[\\n2\\n]      219\n",
       "[\\n7\\n]        1\n",
       "[\\n1\\n]        1\n",
       "Name: Nr. of Doors, dtype: int64"
      ]
     },
     "execution_count": 110,
     "metadata": {},
     "output_type": "execute_result"
    }
   ],
   "source": [
    "df['Nr. of Doors'].value_counts()"
   ]
  },
  {
   "cell_type": "code",
   "execution_count": 111,
   "id": "686e40e7",
   "metadata": {},
   "outputs": [],
   "source": [
    "df['Nr. of Doors']=df['Nr. of Doors'].map(lambda x: x[0].strip('\\n'),na_action='ignore')"
   ]
  },
  {
   "cell_type": "code",
   "execution_count": 112,
   "id": "30bd69e8",
   "metadata": {},
   "outputs": [
    {
     "data": {
      "text/plain": [
       "5    11575\n",
       "4     3079\n",
       "3      832\n",
       "2      219\n",
       "1        1\n",
       "7        1\n",
       "Name: Nr. of Doors, dtype: int64"
      ]
     },
     "execution_count": 112,
     "metadata": {},
     "output_type": "execute_result"
    }
   ],
   "source": [
    "df['Nr. of Doors'].value_counts()"
   ]
  },
  {
   "cell_type": "code",
   "execution_count": 113,
   "id": "06bd257c",
   "metadata": {},
   "outputs": [
    {
     "data": {
      "text/plain": [
       "212"
      ]
     },
     "execution_count": 113,
     "metadata": {},
     "output_type": "execute_result"
    }
   ],
   "source": [
    "df['Nr. of Doors'].isnull().sum()"
   ]
  },
  {
   "cell_type": "markdown",
   "id": "9b02b0e9",
   "metadata": {},
   "source": [
    "# Nr. of Seats"
   ]
  },
  {
   "cell_type": "code",
   "execution_count": 114,
   "id": "f2aceb60",
   "metadata": {},
   "outputs": [
    {
     "ename": "TypeError",
     "evalue": "unhashable type: 'list'",
     "output_type": "error",
     "traceback": [
      "\u001b[1;31m---------------------------------------------------------------------------\u001b[0m",
      "\u001b[1;31mTypeError\u001b[0m                                 Traceback (most recent call last)",
      "\u001b[1;32mpandas\\_libs\\hashtable_class_helper.pxi\u001b[0m in \u001b[0;36mpandas._libs.hashtable.PyObjectHashTable.map_locations\u001b[1;34m()\u001b[0m\n",
      "\u001b[1;31mTypeError\u001b[0m: unhashable type: 'list'"
     ]
    },
    {
     "name": "stderr",
     "output_type": "stream",
     "text": [
      "Exception ignored in: 'pandas._libs.index.IndexEngine._call_map_locations'\n",
      "Traceback (most recent call last):\n",
      "  File \"pandas\\_libs\\hashtable_class_helper.pxi\", line 4588, in pandas._libs.hashtable.PyObjectHashTable.map_locations\n",
      "TypeError: unhashable type: 'list'\n"
     ]
    },
    {
     "data": {
      "text/plain": [
       "[\\n5\\n]    13336\n",
       "[\\n4\\n]     1125\n",
       "[\\n7\\n]      362\n",
       "[\\n2\\n]      116\n",
       "[\\n6\\n]        2\n",
       "[\\n3\\n]        1\n",
       "Name: Nr. of Seats, dtype: int64"
      ]
     },
     "execution_count": 114,
     "metadata": {},
     "output_type": "execute_result"
    }
   ],
   "source": [
    "df['Nr. of Seats'].value_counts()"
   ]
  },
  {
   "cell_type": "code",
   "execution_count": 115,
   "id": "b661e5fe",
   "metadata": {},
   "outputs": [],
   "source": [
    "df['Nr. of Seats']=df['Nr. of Seats'].map(lambda x: x[0].strip('\\n'),na_action='ignore')"
   ]
  },
  {
   "cell_type": "code",
   "execution_count": 116,
   "id": "9f277dd3",
   "metadata": {},
   "outputs": [
    {
     "data": {
      "text/plain": [
       "5    13336\n",
       "4     1125\n",
       "7      362\n",
       "2      116\n",
       "6        2\n",
       "3        1\n",
       "Name: Nr. of Seats, dtype: int64"
      ]
     },
     "execution_count": 116,
     "metadata": {},
     "output_type": "execute_result"
    }
   ],
   "source": [
    "df['Nr. of Seats'].value_counts()"
   ]
  },
  {
   "cell_type": "code",
   "execution_count": 117,
   "id": "a0120b8f",
   "metadata": {},
   "outputs": [
    {
     "data": {
      "text/plain": [
       "977"
      ]
     },
     "execution_count": 117,
     "metadata": {},
     "output_type": "execute_result"
    }
   ],
   "source": [
    "df['Nr. of Seats'].isnull().sum()"
   ]
  },
  {
   "cell_type": "markdown",
   "id": "9093ed61",
   "metadata": {},
   "source": [
    "# Model Code"
   ]
  },
  {
   "cell_type": "code",
   "execution_count": 118,
   "id": "668132b5",
   "metadata": {},
   "outputs": [
    {
     "ename": "TypeError",
     "evalue": "unhashable type: 'list'",
     "output_type": "error",
     "traceback": [
      "\u001b[1;31m---------------------------------------------------------------------------\u001b[0m",
      "\u001b[1;31mTypeError\u001b[0m                                 Traceback (most recent call last)",
      "\u001b[1;32mpandas\\_libs\\hashtable_class_helper.pxi\u001b[0m in \u001b[0;36mpandas._libs.hashtable.PyObjectHashTable.map_locations\u001b[1;34m()\u001b[0m\n",
      "\u001b[1;31mTypeError\u001b[0m: unhashable type: 'list'"
     ]
    },
    {
     "name": "stderr",
     "output_type": "stream",
     "text": [
      "Exception ignored in: 'pandas._libs.index.IndexEngine._call_map_locations'\n",
      "Traceback (most recent call last):\n",
      "  File \"pandas\\_libs\\hashtable_class_helper.pxi\", line 4588, in pandas._libs.hashtable.PyObjectHashTable.map_locations\n",
      "TypeError: unhashable type: 'list'\n"
     ]
    },
    {
     "data": {
      "text/plain": [
       "[\\n0035/BCB\\n]    268\n",
       "[\\n0588/BNO\\n]    245\n",
       "[\\n0588/BDB\\n]    206\n",
       "[\\n0588/BHX\\n]    188\n",
       "[\\n1844/ADJ\\n]    175\n",
       "                 ... \n",
       "[\\n0035/AVZ\\n]      1\n",
       "[\\n1844/AEG\\n]      1\n",
       "[\\n0035/BAV\\n]      1\n",
       "[\\n3333/BBL\\n]      1\n",
       "[\\n0035/BAS\\n]      1\n",
       "Name: Model Code, Length: 232, dtype: int64"
      ]
     },
     "execution_count": 118,
     "metadata": {},
     "output_type": "execute_result"
    }
   ],
   "source": [
    "df['Model Code'].value_counts()"
   ]
  },
  {
   "cell_type": "code",
   "execution_count": 119,
   "id": "103f32c5",
   "metadata": {},
   "outputs": [],
   "source": [
    "df.drop('Model Code',axis=1,inplace=True)##DROP MEANINGLESS"
   ]
  },
  {
   "cell_type": "markdown",
   "id": "1590ac0a",
   "metadata": {},
   "source": [
    "# Gearing Type"
   ]
  },
  {
   "cell_type": "code",
   "execution_count": 120,
   "id": "ba9e8ff8",
   "metadata": {},
   "outputs": [
    {
     "ename": "TypeError",
     "evalue": "unhashable type: 'list'",
     "output_type": "error",
     "traceback": [
      "\u001b[1;31m---------------------------------------------------------------------------\u001b[0m",
      "\u001b[1;31mTypeError\u001b[0m                                 Traceback (most recent call last)",
      "\u001b[1;32mpandas\\_libs\\hashtable_class_helper.pxi\u001b[0m in \u001b[0;36mpandas._libs.hashtable.PyObjectHashTable.map_locations\u001b[1;34m()\u001b[0m\n",
      "\u001b[1;31mTypeError\u001b[0m: unhashable type: 'list'"
     ]
    },
    {
     "name": "stderr",
     "output_type": "stream",
     "text": [
      "Exception ignored in: 'pandas._libs.index.IndexEngine._call_map_locations'\n",
      "Traceback (most recent call last):\n",
      "  File \"pandas\\_libs\\hashtable_class_helper.pxi\", line 4588, in pandas._libs.hashtable.PyObjectHashTable.map_locations\n",
      "TypeError: unhashable type: 'list'\n"
     ]
    },
    {
     "data": {
      "text/plain": [
       "[\\n, Manual, \\n]            8153\n",
       "[\\n, Automatic, \\n]         7297\n",
       "[\\n, Semi-automatic, \\n]     469\n",
       "Name: Gearing Type, dtype: int64"
      ]
     },
     "execution_count": 120,
     "metadata": {},
     "output_type": "execute_result"
    }
   ],
   "source": [
    "df['Gearing Type'].value_counts()"
   ]
  },
  {
   "cell_type": "code",
   "execution_count": 121,
   "id": "79209799",
   "metadata": {},
   "outputs": [],
   "source": [
    "df['Gearing Type']=df['Gearing Type'].map(lambda x: x[1],na_action='ignore' )"
   ]
  },
  {
   "cell_type": "code",
   "execution_count": 122,
   "id": "5dceef3b",
   "metadata": {},
   "outputs": [
    {
     "data": {
      "text/plain": [
       "Manual            8153\n",
       "Automatic         7297\n",
       "Semi-automatic     469\n",
       "Name: Gearing Type, dtype: int64"
      ]
     },
     "execution_count": 122,
     "metadata": {},
     "output_type": "execute_result"
    }
   ],
   "source": [
    "df['Gearing Type'].value_counts()"
   ]
  },
  {
   "cell_type": "code",
   "execution_count": 123,
   "id": "e67a8f56",
   "metadata": {},
   "outputs": [
    {
     "data": {
      "text/plain": [
       "0"
      ]
     },
     "execution_count": 123,
     "metadata": {},
     "output_type": "execute_result"
    }
   ],
   "source": [
    "df['Gearing Type'].isnull().sum()"
   ]
  },
  {
   "cell_type": "markdown",
   "id": "9408d107",
   "metadata": {},
   "source": [
    "# Displacement"
   ]
  },
  {
   "cell_type": "code",
   "execution_count": 124,
   "id": "1fdbe0da",
   "metadata": {},
   "outputs": [
    {
     "data": {
      "text/plain": [
       "5051     [\\n1,968 cc\\n]\n",
       "3210     [\\n1,395 cc\\n]\n",
       "868      [\\n1,598 cc\\n]\n",
       "13434    [\\n1,461 cc\\n]\n",
       "11899    [\\n1,956 cc\\n]\n",
       "Name: Displacement, dtype: object"
      ]
     },
     "execution_count": 124,
     "metadata": {},
     "output_type": "execute_result"
    }
   ],
   "source": [
    "df.Displacement.sample(5)"
   ]
  },
  {
   "cell_type": "code",
   "execution_count": 125,
   "id": "db730af3",
   "metadata": {},
   "outputs": [],
   "source": [
    "df.Displacement=df.Displacement.map(lambda x: x[0].strip('\\n').split(' ')[0].replace(',',''),na_action='ignore')"
   ]
  },
  {
   "cell_type": "code",
   "execution_count": 126,
   "id": "6297c01a",
   "metadata": {},
   "outputs": [],
   "source": [
    "df.Displacement=df.Displacement.astype(float)"
   ]
  },
  {
   "cell_type": "code",
   "execution_count": 127,
   "id": "2eec3243",
   "metadata": {},
   "outputs": [
    {
     "data": {
      "text/plain": [
       "5602    999.000\n",
       "9194   1248.000\n",
       "9190   1398.000\n",
       "9101   1398.000\n",
       "9398   1398.000\n",
       "Name: Displacement, dtype: float64"
      ]
     },
     "execution_count": 127,
     "metadata": {},
     "output_type": "execute_result"
    }
   ],
   "source": [
    "df.Displacement.sample(5)"
   ]
  },
  {
   "cell_type": "code",
   "execution_count": 128,
   "id": "24e4dd47",
   "metadata": {},
   "outputs": [
    {
     "data": {
      "text/plain": [
       "496"
      ]
     },
     "execution_count": 128,
     "metadata": {},
     "output_type": "execute_result"
    }
   ],
   "source": [
    "df.Displacement.isnull().sum()"
   ]
  },
  {
   "cell_type": "markdown",
   "id": "47a46ecf",
   "metadata": {},
   "source": [
    "# Cylinders"
   ]
  },
  {
   "cell_type": "code",
   "execution_count": 129,
   "id": "0d0f8605",
   "metadata": {},
   "outputs": [
    {
     "data": {
      "text/plain": [
       "15825    [\\n4\\n]\n",
       "15177    [\\n4\\n]\n",
       "5755     [\\n4\\n]\n",
       "549      [\\n4\\n]\n",
       "9134     [\\n4\\n]\n",
       "Name: Cylinders, dtype: object"
      ]
     },
     "execution_count": 129,
     "metadata": {},
     "output_type": "execute_result"
    }
   ],
   "source": [
    "df.Cylinders.sample(5)"
   ]
  },
  {
   "cell_type": "code",
   "execution_count": 130,
   "id": "528aae57",
   "metadata": {},
   "outputs": [],
   "source": [
    "df.Cylinders=df.Cylinders.map(lambda x: x[0].strip('\\n'),na_action='ignore')"
   ]
  },
  {
   "cell_type": "code",
   "execution_count": 131,
   "id": "7adb4ba5",
   "metadata": {},
   "outputs": [
    {
     "data": {
      "text/plain": [
       "5680"
      ]
     },
     "execution_count": 131,
     "metadata": {},
     "output_type": "execute_result"
    }
   ],
   "source": [
    "df.Cylinders.isnull().sum()"
   ]
  },
  {
   "cell_type": "code",
   "execution_count": 132,
   "id": "52051a68",
   "metadata": {},
   "outputs": [
    {
     "data": {
      "text/plain": [
       "4    8105\n",
       "3    2104\n",
       "5      22\n",
       "6       3\n",
       "2       2\n",
       "8       2\n",
       "1       1\n",
       "Name: Cylinders, dtype: int64"
      ]
     },
     "execution_count": 132,
     "metadata": {},
     "output_type": "execute_result"
    }
   ],
   "source": [
    "df.Cylinders.value_counts()"
   ]
  },
  {
   "cell_type": "markdown",
   "id": "c7d118e1",
   "metadata": {},
   "source": [
    "# Weight"
   ]
  },
  {
   "cell_type": "code",
   "execution_count": 133,
   "id": "ea34e286",
   "metadata": {},
   "outputs": [
    {
     "data": {
      "text/plain": [
       "9819                NaN\n",
       "7148     [\\n1,341 kg\\n]\n",
       "14132               NaN\n",
       "15610               NaN\n",
       "11030    [\\n1,513 kg\\n]\n",
       "Name: Weight, dtype: object"
      ]
     },
     "execution_count": 133,
     "metadata": {},
     "output_type": "execute_result"
    }
   ],
   "source": [
    "df.Weight.sample(5)"
   ]
  },
  {
   "cell_type": "code",
   "execution_count": 134,
   "id": "fdf23de4",
   "metadata": {},
   "outputs": [],
   "source": [
    "df.Weight=df.Weight.map(lambda x: x[0].strip('\\n').split(' ')[0].replace(',',''),na_action='ignore')"
   ]
  },
  {
   "cell_type": "code",
   "execution_count": 135,
   "id": "78ff1424",
   "metadata": {},
   "outputs": [],
   "source": [
    "df.Weight=df.Weight.astype(float)"
   ]
  },
  {
   "cell_type": "code",
   "execution_count": 136,
   "id": "4527162c",
   "metadata": {},
   "outputs": [
    {
     "data": {
      "text/plain": [
       "7495         NaN\n",
       "9887    1237.000\n",
       "2622    1355.000\n",
       "13844   1228.000\n",
       "10452   1163.000\n",
       "Name: Weight, dtype: float64"
      ]
     },
     "execution_count": 136,
     "metadata": {},
     "output_type": "execute_result"
    }
   ],
   "source": [
    "df.Weight.sample(5)"
   ]
  },
  {
   "cell_type": "code",
   "execution_count": 137,
   "id": "f5f41f3f",
   "metadata": {},
   "outputs": [
    {
     "data": {
      "text/plain": [
       "6974"
      ]
     },
     "execution_count": 137,
     "metadata": {},
     "output_type": "execute_result"
    }
   ],
   "source": [
    "df.Weight.isnull().sum()"
   ]
  },
  {
   "cell_type": "markdown",
   "id": "42dad54e",
   "metadata": {},
   "source": [
    "# Drive chain"
   ]
  },
  {
   "cell_type": "code",
   "execution_count": 138,
   "id": "c4d040b3",
   "metadata": {},
   "outputs": [
    {
     "ename": "TypeError",
     "evalue": "unhashable type: 'list'",
     "output_type": "error",
     "traceback": [
      "\u001b[1;31m---------------------------------------------------------------------------\u001b[0m",
      "\u001b[1;31mTypeError\u001b[0m                                 Traceback (most recent call last)",
      "\u001b[1;32mpandas\\_libs\\hashtable_class_helper.pxi\u001b[0m in \u001b[0;36mpandas._libs.hashtable.PyObjectHashTable.map_locations\u001b[1;34m()\u001b[0m\n",
      "\u001b[1;31mTypeError\u001b[0m: unhashable type: 'list'"
     ]
    },
    {
     "name": "stderr",
     "output_type": "stream",
     "text": [
      "Exception ignored in: 'pandas._libs.index.IndexEngine._call_map_locations'\n",
      "Traceback (most recent call last):\n",
      "  File \"pandas\\_libs\\hashtable_class_helper.pxi\", line 4588, in pandas._libs.hashtable.PyObjectHashTable.map_locations\n",
      "TypeError: unhashable type: 'list'\n"
     ]
    },
    {
     "data": {
      "text/plain": [
       "[\\nfront\\n]    8886\n",
       "[\\n4WD\\n]       171\n",
       "[\\nrear\\n]        4\n",
       "Name: Drive chain, dtype: int64"
      ]
     },
     "execution_count": 138,
     "metadata": {},
     "output_type": "execute_result"
    }
   ],
   "source": [
    "df['Drive chain'].value_counts()"
   ]
  },
  {
   "cell_type": "code",
   "execution_count": 139,
   "id": "98ad5878",
   "metadata": {},
   "outputs": [],
   "source": [
    "df['Drive chain']=df['Drive chain'].map(lambda x: x[0].strip('\\n'),na_action='ignore')"
   ]
  },
  {
   "cell_type": "code",
   "execution_count": 140,
   "id": "0436cf19",
   "metadata": {},
   "outputs": [
    {
     "data": {
      "text/plain": [
       "front    8886\n",
       "4WD       171\n",
       "rear        4\n",
       "Name: Drive chain, dtype: int64"
      ]
     },
     "execution_count": 140,
     "metadata": {},
     "output_type": "execute_result"
    }
   ],
   "source": [
    "df['Drive chain'].value_counts()"
   ]
  },
  {
   "cell_type": "code",
   "execution_count": 141,
   "id": "7ddfdefb",
   "metadata": {},
   "outputs": [
    {
     "data": {
      "text/plain": [
       "6858"
      ]
     },
     "execution_count": 141,
     "metadata": {},
     "output_type": "execute_result"
    }
   ],
   "source": [
    "df['Drive chain'].isnull().sum()"
   ]
  },
  {
   "cell_type": "markdown",
   "id": "7061fa85",
   "metadata": {},
   "source": [
    "# CONSUMPTION"
   ]
  },
  {
   "cell_type": "code",
   "execution_count": 27,
   "id": "932b219f",
   "metadata": {},
   "outputs": [
    {
     "data": {
      "text/plain": [
       "2056     [[4.8 l/100 km (comb)], [5.9 l/100 km (city)],...\n",
       "4102     [[40 l/100 km (comb)], [45 l/100 km (city)], [...\n",
       "7125     [[5.4 l/100 km (comb)], [7.1 l/100 km (city)],...\n",
       "15054                                                  NaN\n",
       "6048                                                   NaN\n",
       "Name: Consumption, dtype: object"
      ]
     },
     "execution_count": 27,
     "metadata": {},
     "output_type": "execute_result"
    }
   ],
   "source": [
    "df.Consumption.sample(5)"
   ]
  },
  {
   "cell_type": "code",
   "execution_count": 30,
   "id": "42232599",
   "metadata": {},
   "outputs": [
    {
     "data": {
      "text/plain": [
       "False"
      ]
     },
     "execution_count": 30,
     "metadata": {},
     "output_type": "execute_result"
    }
   ],
   "source": []
  },
  {
   "cell_type": "code",
   "execution_count": 4,
   "id": "83440007",
   "metadata": {},
   "outputs": [
    {
     "ename": "TypeError",
     "evalue": "unhashable type: 'list'",
     "output_type": "error",
     "traceback": [
      "\u001b[1;31m---------------------------------------------------------------------------\u001b[0m",
      "\u001b[1;31mTypeError\u001b[0m                                 Traceback (most recent call last)",
      "\u001b[1;32mpandas\\_libs\\hashtable_class_helper.pxi\u001b[0m in \u001b[0;36mpandas._libs.hashtable.PyObjectHashTable.map_locations\u001b[1;34m()\u001b[0m\n",
      "\u001b[1;31mTypeError\u001b[0m: unhashable type: 'list'"
     ]
    },
    {
     "name": "stderr",
     "output_type": "stream",
     "text": [
      "Exception ignored in: 'pandas._libs.index.IndexEngine._call_map_locations'\n",
      "Traceback (most recent call last):\n",
      "  File \"pandas\\_libs\\hashtable_class_helper.pxi\", line 4588, in pandas._libs.hashtable.PyObjectHashTable.map_locations\n",
      "TypeError: unhashable type: 'list'\n"
     ]
    },
    {
     "data": {
      "text/plain": [
       "[[3.9 l/100 km (comb)], [4.1 l/100 km (city)], [3.7 l/100 km (country)]]              304\n",
       "[[4.2 l/100 km (comb)], [5 l/100 km (city)], [3.7 l/100 km (country)]]                276\n",
       "[[5.4 l/100 km (comb)], [6.8 l/100 km (city)], [4.5 l/100 km (country)]]              257\n",
       "[[3.8 l/100 km (comb)], [4.3 l/100 km (city)], [3.5 l/100 km (country)]]              253\n",
       "[[4.7 l/100 km (comb)], [5.1 l/100 km (city)], [4.4 l/100 km (country)]]              244\n",
       "                                                                                     ... \n",
       "[[5.2 l/100 km (comb)], [6 l/100 km (city)], [4.8 l/100 km (country)]]                  1\n",
       "[[5.3 l/100 km (comb)], [6 l/100 km (city)], [5 l/100 km (country)]]                    1\n",
       "[\\n, 6.5 l/100 km (comb), \\n, 8.1 l/100 km (city), \\n, 5.5 l/100 km (country), \\n]      1\n",
       "[[4.3 l/100 km (comb)], [5.6 l/100 km (city)], [3.5 l/100 km (country)]]                1\n",
       "[[50 l/100 km (comb)], [64 l/100 km (city)], [42 l/100 km (country)]]                   1\n",
       "Name: Consumption, Length: 881, dtype: int64"
      ]
     },
     "execution_count": 4,
     "metadata": {},
     "output_type": "execute_result"
    }
   ],
   "source": [
    "df.Consumption.value_counts()"
   ]
  },
  {
   "cell_type": "markdown",
   "id": "1d8792be",
   "metadata": {},
   "source": [
    "## 3 NEW COLUMNS ARE MADE"
   ]
  },
  {
   "cell_type": "code",
   "execution_count": 21,
   "id": "afa27d2a",
   "metadata": {},
   "outputs": [
    {
     "ename": "TypeError",
     "evalue": "unhashable type: 'list'",
     "output_type": "error",
     "traceback": [
      "\u001b[1;31m---------------------------------------------------------------------------\u001b[0m",
      "\u001b[1;31mTypeError\u001b[0m                                 Traceback (most recent call last)",
      "\u001b[1;32mpandas\\_libs\\hashtable_class_helper.pxi\u001b[0m in \u001b[0;36mpandas._libs.hashtable.PyObjectHashTable.map_locations\u001b[1;34m()\u001b[0m\n",
      "\u001b[1;31mTypeError\u001b[0m: unhashable type: 'list'"
     ]
    },
    {
     "name": "stderr",
     "output_type": "stream",
     "text": [
      "Exception ignored in: 'pandas._libs.index.IndexEngine._call_map_locations'\n",
      "Traceback (most recent call last):\n",
      "  File \"pandas\\_libs\\hashtable_class_helper.pxi\", line 4588, in pandas._libs.hashtable.PyObjectHashTable.map_locations\n",
      "TypeError: unhashable type: 'list'\n"
     ]
    },
    {
     "data": {
      "text/plain": [
       "[5.4 l/100 km (comb)]     769\n",
       "[3.9 l/100 km (comb)]     733\n",
       "[4 l/100 km (comb)]       713\n",
       "[5.1 l/100 km (comb)]     654\n",
       "[4.4 l/100 km (comb)]     623\n",
       "[5.6 l/100 km (comb)]     618\n",
       "[4.7 l/100 km (comb)]     602\n",
       "[3.8 l/100 km (comb)]     585\n",
       "[4.8 l/100 km (comb)]     546\n",
       "[5 l/100 km (comb)]       545\n",
       "[4.5 l/100 km (comb)]     523\n",
       "[5.2 l/100 km (comb)]     454\n",
       "[4.2 l/100 km (comb)]     435\n",
       "[4.6 l/100 km (comb)]     426\n",
       "[4.9 l/100 km (comb)]     393\n",
       "[5.5 l/100 km (comb)]     380\n",
       "[5.3 l/100 km (comb)]     379\n",
       "[3.7 l/100 km (comb)]     369\n",
       "[5.9 l/100 km (comb)]     369\n",
       "[4.1 l/100 km (comb)]     342\n",
       "[5.7 l/100 km (comb)]     342\n",
       "[6 l/100 km (comb)]       331\n",
       "[4.3 l/100 km (comb)]     307\n",
       "[3.3 l/100 km (comb)]     298\n",
       "[3.5 l/100 km (comb)]     285\n",
       "[6.2 l/100 km (comb)]     216\n",
       "[3.6 l/100 km (comb)]     193\n",
       "[6.3 l/100 km (comb)]     181\n",
       "[6.1 l/100 km (comb)]     175\n",
       "[5.8 l/100 km (comb)]     164\n",
       "[6.6 l/100 km (comb)]     148\n",
       "[6.8 l/100 km (comb)]     136\n",
       "[3.4 l/100 km (comb)]      94\n",
       "[6.4 l/100 km (comb)]      75\n",
       "[3 l/100 km (comb)]        69\n",
       "[7.4 l/100 km (comb)]      66\n",
       "[6.7 l/100 km (comb)]      43\n",
       "[6.5 l/100 km (comb)]      43\n",
       "[7.1 l/100 km (comb)]      38\n",
       "[10 l/100 km (comb)]       34\n",
       "[6.9 l/100 km (comb)]      27\n",
       "[3.2 l/100 km (comb)]      25\n",
       "[8.3 l/100 km (comb)]      19\n",
       "[7.6 l/100 km (comb)]      14\n",
       "[3.4 kg/100 km (comb)]     12\n",
       "[7 l/100 km (comb)]        10\n",
       "[3.3 kg/100 km (comb)]      9\n",
       "[3.1 l/100 km (comb)]       7\n",
       "[7.8 l/100 km (comb)]       6\n",
       "[7.2 l/100 km (comb)]       6\n",
       "[8 l/100 km (comb)]         5\n",
       "[8.6 l/100 km (comb)]       4\n",
       "[51 l/100 km (comb)]        4\n",
       "[7.9 l/100 km (comb)]       3\n",
       "[5.1 kg/100 km (comb)]      3\n",
       "[3.5 kg/100 km (comb)]      3\n",
       "[1.6 l/100 km (comb)]       3\n",
       "[8.7 l/100 km (comb)]       3\n",
       "[8.1 l/100 km (comb)]       2\n",
       "[0 l/100 km (comb)]         2\n",
       "[38 l/100 km (comb)]        2\n",
       "[40 l/100 km (comb)]        2\n",
       "[7.3 l/100 km (comb)]       2\n",
       "[8.3 kg/100 km (comb)]      1\n",
       "[9.1 l/100 km (comb)]       1\n",
       "[55 l/100 km (comb)]        1\n",
       "[32 l/100 km (comb)]        1\n",
       "[46 l/100 km (comb)]        1\n",
       "[54 l/100 km (comb)]        1\n",
       "[5.3 kg/100 km (comb)]      1\n",
       "[33 l/100 km (comb)]        1\n",
       "[43 l/100 km (comb)]        1\n",
       "[5.4 kg/100 km (comb)]      1\n",
       "[3.6 kg/100 km (comb)]      1\n",
       "[7.5 l/100 km (comb)]       1\n",
       "[13.8 l/100 km (comb)]      1\n",
       "[1 l/100 km (comb)]         1\n",
       "[1.2 l/100 km (comb)]       1\n",
       "[11 l/100 km (comb)]        1\n",
       "[50 l/100 km (comb)]        1\n",
       "Name: Consumption, dtype: int64"
      ]
     },
     "execution_count": 21,
     "metadata": {},
     "output_type": "execute_result"
    }
   ],
   "source": [
    "df.Consumption.map(lambda x: x[0] if type(x[0])==list and x[0]!=[] else ([x[1]] if type(x[0])!=list else np.nan),na_action='ignore').value_counts()"
   ]
  },
  {
   "cell_type": "code",
   "execution_count": 22,
   "id": "5cc1df3f",
   "metadata": {},
   "outputs": [
    {
     "ename": "TypeError",
     "evalue": "unhashable type: 'list'",
     "output_type": "error",
     "traceback": [
      "\u001b[1;31m---------------------------------------------------------------------------\u001b[0m",
      "\u001b[1;31mTypeError\u001b[0m                                 Traceback (most recent call last)",
      "\u001b[1;32mpandas\\_libs\\hashtable_class_helper.pxi\u001b[0m in \u001b[0;36mpandas._libs.hashtable.PyObjectHashTable.map_locations\u001b[1;34m()\u001b[0m\n",
      "\u001b[1;31mTypeError\u001b[0m: unhashable type: 'list'"
     ]
    },
    {
     "name": "stderr",
     "output_type": "stream",
     "text": [
      "Exception ignored in: 'pandas._libs.index.IndexEngine._call_map_locations'\n",
      "Traceback (most recent call last):\n",
      "  File \"pandas\\_libs\\hashtable_class_helper.pxi\", line 4588, in pandas._libs.hashtable.PyObjectHashTable.map_locations\n",
      "TypeError: unhashable type: 'list'\n"
     ]
    },
    {
     "data": {
      "text/plain": [
       "[5 l/100 km (city)]        669\n",
       "[5.8 l/100 km (city)]      630\n",
       "[4.5 l/100 km (city)]      577\n",
       "[4.3 l/100 km (city)]      512\n",
       "[5.1 l/100 km (city)]      479\n",
       "[6.8 l/100 km (city)]      453\n",
       "[7.2 l/100 km (city)]      445\n",
       "[7.3 l/100 km (city)]      435\n",
       "[4.6 l/100 km (city)]      417\n",
       "[7.8 l/100 km (city)]      413\n",
       "[5.9 l/100 km (city)]      389\n",
       "[5.7 l/100 km (city)]      376\n",
       "[4.2 l/100 km (city)]      353\n",
       "[6.6 l/100 km (city)]      352\n",
       "[6.7 l/100 km (city)]      346\n",
       "[5.2 l/100 km (city)]      345\n",
       "[6.3 l/100 km (city)]      338\n",
       "[5.4 l/100 km (city)]      321\n",
       "[4.1 l/100 km (city)]      320\n",
       "[4 l/100 km (city)]        300\n",
       "[4.7 l/100 km (city)]      289\n",
       "[7.5 l/100 km (city)]      267\n",
       "[7.1 l/100 km (city)]      258\n",
       "[6 l/100 km (city)]        251\n",
       "[7.6 l/100 km (city)]      248\n",
       "[3.9 l/100 km (city)]      245\n",
       "[3.5 l/100 km (city)]      230\n",
       "[6.9 l/100 km (city)]      223\n",
       "[5.5 l/100 km (city)]      216\n",
       "[6.2 l/100 km (city)]      211\n",
       "[7.7 l/100 km (city)]      204\n",
       "[7 l/100 km (city)]        194\n",
       "[7.4 l/100 km (city)]      179\n",
       "[6.5 l/100 km (city)]      161\n",
       "[8.7 l/100 km (city)]      161\n",
       "[6.1 l/100 km (city)]      152\n",
       "[8.2 l/100 km (city)]      140\n",
       "[4.4 l/100 km (city)]      135\n",
       "[6.4 l/100 km (city)]      121\n",
       "[8 l/100 km (city)]        110\n",
       "[5.6 l/100 km (city)]      104\n",
       "[5.3 l/100 km (city)]      101\n",
       "[7.9 l/100 km (city)]      101\n",
       "[4.8 l/100 km (city)]       72\n",
       "[4.9 l/100 km (city)]       58\n",
       "[3.7 l/100 km (city)]       53\n",
       "[3.4 l/100 km (city)]       50\n",
       "[9.6 l/100 km (city)]       42\n",
       "[8.6 l/100 km (city)]       42\n",
       "[8.3 l/100 km (city)]       41\n",
       "[8.5 l/100 km (city)]       39\n",
       "[9.2 l/100 km (city)]       34\n",
       "[3.3 l/100 km (city)]       30\n",
       "[3.8 l/100 km (city)]       26\n",
       "[8.1 l/100 km (city)]       25\n",
       "[4.3 kg/100 km (city)]      21\n",
       "[10.2 l/100 km (city)]      21\n",
       "[11.3 l/100 km (city)]      19\n",
       "[10 l/100 km (city)]        16\n",
       "[9.9 l/100 km (city)]       15\n",
       "[\\n]                        14\n",
       "[9.4 l/100 km (city)]       14\n",
       "[9.1 l/100 km (city)]       12\n",
       "[3 l/100 km (city)]          9\n",
       "[8.4 l/100 km (city)]        7\n",
       "[0 l/100 km (city)]          6\n",
       "[9.8 l/100 km (city)]        5\n",
       "[11 l/100 km (city)]         4\n",
       "[8.9 l/100 km (city)]        4\n",
       "[62 l/100 km (city)]         4\n",
       "[11.5 l/100 km (city)]       4\n",
       "[11.2 l/100 km (city)]       4\n",
       "[4.5 kg/100 km (city)]       3\n",
       "[10.8 l/100 km (city)]       3\n",
       "[5.8 kg/100 km (city)]       3\n",
       "[9.5 l/100 km (city)]        3\n",
       "[3.6 l/100 km (city)]        2\n",
       "[8.8 l/100 km (city)]        2\n",
       "[45 l/100 km (city)]         2\n",
       "[43 l/100 km (city)]         2\n",
       "[10.1 l/100 km (city)]       2\n",
       "[1 l/100 km (city)]          2\n",
       "[64 l/100 km (city)]         1\n",
       "[4.4 kg/100 km (city)]       1\n",
       "[19.9 l/100 km (city)]       1\n",
       "[6.8 kg/100 km (city)]       1\n",
       "[10.4 l/100 km (city)]       1\n",
       "[16.1 l/100 km (city)]       1\n",
       "[10.5 kg/100 km (city)]      1\n",
       "[9 l/100 km (city)]          1\n",
       "[6.5 kg/100 km (city)]       1\n",
       "[9.7 l/100 km (city)]        1\n",
       "[66 l/100 km (city)]         1\n",
       "Name: Consumption, dtype: int64"
      ]
     },
     "execution_count": 22,
     "metadata": {},
     "output_type": "execute_result"
    }
   ],
   "source": [
    "df.Consumption.map(lambda x: x[1] if type(x[1])==list and x[1]!=[] else ([x[3]] if type(x[2])!=list else np.nan),na_action='ignore').value_counts()"
   ]
  },
  {
   "cell_type": "code",
   "execution_count": 31,
   "id": "b491bf6a",
   "metadata": {},
   "outputs": [
    {
     "ename": "IndexError",
     "evalue": "list index out of range",
     "output_type": "error",
     "traceback": [
      "\u001b[1;31m---------------------------------------------------------------------------\u001b[0m",
      "\u001b[1;31mIndexError\u001b[0m                                Traceback (most recent call last)",
      "\u001b[1;32m<ipython-input-31-e3c65d2a3c09>\u001b[0m in \u001b[0;36m<module>\u001b[1;34m\u001b[0m\n\u001b[1;32m----> 1\u001b[1;33m \u001b[0mdf\u001b[0m\u001b[1;33m.\u001b[0m\u001b[0mConsumption\u001b[0m\u001b[1;33m.\u001b[0m\u001b[0mmap\u001b[0m\u001b[1;33m(\u001b[0m\u001b[1;32mlambda\u001b[0m \u001b[0mx\u001b[0m\u001b[1;33m:\u001b[0m \u001b[0mx\u001b[0m\u001b[1;33m[\u001b[0m\u001b[1;36m2\u001b[0m\u001b[1;33m]\u001b[0m \u001b[1;32mif\u001b[0m \u001b[0mtype\u001b[0m\u001b[1;33m(\u001b[0m\u001b[0mx\u001b[0m\u001b[1;33m[\u001b[0m\u001b[1;36m2\u001b[0m\u001b[1;33m]\u001b[0m\u001b[1;33m)\u001b[0m\u001b[1;33m==\u001b[0m\u001b[0mlist\u001b[0m \u001b[1;32mand\u001b[0m \u001b[0mx\u001b[0m\u001b[1;33m[\u001b[0m\u001b[1;36m2\u001b[0m\u001b[1;33m]\u001b[0m\u001b[1;33m!=\u001b[0m\u001b[1;33m[\u001b[0m\u001b[1;33m]\u001b[0m \u001b[1;32melse\u001b[0m \u001b[1;33m(\u001b[0m\u001b[1;33m[\u001b[0m\u001b[0mx\u001b[0m\u001b[1;33m[\u001b[0m\u001b[1;36m5\u001b[0m\u001b[1;33m]\u001b[0m\u001b[1;33m]\u001b[0m \u001b[1;32mif\u001b[0m \u001b[0mtype\u001b[0m\u001b[1;33m(\u001b[0m\u001b[0mx\u001b[0m\u001b[1;33m[\u001b[0m\u001b[1;36m0\u001b[0m\u001b[1;33m]\u001b[0m\u001b[1;33m)\u001b[0m\u001b[1;33m!=\u001b[0m\u001b[0mlist\u001b[0m \u001b[1;32melse\u001b[0m \u001b[0mnp\u001b[0m\u001b[1;33m.\u001b[0m\u001b[0mnan\u001b[0m\u001b[1;33m)\u001b[0m\u001b[1;33m,\u001b[0m\u001b[0mna_action\u001b[0m\u001b[1;33m=\u001b[0m\u001b[1;34m'ignore'\u001b[0m\u001b[1;33m)\u001b[0m\u001b[1;33m\u001b[0m\u001b[1;33m\u001b[0m\u001b[0m\n\u001b[0m",
      "\u001b[1;32m~\\anaconda3\\lib\\site-packages\\pandas\\core\\series.py\u001b[0m in \u001b[0;36mmap\u001b[1;34m(self, arg, na_action)\u001b[0m\n\u001b[0;32m   3907\u001b[0m         \u001b[0mdtype\u001b[0m\u001b[1;33m:\u001b[0m \u001b[0mobject\u001b[0m\u001b[1;33m\u001b[0m\u001b[1;33m\u001b[0m\u001b[0m\n\u001b[0;32m   3908\u001b[0m         \"\"\"\n\u001b[1;32m-> 3909\u001b[1;33m         \u001b[0mnew_values\u001b[0m \u001b[1;33m=\u001b[0m \u001b[0msuper\u001b[0m\u001b[1;33m(\u001b[0m\u001b[1;33m)\u001b[0m\u001b[1;33m.\u001b[0m\u001b[0m_map_values\u001b[0m\u001b[1;33m(\u001b[0m\u001b[0marg\u001b[0m\u001b[1;33m,\u001b[0m \u001b[0mna_action\u001b[0m\u001b[1;33m=\u001b[0m\u001b[0mna_action\u001b[0m\u001b[1;33m)\u001b[0m\u001b[1;33m\u001b[0m\u001b[1;33m\u001b[0m\u001b[0m\n\u001b[0m\u001b[0;32m   3910\u001b[0m         return self._constructor(new_values, index=self.index).__finalize__(\n\u001b[0;32m   3911\u001b[0m             \u001b[0mself\u001b[0m\u001b[1;33m,\u001b[0m \u001b[0mmethod\u001b[0m\u001b[1;33m=\u001b[0m\u001b[1;34m\"map\"\u001b[0m\u001b[1;33m\u001b[0m\u001b[1;33m\u001b[0m\u001b[0m\n",
      "\u001b[1;32m~\\anaconda3\\lib\\site-packages\\pandas\\core\\base.py\u001b[0m in \u001b[0;36m_map_values\u001b[1;34m(self, mapper, na_action)\u001b[0m\n\u001b[0;32m    935\u001b[0m \u001b[1;33m\u001b[0m\u001b[0m\n\u001b[0;32m    936\u001b[0m         \u001b[1;31m# mapper is a function\u001b[0m\u001b[1;33m\u001b[0m\u001b[1;33m\u001b[0m\u001b[1;33m\u001b[0m\u001b[0m\n\u001b[1;32m--> 937\u001b[1;33m         \u001b[0mnew_values\u001b[0m \u001b[1;33m=\u001b[0m \u001b[0mmap_f\u001b[0m\u001b[1;33m(\u001b[0m\u001b[0mvalues\u001b[0m\u001b[1;33m,\u001b[0m \u001b[0mmapper\u001b[0m\u001b[1;33m)\u001b[0m\u001b[1;33m\u001b[0m\u001b[1;33m\u001b[0m\u001b[0m\n\u001b[0m\u001b[0;32m    938\u001b[0m \u001b[1;33m\u001b[0m\u001b[0m\n\u001b[0;32m    939\u001b[0m         \u001b[1;32mreturn\u001b[0m \u001b[0mnew_values\u001b[0m\u001b[1;33m\u001b[0m\u001b[1;33m\u001b[0m\u001b[0m\n",
      "\u001b[1;32m~\\anaconda3\\lib\\site-packages\\pandas\\core\\base.py\u001b[0m in \u001b[0;36m<lambda>\u001b[1;34m(values, f)\u001b[0m\n\u001b[0;32m    922\u001b[0m             \u001b[0mvalues\u001b[0m \u001b[1;33m=\u001b[0m \u001b[0mself\u001b[0m\u001b[1;33m.\u001b[0m\u001b[0mastype\u001b[0m\u001b[1;33m(\u001b[0m\u001b[0mobject\u001b[0m\u001b[1;33m)\u001b[0m\u001b[1;33m.\u001b[0m\u001b[0m_values\u001b[0m  \u001b[1;31m# type: ignore[attr-defined]\u001b[0m\u001b[1;33m\u001b[0m\u001b[1;33m\u001b[0m\u001b[0m\n\u001b[0;32m    923\u001b[0m             \u001b[1;32mif\u001b[0m \u001b[0mna_action\u001b[0m \u001b[1;33m==\u001b[0m \u001b[1;34m\"ignore\"\u001b[0m\u001b[1;33m:\u001b[0m\u001b[1;33m\u001b[0m\u001b[1;33m\u001b[0m\u001b[0m\n\u001b[1;32m--> 924\u001b[1;33m                 map_f = lambda values, f: lib.map_infer_mask(\n\u001b[0m\u001b[0;32m    925\u001b[0m                     \u001b[0mvalues\u001b[0m\u001b[1;33m,\u001b[0m \u001b[0mf\u001b[0m\u001b[1;33m,\u001b[0m \u001b[0misna\u001b[0m\u001b[1;33m(\u001b[0m\u001b[0mvalues\u001b[0m\u001b[1;33m)\u001b[0m\u001b[1;33m.\u001b[0m\u001b[0mview\u001b[0m\u001b[1;33m(\u001b[0m\u001b[0mnp\u001b[0m\u001b[1;33m.\u001b[0m\u001b[0muint8\u001b[0m\u001b[1;33m)\u001b[0m\u001b[1;33m\u001b[0m\u001b[1;33m\u001b[0m\u001b[0m\n\u001b[0;32m    926\u001b[0m                 )\n",
      "\u001b[1;32mpandas\\_libs\\lib.pyx\u001b[0m in \u001b[0;36mpandas._libs.lib.map_infer_mask\u001b[1;34m()\u001b[0m\n",
      "\u001b[1;32m<ipython-input-31-e3c65d2a3c09>\u001b[0m in \u001b[0;36m<lambda>\u001b[1;34m(x)\u001b[0m\n\u001b[1;32m----> 1\u001b[1;33m \u001b[0mdf\u001b[0m\u001b[1;33m.\u001b[0m\u001b[0mConsumption\u001b[0m\u001b[1;33m.\u001b[0m\u001b[0mmap\u001b[0m\u001b[1;33m(\u001b[0m\u001b[1;32mlambda\u001b[0m \u001b[0mx\u001b[0m\u001b[1;33m:\u001b[0m \u001b[0mx\u001b[0m\u001b[1;33m[\u001b[0m\u001b[1;36m2\u001b[0m\u001b[1;33m]\u001b[0m \u001b[1;32mif\u001b[0m \u001b[0mtype\u001b[0m\u001b[1;33m(\u001b[0m\u001b[0mx\u001b[0m\u001b[1;33m[\u001b[0m\u001b[1;36m2\u001b[0m\u001b[1;33m]\u001b[0m\u001b[1;33m)\u001b[0m\u001b[1;33m==\u001b[0m\u001b[0mlist\u001b[0m \u001b[1;32mand\u001b[0m \u001b[0mx\u001b[0m\u001b[1;33m[\u001b[0m\u001b[1;36m2\u001b[0m\u001b[1;33m]\u001b[0m\u001b[1;33m!=\u001b[0m\u001b[1;33m[\u001b[0m\u001b[1;33m]\u001b[0m \u001b[1;32melse\u001b[0m \u001b[1;33m(\u001b[0m\u001b[1;33m[\u001b[0m\u001b[0mx\u001b[0m\u001b[1;33m[\u001b[0m\u001b[1;36m5\u001b[0m\u001b[1;33m]\u001b[0m\u001b[1;33m]\u001b[0m \u001b[1;32mif\u001b[0m \u001b[0mtype\u001b[0m\u001b[1;33m(\u001b[0m\u001b[0mx\u001b[0m\u001b[1;33m[\u001b[0m\u001b[1;36m0\u001b[0m\u001b[1;33m]\u001b[0m\u001b[1;33m)\u001b[0m\u001b[1;33m!=\u001b[0m\u001b[0mlist\u001b[0m \u001b[1;32melse\u001b[0m \u001b[0mnp\u001b[0m\u001b[1;33m.\u001b[0m\u001b[0mnan\u001b[0m\u001b[1;33m)\u001b[0m\u001b[1;33m,\u001b[0m\u001b[0mna_action\u001b[0m\u001b[1;33m=\u001b[0m\u001b[1;34m'ignore'\u001b[0m\u001b[1;33m)\u001b[0m\u001b[1;33m\u001b[0m\u001b[1;33m\u001b[0m\u001b[0m\n\u001b[0m",
      "\u001b[1;31mIndexError\u001b[0m: list index out of range"
     ]
    }
   ],
   "source": [
    "df.Consumption.map(lambda x: x[2] if type(x[2])==list and x[2]!=[] else ([x[5]] if type(x[0])!=list else np.nan),na_action='ignore')"
   ]
  },
  {
   "cell_type": "code",
   "execution_count": null,
   "id": "eb15094f",
   "metadata": {},
   "outputs": [],
   "source": []
  },
  {
   "cell_type": "code",
   "execution_count": 239,
   "id": "d06f4d5e",
   "metadata": {},
   "outputs": [
    {
     "data": {
      "text/plain": [
       "15694    [7.4 l/100 km (comb)]\n",
       "9808     [5.2 l/100 km (comb)]\n",
       "4894       [6 l/100 km (comb)]\n",
       "5391     [4.8 l/100 km (comb)]\n",
       "439      [4.2 l/100 km (comb)]\n",
       "Name: Consumption_comb, dtype: object"
      ]
     },
     "execution_count": 239,
     "metadata": {},
     "output_type": "execute_result"
    }
   ],
   "source": [
    "df['Consumption_comb'].sample(5)"
   ]
  },
  {
   "cell_type": "code",
   "execution_count": 247,
   "id": "c1b34883",
   "metadata": {},
   "outputs": [],
   "source": [
    "df['Consumption_comb']=[i[0].split(' ')[0]  if type(i)==list else i for i in df['Consumption_comb']]"
   ]
  },
  {
   "cell_type": "code",
   "execution_count": 248,
   "id": "f3067538",
   "metadata": {},
   "outputs": [],
   "source": [
    "df['Consumption_comb']=df['Consumption_comb'].astype(float)"
   ]
  },
  {
   "cell_type": "code",
   "execution_count": 249,
   "id": "3684486e",
   "metadata": {},
   "outputs": [],
   "source": [
    "df['Consumption_city']=[i[0].split(' ')[0]  if type(i)==list else i for i in df['Consumption_city']]"
   ]
  },
  {
   "cell_type": "code",
   "execution_count": 250,
   "id": "068c3ccb",
   "metadata": {},
   "outputs": [],
   "source": [
    "df['Consumption_city']=df['Consumption_city'].astype(float)"
   ]
  },
  {
   "cell_type": "code",
   "execution_count": 251,
   "id": "9700dfde",
   "metadata": {},
   "outputs": [],
   "source": [
    "df['Consumption_country']=[i[0].split(' ')[0]  if type(i)==list else i for i in df['Consumption_country']]"
   ]
  },
  {
   "cell_type": "code",
   "execution_count": 252,
   "id": "d9aad436",
   "metadata": {},
   "outputs": [],
   "source": [
    "df['Consumption_country']=df['Consumption_country'].astype(float)"
   ]
  },
  {
   "cell_type": "code",
   "execution_count": 254,
   "id": "46436a9d",
   "metadata": {},
   "outputs": [
    {
     "data": {
      "text/plain": [
       "Consumption_country  Consumption_city\n",
       "3.800                3.400               37\n",
       "3.500                3.300               19\n",
       "3.800                3.500               19\n",
       "5.700                4.600               19\n",
       "4.400                5.000                5\n",
       "3.400                4.500                3\n",
       "4.200                6.700                2\n",
       "3.300                4.000                1\n",
       "3.900                5.200                1\n",
       "4.000                5.000                1\n",
       "4.500                7.100                1\n",
       "dtype: int64"
      ]
     },
     "execution_count": 254,
     "metadata": {},
     "output_type": "execute_result"
    }
   ],
   "source": [
    "df[df['Consumption_comb'].isnull()][['Consumption_country','Consumption_city']].value_counts()"
   ]
  },
  {
   "cell_type": "code",
   "execution_count": 255,
   "id": "b1528a27",
   "metadata": {},
   "outputs": [
    {
     "data": {
      "text/plain": [
       "2883"
      ]
     },
     "execution_count": 255,
     "metadata": {},
     "output_type": "execute_result"
    }
   ],
   "source": [
    "df['Consumption_comb'].isnull().sum()"
   ]
  },
  {
   "cell_type": "code",
   "execution_count": 258,
   "id": "5d04aecd",
   "metadata": {},
   "outputs": [],
   "source": [
    "df['Consumption_comb'].fillna((df['Consumption_country']+df['Consumption_city'])/2,inplace=True)"
   ]
  },
  {
   "cell_type": "code",
   "execution_count": 259,
   "id": "e0fccf77",
   "metadata": {},
   "outputs": [
    {
     "data": {
      "text/plain": [
       "2775"
      ]
     },
     "execution_count": 259,
     "metadata": {},
     "output_type": "execute_result"
    }
   ],
   "source": [
    "df['Consumption_comb'].isnull().sum()"
   ]
  },
  {
   "cell_type": "code",
   "execution_count": 260,
   "id": "814d8f17",
   "metadata": {},
   "outputs": [],
   "source": [
    "df.drop(['Consumption_country','Consumption_city'],axis=1,inplace=True)"
   ]
  },
  {
   "cell_type": "code",
   "execution_count": 287,
   "id": "e0d73407",
   "metadata": {},
   "outputs": [],
   "source": [
    "df.drop('Consumption',axis=1,inplace=True)"
   ]
  },
  {
   "cell_type": "markdown",
   "id": "b7c426ab",
   "metadata": {},
   "source": [
    "# CO2 Emission"
   ]
  },
  {
   "cell_type": "code",
   "execution_count": 142,
   "id": "e85e7905",
   "metadata": {},
   "outputs": [
    {
     "ename": "TypeError",
     "evalue": "unhashable type: 'list'",
     "output_type": "error",
     "traceback": [
      "\u001b[1;31m---------------------------------------------------------------------------\u001b[0m",
      "\u001b[1;31mTypeError\u001b[0m                                 Traceback (most recent call last)",
      "\u001b[1;32mpandas\\_libs\\hashtable_class_helper.pxi\u001b[0m in \u001b[0;36mpandas._libs.hashtable.PyObjectHashTable.map_locations\u001b[1;34m()\u001b[0m\n",
      "\u001b[1;31mTypeError\u001b[0m: unhashable type: 'list'"
     ]
    },
    {
     "name": "stderr",
     "output_type": "stream",
     "text": [
      "Exception ignored in: 'pandas._libs.index.IndexEngine._call_map_locations'\n",
      "Traceback (most recent call last):\n",
      "  File \"pandas\\_libs\\hashtable_class_helper.pxi\", line 4588, in pandas._libs.hashtable.PyObjectHashTable.map_locations\n",
      "TypeError: unhashable type: 'list'\n"
     ]
    },
    {
     "data": {
      "text/plain": [
       "[\\n120 g CO2/km (comb)\\n]      740\n",
       "[[], [], []]                   628\n",
       "[\\n99 g CO2/km (comb)\\n]       545\n",
       "[\\n97 g CO2/km (comb)\\n]       537\n",
       "[\\n104 g CO2/km (comb)\\n]      501\n",
       "                              ... \n",
       "[\\n184 g CO2/km (comb)\\n]        1\n",
       "[\\n171 g CO2/km (comb)\\n]        1\n",
       "[\\n253 g CO2/km (comb)\\n]        1\n",
       "[\\n1,060 g CO2/km (comb)\\n]      1\n",
       "[\\n181 g CO2/km (comb)\\n]        1\n",
       "Name: CO2 Emission, Length: 123, dtype: int64"
      ]
     },
     "execution_count": 142,
     "metadata": {},
     "output_type": "execute_result"
    }
   ],
   "source": [
    "df['CO2 Emission'].value_counts()"
   ]
  },
  {
   "cell_type": "code",
   "execution_count": 143,
   "id": "53063342",
   "metadata": {},
   "outputs": [],
   "source": [
    "df['CO2 Emission']=df['CO2 Emission'].map(lambda x: x[0].strip('\\n').split(' ')[0].replace(',','') if type(x[0])!=list else np.nan,na_action='ignore')"
   ]
  },
  {
   "cell_type": "code",
   "execution_count": 144,
   "id": "940324ca",
   "metadata": {},
   "outputs": [
    {
     "data": {
      "text/plain": [
       "0        99.000\n",
       "1       129.000\n",
       "2        99.000\n",
       "3        99.000\n",
       "4       109.000\n",
       "          ...  \n",
       "15914   139.000\n",
       "15915   168.000\n",
       "15916   139.000\n",
       "15917   139.000\n",
       "15918   153.000\n",
       "Name: CO2 Emission, Length: 15919, dtype: float64"
      ]
     },
     "execution_count": 144,
     "metadata": {},
     "output_type": "execute_result"
    }
   ],
   "source": [
    "df['CO2 Emission'].astype(float)"
   ]
  },
  {
   "cell_type": "code",
   "execution_count": 145,
   "id": "941210a5",
   "metadata": {},
   "outputs": [
    {
     "data": {
      "text/plain": [
       "120     740\n",
       "99      545\n",
       "97      537\n",
       "104     501\n",
       "102     477\n",
       "       ... \n",
       "177       1\n",
       "1         1\n",
       "165       1\n",
       "51        1\n",
       "1060      1\n",
       "Name: CO2 Emission, Length: 122, dtype: int64"
      ]
     },
     "execution_count": 145,
     "metadata": {},
     "output_type": "execute_result"
    }
   ],
   "source": [
    "df['CO2 Emission'].value_counts()"
   ]
  },
  {
   "cell_type": "markdown",
   "id": "2e3f63a4",
   "metadata": {},
   "source": [
    "# Emission Class"
   ]
  },
  {
   "cell_type": "code",
   "execution_count": 164,
   "id": "d912e29a",
   "metadata": {},
   "outputs": [
    {
     "ename": "TypeError",
     "evalue": "unhashable type: 'list'",
     "output_type": "error",
     "traceback": [
      "\u001b[1;31m---------------------------------------------------------------------------\u001b[0m",
      "\u001b[1;31mTypeError\u001b[0m                                 Traceback (most recent call last)",
      "\u001b[1;32mpandas\\_libs\\hashtable_class_helper.pxi\u001b[0m in \u001b[0;36mpandas._libs.hashtable.PyObjectHashTable.map_locations\u001b[1;34m()\u001b[0m\n",
      "\u001b[1;31mTypeError\u001b[0m: unhashable type: 'list'"
     ]
    },
    {
     "name": "stderr",
     "output_type": "stream",
     "text": [
      "Exception ignored in: 'pandas._libs.index.IndexEngine._call_map_locations'\n",
      "Traceback (most recent call last):\n",
      "  File \"pandas\\_libs\\hashtable_class_helper.pxi\", line 4588, in pandas._libs.hashtable.PyObjectHashTable.map_locations\n",
      "TypeError: unhashable type: 'list'\n"
     ]
    },
    {
     "data": {
      "text/plain": [
       "[\\nEuro 6\\n]          10139\n",
       "[\\nEuro 6d-TEMP\\n]     1845\n",
       "[[], [], []]            607\n",
       "[\\nEuro 6c\\n]           127\n",
       "[\\nEuro 5\\n]             78\n",
       "[\\nEuro 6d\\n]            62\n",
       "[\\nEuro 4\\n]             40\n",
       "Name: Emission Class, dtype: int64"
      ]
     },
     "execution_count": 164,
     "metadata": {},
     "output_type": "execute_result"
    }
   ],
   "source": [
    "df['Emission Class'].value_counts()"
   ]
  },
  {
   "cell_type": "code",
   "execution_count": 170,
   "id": "b9b97a2e",
   "metadata": {},
   "outputs": [],
   "source": [
    "df['Emission Class']=df['Emission Class'].map(lambda x: x[0].strip('\\n') if type(x[0])!=list else np.nan, na_action='ignore' )"
   ]
  },
  {
   "cell_type": "code",
   "execution_count": 171,
   "id": "9e84b586",
   "metadata": {},
   "outputs": [
    {
     "data": {
      "text/plain": [
       "Euro 6          10139\n",
       "Euro 6d-TEMP     1845\n",
       "Euro 6c           127\n",
       "Euro 5             78\n",
       "Euro 6d            62\n",
       "Euro 4             40\n",
       "Name: Emission Class, dtype: int64"
      ]
     },
     "execution_count": 171,
     "metadata": {},
     "output_type": "execute_result"
    }
   ],
   "source": [
    "df['Emission Class'].value_counts()#CATEGORIC"
   ]
  },
  {
   "cell_type": "code",
   "execution_count": null,
   "id": "093b5680",
   "metadata": {},
   "outputs": [],
   "source": []
  },
  {
   "cell_type": "code",
   "execution_count": null,
   "id": "fbf96c94",
   "metadata": {},
   "outputs": [],
   "source": []
  },
  {
   "cell_type": "markdown",
   "id": "aae6c60e",
   "metadata": {},
   "source": [
    "## FOR COMFORT,MEDIA,EXTRAS,SECURITY COLUMNS,WE PREPARE FOR GETTING DUMMIES"
   ]
  },
  {
   "cell_type": "markdown",
   "id": "9e9e8451",
   "metadata": {},
   "source": [
    "# Comfort "
   ]
  },
  {
   "cell_type": "code",
   "execution_count": 146,
   "id": "f6887491",
   "metadata": {},
   "outputs": [
    {
     "data": {
      "text/plain": [
       "Index(['make_model', 'body_type', 'price', 'vat', 'km', 'hp', 'Type',\n",
       "       'Previous Owners', 'Inspection new', 'Warranty', 'Body Color',\n",
       "       'Paint Type', 'Upholstery', 'Nr. of Doors', 'Nr. of Seats',\n",
       "       'Gearing Type', 'Displacement', 'Cylinders', 'Weight', 'Drive chain',\n",
       "       'Fuel', 'Consumption', 'CO2 Emission', 'Emission Class',\n",
       "       '\\nComfort & Convenience\\n', '\\nEntertainment & Media\\n', '\\nExtras\\n',\n",
       "       '\\nSafety & Security\\n', 'description', 'Emission Label', 'Gears',\n",
       "       'Country version', 'Age'],\n",
       "      dtype='object')"
      ]
     },
     "execution_count": 146,
     "metadata": {},
     "output_type": "execute_result"
    }
   ],
   "source": [
    "df.columns"
   ]
  },
  {
   "cell_type": "code",
   "execution_count": 147,
   "id": "f9b154a3",
   "metadata": {},
   "outputs": [],
   "source": [
    "df.rename(columns={'\\nComfort & Convenience\\n':'Comfort','\\nEntertainment & Media\\n':'Media','\\nExtras\\n':'Extras','\\nSafety & Security\\n':'Security'},inplace=True)"
   ]
  },
  {
   "cell_type": "code",
   "execution_count": 148,
   "id": "5b311a17",
   "metadata": {},
   "outputs": [
    {
     "data": {
      "text/plain": [
       "Index(['make_model', 'body_type', 'price', 'vat', 'km', 'hp', 'Type',\n",
       "       'Previous Owners', 'Inspection new', 'Warranty', 'Body Color',\n",
       "       'Paint Type', 'Upholstery', 'Nr. of Doors', 'Nr. of Seats',\n",
       "       'Gearing Type', 'Displacement', 'Cylinders', 'Weight', 'Drive chain',\n",
       "       'Fuel', 'Consumption', 'CO2 Emission', 'Emission Class', 'Comfort',\n",
       "       'Media', 'Extras', 'Security', 'description', 'Emission Label', 'Gears',\n",
       "       'Country version', 'Age'],\n",
       "      dtype='object')"
      ]
     },
     "execution_count": 148,
     "metadata": {},
     "output_type": "execute_result"
    }
   ],
   "source": [
    "df.columns"
   ]
  },
  {
   "cell_type": "code",
   "execution_count": 187,
   "id": "2c4caa82",
   "metadata": {},
   "outputs": [
    {
     "data": {
      "text/plain": [
       "2160     [Air conditioning, Electrical side mirrors, Le...\n",
       "10596    [Air conditioning, Power windows, Seat ventila...\n",
       "9199                                                   NaN\n",
       "15109    [Air conditioning, Automatic climate control, ...\n",
       "7648     [Air conditioning, Armrest, Cruise control, Le...\n",
       "Name: Comfort, dtype: object"
      ]
     },
     "execution_count": 187,
     "metadata": {},
     "output_type": "execute_result"
    }
   ],
   "source": [
    "df.Comfort.sample(5)"
   ]
  },
  {
   "cell_type": "code",
   "execution_count": 206,
   "id": "02926ec1",
   "metadata": {},
   "outputs": [],
   "source": [
    "#comfort_list=[j for i in df.Comfort.dropna() for j in i]\n",
    "#set(comfort_list)\n",
    "#for i in set(comfort_list):\n",
    "#    df[i]=df.Comfort.str.contains(i)"
   ]
  },
  {
   "cell_type": "code",
   "execution_count": 212,
   "id": "2531955f",
   "metadata": {},
   "outputs": [],
   "source": [
    "df.Comfort=[','.join(i) if type(i)==list else i for i in df.Comfort]\n"
   ]
  },
  {
   "cell_type": "code",
   "execution_count": 213,
   "id": "e000e5b6",
   "metadata": {},
   "outputs": [
    {
     "data": {
      "text/plain": [
       "11805        Air conditioning,Cruise control,Power windows\n",
       "738      Air conditioning,Armrest,Automatic climate con...\n",
       "10367                            Hill Holder,Power windows\n",
       "10391    Air conditioning,Electrical side mirrors,Hill ...\n",
       "8232     Air conditioning,Armrest,Cruise control,Electr...\n",
       "Name: Comfort, dtype: object"
      ]
     },
     "execution_count": 213,
     "metadata": {},
     "output_type": "execute_result"
    }
   ],
   "source": [
    "df.Comfort.sample(5)"
   ]
  },
  {
   "cell_type": "markdown",
   "id": "2d572c07",
   "metadata": {},
   "source": [
    "#  Media"
   ]
  },
  {
   "cell_type": "code",
   "execution_count": 214,
   "id": "74ba8648",
   "metadata": {},
   "outputs": [
    {
     "data": {
      "text/plain": [
       "12835    [Bluetooth, CD player, MP3, On-board computer,...\n",
       "15113    [Bluetooth, Hands-free equipment, On-board com...\n",
       "107      [Bluetooth, CD player, MP3, Radio, Sound syste...\n",
       "10788    [Bluetooth, CD player, Hands-free equipment, M...\n",
       "15386    [Bluetooth, Hands-free equipment, MP3, On-boar...\n",
       "Name: Media, dtype: object"
      ]
     },
     "execution_count": 214,
     "metadata": {},
     "output_type": "execute_result"
    }
   ],
   "source": [
    "df.Media.sample(5)"
   ]
  },
  {
   "cell_type": "code",
   "execution_count": 215,
   "id": "1e40358f",
   "metadata": {},
   "outputs": [],
   "source": [
    "df.Media=[','.join(i) if type(i)==list else i for i in df.Media]"
   ]
  },
  {
   "cell_type": "code",
   "execution_count": 216,
   "id": "2141e052",
   "metadata": {},
   "outputs": [
    {
     "data": {
      "text/plain": [
       "7634     Bluetooth,Digital radio,Hands-free equipment,O...\n",
       "12409    Bluetooth,Digital radio,Hands-free equipment,M...\n",
       "1004     Bluetooth,CD player,Hands-free equipment,MP3,O...\n",
       "3147     Bluetooth,CD player,Hands-free equipment,MP3,O...\n",
       "5408                               On-board computer,Radio\n",
       "Name: Media, dtype: object"
      ]
     },
     "execution_count": 216,
     "metadata": {},
     "output_type": "execute_result"
    }
   ],
   "source": [
    "df.Media.sample(5)"
   ]
  },
  {
   "cell_type": "code",
   "execution_count": null,
   "id": "75c81a6e",
   "metadata": {},
   "outputs": [],
   "source": []
  },
  {
   "cell_type": "markdown",
   "id": "fbf6425e",
   "metadata": {},
   "source": [
    "# Extras"
   ]
  },
  {
   "cell_type": "code",
   "execution_count": 217,
   "id": "43cf292b",
   "metadata": {},
   "outputs": [
    {
     "data": {
      "text/plain": [
       "4045                                   [Sport suspension]\n",
       "737     [Alloy wheels, Catalytic Converter, Ski bag, S...\n",
       "1699                                       [Alloy wheels]\n",
       "3546                                       [Alloy wheels]\n",
       "9035           [Alloy wheels, Sport package, Sport seats]\n",
       "Name: Extras, dtype: object"
      ]
     },
     "execution_count": 217,
     "metadata": {},
     "output_type": "execute_result"
    }
   ],
   "source": [
    "df.Extras.sample(5)"
   ]
  },
  {
   "cell_type": "code",
   "execution_count": 218,
   "id": "3e3db82f",
   "metadata": {},
   "outputs": [],
   "source": [
    "df.Extras=[','.join(i) if type(i)==list else i for i in df.Extras]"
   ]
  },
  {
   "cell_type": "code",
   "execution_count": 219,
   "id": "43653a55",
   "metadata": {},
   "outputs": [
    {
     "data": {
      "text/plain": [
       "8511                                          Alloy wheels\n",
       "9661                            Alloy wheels,Voice Control\n",
       "12956    Alloy wheels,Catalytic Converter,Sport seats,T...\n",
       "2124                                                   NaN\n",
       "11024                               Alloy wheels,Roof rack\n",
       "Name: Extras, dtype: object"
      ]
     },
     "execution_count": 219,
     "metadata": {},
     "output_type": "execute_result"
    }
   ],
   "source": [
    "df.Extras.sample(5)"
   ]
  },
  {
   "cell_type": "markdown",
   "id": "9714f873",
   "metadata": {},
   "source": [
    "# Security"
   ]
  },
  {
   "cell_type": "code",
   "execution_count": 221,
   "id": "17c5b603",
   "metadata": {},
   "outputs": [
    {
     "data": {
      "text/plain": [
       "15389    [ABS, Central door lock, Central door lock wit...\n",
       "13438                                                  NaN\n",
       "10775    [ABS, Central door lock, Daytime running light...\n",
       "11824    [ABS, Adaptive headlights, Central door lock, ...\n",
       "10461    [ABS, Adaptive headlights, Central door lock, ...\n",
       "Name: Security, dtype: object"
      ]
     },
     "execution_count": 221,
     "metadata": {},
     "output_type": "execute_result"
    }
   ],
   "source": [
    "df.Security.sample(5)"
   ]
  },
  {
   "cell_type": "code",
   "execution_count": 222,
   "id": "2fd0654d",
   "metadata": {},
   "outputs": [],
   "source": [
    "df.Security=[','.join(i) if type(i)==list else i for i in df.Security]"
   ]
  },
  {
   "cell_type": "code",
   "execution_count": 223,
   "id": "d8096e45",
   "metadata": {},
   "outputs": [
    {
     "data": {
      "text/plain": [
       "3525     ABS,Adaptive headlights,Central door lock,Dayt...\n",
       "5266     ABS,Driver-side airbag,Passenger-side airbag,P...\n",
       "5248     ABS,Central door lock,Daytime running lights,D...\n",
       "14236    ABS,Central door lock,Driver-side airbag,Elect...\n",
       "14606    ABS,Central door lock,Driver-side airbag,Elect...\n",
       "Name: Security, dtype: object"
      ]
     },
     "execution_count": 223,
     "metadata": {},
     "output_type": "execute_result"
    }
   ],
   "source": [
    "df.Security.sample(5)"
   ]
  },
  {
   "cell_type": "code",
   "execution_count": null,
   "id": "559d5679",
   "metadata": {},
   "outputs": [],
   "source": []
  },
  {
   "cell_type": "markdown",
   "id": "8058c8cb",
   "metadata": {},
   "source": [
    "# description"
   ]
  },
  {
   "cell_type": "code",
   "execution_count": 149,
   "id": "a5a2a115",
   "metadata": {},
   "outputs": [
    {
     "ename": "TypeError",
     "evalue": "unhashable type: 'list'",
     "output_type": "error",
     "traceback": [
      "\u001b[1;31m---------------------------------------------------------------------------\u001b[0m",
      "\u001b[1;31mTypeError\u001b[0m                                 Traceback (most recent call last)",
      "\u001b[1;32mpandas\\_libs\\hashtable_class_helper.pxi\u001b[0m in \u001b[0;36mpandas._libs.hashtable.PyObjectHashTable.map_locations\u001b[1;34m()\u001b[0m\n",
      "\u001b[1;31mTypeError\u001b[0m: unhashable type: 'list'"
     ]
    },
    {
     "name": "stderr",
     "output_type": "stream",
     "text": [
      "Exception ignored in: 'pandas._libs.index.IndexEngine._call_map_locations'\n",
      "Traceback (most recent call last):\n",
      "  File \"pandas\\_libs\\hashtable_class_helper.pxi\", line 4588, in pandas._libs.hashtable.PyObjectHashTable.map_locations\n",
      "TypeError: unhashable type: 'list'\n"
     ]
    },
    {
     "data": {
      "text/plain": [
       "[]                                                                                                                                                                                                                                                                                                                                                                                                                                                                                                                                                                                                                                                                                                                                                                                                                                                                                                                                                                                                                                                                                                                                                                                                                                                                                                                                                                                                                                                                                                                                                                                                                                                                                                                                                                                                                                                                                                                                                                                                                                                                                                                                                                                                                                                                                                                                                                                                                                                                                                                                                                                                                                                                                                                                                                                                                                                                                                                                                                                                                                                                                                                                                                                 636\n",
       "[\\n, \\n]                                                                                                                                                                                                                                                                                                                                                                                                                                                                                                                                                                                                                                                                                                                                                                                                                                                                                                                                                                                                                                                                                                                                                                                                                                                                                                                                                                                                                                                                                                                                                                                                                                                                                                                                                                                                                                                                                                                                                                                                                                                                                                                                                                                                                                                                                                                                                                                                                                                                                                                                                                                                                                                                                                                                                                                                                                                                                                                                                                                                                                                                                                                                                                            30\n",
       "[\\nSichern Sie sich diesen Opel Astra K 1.4 SIDI Turbo Innovation Start/Stop zum Top-Preis inklusive dem, AUTOHERO-RUNDUM-SORGLOS-PAKET,  , Infos:,  2.Hand, deutsche Auslieferung, Unfallfrei, scheckheftgepflegt, mindestens 12 Monate gültige HU und AU,  , Highlights,  , Rückfahrkamera,  , Voll-LED-Matrix-Scheinwerfer (IntelliLux),  , Audio-Navigationssystem Navi 900 Europa Touch,  , Spurassistent,  , Leichtmetallfelgen , Komfort,  , Sitzheizung vorn,  , Klimaautomatik 2-Zonen,  , Parkpilotsystem vorn und hinten,  , 6-Stufen Automatikgetriebe,  , Tempomat (Geschwindigkeits-Regelanlage) mit Begrenzer ,  , Berganfahrassistent ,  , Servolenkung,  , Lendenwirbelstütze elektropneumatisch für Fahrer ,  , Kopfstützen vorn und hinten ,  , Multifunktionslenkrad in Leder, beheizbar ,  , Mittelarmlehne vorn verschiebbar,  , Zentralverriegelung mit Fernbedienung,  , Fensterheber elektrisch vorn + hinten,  , Berganfahr-Assistent (HSA, Hill Start Assist), Multimedia,  , 8 Zoll Touchscreen-Farbdisplay,  , Verkehrszeichenerkennung,  , Audiostreaming ,  , Apple CarPlay und Android Auto,  , 6 Lautsprecher ,  , Bluetooth-Freisprecheinrichtung ,  , Sprachsteuerung,  , Bordcomputer,  , Multimedia-Schnittstelle (USB / AUX-IN), Licht und Sicht,  , Außenspiegel elektrisch verstell-, heiz- und anklappbar,  , Abbiegelicht,  , LED Tagfahrlicht,  , Nebelscheinwerfer,  , Ambientebeleuchtung,  , Innenrückspiegel automatisch abblendend,  , Fernlichtassistent und Leuchtweitenregulierung ,  , Licht und Regensensor ,  , Wärmeschutzverglasung hinten abgedunkelt (Solar-Protect),  , LED Heckleuchten , Sicherheit,  , Abstandswarner,  , Auffahrwarnsystem,  , Isofix-Aufnahmen für Kindersitz an Rücksitz,  , Frontkamera,  , Airbag für Fahrer- und Beifahrerseite,  , Wegfahrsperre,  , ...]                                                                                                                                                                                                                                                                                                                                                                                                                                                                                                                                                                                                                                                                                                                                                                                                                                                                                                                                                                                                                                                                                                                                                                                                                                                                                                                                      27\n",
       "[\\n, Fahrzeugbeschreibung,  Sichern Sie sich diesen Renault Clio 1.6 TCE Energy Sport Trophy zum Top-Preis inklusive dem , AUTOHERO-RUNDUM-SORGLOS-PAKET,  , Infos:,  1.Hand, deutsche Auslieferung, Unfallfrei, scheckheftgepflegt,  , Highlights,  , Audio-Navigationssystem R-Link Evolution mit Touchscreen und Carminat TomTom,  , Sportsitze ,  , Sportfahrwerk,  , Scheinwerfer Full-LED , Komfort,  , Geschwindigkeits-Regelanlage (Tempomat) ,  , Klimaanlage,  , Einparkhilfe hinten,  , Multifunktionslenkrad (Sport/Leder) mit Schaltwippen/-tasten ,  , Fensterheber elektr. mit Impulsgeber links/rechts vorn,  , Zentralverriegelung / Startanlage Handsfree Entry & Drive ,  , Berganfahr-Assistent (HSA) , Multimedia,  , Audiosystem: Radio R & GO (Bluetooth, DAB-Tuner),  , Bordcomputer,  , Freisprecheinrichtung Bluetooth ,  , USB-Anschluss inkl. AUX-IN-Anschluss (Plug & Music) , Licht und Sicht,  , Außenspiegel elektr. verstell- und heizbar ,  , Licht- und Regensensor ,  , Tagfahrlicht LED ,  , Nebelscheinwerfer LED ,  , Coming-Home-Lichtfunktion ,  , Heckleuchten LED , Sicherheit,  , Isofix-Aufnahmen für Kindersitz ,  , Seitenairbag vorn,  , Wegfahrsperre,  , Differentialsperre,  , Bremsassistent ,  , Elektron. Stabilitäts-Programm (ESP),  , Anti-Blockier-System (ABS),  , Anti-Submarining-Airbag im Fond,  , Airbag Fahrer-/Beifahrerseite ,  , Differentialsperre ,  , Reifendruck-Kontrollsystem ,  , Untersteuerungskontrolle (USC) ,  , Antischlupfregelung (ASR) , Weiteres,  , Start/Stop-Anlage ,  , Servolenkung geschwindigkeitsabhängig,  , R.S. Drive (Fahrmodusschalter) ,  , Gepäckraumabdeckung / Rollo ,  , Heckdiffusor ,  , LM-Felgen ,  , Heckspoiler (Renault Sport) ,  , Pedale Aluminium ,  , Energierückgewinnung (Energy Smart Management) , ...]                                                                                                                                                                                                                                                                                                                                                                                                                                                                                                                                                                                                                                                                                                                                                                                                                                                                                                                                                                                                                                                                                                                                                                                                                                                                                                                                                       27\n",
       "[\\n, Fahrzeugbeschreibung,  Sichern Sie sich diesen Audi A1 1.4 TDI Design zum Top-Preis inklusive dem, AUTOHERO-RUNDUM-SORGLOS-PAKET,  , Infos:,  2. Hand, deutsche Auslieferung, Unfallfrei, scheckheftgepflegt ,  , Highlights,  , Leichtmetallfelgen,  , Sitzheizung vorn,  , Sportsitze vorn,  , Dynamik-Fahrwerk,  , Multi-Media-Interface MMI Navigation,  , Einparkhilfe hinten (APS),  , CO2-optimiert (Ausführung e, Ultra) ,  , Komfort,  , Klimaautomatik,  , Mittelarmlehne vorn mit Fach,  , Fensterheber elektrisch vorn,  , Zentralverriegelung mit Fernbedienung,  , Berganfahr-Assistent,  , Multifunktionslederlenkrad,  , Rücksitzlehne geteilt/klappbar,  , Sitze vorn höhenverstellbar ,  , Lendenwirbelstützen verstellbar ,  , Multimedia,  , Audi music interface,  , Fahrer-Informations-System (FIS),  , Bluetooth-Freisprecheinrichtung,  , Licht und Sicht,  , Außenspiegel elektrisch verstell- und heizbar, beide,  , Tagfahrlicht,  , Scheibenwaschdüsen heizbar,  , Licht- und Regensensor,  , Nebelscheinwerfer integriert,  , Wärmeschutzverglasung grün getönt,  , Heckleuchten LED,  , Sicherheit,  , Isofix-Aufnahmen für Kindersitz,  , Bremsassistent,  , Seitenairbag vorn,  , Reifenkontroll-Anzeige,  , Anti-Blockier-System (ABS),  , Wegfahrsperre (elektronisch),  , Airbag Fahrer-/Beifahrerseite,  , Antriebs-Schlupfregelung (ASR),  , Kopf-Airbag-System (Sideguard),  , Elektronische Differentialsperre (EDS),  , Elektronisches Stabilitäts-Programm (ESP),  , Weiteres,  , Start/Stop-Anlage,  , Wagenheber,  , Servolenkung,  , ...]                                                                                                                                                                                                                                                                                                                                                                                                                                                                                                                                                                                                                                                                                                                                                                                                                                                                                                                                                                                                                                                                                                                                                                                                                                                                                                                                                                                                                                                                                                                                                                                         27\n",
       "                                                                                                                                                                                                                                                                                                                                                                                                                                                                                                                                                                                                                                                                                                                                                                                                                                                                                                                                                                                                                                                                                                                                                                                                                                                                                                                                                                                                                                                                                                                                                                                                                                                                                                                                                                                                                                                                                                                                                                                                                                                                                                                                                                                                                                                                                                                                                                                                                                                                                                                                                                                                                                                                                                                                                                                                                                                                                                                                                                                                                                                                                                                                                                                  ... \n",
       "[\\n, Ausstattungspakete:,  Ablagepaket, Assistenzsysteme:,  Sprachbedienung, Einparkhilfe hinten, Licht und Sicht:,  Tagfahrlicht, Audio & Kommunikation:,  Multi Media Interface MMI, Audio-Schnittstelle: Audi music interface, Räder und Reifen:,  Leichtmetallfelgen: 16 Zoll Aluminium Gussräder, Ganzjahresreifen, Komfort:,  Climatronic, Fahrer-/Beifahrersitz höhenverstellbar, Lordosenstütze Fahrer/Beifahrer, Sitzheizung Fahrer/Beifahrer, Easy-Entry Einstiegshilfe, Armauflage Fahrer/Beifahrer, Servotronic, Zentralver. mit Fernbedienung, Interieur:,  Sitze Stoff schwarz-schwarz-felsgrau, Innenfarbe schwarz, Multifunktions-Sport-/Lederlenkrad, Rücksitze klappbar, Exterieur:,  Sportfahrwerk, Außenspiegel elekt. und beheizt, Start-Stopp System, Sicherheit:,  6 x Airbag, Antriebsschlupfregelung ASR, Reifendruckkontrolle, Weiteres:,  3 Jahre Neuwagenanschlussgarantie bis max. 100.000km, Lehne geteilt umlegbar, geschwindigkeitsabhängig, Nichtraucherfahrzeug, Scheckheft gepflegtes Fahrzeug, Bestand Inzahlungnahme, Weiteres: ehemalige unverbindliche Preisempfehlung des Herstellers 20.974 EUR. TOP Angebot vom VW/Audi/Skoda – Vertragshändler. Besuchen Sie uns auf über 100.000 qm Ausstellungsfläche und sprechen Sie persönlich mit einem/einer unserer 46 Verkaufsberater/-innen. Unsere Öffnungszeiten im Verkauf: Mo.-Fr. 8:00-20:00 – Sa. 9:00-16:00 Willkommen zur Probefahrt. Finanzierung zu Sonderkonditionen, auch ohne Anzahlung möglich. Gerne nehmen wir Ihren Gebrauchtwagen in Zahlung. Irrtümer und Änderungen vorbehalten. Weitere Fahrzeuge finden Sie auf www.potti.de, Audi GW:plus, Kontakt:,  Ihr Direktruf 023819089002, \\n]                                                                                                                                                                                                                                                                                                                                                                                                                                                                                                                                                                                                                                                                                                                                                                                                                                                                                                                                                                                                                                                                                                                                                                                                                                                                                                                                                                                                                                                                                    1\n",
       "[\\n, Highlights: ,  Herstellereigene Garantie 24 Monate, Technik + Sicherheit: , ESP; ASR; Kopfairbags; Heckscheibenwischer; Innenspiegel automatisch abblendend; Außentemperatur-Anzeige; Dynamiklenkung; Elektr. Bremssystem (EBS); Sonstiges Technik & Sicherheit, Multimedia: , Multimediabuchse; Bluetooth; Radio, Assistenzsysteme: , Berganfahrassistent; Reifendruck-Kontrolle; Sonstiges Assistenzsysteme, Innen: , Klima; Bordcomputer; Fensterheber elektr. 2*; Fußmatten; Sonstiges Innenausstattung, Sitze + Polster: , Komfortsitz(e) vorn; Einstieghilfe (\"Easy Entry\"); Fahrersitz höhenverstellbar; Rücksitzbank umlegbar; Rückbank geteilt; Sonstiges Sitze & Polster; Iso-Fix, Aussen: , elektr. Aussenspiegel; Zentralverriegelung: Keyless Entry; getönte Scheiben; Dämmglas, Scheinwerfer + Leuchten: , Leuchtweitenregulierung; Tagfahrlicht; Halogenscheinwerfer; Sonstiges Scheinwerfer & Leuchten, Räder + Reifen: , Leichtmetallfelgen: 14\"; Sommerreifen, Sonstiges: , CO2-Effizienzklasse: D, \"Wir akzeptieren die Bezahlung mit sicherbezahlen.de\", Fahrzeugstandort: Autohaus Am Ruhrdeich GmbH, Daimlerstrasse 1 in 47167 Duisburg, Änderungen, Zwischenverkauf und Irrtümer vorbehalten!, \\n]                                                                                                                                                                                                                                                                                                                                                                                                                                                                                                                                                                                                                                                                                                                                                                                                                                                                                                                                                                                                                                                                                                                                                                                                                                                                                                                                                                                                                                                                                                                                                                                                                                                                                                                                                                                                                                                                                                                                                       1\n",
       "[\\n, Fahrzeugnummer für Anfragen: LA027224, KL, Serienausstattung, ABS mit elektronischem Bremskraftverteiler (EBV) , Airbag, Fahrer- und Beifahrer (abschaltbar) , Airbag, Kopf vorn und hinten , Airbag, Seiten für Fahrer- und Beifahrer , Antriebs-Schlupf-Regelung (ASR) , Audi connect Notruf (\"eCall\") , Audi pre sense front , Blinker (LED) in den Außenspiegeln integriert , Bremsassistent Folgekollision , Dachkantenspoiler , Drehzahlmesser , Elektrisch einstellbare Außenspiegel , Elektrische Fensterheber vorn und hinten , Elektronische Differenzialsperre (EDS) , Elektronische Stabilisierungskontrolle (ESC) , Fahrer- und Beifahrersitz, höhenverstellbar , Fußmatten vorn und hinten , Gepäckraumabdeckung und ?Beleuchtung , Geschwindigkeitsbegrenzer , Geteilt umklappbare Rücksitzlehne (60:40) , Gurtanlegekontrolle , Halogenscheinwerfer in Freiformtechnik mit Klarglasabdeckung , Heckscheibenwischer und -heizung , Karosserie, verzinkt , Kindersitzvorbereitung ??Isofix?? und Top Tether für die äußeren Fondsitze , Klimaanlage, manuell , Kopfstützen vorn und hinten , Lenkrad, höhenverstellbar , Leuchtweitenregulierung , Licht- und Regensensor , Make-up-Spiegel in den Sonnenblenden , Multifunktions-Leder-Lenkrad im 3-Speichen-Design mit bedientasten für das MMI, Nicht-Raucher-Ausführung , Pollen- und Staubfilter , Radioanlage MMI digitales Kombiinstrument 10,25 Zoll, ohne zusätzliches MMI touch-Display, 1 x SDXC- Kartenleser, 1 × USB-Typ-A-Schnittstelle zum Laden externer Geräte, Bluetooth-Schnittstelle (Freisprechen und Audiostreaming), Sprachbedienung für Telefonie und Medien, 4 Passivlautsprecher vorn mit 40 Watt, AM-/FM-Phasendiversity, geschwindigkeitsabhängige Lautstärkeanpassung, , Radschrauben mit Diebstahlsicherung , Reifen-Reparatur-Set , Reifendruck-Kontrollanzeige , Scheibenwischer mit Intervallschaltung , Service-Intervall-Anzeige , Servolenkung , Spiegelgehäuse außen in schwarz, Spurverlassenswarnung (Beim Verlassen der Spur warnt das System über Vibration im Lenkrad den Fahrer), Stahlräder mit Bereifung 185/65 R15 , Start-Stopp-System mit Rekuperation , Stoßstangen in Wagenfarbe , Tagfahrlicht , Wärmeschutzverglasung , Warndreieck , Zentralverriegelung mit Fernbedienung, Sonderausstattung, Diebstahlwarnanlage , Geschwindigkeitsregelanlage (Tempomat) mit -Begrenzer, Innenspiegel automatisch abblendend, Komfortklimaautomatik 2-Zonen, Leder-Multifunktions-Lenkrad plus im 3-Speichen Design, LED-Heckleuchten, Leichtmetallfelgen 15 Zoll im 5-Arm-Design mit Bereifung 185/65 R15, Mittelarmlehne vorn, Raucherpaket beinhaltet: Aschenbecher und Zigarettenanzünder, Sitzheizung für die Vordersitze, Gern nehmen wir Ihren Gebrauchtwagen in Zahlung. Auf Wunsch bieten wir Ihnen eine maßgeschneiderte Finanzierung mit oder ohne Anzahlung! Eine Garantieverlängerung über CarGarantie von zusätzlichen 60 Monaten ist auch möglich, Preis auf Anfrage ( abhängig von Motor- und Laufleistung ). Unser Team berät Sie in Deutsch, russisch, polnisch, französisch, englisch, und hessisch. Zwischenverkauf und Irrtümer vorbehalten.\\n]      1\n",
       "[\\n, Sitzbezug / Polsterung: Velours / Leder, Audio-Navigationssystem R-Link Evolution mit Touchscreen und Carminat TomTom, Tagfahrlicht LED, Anti-Submarining-Airbag im Fond, Airbag Beifahrerseite abschaltbar, Seitenairbag vorn, Klimaautomatik, Anti-Blockier-System (ABS), Elektron. Stabilitäts-Programm (ESP), Einparkhilfe hinten, Zentralverriegelung / Startanlage Handsfree Entry & Drive, Fensterheber elektr. mit Impulsgeber links vorn, Sitzheizung vorn, Servolenkung geschwindigkeitsabhängig, Sound-System BOSE, Geschwindigkeits-Regelanlage (Tempomat), Start/Stop-Anlage, Fahrassistenz-System: Berganfahr-Assistent (HSA), Wegfahrsperre, Licht- und Regensensor, LM-Felgen, Bordcomputer, Außenspiegel elektr. verstell- und heizbar, Innenspiegel mit Abblendautomatik, Lenkrad (Leder), Mittelarmlehne vorn mit Ablagefach, Gepäckraumabdeckung / Rollo, Automatik-Getriebe, Rücksitzlehne geteilt/klappbar, Coming-Home-Lichtfunktion, Reifendruck-Kontrollsystem, Komfort-Paket Plus, Isofix-Aufnahmen für Kindersitz, Isofix-Aufnahmen für Kindersitz an Beifahrersitz, Reserverad in Fahrbereifung, Nebelscheinwerfer LED, AH Standard, Modellpflege, Komfort-Paket, Sitz vorn links höhenverstellbar, Sitz vorn rechts höhenverstellbar, Modularitäts-Paket, Lenksäule (Lenkrad) höhenverstellbar, Lenksäule (Lenkrad) längsverstellbar, Techno-Paket, Look-Paket Chrom (außen), Kühlergrill verchromt, Seitenschutzleisten mit Chromeinlage, Heckzierleiste Chrom, Look-Paket Klavierlack schwarz (innen), Sondermodell Bose Edition, Außenspiegel schwarz hochglänzend, Scheinwerfer Full-LED, Heckleuchten LED, Nebelscheinwerfer, Fensterzierleisten verchromt, Stoßfänger Wagenfarbe, Verglasung hinten abgedunkelt, Subwoofer, Schaltpunktanzeige, Airbag Fahrer-/Beifahrerseite, Kopfstützen verstellbar, Fensterheber elektrisch hinten, Türgriffe außen Wagenfarbe, Gurtstraffer, Leseleuchte Beifahrerseite, Elektr. Bremskraftverteilung, Bremsassistent, Untersteuerungskontrolle (USC), Antischlupfregelung (ASR), Getriebe 6-Gang - Doppelkupplungsgetriebe, Schadstoffarm nach Abgasnorm Euro 6, Energierückgewinnung (Energy Smart Management), Finanzierungsbeispiel, *, Barzahlungspreis: 18.990,00 Euro, Anzahlung: 3.798,00 Euro, Laufzeit: 72 Monate, Nettokreditbetrag: 15.192,00 Euro, Effektiver Jahreszins: 5,99 %, Sollzinssatz (gebunden) p.a.: 5,83 %, Bruttokreditbetrag: 18.041,00 Euro, Monatliche Rate: 251,00 Euro, *Repräsentatives Finanzierungsbeispiel der Renault Bank / Renault Leasing, Geschäftsbereich der RCI Banque S.A. Niederlassung Deutschland, Jagenbergstraße 1, 41468 Neuss für Privatkunden, für die das Autohaus als Darlehnsvermittler beratend tätig ist. Bonität vorausgesetzt. Angaben entsprechen zugleich dem 2/3 Beispiel nach § 6a Abs. 3 PAngV.\\n]                                                                                                                                                                                                                                                                                                                                      1\n",
       "[\\nEuro6, Rückfahrkamera, Klimaautomatik 2-fach, Fahrerairbag, Beifahrerairbag, Fenster-/Kopfairbags vorne, Fenster-/Kopfairbags im Fond, Einparkhilfe Kamera, Einparkhilfe Sensoren vorne, Einparkhilfe Sensoren hinten, Traktionskontrolle, Fensterheber elektrisch 4-fach, Sitz links orthopaedisch, Bluetooth Freisprecheinrichtung, Außenspiegel beheizbar, Bremsassistent, Tempomat, ISOFIX Kindersitzhalterung, Leichtmetallfelgen, Lenksäule einstellbar, Gepäckraumabdeckung, weitere Ausstattungen vorhanden,  Airbag Fahrer-/Beifahrerseite, Audiosystem R 4.0 IntelliLink, Außenspiegel Wagenfarbe, Außenspiegel elektr. verstell- und heizbar, elektr. anklappbar, Bordcomputer, Bremsassistent, Dach, Design-Ausführung, Drehzahlmesser, Ecoflex, Einstiegsleisten mit Schriftzug, Elektron. Stabilitäts-Programm Plus (ESP), Fahrassistenz-System: Berganfahr-Assistent (HSA, Hill Start Assist), Fahrassistenz-System: Notbrems-Assistent, Fahrzeugschlüssel (2) beide klappbar, Fensterheber elektrisch vorn + hinten, Fensterzierleisten Edelstahl / Chrom, Feststellbremse elektrisch, Frontkamera, Geschwindigkeits-Regelanlage (Tempomat), Isofix-Aufnahmen für Kindersitz an Rücksitz, Karosserie: 5-türig, Klimaautomatik 2-Zonen, Kopf-Airbag-System, Laderaumabdeckung, Lendenwirbelstütze Sitz vorn links, elektr. verstellbar, Lenkrad mit Multifunktion, Lenksäule (Lenkrad) verstellbar, Licht-Paket, Motor 1,0 Ltr. - 77 kW 12V, Nebelscheinwerfer, OnStar SOS Service, Parkpilotsystem vorn und hinten, Reifendruck-Kontrollsystem, Rückfahrkamera, Schadstoffarm nach Abgasnorm Euro 6, Seitenairbag vorn, Servolenkung geschwindigkeitsabhängig, Start/Stop-Anlage, Steckdose (12V-Anschluß) in Mittelkonsole, Tagfahrlicht LED, Türgriffe außen Wagenfarbe, Wegfahrsperre, Zentralverriegelung mit Fernbedienung, ecoFLEX-Paket, incl. Winterkompletträder , \\n]                                                                                                                                                                                                                                                                                                                                                                                                                                                                                                                                                                                                                                                                                                                                                                                                                                                                                                                                                                                                                                                                                                                                                                                                                                                                                   1\n",
       "Name: description, Length: 12874, dtype: int64"
      ]
     },
     "execution_count": 149,
     "metadata": {},
     "output_type": "execute_result"
    }
   ],
   "source": [
    "df.description.value_counts()"
   ]
  },
  {
   "cell_type": "code",
   "execution_count": 150,
   "id": "744d007f",
   "metadata": {},
   "outputs": [],
   "source": [
    "df.drop('description',axis=1,inplace=True)"
   ]
  },
  {
   "cell_type": "markdown",
   "id": "425aea2f",
   "metadata": {},
   "source": [
    "# Emission Label"
   ]
  },
  {
   "cell_type": "code",
   "execution_count": 151,
   "id": "41f0aa72",
   "metadata": {},
   "outputs": [
    {
     "ename": "TypeError",
     "evalue": "unhashable type: 'list'",
     "output_type": "error",
     "traceback": [
      "\u001b[1;31m---------------------------------------------------------------------------\u001b[0m",
      "\u001b[1;31mTypeError\u001b[0m                                 Traceback (most recent call last)",
      "\u001b[1;32mpandas\\_libs\\hashtable_class_helper.pxi\u001b[0m in \u001b[0;36mpandas._libs.hashtable.PyObjectHashTable.map_locations\u001b[1;34m()\u001b[0m\n",
      "\u001b[1;31mTypeError\u001b[0m: unhashable type: 'list'"
     ]
    },
    {
     "name": "stderr",
     "output_type": "stream",
     "text": [
      "Exception ignored in: 'pandas._libs.index.IndexEngine._call_map_locations'\n",
      "Traceback (most recent call last):\n",
      "  File \"pandas\\_libs\\hashtable_class_helper.pxi\", line 4588, in pandas._libs.hashtable.PyObjectHashTable.map_locations\n",
      "TypeError: unhashable type: 'list'\n"
     ]
    },
    {
     "data": {
      "text/plain": [
       "[\\n4 (Green)\\n]         3553\n",
       "[\\n1 (No sticker)\\n]     381\n",
       "[[], [], []]              40\n",
       "[\\n5 (Blue)\\n]             8\n",
       "[\\n3 (Yellow)\\n]           2\n",
       "[\\n2 (Red)\\n]              1\n",
       "Name: Emission Label, dtype: int64"
      ]
     },
     "execution_count": 151,
     "metadata": {},
     "output_type": "execute_result"
    }
   ],
   "source": [
    "df['Emission Label'].value_counts()"
   ]
  },
  {
   "cell_type": "code",
   "execution_count": 152,
   "id": "d57d02bb",
   "metadata": {},
   "outputs": [],
   "source": [
    "df['Emission Label']=df['Emission Label'].map(lambda x: x[0].strip('\\n').strip(' ') if type(x[0])!=list else np.nan,na_action='ignore')"
   ]
  },
  {
   "cell_type": "code",
   "execution_count": 153,
   "id": "e5b6e478",
   "metadata": {},
   "outputs": [
    {
     "data": {
      "text/plain": [
       "4 (Green)         3553\n",
       "1 (No sticker)     381\n",
       "5 (Blue)             8\n",
       "3 (Yellow)           2\n",
       "2 (Red)              1\n",
       "Name: Emission Label, dtype: int64"
      ]
     },
     "execution_count": 153,
     "metadata": {},
     "output_type": "execute_result"
    }
   ],
   "source": [
    "df['Emission Label'].value_counts()"
   ]
  },
  {
   "cell_type": "code",
   "execution_count": 154,
   "id": "6188e643",
   "metadata": {},
   "outputs": [
    {
     "data": {
      "text/plain": [
       "11974"
      ]
     },
     "execution_count": 154,
     "metadata": {},
     "output_type": "execute_result"
    }
   ],
   "source": [
    "df['Emission Label'].isnull().sum()"
   ]
  },
  {
   "cell_type": "markdown",
   "id": "7f16b1f8",
   "metadata": {},
   "source": [
    "# Gears"
   ]
  },
  {
   "cell_type": "code",
   "execution_count": 155,
   "id": "a70b4666",
   "metadata": {},
   "outputs": [
    {
     "data": {
      "text/plain": [
       "7008        NaN\n",
       "2422    [\\n5\\n]\n",
       "2952    [\\n7\\n]\n",
       "7012        NaN\n",
       "2404    [\\n6\\n]\n",
       "Name: Gears, dtype: object"
      ]
     },
     "execution_count": 155,
     "metadata": {},
     "output_type": "execute_result"
    }
   ],
   "source": [
    "df.Gears.sample(5)"
   ]
  },
  {
   "cell_type": "code",
   "execution_count": 156,
   "id": "f2916249",
   "metadata": {},
   "outputs": [
    {
     "data": {
      "text/plain": [
       "6     5822\n",
       "5     3239\n",
       "7     1908\n",
       "8      224\n",
       "9        6\n",
       "3        2\n",
       "1        2\n",
       "4        2\n",
       "2        1\n",
       "50       1\n",
       "Name: Gears, dtype: int64"
      ]
     },
     "execution_count": 156,
     "metadata": {},
     "output_type": "execute_result"
    }
   ],
   "source": [
    "df.Gears.map(lambda x: x[0].strip('\\n'),na_action='ignore').value_counts()"
   ]
  },
  {
   "cell_type": "code",
   "execution_count": 157,
   "id": "d9c2e7e8",
   "metadata": {},
   "outputs": [],
   "source": [
    "df.Gears=[ i[0].strip('\\n') if type(i)==list else i for i in df.Gears ]"
   ]
  },
  {
   "cell_type": "code",
   "execution_count": 158,
   "id": "4d7310b2",
   "metadata": {},
   "outputs": [
    {
     "data": {
      "text/plain": [
       "6     5822\n",
       "5     3239\n",
       "7     1908\n",
       "8      224\n",
       "9        6\n",
       "3        2\n",
       "1        2\n",
       "4        2\n",
       "2        1\n",
       "50       1\n",
       "Name: Gears, dtype: int64"
      ]
     },
     "execution_count": 158,
     "metadata": {},
     "output_type": "execute_result"
    }
   ],
   "source": [
    "df.Gears.value_counts()"
   ]
  },
  {
   "cell_type": "code",
   "execution_count": 159,
   "id": "ed19ed74",
   "metadata": {},
   "outputs": [
    {
     "data": {
      "text/plain": [
       "4712"
      ]
     },
     "execution_count": 159,
     "metadata": {},
     "output_type": "execute_result"
    }
   ],
   "source": [
    "df.Gears.isnull().sum()"
   ]
  },
  {
   "cell_type": "markdown",
   "id": "879a02aa",
   "metadata": {},
   "source": [
    "# Country version"
   ]
  },
  {
   "cell_type": "code",
   "execution_count": 160,
   "id": "e1864cdb",
   "metadata": {},
   "outputs": [
    {
     "data": {
      "text/plain": [
       "6030             NaN\n",
       "9050             NaN\n",
       "15001            NaN\n",
       "8691             NaN\n",
       "1179     [\\nItaly\\n]\n",
       "Name: Country version, dtype: object"
      ]
     },
     "execution_count": 160,
     "metadata": {},
     "output_type": "execute_result"
    }
   ],
   "source": [
    "df['Country version'].sample(5)"
   ]
  },
  {
   "cell_type": "code",
   "execution_count": 161,
   "id": "e208c5d8",
   "metadata": {},
   "outputs": [],
   "source": [
    "df['Country version']=df['Country version'].map(lambda x: x[0].strip('\\n'),na_action='ignore')"
   ]
  },
  {
   "cell_type": "code",
   "execution_count": 162,
   "id": "94ab49e9",
   "metadata": {},
   "outputs": [
    {
     "data": {
      "text/plain": [
       "Germany           4502\n",
       "Italy             1038\n",
       "European Union     507\n",
       "Netherlands        464\n",
       "Spain              325\n",
       "Belgium            314\n",
       "Austria            208\n",
       "Czech Republic      52\n",
       "Poland              49\n",
       "France              38\n",
       "Denmark             33\n",
       "Hungary             28\n",
       "Japan                8\n",
       "Croatia              4\n",
       "Slovakia             4\n",
       "Sweden               3\n",
       "Bulgaria             2\n",
       "Romania              2\n",
       "Egypt                1\n",
       "Luxembourg           1\n",
       "Switzerland          1\n",
       "Slovenia             1\n",
       "Serbia               1\n",
       "Name: Country version, dtype: int64"
      ]
     },
     "execution_count": 162,
     "metadata": {},
     "output_type": "execute_result"
    }
   ],
   "source": [
    "df['Country version'].value_counts()##CATEGORIC BUT SO MANY CATEGORİZED VALUE DROP"
   ]
  },
  {
   "cell_type": "code",
   "execution_count": 163,
   "id": "df946b4a",
   "metadata": {},
   "outputs": [],
   "source": [
    "df.drop('Country version',axis=1,inplace=True)"
   ]
  },
  {
   "cell_type": "code",
   "execution_count": 281,
   "id": "78ca84bf",
   "metadata": {},
   "outputs": [
    {
     "data": {
      "text/plain": [
       "Index(['make_model', 'body_type', 'price', 'vat', 'km', 'hp', 'Type',\n",
       "       'Previous Owners', 'Inspection new', 'Warranty', 'Body Color',\n",
       "       'Paint Type', 'Nr. of Doors', 'Nr. of Seats', 'Gearing Type',\n",
       "       'Displacement', 'Cylinders', 'Weight', 'Drive chain', 'Fuel',\n",
       "       'Consumption', 'CO2 Emission', 'Emission Class', 'Comfort', 'Media',\n",
       "       'Extras', 'Security', 'Emission Label', 'Gears', 'Age',\n",
       "       'Consumption_comb', 'Upholstery_type', 'Upholstery_color'],\n",
       "      dtype='object')"
      ]
     },
     "execution_count": 281,
     "metadata": {},
     "output_type": "execute_result"
    }
   ],
   "source": [
    "df.columns"
   ]
  },
  {
   "cell_type": "code",
   "execution_count": 288,
   "id": "22cecdbe",
   "metadata": {},
   "outputs": [
    {
     "data": {
      "text/html": [
       "<div>\n",
       "<style scoped>\n",
       "    .dataframe tbody tr th:only-of-type {\n",
       "        vertical-align: middle;\n",
       "    }\n",
       "\n",
       "    .dataframe tbody tr th {\n",
       "        vertical-align: top;\n",
       "    }\n",
       "\n",
       "    .dataframe thead th {\n",
       "        text-align: right;\n",
       "    }\n",
       "</style>\n",
       "<table border=\"1\" class=\"dataframe\">\n",
       "  <thead>\n",
       "    <tr style=\"text-align: right;\">\n",
       "      <th></th>\n",
       "      <th>make_model</th>\n",
       "      <th>body_type</th>\n",
       "      <th>price</th>\n",
       "      <th>vat</th>\n",
       "      <th>km</th>\n",
       "      <th>hp</th>\n",
       "      <th>Type</th>\n",
       "      <th>Previous Owners</th>\n",
       "      <th>Inspection new</th>\n",
       "      <th>Warranty</th>\n",
       "      <th>Body Color</th>\n",
       "      <th>Paint Type</th>\n",
       "      <th>Nr. of Doors</th>\n",
       "      <th>Nr. of Seats</th>\n",
       "      <th>Gearing Type</th>\n",
       "      <th>Displacement</th>\n",
       "      <th>Cylinders</th>\n",
       "      <th>Weight</th>\n",
       "      <th>Drive chain</th>\n",
       "      <th>Fuel</th>\n",
       "      <th>CO2 Emission</th>\n",
       "      <th>Emission Class</th>\n",
       "      <th>Comfort</th>\n",
       "      <th>Media</th>\n",
       "      <th>Extras</th>\n",
       "      <th>Security</th>\n",
       "      <th>Emission Label</th>\n",
       "      <th>Gears</th>\n",
       "      <th>Age</th>\n",
       "      <th>Consumption_comb</th>\n",
       "      <th>Upholstery_type</th>\n",
       "      <th>Upholstery_color</th>\n",
       "    </tr>\n",
       "  </thead>\n",
       "  <tbody>\n",
       "    <tr>\n",
       "      <th>0</th>\n",
       "      <td>Audi A1</td>\n",
       "      <td>Sedans</td>\n",
       "      <td>15770</td>\n",
       "      <td>VAT deductible</td>\n",
       "      <td>56013.000</td>\n",
       "      <td>66.000</td>\n",
       "      <td>Used</td>\n",
       "      <td>2.000</td>\n",
       "      <td>Yes</td>\n",
       "      <td>NaN</td>\n",
       "      <td>Black</td>\n",
       "      <td>Metallic</td>\n",
       "      <td>5</td>\n",
       "      <td>5</td>\n",
       "      <td>Automatic</td>\n",
       "      <td>1422.000</td>\n",
       "      <td>3</td>\n",
       "      <td>1220.000</td>\n",
       "      <td>front</td>\n",
       "      <td>Diesel</td>\n",
       "      <td>99</td>\n",
       "      <td>Euro 6</td>\n",
       "      <td>Air conditioning,Armrest,Automatic climate con...</td>\n",
       "      <td>Bluetooth,Hands-free equipment,On-board comput...</td>\n",
       "      <td>Alloy wheels,Catalytic Converter,Voice Control</td>\n",
       "      <td>ABS,Central door lock,Daytime running lights,D...</td>\n",
       "      <td>NaN</td>\n",
       "      <td>NaN</td>\n",
       "      <td>3.000</td>\n",
       "      <td>3.800</td>\n",
       "      <td>Cloth</td>\n",
       "      <td>Black</td>\n",
       "    </tr>\n",
       "    <tr>\n",
       "      <th>1</th>\n",
       "      <td>Audi A1</td>\n",
       "      <td>Sedans</td>\n",
       "      <td>14500</td>\n",
       "      <td>Price negotiable</td>\n",
       "      <td>80000.000</td>\n",
       "      <td>141.000</td>\n",
       "      <td>Used</td>\n",
       "      <td>NaN</td>\n",
       "      <td>NaN</td>\n",
       "      <td>NaN</td>\n",
       "      <td>Red</td>\n",
       "      <td>NaN</td>\n",
       "      <td>3</td>\n",
       "      <td>4</td>\n",
       "      <td>Automatic</td>\n",
       "      <td>1798.000</td>\n",
       "      <td>4</td>\n",
       "      <td>1255.000</td>\n",
       "      <td>front</td>\n",
       "      <td>Gasoline</td>\n",
       "      <td>129</td>\n",
       "      <td>Euro 6</td>\n",
       "      <td>Air conditioning,Automatic climate control,Hil...</td>\n",
       "      <td>Bluetooth,Hands-free equipment,On-board comput...</td>\n",
       "      <td>Alloy wheels,Sport seats,Sport suspension,Voic...</td>\n",
       "      <td>ABS,Central door lock,Central door lock with r...</td>\n",
       "      <td>4 (Green)</td>\n",
       "      <td>7</td>\n",
       "      <td>2.000</td>\n",
       "      <td>5.600</td>\n",
       "      <td>Cloth</td>\n",
       "      <td>Grey</td>\n",
       "    </tr>\n",
       "    <tr>\n",
       "      <th>2</th>\n",
       "      <td>Audi A1</td>\n",
       "      <td>Sedans</td>\n",
       "      <td>14640</td>\n",
       "      <td>VAT deductible</td>\n",
       "      <td>83450.000</td>\n",
       "      <td>85.000</td>\n",
       "      <td>Used</td>\n",
       "      <td>1.000</td>\n",
       "      <td>NaN</td>\n",
       "      <td>NaN</td>\n",
       "      <td>Black</td>\n",
       "      <td>Metallic</td>\n",
       "      <td>4</td>\n",
       "      <td>4</td>\n",
       "      <td>Automatic</td>\n",
       "      <td>1598.000</td>\n",
       "      <td>NaN</td>\n",
       "      <td>NaN</td>\n",
       "      <td>front</td>\n",
       "      <td>Diesel</td>\n",
       "      <td>99</td>\n",
       "      <td>Euro 6</td>\n",
       "      <td>Air conditioning,Cruise control,Electrical sid...</td>\n",
       "      <td>MP3,On-board computer</td>\n",
       "      <td>Alloy wheels,Voice Control</td>\n",
       "      <td>ABS,Central door lock,Daytime running lights,D...</td>\n",
       "      <td>4 (Green)</td>\n",
       "      <td>NaN</td>\n",
       "      <td>3.000</td>\n",
       "      <td>3.800</td>\n",
       "      <td>Cloth</td>\n",
       "      <td>Black</td>\n",
       "    </tr>\n",
       "    <tr>\n",
       "      <th>3</th>\n",
       "      <td>Audi A1</td>\n",
       "      <td>Sedans</td>\n",
       "      <td>14500</td>\n",
       "      <td>None</td>\n",
       "      <td>73000.000</td>\n",
       "      <td>66.000</td>\n",
       "      <td>Used</td>\n",
       "      <td>1.000</td>\n",
       "      <td>NaN</td>\n",
       "      <td>NaN</td>\n",
       "      <td>Brown</td>\n",
       "      <td>Metallic</td>\n",
       "      <td>3</td>\n",
       "      <td>4</td>\n",
       "      <td>Automatic</td>\n",
       "      <td>1422.000</td>\n",
       "      <td>3</td>\n",
       "      <td>1195.000</td>\n",
       "      <td>NaN</td>\n",
       "      <td>Diesel</td>\n",
       "      <td>99</td>\n",
       "      <td>Euro 6</td>\n",
       "      <td>Air suspension,Armrest,Auxiliary heating,Elect...</td>\n",
       "      <td>Bluetooth,CD player,Hands-free equipment,MP3,O...</td>\n",
       "      <td>Alloy wheels,Sport seats,Voice Control</td>\n",
       "      <td>ABS,Alarm system,Central door lock with remote...</td>\n",
       "      <td>NaN</td>\n",
       "      <td>6</td>\n",
       "      <td>3.000</td>\n",
       "      <td>3.800</td>\n",
       "      <td>NaN</td>\n",
       "      <td>NaN</td>\n",
       "    </tr>\n",
       "    <tr>\n",
       "      <th>4</th>\n",
       "      <td>Audi A1</td>\n",
       "      <td>Sedans</td>\n",
       "      <td>16790</td>\n",
       "      <td>None</td>\n",
       "      <td>16200.000</td>\n",
       "      <td>66.000</td>\n",
       "      <td>Used</td>\n",
       "      <td>1.000</td>\n",
       "      <td>Yes</td>\n",
       "      <td>NaN</td>\n",
       "      <td>Black</td>\n",
       "      <td>Metallic</td>\n",
       "      <td>5</td>\n",
       "      <td>5</td>\n",
       "      <td>Automatic</td>\n",
       "      <td>1422.000</td>\n",
       "      <td>3</td>\n",
       "      <td>NaN</td>\n",
       "      <td>front</td>\n",
       "      <td>Diesel</td>\n",
       "      <td>109</td>\n",
       "      <td>Euro 6</td>\n",
       "      <td>Air conditioning,Armrest,Automatic climate con...</td>\n",
       "      <td>Bluetooth,CD player,Hands-free equipment,MP3,O...</td>\n",
       "      <td>Alloy wheels,Sport package,Sport suspension,Vo...</td>\n",
       "      <td>ABS,Central door lock,Driver-side airbag,Elect...</td>\n",
       "      <td>NaN</td>\n",
       "      <td>NaN</td>\n",
       "      <td>3.000</td>\n",
       "      <td>4.100</td>\n",
       "      <td>Cloth</td>\n",
       "      <td>Black</td>\n",
       "    </tr>\n",
       "  </tbody>\n",
       "</table>\n",
       "</div>"
      ],
      "text/plain": [
       "  make_model body_type  price               vat        km      hp  Type  \\\n",
       "0    Audi A1    Sedans  15770    VAT deductible 56013.000  66.000  Used   \n",
       "1    Audi A1    Sedans  14500  Price negotiable 80000.000 141.000  Used   \n",
       "2    Audi A1    Sedans  14640    VAT deductible 83450.000  85.000  Used   \n",
       "3    Audi A1    Sedans  14500              None 73000.000  66.000  Used   \n",
       "4    Audi A1    Sedans  16790              None 16200.000  66.000  Used   \n",
       "\n",
       "   Previous Owners Inspection new  Warranty Body Color Paint Type  \\\n",
       "0            2.000            Yes       NaN      Black   Metallic   \n",
       "1              NaN            NaN       NaN        Red        NaN   \n",
       "2            1.000            NaN       NaN      Black   Metallic   \n",
       "3            1.000            NaN       NaN      Brown   Metallic   \n",
       "4            1.000            Yes       NaN      Black   Metallic   \n",
       "\n",
       "  Nr. of Doors Nr. of Seats Gearing Type  Displacement Cylinders   Weight  \\\n",
       "0            5            5    Automatic      1422.000         3 1220.000   \n",
       "1            3            4    Automatic      1798.000         4 1255.000   \n",
       "2            4            4    Automatic      1598.000       NaN      NaN   \n",
       "3            3            4    Automatic      1422.000         3 1195.000   \n",
       "4            5            5    Automatic      1422.000         3      NaN   \n",
       "\n",
       "  Drive chain      Fuel CO2 Emission Emission Class  \\\n",
       "0       front    Diesel           99         Euro 6   \n",
       "1       front  Gasoline          129         Euro 6   \n",
       "2       front    Diesel           99         Euro 6   \n",
       "3         NaN    Diesel           99         Euro 6   \n",
       "4       front    Diesel          109         Euro 6   \n",
       "\n",
       "                                             Comfort  \\\n",
       "0  Air conditioning,Armrest,Automatic climate con...   \n",
       "1  Air conditioning,Automatic climate control,Hil...   \n",
       "2  Air conditioning,Cruise control,Electrical sid...   \n",
       "3  Air suspension,Armrest,Auxiliary heating,Elect...   \n",
       "4  Air conditioning,Armrest,Automatic climate con...   \n",
       "\n",
       "                                               Media  \\\n",
       "0  Bluetooth,Hands-free equipment,On-board comput...   \n",
       "1  Bluetooth,Hands-free equipment,On-board comput...   \n",
       "2                              MP3,On-board computer   \n",
       "3  Bluetooth,CD player,Hands-free equipment,MP3,O...   \n",
       "4  Bluetooth,CD player,Hands-free equipment,MP3,O...   \n",
       "\n",
       "                                              Extras  \\\n",
       "0     Alloy wheels,Catalytic Converter,Voice Control   \n",
       "1  Alloy wheels,Sport seats,Sport suspension,Voic...   \n",
       "2                         Alloy wheels,Voice Control   \n",
       "3             Alloy wheels,Sport seats,Voice Control   \n",
       "4  Alloy wheels,Sport package,Sport suspension,Vo...   \n",
       "\n",
       "                                            Security Emission Label Gears  \\\n",
       "0  ABS,Central door lock,Daytime running lights,D...            NaN   NaN   \n",
       "1  ABS,Central door lock,Central door lock with r...      4 (Green)     7   \n",
       "2  ABS,Central door lock,Daytime running lights,D...      4 (Green)   NaN   \n",
       "3  ABS,Alarm system,Central door lock with remote...            NaN     6   \n",
       "4  ABS,Central door lock,Driver-side airbag,Elect...            NaN   NaN   \n",
       "\n",
       "    Age  Consumption_comb Upholstery_type Upholstery_color  \n",
       "0 3.000             3.800           Cloth            Black  \n",
       "1 2.000             5.600           Cloth             Grey  \n",
       "2 3.000             3.800           Cloth            Black  \n",
       "3 3.000             3.800             NaN              NaN  \n",
       "4 3.000             4.100           Cloth            Black  "
      ]
     },
     "execution_count": 288,
     "metadata": {},
     "output_type": "execute_result"
    }
   ],
   "source": [
    "df.head(5)"
   ]
  },
  {
   "cell_type": "code",
   "execution_count": 289,
   "id": "c26fe6b5",
   "metadata": {},
   "outputs": [],
   "source": [
    "df.to_csv('cleaned_AutoScout.csv',index=False)"
   ]
  },
  {
   "cell_type": "code",
   "execution_count": null,
   "id": "30303a1f",
   "metadata": {},
   "outputs": [],
   "source": []
  }
 ],
 "metadata": {
  "kernelspec": {
   "display_name": "Python 3",
   "language": "python",
   "name": "python3"
  },
  "language_info": {
   "codemirror_mode": {
    "name": "ipython",
    "version": 3
   },
   "file_extension": ".py",
   "mimetype": "text/x-python",
   "name": "python",
   "nbconvert_exporter": "python",
   "pygments_lexer": "ipython3",
   "version": "3.8.8"
  }
 },
 "nbformat": 4,
 "nbformat_minor": 5
}
