{
 "cells": [
  {
   "cell_type": "markdown",
   "id": "ffe5785f",
   "metadata": {},
   "source": [
    "A salesperson has found that the probability of a sale on a single contact is approximately .03. \n",
    "If the salesperson contacts 100 prospects, what is the approximate probability of making at least one sale? (Wackerly, Ex.3.135)"
   ]
  },
  {
   "cell_type": "code",
   "execution_count": 3,
   "id": "48fa033b",
   "metadata": {},
   "outputs": [],
   "source": [
    "import numpy as np\n",
    "from scipy import stats\n",
    "import matplotlib.pyplot as plt"
   ]
  },
  {
   "cell_type": "code",
   "execution_count": 4,
   "id": "2765be83",
   "metadata": {},
   "outputs": [],
   "source": [
    "n=100\n",
    "p=0.03"
   ]
  },
  {
   "cell_type": "code",
   "execution_count": 5,
   "id": "a2271b70",
   "metadata": {},
   "outputs": [
    {
     "data": {
      "text/plain": [
       "<scipy.stats._distn_infrastructure.rv_frozen at 0x1175c3ce790>"
      ]
     },
     "execution_count": 5,
     "metadata": {},
     "output_type": "execute_result"
    }
   ],
   "source": [
    "binomdist=stats.binom(n,p)\n",
    "binomdist"
   ]
  },
  {
   "cell_type": "code",
   "execution_count": 7,
   "id": "e022ac3b",
   "metadata": {},
   "outputs": [
    {
     "data": {
      "text/plain": [
       "0.9524474920745943"
      ]
     },
     "execution_count": 7,
     "metadata": {},
     "output_type": "execute_result"
    }
   ],
   "source": [
    "x=1-binomdist.pmf(0)\n",
    "x"
   ]
  },
  {
   "cell_type": "code",
   "execution_count": null,
   "id": "02656ee4",
   "metadata": {},
   "outputs": [],
   "source": []
  },
  {
   "cell_type": "markdown",
   "id": "08188173",
   "metadata": {},
   "source": [
    "Ten coins are tossed simultaneously. Find the probability of getting\n",
    "(i) at least seven heads\n",
    "(ii) exactly seven heads\n",
    "(iii)at most seven heads"
   ]
  },
  {
   "cell_type": "code",
   "execution_count": 6,
   "id": "e09d30e3",
   "metadata": {},
   "outputs": [],
   "source": [
    "n=10\n",
    "p=0.5"
   ]
  },
  {
   "cell_type": "code",
   "execution_count": 7,
   "id": "e9e6932d",
   "metadata": {},
   "outputs": [],
   "source": [
    "binomdist=stats.binom(10,0.5)"
   ]
  },
  {
   "cell_type": "code",
   "execution_count": 9,
   "id": "ab9c19a4",
   "metadata": {},
   "outputs": [
    {
     "data": {
      "text/plain": [
       "0.17187500000000014"
      ]
     },
     "execution_count": 9,
     "metadata": {},
     "output_type": "execute_result"
    }
   ],
   "source": [
    "x1=binomdist.pmf(7)+binomdist.pmf(8)+binomdist.pmf(9)+binomdist.pmf(10)\n",
    "x1"
   ]
  },
  {
   "cell_type": "code",
   "execution_count": 14,
   "id": "92b53e27",
   "metadata": {},
   "outputs": [
    {
     "data": {
      "text/plain": [
       "0.171875"
      ]
     },
     "execution_count": 14,
     "metadata": {},
     "output_type": "execute_result"
    }
   ],
   "source": [
    "1-binomdist.cdf(6)"
   ]
  },
  {
   "cell_type": "code",
   "execution_count": 10,
   "id": "7f18528e",
   "metadata": {},
   "outputs": [
    {
     "data": {
      "text/plain": [
       "0.11718750000000014"
      ]
     },
     "execution_count": 10,
     "metadata": {},
     "output_type": "execute_result"
    }
   ],
   "source": [
    "x2=binomdist.pmf(7)\n",
    "x2"
   ]
  },
  {
   "cell_type": "code",
   "execution_count": 12,
   "id": "329e546f",
   "metadata": {},
   "outputs": [
    {
     "data": {
      "text/plain": [
       "0.9453125"
      ]
     },
     "execution_count": 12,
     "metadata": {},
     "output_type": "execute_result"
    }
   ],
   "source": [
    "x3=1-x1+x2\n",
    "x3"
   ]
  },
  {
   "cell_type": "code",
   "execution_count": 15,
   "id": "a6c48df8",
   "metadata": {},
   "outputs": [
    {
     "data": {
      "text/plain": [
       "0.9453125"
      ]
     },
     "execution_count": 15,
     "metadata": {},
     "output_type": "execute_result"
    }
   ],
   "source": [
    "x3=binomdist.cdf(7)\n",
    "x3"
   ]
  },
  {
   "cell_type": "markdown",
   "id": "85e0c6c9",
   "metadata": {},
   "source": [
    "The width of bolts of fabric is normally distributed with mean 950 mm (millimeters) and standard deviation 10 mm.\n",
    "What is the probability that a randomly chosen bolt has a width of between 947 and 958mm?\n"
   ]
  },
  {
   "cell_type": "code",
   "execution_count": 25,
   "id": "e7f6a641",
   "metadata": {},
   "outputs": [],
   "source": [
    "(mu, sigma)=(950,10)"
   ]
  },
  {
   "cell_type": "code",
   "execution_count": 26,
   "id": "8505e896",
   "metadata": {},
   "outputs": [],
   "source": [
    "normDist = stats.norm(mu, sigma)"
   ]
  },
  {
   "cell_type": "code",
   "execution_count": 27,
   "id": "fe5d864d",
   "metadata": {},
   "outputs": [
    {
     "data": {
      "text/plain": [
       "0.406056023605556"
      ]
     },
     "execution_count": 27,
     "metadata": {},
     "output_type": "execute_result"
    }
   ],
   "source": [
    "X=normDist.cdf(958)-normDist.cdf(947)\n",
    "X"
   ]
  },
  {
   "cell_type": "markdown",
   "id": "53f65a26",
   "metadata": {},
   "source": [
    "What is the appropriate value for C such that a randomly chosen bolt has a width less than C with probability .8531? (Wackerly, Ex.4.73)"
   ]
  },
  {
   "cell_type": "code",
   "execution_count": 29,
   "id": "ac5eaf7f",
   "metadata": {},
   "outputs": [
    {
     "data": {
      "text/plain": [
       "960.4982190962642"
      ]
     },
     "execution_count": 29,
     "metadata": {},
     "output_type": "execute_result"
    }
   ],
   "source": [
    "C=normDist.ppf(0.8531)\n",
    "C"
   ]
  },
  {
   "cell_type": "markdown",
   "id": "0fc03a7b",
   "metadata": {},
   "source": [
    "Suppose scores on exams in statistics are normally distributed with an unknown population mean and a population standard deviation of 3 points. A random sample of 36 scores is taken and gives a sample mean (sample mean score) of 68. Find a confidence interval estimate for the population mean exam score (the mean score on all exams). Find a 90% confidence interval for the true (population) mean of statistics exam scores."
   ]
  },
  {
   "cell_type": "code",
   "execution_count": 30,
   "id": "fd436794",
   "metadata": {},
   "outputs": [],
   "source": [
    "mean=68\n",
    "sigma=3\n",
    "n=36"
   ]
  },
  {
   "cell_type": "code",
   "execution_count": 31,
   "id": "f24240e8",
   "metadata": {},
   "outputs": [],
   "source": [
    "sem = sigma/np.sqrt(n)"
   ]
  },
  {
   "cell_type": "code",
   "execution_count": 34,
   "id": "79a87178",
   "metadata": {},
   "outputs": [
    {
     "data": {
      "text/plain": [
       "(67.17757318652427, 68.82242681347573)"
      ]
     },
     "execution_count": 34,
     "metadata": {},
     "output_type": "execute_result"
    }
   ],
   "source": [
    "stats.norm.interval(alpha=0.9, loc=mean,scale=sem)"
   ]
  },
  {
   "cell_type": "markdown",
   "id": "caa8475a",
   "metadata": {},
   "source": [
    "What is the normal body temperature for healthy humans? A random sample of 130 healthy human body temperatures provided by Allen Shoemaker yielded 98.25 degrees and standard deviation 0.73 degrees.\n",
    "Give a 99% confidence interval for the average body temperature of healthy people.\n"
   ]
  },
  {
   "cell_type": "code",
   "execution_count": 40,
   "id": "be80432c",
   "metadata": {},
   "outputs": [],
   "source": [
    "mean=98.25\n",
    "sigma=0.73\n",
    "n=130\n",
    "alpha=0.99"
   ]
  },
  {
   "cell_type": "code",
   "execution_count": 41,
   "id": "bba19f50",
   "metadata": {},
   "outputs": [],
   "source": [
    "sem = sigma/np.sqrt(n)"
   ]
  },
  {
   "cell_type": "code",
   "execution_count": 42,
   "id": "94c65f06",
   "metadata": {},
   "outputs": [
    {
     "data": {
      "text/plain": [
       "(98.08508192246582, 98.41491807753418)"
      ]
     },
     "execution_count": 42,
     "metadata": {},
     "output_type": "execute_result"
    }
   ],
   "source": [
    "stats.norm.interval(alpha, loc=mean,scale=sem)"
   ]
  },
  {
   "cell_type": "markdown",
   "id": "78d2c5bd",
   "metadata": {},
   "source": [
    "Does the confidence interval obtained in part (a) contain the value 98.6 degrees, the accepted average temperature cited by physicians and others? What conclusions can you draw? (Wackerly, Ex.8.60)"
   ]
  },
  {
   "cell_type": "code",
   "execution_count": null,
   "id": "63bee8f1",
   "metadata": {},
   "outputs": [],
   "source": []
  }
 ],
 "metadata": {
  "kernelspec": {
   "display_name": "Python 3",
   "language": "python",
   "name": "python3"
  },
  "language_info": {
   "codemirror_mode": {
    "name": "ipython",
    "version": 3
   },
   "file_extension": ".py",
   "mimetype": "text/x-python",
   "name": "python",
   "nbconvert_exporter": "python",
   "pygments_lexer": "ipython3",
   "version": "3.8.8"
  }
 },
 "nbformat": 4,
 "nbformat_minor": 5
}
