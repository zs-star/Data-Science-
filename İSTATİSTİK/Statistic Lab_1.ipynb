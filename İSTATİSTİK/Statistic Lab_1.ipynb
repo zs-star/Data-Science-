{
 "cells": [
  {
   "cell_type": "code",
   "execution_count": 2,
   "id": "88b4fa8d",
   "metadata": {},
   "outputs": [],
   "source": [
    "import numpy as np\n",
    "x = [1,2,3,4,5]"
   ]
  },
  {
   "cell_type": "code",
   "execution_count": 5,
   "id": "8a4d349d",
   "metadata": {},
   "outputs": [
    {
     "data": {
      "text/plain": [
       "3.0"
      ]
     },
     "execution_count": 5,
     "metadata": {},
     "output_type": "execute_result"
    }
   ],
   "source": [
    "np.array(x).mean()"
   ]
  },
  {
   "cell_type": "code",
   "execution_count": 6,
   "id": "c0b44b08",
   "metadata": {},
   "outputs": [
    {
     "data": {
      "text/plain": [
       "3.0"
      ]
     },
     "execution_count": 6,
     "metadata": {},
     "output_type": "execute_result"
    }
   ],
   "source": [
    "np.median(x)"
   ]
  },
  {
   "cell_type": "code",
   "execution_count": 3,
   "id": "3ae04c71",
   "metadata": {},
   "outputs": [],
   "source": [
    "import scipy.stats as stats"
   ]
  },
  {
   "cell_type": "code",
   "execution_count": 19,
   "id": "8b8925da",
   "metadata": {},
   "outputs": [],
   "source": [
    "y=[1,2,2,2,3,3,3,3,4,4,4,4,4,5,5,5,5]"
   ]
  },
  {
   "cell_type": "code",
   "execution_count": 11,
   "id": "cc22f774",
   "metadata": {},
   "outputs": [
    {
     "data": {
      "text/plain": [
       "ModeResult(mode=array([3]), count=array([4]))"
      ]
     },
     "execution_count": 11,
     "metadata": {},
     "output_type": "execute_result"
    }
   ],
   "source": [
    "stats.mode(y)"
   ]
  },
  {
   "cell_type": "code",
   "execution_count": 22,
   "id": "563baa23",
   "metadata": {},
   "outputs": [
    {
     "data": {
      "text/plain": [
       "-0.3451044049492901"
      ]
     },
     "execution_count": 22,
     "metadata": {},
     "output_type": "execute_result"
    }
   ],
   "source": [
    "stats.skew(y)"
   ]
  },
  {
   "cell_type": "code",
   "execution_count": 20,
   "id": "e4e34d21",
   "metadata": {},
   "outputs": [
    {
     "data": {
      "text/plain": [
       "3.4705882352941178"
      ]
     },
     "execution_count": 20,
     "metadata": {},
     "output_type": "execute_result"
    }
   ],
   "source": [
    "np.mean(y)"
   ]
  },
  {
   "cell_type": "code",
   "execution_count": 21,
   "id": "141190ec",
   "metadata": {},
   "outputs": [
    {
     "data": {
      "text/plain": [
       "4.0"
      ]
     },
     "execution_count": 21,
     "metadata": {},
     "output_type": "execute_result"
    }
   ],
   "source": [
    "np.median(y)"
   ]
  },
  {
   "cell_type": "code",
   "execution_count": 23,
   "id": "b812c600",
   "metadata": {},
   "outputs": [
    {
     "data": {
      "text/plain": [
       "-0.8650673956075026"
      ]
     },
     "execution_count": 23,
     "metadata": {},
     "output_type": "execute_result"
    }
   ],
   "source": [
    "stats.kurtosis(y)"
   ]
  },
  {
   "cell_type": "code",
   "execution_count": 24,
   "id": "3a055d17",
   "metadata": {},
   "outputs": [],
   "source": [
    "age = [20,22,25,25,27,27,27,29,30,31]"
   ]
  },
  {
   "cell_type": "code",
   "execution_count": 25,
   "id": "3660899f",
   "metadata": {},
   "outputs": [
    {
     "data": {
      "text/plain": [
       "10.610000000000001"
      ]
     },
     "execution_count": 25,
     "metadata": {},
     "output_type": "execute_result"
    }
   ],
   "source": [
    "np.var(age)"
   ]
  },
  {
   "cell_type": "code",
   "execution_count": 26,
   "id": "1dcd6ab0",
   "metadata": {},
   "outputs": [
    {
     "data": {
      "text/plain": [
       "3.2572994949804666"
      ]
     },
     "execution_count": 26,
     "metadata": {},
     "output_type": "execute_result"
    }
   ],
   "source": [
    "np.std(age)"
   ]
  },
  {
   "cell_type": "code",
   "execution_count": 27,
   "id": "b70e0d82",
   "metadata": {},
   "outputs": [
    {
     "data": {
      "text/plain": [
       "3.2572994949804666"
      ]
     },
     "execution_count": 27,
     "metadata": {},
     "output_type": "execute_result"
    }
   ],
   "source": [
    "np.sqrt(np.var(age))"
   ]
  },
  {
   "cell_type": "code",
   "execution_count": 31,
   "id": "bdbdf175",
   "metadata": {},
   "outputs": [],
   "source": [
    "\n",
    "q1=np.percentile(age,25)"
   ]
  },
  {
   "cell_type": "code",
   "execution_count": 32,
   "id": "9cc898bb",
   "metadata": {},
   "outputs": [],
   "source": [
    "q3=np.percentile(age,75)"
   ]
  },
  {
   "cell_type": "code",
   "execution_count": 33,
   "id": "c5afcd59",
   "metadata": {},
   "outputs": [],
   "source": [
    "iqr=q3-q1"
   ]
  },
  {
   "cell_type": "code",
   "execution_count": 34,
   "id": "7a591701",
   "metadata": {},
   "outputs": [
    {
     "data": {
      "text/plain": [
       "3.5"
      ]
     },
     "execution_count": 34,
     "metadata": {},
     "output_type": "execute_result"
    }
   ],
   "source": [
    "iqr"
   ]
  },
  {
   "cell_type": "code",
   "execution_count": 35,
   "id": "e06ba081",
   "metadata": {},
   "outputs": [
    {
     "data": {
      "text/plain": [
       "3.5"
      ]
     },
     "execution_count": 35,
     "metadata": {},
     "output_type": "execute_result"
    }
   ],
   "source": [
    "stats.iqr(age)"
   ]
  },
  {
   "cell_type": "code",
   "execution_count": 1,
   "id": "8b64389a",
   "metadata": {},
   "outputs": [
    {
     "data": {
      "text/plain": [
       "[1.5, 2.3, 4.7, 6.1, -1.2, 2.6, 1.5, -0.4, -2.7, 1.9, 1.1, -1.5]"
      ]
     },
     "execution_count": 1,
     "metadata": {},
     "output_type": "execute_result"
    }
   ],
   "source": [
    "lis=[1.5, 2.3,  4.7,  6.1,  -1.2 , 2.6,  1.5,  -0.4 , -2.7,  1.9,  1.1,  -1.5]\n",
    "lis"
   ]
  },
  {
   "cell_type": "code",
   "execution_count": 4,
   "id": "229cb590",
   "metadata": {},
   "outputs": [
    {
     "data": {
      "text/plain": [
       "2.4280050109778055"
      ]
     },
     "execution_count": 4,
     "metadata": {},
     "output_type": "execute_result"
    }
   ],
   "source": [
    "np.std(lis)"
   ]
  },
  {
   "cell_type": "code",
   "execution_count": 5,
   "id": "d2e4263a",
   "metadata": {},
   "outputs": [
    {
     "data": {
      "text/plain": [
       "1.3250000000000002"
      ]
     },
     "execution_count": 5,
     "metadata": {},
     "output_type": "execute_result"
    }
   ],
   "source": [
    "np.mean(lis)"
   ]
  },
  {
   "cell_type": "code",
   "execution_count": 6,
   "id": "0a66bd0a",
   "metadata": {},
   "outputs": [],
   "source": [
    "sx=np.std(lis)/np.sqrt(12)"
   ]
  },
  {
   "cell_type": "code",
   "execution_count": 7,
   "id": "d1b44820",
   "metadata": {},
   "outputs": [
    {
     "data": {
      "text/plain": [
       "0.7009046733408982"
      ]
     },
     "execution_count": 7,
     "metadata": {},
     "output_type": "execute_result"
    }
   ],
   "source": [
    "sx"
   ]
  },
  {
   "cell_type": "code",
   "execution_count": 8,
   "id": "c57039e8",
   "metadata": {},
   "outputs": [
    {
     "data": {
      "text/plain": [
       "1.8904139898002383"
      ]
     },
     "execution_count": 8,
     "metadata": {},
     "output_type": "execute_result"
    }
   ],
   "source": [
    "t=np.mean(lis)/sx\n",
    "t"
   ]
  },
  {
   "cell_type": "code",
   "execution_count": 15,
   "id": "3be55bfe",
   "metadata": {},
   "outputs": [
    {
     "data": {
      "text/plain": [
       "0.04266133149827378"
      ]
     },
     "execution_count": 15,
     "metadata": {},
     "output_type": "execute_result"
    }
   ],
   "source": [
    "1-stats.t.cdf(t,11)"
   ]
  },
  {
   "cell_type": "code",
   "execution_count": null,
   "id": "0d94371f",
   "metadata": {},
   "outputs": [],
   "source": []
  }
 ],
 "metadata": {
  "kernelspec": {
   "display_name": "Python 3",
   "language": "python",
   "name": "python3"
  },
  "language_info": {
   "codemirror_mode": {
    "name": "ipython",
    "version": 3
   },
   "file_extension": ".py",
   "mimetype": "text/x-python",
   "name": "python",
   "nbconvert_exporter": "python",
   "pygments_lexer": "ipython3",
   "version": "3.8.8"
  }
 },
 "nbformat": 4,
 "nbformat_minor": 5
}
