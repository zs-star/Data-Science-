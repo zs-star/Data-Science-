{
 "cells": [
  {
   "cell_type": "markdown",
   "id": "c34a7f60",
   "metadata": {},
   "source": [
    "### What is the probability of rolling a total of 4 with 2 dice?"
   ]
  },
  {
   "cell_type": "code",
   "execution_count": 2,
   "id": "5d7f5499",
   "metadata": {},
   "outputs": [
    {
     "data": {
      "text/plain": [
       "{(1, 1): 2,\n",
       " (1, 2): 3,\n",
       " (1, 3): 4,\n",
       " (1, 4): 5,\n",
       " (1, 5): 6,\n",
       " (1, 6): 7,\n",
       " (2, 1): 3,\n",
       " (2, 2): 4,\n",
       " (2, 3): 5,\n",
       " (2, 4): 6,\n",
       " (2, 5): 7,\n",
       " (2, 6): 8,\n",
       " (3, 1): 4,\n",
       " (3, 2): 5,\n",
       " (3, 3): 6,\n",
       " (3, 4): 7,\n",
       " (3, 5): 8,\n",
       " (3, 6): 9,\n",
       " (4, 1): 5,\n",
       " (4, 2): 6,\n",
       " (4, 3): 7,\n",
       " (4, 4): 8,\n",
       " (4, 5): 9,\n",
       " (4, 6): 10,\n",
       " (5, 1): 6,\n",
       " (5, 2): 7,\n",
       " (5, 3): 8,\n",
       " (5, 4): 9,\n",
       " (5, 5): 10,\n",
       " (5, 6): 11,\n",
       " (6, 1): 7,\n",
       " (6, 2): 8,\n",
       " (6, 3): 9,\n",
       " (6, 4): 10,\n",
       " (6, 5): 11,\n",
       " (6, 6): 12}"
      ]
     },
     "execution_count": 2,
     "metadata": {},
     "output_type": "execute_result"
    }
   ],
   "source": [
    "d = {(i,j):i+j for i in range(1,7) for j in range(1,7)}\n",
    "d"
   ]
  },
  {
   "cell_type": "code",
   "execution_count": 3,
   "id": "fec8aa91",
   "metadata": {},
   "outputs": [
    {
     "name": "stdout",
     "output_type": "stream",
     "text": [
      "(1, 3)\n",
      "(2, 2)\n",
      "(3, 1)\n"
     ]
    }
   ],
   "source": [
    "for pairs, sums in d.items():\n",
    "    if sums == 4:\n",
    "        print(pairs)"
   ]
  },
  {
   "cell_type": "markdown",
   "id": "0c661b11",
   "metadata": {},
   "source": [
    "** or"
   ]
  },
  {
   "cell_type": "code",
   "execution_count": 5,
   "id": "f89ada7f",
   "metadata": {},
   "outputs": [
    {
     "data": {
      "text/plain": [
       "[(1, 3), (2, 2), (3, 1)]"
      ]
     },
     "execution_count": 5,
     "metadata": {},
     "output_type": "execute_result"
    }
   ],
   "source": [
    "l = []\n",
    "for pairs, sums in d.items():\n",
    "    if sums == 4:\n",
    "        l.append(pairs)\n",
    "l"
   ]
  },
  {
   "cell_type": "code",
   "execution_count": 6,
   "id": "cb8508d9",
   "metadata": {},
   "outputs": [
    {
     "data": {
      "text/plain": [
       "[(1, 3), (2, 2), (3, 1)]"
      ]
     },
     "execution_count": 6,
     "metadata": {},
     "output_type": "execute_result"
    }
   ],
   "source": [
    "l = []\n",
    "desired_sum = 4\n",
    "for pairs, sums in d.items():\n",
    "    if sums == desired_sum:\n",
    "        l.append(pairs)\n",
    "l"
   ]
  },
  {
   "cell_type": "code",
   "execution_count": 9,
   "id": "5c940ed8",
   "metadata": {},
   "outputs": [
    {
     "data": {
      "text/plain": [
       "0.08333333333333333"
      ]
     },
     "execution_count": 9,
     "metadata": {},
     "output_type": "execute_result"
    }
   ],
   "source": [
    "answer = len(l)/len(d)\n",
    "answer"
   ]
  },
  {
   "cell_type": "markdown",
   "id": "9d9d1dce",
   "metadata": {},
   "source": [
    "If 2 dice rolled independently, probability is 36. (1/6 * 1/6)\n",
    "If we want sum of dices as 4, there are 3 options. ((1, 3), (2, 2), (3, 1))\n",
    "Answer is 3/36 = 0,0833333333333333"
   ]
  },
  {
   "cell_type": "markdown",
   "id": "7c8a2cee",
   "metadata": {},
   "source": [
    "### Law of Large Numbers"
   ]
  },
  {
   "cell_type": "markdown",
   "id": "92354f67",
   "metadata": {},
   "source": [
    "We can simulate a large number of values for X."
   ]
  },
  {
   "cell_type": "code",
   "execution_count": 10,
   "id": "938dbde2",
   "metadata": {},
   "outputs": [],
   "source": [
    "import numpy as np\n",
    "import pandas as pd"
   ]
  },
  {
   "cell_type": "code",
   "execution_count": 35,
   "id": "8db6b5cb",
   "metadata": {},
   "outputs": [],
   "source": [
    "n=100"
   ]
  },
  {
   "cell_type": "markdown",
   "id": "dd6d7f6d",
   "metadata": {},
   "source": [
    "np.random.seed(__) ==> to get exact same results for everyone"
   ]
  },
  {
   "cell_type": "code",
   "execution_count": 38,
   "id": "a5af2b8c",
   "metadata": {},
   "outputs": [
    {
     "data": {
      "text/plain": [
       "array([6, 5, 1, 3, 4, 3, 2, 4, 5, 2, 3, 2, 1, 5, 3, 4, 4, 1, 6, 2, 2, 3,\n",
       "       5, 6, 6, 3, 5, 2, 4, 6, 2, 3, 3, 2, 1, 6, 5, 3, 5, 1, 1, 6, 5, 1,\n",
       "       2, 4, 2, 6, 5, 4, 2, 6, 3, 3, 2, 4, 1, 1, 4, 3, 1, 4, 1, 6, 1, 1,\n",
       "       1, 5, 3, 6, 1, 2, 5, 4, 3, 6, 1, 3, 3, 4, 2, 4, 4, 6, 1, 4, 5, 1,\n",
       "       3, 6, 1, 5, 1, 4, 5, 3, 3, 5, 6, 1])"
      ]
     },
     "execution_count": 38,
     "metadata": {},
     "output_type": "execute_result"
    }
   ],
   "source": [
    "np.random.seed(56)\n",
    "die_1 = np.random.randint(1,7, size = n)\n",
    "die_1"
   ]
  },
  {
   "cell_type": "code",
   "execution_count": 36,
   "id": "49766b62",
   "metadata": {},
   "outputs": [
    {
     "data": {
      "text/plain": [
       "array([5, 5, 4, 3, 6, 3, 6, 4, 3, 6, 1, 6, 6, 6, 4, 4, 3, 3, 1, 3, 3, 3,\n",
       "       1, 4, 5, 1, 1, 2, 5, 3, 2, 1, 5, 5, 3, 3, 4, 1, 2, 5, 3, 3, 1, 4,\n",
       "       1, 1, 3, 6, 2, 3, 5, 3, 6, 5, 4, 5, 5, 2, 6, 4, 4, 2, 3, 3, 2, 5,\n",
       "       3, 3, 4, 3, 5, 3, 5, 5, 4, 5, 1, 3, 4, 4, 1, 6, 1, 1, 6, 5, 1, 2,\n",
       "       6, 6, 5, 5, 3, 5, 5, 3, 4, 4, 3, 2])"
      ]
     },
     "execution_count": 36,
     "metadata": {},
     "output_type": "execute_result"
    }
   ],
   "source": [
    "np.random.seed(66)\n",
    "die_2 = np.random.randint(1,7, size = n)\n",
    "die_2"
   ]
  },
  {
   "cell_type": "code",
   "execution_count": 39,
   "id": "fa33e0e5",
   "metadata": {},
   "outputs": [
    {
     "data": {
      "text/plain": [
       "array([11, 10,  5,  6, 10,  6,  8,  8,  8,  8,  4,  8,  7, 11,  7,  8,  7,\n",
       "        4,  7,  5,  5,  6,  6, 10, 11,  4,  6,  4,  9,  9,  4,  4,  8,  7,\n",
       "        4,  9,  9,  4,  7,  6,  4,  9,  6,  5,  3,  5,  5, 12,  7,  7,  7,\n",
       "        9,  9,  8,  6,  9,  6,  3, 10,  7,  5,  6,  4,  9,  3,  6,  4,  8,\n",
       "        7,  9,  6,  5, 10,  9,  7, 11,  2,  6,  7,  8,  3, 10,  5,  7,  7,\n",
       "        9,  6,  3,  9, 12,  6, 10,  4,  9, 10,  6,  7,  9,  9,  3])"
      ]
     },
     "execution_count": 39,
     "metadata": {},
     "output_type": "execute_result"
    }
   ],
   "source": [
    "x = die_1 + die_2\n",
    "x"
   ]
  },
  {
   "cell_type": "code",
   "execution_count": 40,
   "id": "46159fcf",
   "metadata": {},
   "outputs": [
    {
     "data": {
      "text/html": [
       "<div>\n",
       "<style scoped>\n",
       "    .dataframe tbody tr th:only-of-type {\n",
       "        vertical-align: middle;\n",
       "    }\n",
       "\n",
       "    .dataframe tbody tr th {\n",
       "        vertical-align: top;\n",
       "    }\n",
       "\n",
       "    .dataframe thead th {\n",
       "        text-align: right;\n",
       "    }\n",
       "</style>\n",
       "<table border=\"1\" class=\"dataframe\">\n",
       "  <thead>\n",
       "    <tr style=\"text-align: right;\">\n",
       "      <th></th>\n",
       "      <th>die_1</th>\n",
       "      <th>die_2</th>\n",
       "      <th>sum_of</th>\n",
       "    </tr>\n",
       "  </thead>\n",
       "  <tbody>\n",
       "    <tr>\n",
       "      <th>0</th>\n",
       "      <td>6</td>\n",
       "      <td>5</td>\n",
       "      <td>11</td>\n",
       "    </tr>\n",
       "    <tr>\n",
       "      <th>1</th>\n",
       "      <td>5</td>\n",
       "      <td>5</td>\n",
       "      <td>10</td>\n",
       "    </tr>\n",
       "    <tr>\n",
       "      <th>2</th>\n",
       "      <td>1</td>\n",
       "      <td>4</td>\n",
       "      <td>5</td>\n",
       "    </tr>\n",
       "    <tr>\n",
       "      <th>3</th>\n",
       "      <td>3</td>\n",
       "      <td>3</td>\n",
       "      <td>6</td>\n",
       "    </tr>\n",
       "    <tr>\n",
       "      <th>4</th>\n",
       "      <td>4</td>\n",
       "      <td>6</td>\n",
       "      <td>10</td>\n",
       "    </tr>\n",
       "  </tbody>\n",
       "</table>\n",
       "</div>"
      ],
      "text/plain": [
       "   die_1  die_2  sum_of\n",
       "0      6      5      11\n",
       "1      5      5      10\n",
       "2      1      4       5\n",
       "3      3      3       6\n",
       "4      4      6      10"
      ]
     },
     "execution_count": 40,
     "metadata": {},
     "output_type": "execute_result"
    }
   ],
   "source": [
    "df = pd.DataFrame({'die_1':die_1, 'die_2':die_2, 'sum_of': x})\n",
    "df.head()"
   ]
  },
  {
   "cell_type": "code",
   "execution_count": 41,
   "id": "97e396ad",
   "metadata": {},
   "outputs": [
    {
     "data": {
      "text/plain": [
       "12"
      ]
     },
     "execution_count": 41,
     "metadata": {},
     "output_type": "execute_result"
    }
   ],
   "source": [
    "(x==4).sum()"
   ]
  },
  {
   "cell_type": "code",
   "execution_count": 42,
   "id": "4786552c",
   "metadata": {},
   "outputs": [
    {
     "data": {
      "text/plain": [
       "12"
      ]
     },
     "execution_count": 42,
     "metadata": {},
     "output_type": "execute_result"
    }
   ],
   "source": [
    "if_total_is4 = (x==4).sum()\n",
    "if_total_is4"
   ]
  },
  {
   "cell_type": "code",
   "execution_count": 45,
   "id": "7d51f712",
   "metadata": {},
   "outputs": [
    {
     "data": {
      "text/plain": [
       "0.12"
      ]
     },
     "execution_count": 45,
     "metadata": {},
     "output_type": "execute_result"
    }
   ],
   "source": [
    "probability = if_total_is4 / n\n",
    "probability"
   ]
  },
  {
   "cell_type": "code",
   "execution_count": null,
   "id": "17360027",
   "metadata": {},
   "outputs": [],
   "source": []
  },
  {
   "cell_type": "markdown",
   "id": "310737d9",
   "metadata": {},
   "source": [
    "#### IF we increase our sample space"
   ]
  },
  {
   "cell_type": "markdown",
   "id": "f7b70251",
   "metadata": {},
   "source": [
    "if n = 1000000 ;"
   ]
  },
  {
   "cell_type": "code",
   "execution_count": 46,
   "id": "109c3f39",
   "metadata": {},
   "outputs": [],
   "source": [
    "n = 1000000"
   ]
  },
  {
   "cell_type": "code",
   "execution_count": 47,
   "id": "2ef2bd0e",
   "metadata": {},
   "outputs": [
    {
     "data": {
      "text/plain": [
       "array([6, 5, 1, ..., 6, 4, 1])"
      ]
     },
     "execution_count": 47,
     "metadata": {},
     "output_type": "execute_result"
    }
   ],
   "source": [
    "np.random.seed(56)\n",
    "die_1 = np.random.randint(1,7, size = n)\n",
    "die_1"
   ]
  },
  {
   "cell_type": "code",
   "execution_count": 48,
   "id": "54822a5c",
   "metadata": {},
   "outputs": [
    {
     "data": {
      "text/plain": [
       "array([5, 5, 4, ..., 4, 5, 1])"
      ]
     },
     "execution_count": 48,
     "metadata": {},
     "output_type": "execute_result"
    }
   ],
   "source": [
    "np.random.seed(66)\n",
    "die_2 = np.random.randint(1,7, size = n)\n",
    "die_2"
   ]
  },
  {
   "cell_type": "code",
   "execution_count": 49,
   "id": "8755d5f1",
   "metadata": {},
   "outputs": [
    {
     "data": {
      "text/plain": [
       "array([11, 10,  5, ..., 10,  9,  2])"
      ]
     },
     "execution_count": 49,
     "metadata": {},
     "output_type": "execute_result"
    }
   ],
   "source": [
    "x = die_1 + die_2\n",
    "x"
   ]
  },
  {
   "cell_type": "code",
   "execution_count": 50,
   "id": "25c3e67c",
   "metadata": {},
   "outputs": [
    {
     "data": {
      "text/html": [
       "<div>\n",
       "<style scoped>\n",
       "    .dataframe tbody tr th:only-of-type {\n",
       "        vertical-align: middle;\n",
       "    }\n",
       "\n",
       "    .dataframe tbody tr th {\n",
       "        vertical-align: top;\n",
       "    }\n",
       "\n",
       "    .dataframe thead th {\n",
       "        text-align: right;\n",
       "    }\n",
       "</style>\n",
       "<table border=\"1\" class=\"dataframe\">\n",
       "  <thead>\n",
       "    <tr style=\"text-align: right;\">\n",
       "      <th></th>\n",
       "      <th>die_1</th>\n",
       "      <th>die_2</th>\n",
       "      <th>sum_of</th>\n",
       "    </tr>\n",
       "  </thead>\n",
       "  <tbody>\n",
       "    <tr>\n",
       "      <th>0</th>\n",
       "      <td>6</td>\n",
       "      <td>5</td>\n",
       "      <td>11</td>\n",
       "    </tr>\n",
       "    <tr>\n",
       "      <th>1</th>\n",
       "      <td>5</td>\n",
       "      <td>5</td>\n",
       "      <td>10</td>\n",
       "    </tr>\n",
       "    <tr>\n",
       "      <th>2</th>\n",
       "      <td>1</td>\n",
       "      <td>4</td>\n",
       "      <td>5</td>\n",
       "    </tr>\n",
       "    <tr>\n",
       "      <th>3</th>\n",
       "      <td>3</td>\n",
       "      <td>3</td>\n",
       "      <td>6</td>\n",
       "    </tr>\n",
       "    <tr>\n",
       "      <th>4</th>\n",
       "      <td>4</td>\n",
       "      <td>6</td>\n",
       "      <td>10</td>\n",
       "    </tr>\n",
       "  </tbody>\n",
       "</table>\n",
       "</div>"
      ],
      "text/plain": [
       "   die_1  die_2  sum_of\n",
       "0      6      5      11\n",
       "1      5      5      10\n",
       "2      1      4       5\n",
       "3      3      3       6\n",
       "4      4      6      10"
      ]
     },
     "execution_count": 50,
     "metadata": {},
     "output_type": "execute_result"
    }
   ],
   "source": [
    "df = pd.DataFrame({'die_1':die_1, 'die_2':die_2, 'sum_of': x})\n",
    "df.head()"
   ]
  },
  {
   "cell_type": "code",
   "execution_count": 51,
   "id": "ec8d05da",
   "metadata": {},
   "outputs": [
    {
     "data": {
      "text/plain": [
       "83432"
      ]
     },
     "execution_count": 51,
     "metadata": {},
     "output_type": "execute_result"
    }
   ],
   "source": [
    "if_total_is4 = (x==4).sum()\n",
    "if_total_is4"
   ]
  },
  {
   "cell_type": "code",
   "execution_count": 52,
   "id": "37d309be",
   "metadata": {},
   "outputs": [
    {
     "data": {
      "text/plain": [
       "0.083432"
      ]
     },
     "execution_count": 52,
     "metadata": {},
     "output_type": "execute_result"
    }
   ],
   "source": [
    "probability = if_total_is4 / n\n",
    "probability"
   ]
  },
  {
   "cell_type": "markdown",
   "id": "c6824cbf",
   "metadata": {},
   "source": [
    "Result interpretation: if we increase our n (size), relative frequency will more close to theoretical frequency."
   ]
  },
  {
   "cell_type": "code",
   "execution_count": 60,
   "id": "58ab7a86",
   "metadata": {},
   "outputs": [],
   "source": [
    "freq = df.sum_of.value_counts()"
   ]
  },
  {
   "cell_type": "code",
   "execution_count": 61,
   "id": "3f6cf26d",
   "metadata": {},
   "outputs": [
    {
     "data": {
      "image/png": "[encoded data removed]",
      "text/plain": [
       "<Figure size 432x288 with 1 Axes>"
      ]
     },
     "metadata": {
      "needs_background": "light"
     },
     "output_type": "display_data"
    }
   ],
   "source": [
    "freq.sort_index().plot(kind=\"bar\", grid=True);"
   ]
  },
  {
   "cell_type": "code",
   "execution_count": 62,
   "id": "a26c1ecc",
   "metadata": {},
   "outputs": [],
   "source": [
    "prob = df.sum_of.value_counts() / n"
   ]
  },
  {
   "cell_type": "code",
   "execution_count": 63,
   "id": "09a25b56",
   "metadata": {},
   "outputs": [
    {
     "data": {
      "image/png": "[encoded data removed]",
      "text/plain": [
       "<Figure size 432x288 with 1 Axes>"
      ]
     },
     "metadata": {
      "needs_background": "light"
     },
     "output_type": "display_data"
    }
   ],
   "source": [
    "prob.sort_index().plot(kind=\"bar\", grid=True);"
   ]
  },
  {
   "cell_type": "code",
   "execution_count": null,
   "id": "24bf24de",
   "metadata": {},
   "outputs": [],
   "source": []
  },
  {
   "cell_type": "markdown",
   "id": "16a13b30",
   "metadata": {},
   "source": [
    "### What is the probability of rolling at least 4 with 2 dice?"
   ]
  },
  {
   "cell_type": "code",
   "execution_count": 58,
   "id": "75dcd201",
   "metadata": {},
   "outputs": [
    {
     "data": {
      "text/plain": [
       "11"
      ]
     },
     "execution_count": 58,
     "metadata": {},
     "output_type": "execute_result"
    }
   ],
   "source": [
    "l= []\n",
    "for pairs, sums in d.items():\n",
    "    if 4 in pairs:\n",
    "        l.append(pairs)\n",
    "len(l)"
   ]
  },
  {
   "cell_type": "code",
   "execution_count": null,
   "id": "ca70bf2c",
   "metadata": {},
   "outputs": [],
   "source": []
  },
  {
   "cell_type": "markdown",
   "id": "cb307481",
   "metadata": {},
   "source": [
    "### CONDITIONAL PROBABILITY"
   ]
  },
  {
   "attachments": {
    "image.png": {
     "image/png": "[encoded data removed]"
    }
   },
   "cell_type": "markdown",
   "id": "8af3234f",
   "metadata": {},
   "source": [
    "![image.png](attachment:image.png)"
   ]
  },
  {
   "cell_type": "markdown",
   "id": "138f576e",
   "metadata": {},
   "source": [
    "Find the probability that a randomly chosen customer ordered a burger given that they ordered fries."
   ]
  },
  {
   "cell_type": "code",
   "execution_count": null,
   "id": "1a037b64",
   "metadata": {},
   "outputs": [],
   "source": [
    "P_burger = 0.7"
   ]
  },
  {
   "cell_type": "code",
   "execution_count": null,
   "id": "32108ad5",
   "metadata": {},
   "outputs": [],
   "source": [
    "P_fries = 0.5"
   ]
  },
  {
   "cell_type": "code",
   "execution_count": null,
   "id": "82c7f603",
   "metadata": {},
   "outputs": [],
   "source": [
    "P_burger_and_fries = 0.4"
   ]
  },
  {
   "cell_type": "code",
   "execution_count": 65,
   "id": "4c2a721d",
   "metadata": {},
   "outputs": [],
   "source": [
    "P(burger|fries) = P(burger_and_fries) / P(fries) = 0.4 / 0.5"
   ]
  },
  {
   "cell_type": "code",
   "execution_count": null,
   "id": "fed4155f",
   "metadata": {},
   "outputs": [],
   "source": [
    "0.8"
   ]
  },
  {
   "cell_type": "markdown",
   "id": "8ab3cefc",
   "metadata": {},
   "source": [
    "### BAYES Theorem"
   ]
  },
  {
   "cell_type": "markdown",
   "id": "6c7bdff4",
   "metadata": {},
   "source": [
    "Vera examined a random sample of deodorants distributed by her company. She found the following probabilities."
   ]
  },
  {
   "cell_type": "code",
   "execution_count": null,
   "id": "c93b612e",
   "metadata": {},
   "outputs": [],
   "source": [
    "P_forMen = 0.55"
   ]
  },
  {
   "cell_type": "code",
   "execution_count": null,
   "id": "a19709ed",
   "metadata": {},
   "outputs": [],
   "source": [
    "P_botanicScent = 0.18"
   ]
  },
  {
   "cell_type": "code",
   "execution_count": null,
   "id": "3778f7e6",
   "metadata": {},
   "outputs": [],
   "source": [
    "P_botanic_given_forMen = 1 / 11"
   ]
  },
  {
   "cell_type": "code",
   "execution_count": null,
   "id": "a336c979",
   "metadata": {},
   "outputs": [],
   "source": [
    "P(forMen|botanic) = (P_botanic_given_forMen) * P_forMen / P_botanicScent = (1 / 11) * (0.55) / (0.18) "
   ]
  },
  {
   "cell_type": "code",
   "execution_count": null,
   "id": "7f616272",
   "metadata": {},
   "outputs": [],
   "source": [
    "0,2778"
   ]
  },
  {
   "cell_type": "code",
   "execution_count": null,
   "id": "11555fe3",
   "metadata": {},
   "outputs": [],
   "source": []
  },
  {
   "cell_type": "code",
   "execution_count": null,
   "id": "04cb1968",
   "metadata": {},
   "outputs": [],
   "source": [
    "..."
   ]
  }
 ],
 "metadata": {
  "kernelspec": {
   "display_name": "Python 3",
   "language": "python",
   "name": "python3"
  },
  "language_info": {
   "codemirror_mode": {
    "name": "ipython",
    "version": 3
   },
   "file_extension": ".py",
   "mimetype": "text/x-python",
   "name": "python",
   "nbconvert_exporter": "python",
   "pygments_lexer": "ipython3",
   "version": "3.8.8"
  }
 },
 "nbformat": 4,
 "nbformat_minor": 5
}
